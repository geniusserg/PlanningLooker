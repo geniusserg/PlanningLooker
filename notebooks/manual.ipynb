{
 "cells": [
  {
   "cell_type": "code",
   "execution_count": 428,
   "metadata": {},
   "outputs": [],
   "source": [
    "import pandas as pd\n",
    "import pymystem3 \n",
    "import spacy\n",
    "nlp = spacy.load(\"ru_core_news_lg\")"
   ]
  },
  {
   "attachments": {},
   "cell_type": "markdown",
   "metadata": {},
   "source": [
    "### Data Load"
   ]
  },
  {
   "cell_type": "code",
   "execution_count": 429,
   "metadata": {},
   "outputs": [],
   "source": [
    "df_manual = []\n",
    "with open(\"../edz_dataset.txt\", \"r\", encoding=\"utf-8\") as f:\n",
    "    for line in f:\n",
    "        line = line.replace(\"\\ufeff\" ,\"\")\n",
    "        line = line.replace(\"\\n\" ,\"\")\n",
    "        df_manual.append([line, 1])\n",
    "        \n",
    "with open(\"../edz_neg_dataset.txt\", \"r\", encoding=\"utf-8\") as f:\n",
    "    for line in f:\n",
    "        line = line.replace(\"\\ufeff\" ,\"\")\n",
    "        line = line.replace(\"\\n\" ,\"\")\n",
    "        df_manual.append([line, 0])\n",
    "df_manual = pd.DataFrame(df_manual, columns=[\"text\", \"label\"])\n"
   ]
  },
  {
   "cell_type": "code",
   "execution_count": 430,
   "metadata": {},
   "outputs": [
    {
     "data": {
      "text/html": [
       "<div>\n",
       "<style scoped>\n",
       "    .dataframe tbody tr th:only-of-type {\n",
       "        vertical-align: middle;\n",
       "    }\n",
       "\n",
       "    .dataframe tbody tr th {\n",
       "        vertical-align: top;\n",
       "    }\n",
       "\n",
       "    .dataframe thead th {\n",
       "        text-align: right;\n",
       "    }\n",
       "</style>\n",
       "<table border=\"1\" class=\"dataframe\">\n",
       "  <thead>\n",
       "    <tr style=\"text-align: right;\">\n",
       "      <th></th>\n",
       "      <th>text</th>\n",
       "      <th>label</th>\n",
       "    </tr>\n",
       "  </thead>\n",
       "  <tbody>\n",
       "    <tr>\n",
       "      <th>0</th>\n",
       "      <td>завтра буду учить английский весь день</td>\n",
       "      <td>1</td>\n",
       "    </tr>\n",
       "    <tr>\n",
       "      <th>1</th>\n",
       "      <td>Завтра я пойду на работу</td>\n",
       "      <td>1</td>\n",
       "    </tr>\n",
       "    <tr>\n",
       "      <th>2</th>\n",
       "      <td>послезавтра мы планируем ехать на дачу</td>\n",
       "      <td>1</td>\n",
       "    </tr>\n",
       "    <tr>\n",
       "      <th>3</th>\n",
       "      <td>к вечеру я планирую закончить отчет</td>\n",
       "      <td>1</td>\n",
       "    </tr>\n",
       "    <tr>\n",
       "      <th>4</th>\n",
       "      <td>в воскресенье после обеда мы пойдем в ресторан</td>\n",
       "      <td>1</td>\n",
       "    </tr>\n",
       "    <tr>\n",
       "      <th>...</th>\n",
       "      <td>...</td>\n",
       "      <td>...</td>\n",
       "    </tr>\n",
       "    <tr>\n",
       "      <th>434</th>\n",
       "      <td>Мой отец увлекается историей автомобилей и кол...</td>\n",
       "      <td>0</td>\n",
       "    </tr>\n",
       "    <tr>\n",
       "      <th>435</th>\n",
       "      <td>Знакомый одноклассник работает в издательстве ...</td>\n",
       "      <td>0</td>\n",
       "    </tr>\n",
       "    <tr>\n",
       "      <th>436</th>\n",
       "      <td>Моя сестра изучает психологию и помогает людям...</td>\n",
       "      <td>0</td>\n",
       "    </tr>\n",
       "    <tr>\n",
       "      <th>437</th>\n",
       "      <td>Твой отец увлекается историей автомобилей и ко...</td>\n",
       "      <td>0</td>\n",
       "    </tr>\n",
       "    <tr>\n",
       "      <th>438</th>\n",
       "      <td>Мой друг работает в издательстве и помогает из...</td>\n",
       "      <td>0</td>\n",
       "    </tr>\n",
       "  </tbody>\n",
       "</table>\n",
       "<p>439 rows × 2 columns</p>\n",
       "</div>"
      ],
      "text/plain": [
       "                                                  text  label\n",
       "0               завтра буду учить английский весь день      1\n",
       "1                             Завтра я пойду на работу      1\n",
       "2               послезавтра мы планируем ехать на дачу      1\n",
       "3                  к вечеру я планирую закончить отчет      1\n",
       "4       в воскресенье после обеда мы пойдем в ресторан      1\n",
       "..                                                 ...    ...\n",
       "434  Мой отец увлекается историей автомобилей и кол...      0\n",
       "435  Знакомый одноклассник работает в издательстве ...      0\n",
       "436  Моя сестра изучает психологию и помогает людям...      0\n",
       "437  Твой отец увлекается историей автомобилей и ко...      0\n",
       "438  Мой друг работает в издательстве и помогает из...      0\n",
       "\n",
       "[439 rows x 2 columns]"
      ]
     },
     "execution_count": 430,
     "metadata": {},
     "output_type": "execute_result"
    }
   ],
   "source": [
    "df_manual"
   ]
  },
  {
   "attachments": {},
   "cell_type": "markdown",
   "metadata": {},
   "source": [
    "#### SpaCy"
   ]
  },
  {
   "cell_type": "code",
   "execution_count": 460,
   "metadata": {},
   "outputs": [
    {
     "data": {
      "text/html": [
       "<div>\n",
       "<style scoped>\n",
       "    .dataframe tbody tr th:only-of-type {\n",
       "        vertical-align: middle;\n",
       "    }\n",
       "\n",
       "    .dataframe tbody tr th {\n",
       "        vertical-align: top;\n",
       "    }\n",
       "\n",
       "    .dataframe thead th {\n",
       "        text-align: right;\n",
       "    }\n",
       "</style>\n",
       "<table border=\"1\" class=\"dataframe\">\n",
       "  <thead>\n",
       "    <tr style=\"text-align: right;\">\n",
       "      <th></th>\n",
       "      <th>Token</th>\n",
       "      <th>lemma</th>\n",
       "      <th>entity</th>\n",
       "      <th>full</th>\n",
       "      <th>entity</th>\n",
       "      <th>dep type</th>\n",
       "      <th>head</th>\n",
       "    </tr>\n",
       "  </thead>\n",
       "  <tbody>\n",
       "    <tr>\n",
       "      <th>0</th>\n",
       "      <td>завтра</td>\n",
       "      <td>завтра</td>\n",
       "      <td></td>\n",
       "      <td>ADV</td>\n",
       "      <td>ADV</td>\n",
       "      <td>advmod</td>\n",
       "      <td>учить</td>\n",
       "    </tr>\n",
       "    <tr>\n",
       "      <th>1</th>\n",
       "      <td>буду</td>\n",
       "      <td>буду</td>\n",
       "      <td></td>\n",
       "      <td>AUX</td>\n",
       "      <td>AUX</td>\n",
       "      <td>aux</td>\n",
       "      <td>учить</td>\n",
       "    </tr>\n",
       "    <tr>\n",
       "      <th>2</th>\n",
       "      <td>учить</td>\n",
       "      <td>учить</td>\n",
       "      <td></td>\n",
       "      <td>VERB</td>\n",
       "      <td>VERB</td>\n",
       "      <td>ROOT</td>\n",
       "      <td>учить</td>\n",
       "    </tr>\n",
       "    <tr>\n",
       "      <th>3</th>\n",
       "      <td>английский</td>\n",
       "      <td>английский</td>\n",
       "      <td></td>\n",
       "      <td>ADJ</td>\n",
       "      <td>ADJ</td>\n",
       "      <td>obj</td>\n",
       "      <td>учить</td>\n",
       "    </tr>\n",
       "    <tr>\n",
       "      <th>4</th>\n",
       "      <td>весь</td>\n",
       "      <td>весь</td>\n",
       "      <td></td>\n",
       "      <td>DET</td>\n",
       "      <td>DET</td>\n",
       "      <td>det</td>\n",
       "      <td>день</td>\n",
       "    </tr>\n",
       "    <tr>\n",
       "      <th>5</th>\n",
       "      <td>день</td>\n",
       "      <td>день</td>\n",
       "      <td></td>\n",
       "      <td>NOUN</td>\n",
       "      <td>NOUN</td>\n",
       "      <td>obl</td>\n",
       "      <td>учить</td>\n",
       "    </tr>\n",
       "  </tbody>\n",
       "</table>\n",
       "</div>"
      ],
      "text/plain": [
       "        Token       lemma entity  full entity dep type   head\n",
       "0      завтра      завтра          ADV    ADV   advmod  учить\n",
       "1        буду        буду          AUX    AUX      aux  учить\n",
       "2       учить       учить         VERB   VERB     ROOT  учить\n",
       "3  английский  английский          ADJ    ADJ      obj  учить\n",
       "4        весь        весь          DET    DET      det   день\n",
       "5        день        день         NOUN   NOUN      obl  учить"
      ]
     },
     "execution_count": 460,
     "metadata": {},
     "output_type": "execute_result"
    }
   ],
   "source": [
    "tags = []\n",
    "doc = nlp(df_manual.loc[0, \"text\"])\n",
    "for token in doc:\n",
    "    tags.append([token.text, token.lemma_, token.ent_type_, token.pos_, token.tag_, token.dep_, token.head])\n",
    "postok = {str(i): list(doc).index(i) for i in doc}\n",
    "pd.DataFrame(tags, columns = [\"Token\", \"lemma\", \"entity\", \"full\", \"entity\", \"dep type\", \"head\"])"
   ]
  },
  {
   "attachments": {},
   "cell_type": "markdown",
   "metadata": {},
   "source": [
    "#### MyStem"
   ]
  },
  {
   "cell_type": "code",
   "execution_count": 461,
   "metadata": {},
   "outputs": [
    {
     "data": {
      "text/plain": [
       "[{'analysis': [{'lex': 'завтра', 'wt': 0.9964678515, 'gr': 'ADV='}],\n",
       "  'text': 'завтра'},\n",
       " {'text': ' '},\n",
       " {'analysis': [{'lex': 'быть',\n",
       "    'wt': 0.8530947255,\n",
       "    'gr': 'V,нп=непрош,ед,изъяв,1-л'}],\n",
       "  'text': 'буду'},\n",
       " {'text': ' '},\n",
       " {'analysis': [{'lex': 'учить', 'wt': 1, 'gr': 'V,несов,пе=инф'}],\n",
       "  'text': 'учить'},\n",
       " {'text': ' '},\n",
       " {'analysis': [{'lex': 'английский',\n",
       "    'wt': 1,\n",
       "    'gr': 'A=(вин,ед,полн,муж,неод|им,ед,полн,муж)'}],\n",
       "  'text': 'английский'},\n",
       " {'text': ' '},\n",
       " {'analysis': [{'lex': 'весь',\n",
       "    'wt': 0.9978909737,\n",
       "    'gr': 'APRO=(вин,ед,муж,неод|им,ед,муж)'}],\n",
       "  'text': 'весь'},\n",
       " {'text': ' '},\n",
       " {'analysis': [{'lex': 'день',\n",
       "    'wt': 0.999920149,\n",
       "    'gr': 'S,муж,неод=(вин,ед|им,ед)'}],\n",
       "  'text': 'день'},\n",
       " {'text': '\\n'}]"
      ]
     },
     "execution_count": 461,
     "metadata": {},
     "output_type": "execute_result"
    }
   ],
   "source": [
    "stem = pymystem3.Mystem()\n",
    "stem.analyze(df_manual.loc[0, \"text\"])"
   ]
  },
  {
   "attachments": {},
   "cell_type": "markdown",
   "metadata": {},
   "source": [
    "#### Natasha"
   ]
  },
  {
   "cell_type": "code",
   "execution_count": 433,
   "metadata": {},
   "outputs": [],
   "source": [
    "import natasha"
   ]
  },
  {
   "cell_type": "code",
   "execution_count": 434,
   "metadata": {},
   "outputs": [],
   "source": [
    "# не работает на новом питоне\n",
    "from natasha import (\n",
    "    Segmenter,\n",
    "    MorphVocab,\n",
    "    NewsEmbedding,\n",
    "    NewsMorphTagger,\n",
    "    NewsSyntaxParser,\n",
    "    NewsNERTagger,\n",
    "    PER,\n",
    "    NamesExtractor,\n",
    "    Doc\n",
    ")\n",
    "\n",
    "\n",
    "segmenter = Segmenter()\n",
    "morph_vocab = MorphVocab()\n",
    "emb = NewsEmbedding()\n",
    "morph_tagger = NewsMorphTagger(emb)\n",
    "syntax_parser = NewsSyntaxParser(emb)\n",
    "ner_tagger = NewsNERTagger(emb)\n",
    "names_extractor = NamesExtractor(morph_vocab)\n",
    "text = df_manual.loc[23, \"text\"]\n",
    "doc = Doc(text)"
   ]
  },
  {
   "cell_type": "code",
   "execution_count": 435,
   "metadata": {},
   "outputs": [],
   "source": [
    "doc.segment(segmenter=segmenter)\n",
    "doc.tag_morph(tagger=morph_tagger)\n",
    "for token in doc.tokens:\n",
    "    token.lemmatize(morph_vocab)"
   ]
  },
  {
   "cell_type": "code",
   "execution_count": 436,
   "metadata": {},
   "outputs": [
    {
     "name": "stdout",
     "output_type": "stream",
     "text": [
      "                   Я PRON|Case=Nom|Number=Sing|Person=1\n",
      "               поеду VERB|Aspect=Perf|Mood=Ind|Number=Sing|Person=1|Tense=Fut|VerbForm=Fin|Voice=Act\n",
      "                   в ADP\n",
      "              отпуск NOUN|Animacy=Inan|Case=Acc|Gender=Masc|Number=Sing\n",
      "                этим DET|Case=Ins|Gender=Neut|Number=Sing\n",
      "               летом NOUN|Animacy=Inan|Case=Ins|Gender=Neut|Number=Sing\n",
      "                  На ADP\n",
      "                Бали PROPN|Animacy=Inan|Case=Loc|Gender=Masc|Number=Sing\n"
     ]
    }
   ],
   "source": [
    "doc.sents[0].morph.print()"
   ]
  },
  {
   "cell_type": "code",
   "execution_count": 437,
   "metadata": {},
   "outputs": [],
   "source": [
    "doc.tag_ner(ner_tagger)"
   ]
  },
  {
   "cell_type": "code",
   "execution_count": 438,
   "metadata": {},
   "outputs": [
    {
     "data": {
      "text/plain": [
       "NERMarkup(\n",
       "    text='Я поеду в отпуск этим летом На Бали',\n",
       "    spans=[Span(\n",
       "         start=31,\n",
       "         stop=35,\n",
       "         type='LOC'\n",
       "     )]\n",
       ")"
      ]
     },
     "execution_count": 438,
     "metadata": {},
     "output_type": "execute_result"
    }
   ],
   "source": [
    "doc.ner"
   ]
  },
  {
   "attachments": {},
   "cell_type": "markdown",
   "metadata": {},
   "source": [
    "У рута-глагола будет полезным выделить признак стоит ли глагол в Perfect времени"
   ]
  },
  {
   "cell_type": "code",
   "execution_count": 439,
   "metadata": {},
   "outputs": [
    {
     "data": {
      "text/plain": [
       "['Perf', 'Fut', 'Fin']"
      ]
     },
     "execution_count": 439,
     "metadata": {},
     "output_type": "execute_result"
    }
   ],
   "source": [
    "[doc.sents[0].morph.tokens[1].feats[\"Aspect\"],\n",
    "doc.sents[0].morph.tokens[1].feats[\"Tense\"], \n",
    "doc.sents[0].morph.tokens[1].feats[\"VerbForm\"]]"
   ]
  },
  {
   "attachments": {},
   "cell_type": "markdown",
   "metadata": {},
   "source": [
    "## ML модели"
   ]
  },
  {
   "attachments": {},
   "cell_type": "markdown",
   "metadata": {},
   "source": [
    "### BoW"
   ]
  },
  {
   "cell_type": "code",
   "execution_count": 440,
   "metadata": {},
   "outputs": [],
   "source": [
    "from sklearn.feature_extraction.text import CountVectorizer\n",
    "from sklearn.model_selection import train_test_split\n",
    "from sklearn.metrics import roc_auc_score"
   ]
  },
  {
   "attachments": {},
   "cell_type": "markdown",
   "metadata": {},
   "source": [
    "Выделяем леммы"
   ]
  },
  {
   "cell_type": "code",
   "execution_count": 441,
   "metadata": {},
   "outputs": [],
   "source": [
    "def preprocess(text):\n",
    "    lemmas = []\n",
    "    doc = nlp(text)\n",
    "    for tok in doc:\n",
    "        lemmas.append(tok.lemma_)\n",
    "    return \" \".join(lemmas)"
   ]
  },
  {
   "cell_type": "code",
   "execution_count": 442,
   "metadata": {},
   "outputs": [],
   "source": [
    "df_manual[\"lemmas\"] = df_manual[\"text\"].apply(lambda x: preprocess(x))\n",
    "model_bow = CountVectorizer()\n",
    "X = model_bow.fit_transform(df_manual.lemmas).toarray()\n",
    "y = df_manual.label\n",
    "x_train, x_test, y_train, y_test = train_test_split(X, y, shuffle=True)"
   ]
  },
  {
   "cell_type": "code",
   "execution_count": 443,
   "metadata": {},
   "outputs": [
    {
     "data": {
      "text/html": [
       "<style>#sk-container-id-32 {color: black;background-color: white;}#sk-container-id-32 pre{padding: 0;}#sk-container-id-32 div.sk-toggleable {background-color: white;}#sk-container-id-32 label.sk-toggleable__label {cursor: pointer;display: block;width: 100%;margin-bottom: 0;padding: 0.3em;box-sizing: border-box;text-align: center;}#sk-container-id-32 label.sk-toggleable__label-arrow:before {content: \"▸\";float: left;margin-right: 0.25em;color: #696969;}#sk-container-id-32 label.sk-toggleable__label-arrow:hover:before {color: black;}#sk-container-id-32 div.sk-estimator:hover label.sk-toggleable__label-arrow:before {color: black;}#sk-container-id-32 div.sk-toggleable__content {max-height: 0;max-width: 0;overflow: hidden;text-align: left;background-color: #f0f8ff;}#sk-container-id-32 div.sk-toggleable__content pre {margin: 0.2em;color: black;border-radius: 0.25em;background-color: #f0f8ff;}#sk-container-id-32 input.sk-toggleable__control:checked~div.sk-toggleable__content {max-height: 200px;max-width: 100%;overflow: auto;}#sk-container-id-32 input.sk-toggleable__control:checked~label.sk-toggleable__label-arrow:before {content: \"▾\";}#sk-container-id-32 div.sk-estimator input.sk-toggleable__control:checked~label.sk-toggleable__label {background-color: #d4ebff;}#sk-container-id-32 div.sk-label input.sk-toggleable__control:checked~label.sk-toggleable__label {background-color: #d4ebff;}#sk-container-id-32 input.sk-hidden--visually {border: 0;clip: rect(1px 1px 1px 1px);clip: rect(1px, 1px, 1px, 1px);height: 1px;margin: -1px;overflow: hidden;padding: 0;position: absolute;width: 1px;}#sk-container-id-32 div.sk-estimator {font-family: monospace;background-color: #f0f8ff;border: 1px dotted black;border-radius: 0.25em;box-sizing: border-box;margin-bottom: 0.5em;}#sk-container-id-32 div.sk-estimator:hover {background-color: #d4ebff;}#sk-container-id-32 div.sk-parallel-item::after {content: \"\";width: 100%;border-bottom: 1px solid gray;flex-grow: 1;}#sk-container-id-32 div.sk-label:hover label.sk-toggleable__label {background-color: #d4ebff;}#sk-container-id-32 div.sk-serial::before {content: \"\";position: absolute;border-left: 1px solid gray;box-sizing: border-box;top: 0;bottom: 0;left: 50%;z-index: 0;}#sk-container-id-32 div.sk-serial {display: flex;flex-direction: column;align-items: center;background-color: white;padding-right: 0.2em;padding-left: 0.2em;position: relative;}#sk-container-id-32 div.sk-item {position: relative;z-index: 1;}#sk-container-id-32 div.sk-parallel {display: flex;align-items: stretch;justify-content: center;background-color: white;position: relative;}#sk-container-id-32 div.sk-item::before, #sk-container-id-32 div.sk-parallel-item::before {content: \"\";position: absolute;border-left: 1px solid gray;box-sizing: border-box;top: 0;bottom: 0;left: 50%;z-index: -1;}#sk-container-id-32 div.sk-parallel-item {display: flex;flex-direction: column;z-index: 1;position: relative;background-color: white;}#sk-container-id-32 div.sk-parallel-item:first-child::after {align-self: flex-end;width: 50%;}#sk-container-id-32 div.sk-parallel-item:last-child::after {align-self: flex-start;width: 50%;}#sk-container-id-32 div.sk-parallel-item:only-child::after {width: 0;}#sk-container-id-32 div.sk-dashed-wrapped {border: 1px dashed gray;margin: 0 0.4em 0.5em 0.4em;box-sizing: border-box;padding-bottom: 0.4em;background-color: white;}#sk-container-id-32 div.sk-label label {font-family: monospace;font-weight: bold;display: inline-block;line-height: 1.2em;}#sk-container-id-32 div.sk-label-container {text-align: center;}#sk-container-id-32 div.sk-container {/* jupyter's `normalize.less` sets `[hidden] { display: none; }` but bootstrap.min.css set `[hidden] { display: none !important; }` so we also need the `!important` here to be able to override the default hidden behavior on the sphinx rendered scikit-learn.org. See: https://github.com/scikit-learn/scikit-learn/issues/21755 */display: inline-block !important;position: relative;}#sk-container-id-32 div.sk-text-repr-fallback {display: none;}</style><div id=\"sk-container-id-32\" class=\"sk-top-container\"><div class=\"sk-text-repr-fallback\"><pre>RandomForestClassifier()</pre><b>In a Jupyter environment, please rerun this cell to show the HTML representation or trust the notebook. <br />On GitHub, the HTML representation is unable to render, please try loading this page with nbviewer.org.</b></div><div class=\"sk-container\" hidden><div class=\"sk-item\"><div class=\"sk-estimator sk-toggleable\"><input class=\"sk-toggleable__control sk-hidden--visually\" id=\"sk-estimator-id-32\" type=\"checkbox\" checked><label for=\"sk-estimator-id-32\" class=\"sk-toggleable__label sk-toggleable__label-arrow\">RandomForestClassifier</label><div class=\"sk-toggleable__content\"><pre>RandomForestClassifier()</pre></div></div></div></div></div>"
      ],
      "text/plain": [
       "RandomForestClassifier()"
      ]
     },
     "execution_count": 443,
     "metadata": {},
     "output_type": "execute_result"
    }
   ],
   "source": [
    "model_rfr = RandomForestClassifier()\n",
    "model_rfr.fit(x_train, y_train)"
   ]
  },
  {
   "cell_type": "code",
   "execution_count": 444,
   "metadata": {},
   "outputs": [
    {
     "name": "stdout",
     "output_type": "stream",
     "text": [
      "Random Forest Classifier\n",
      "              precision    recall  f1-score   support\n",
      "\n",
      "           0       0.94      0.93      0.93        54\n",
      "           1       0.93      0.95      0.94        56\n",
      "\n",
      "    accuracy                           0.94       110\n",
      "   macro avg       0.94      0.94      0.94       110\n",
      "weighted avg       0.94      0.94      0.94       110\n",
      "\n",
      "Test ROC AUC: 0.9361772486772486\n"
     ]
    }
   ],
   "source": [
    "from sklearn.metrics import classification_report\n",
    "y_pred = model_rfr.predict(x_test)\n",
    "print(\"Random Forest Classifier\")\n",
    "print(classification_report(y_test, y_pred))\n",
    "print(f\"Test ROC AUC: {roc_auc_score(y_test, y_pred)}\")"
   ]
  },
  {
   "cell_type": "code",
   "execution_count": 445,
   "metadata": {},
   "outputs": [
    {
     "data": {
      "text/html": [
       "<style>#sk-container-id-33 {color: black;background-color: white;}#sk-container-id-33 pre{padding: 0;}#sk-container-id-33 div.sk-toggleable {background-color: white;}#sk-container-id-33 label.sk-toggleable__label {cursor: pointer;display: block;width: 100%;margin-bottom: 0;padding: 0.3em;box-sizing: border-box;text-align: center;}#sk-container-id-33 label.sk-toggleable__label-arrow:before {content: \"▸\";float: left;margin-right: 0.25em;color: #696969;}#sk-container-id-33 label.sk-toggleable__label-arrow:hover:before {color: black;}#sk-container-id-33 div.sk-estimator:hover label.sk-toggleable__label-arrow:before {color: black;}#sk-container-id-33 div.sk-toggleable__content {max-height: 0;max-width: 0;overflow: hidden;text-align: left;background-color: #f0f8ff;}#sk-container-id-33 div.sk-toggleable__content pre {margin: 0.2em;color: black;border-radius: 0.25em;background-color: #f0f8ff;}#sk-container-id-33 input.sk-toggleable__control:checked~div.sk-toggleable__content {max-height: 200px;max-width: 100%;overflow: auto;}#sk-container-id-33 input.sk-toggleable__control:checked~label.sk-toggleable__label-arrow:before {content: \"▾\";}#sk-container-id-33 div.sk-estimator input.sk-toggleable__control:checked~label.sk-toggleable__label {background-color: #d4ebff;}#sk-container-id-33 div.sk-label input.sk-toggleable__control:checked~label.sk-toggleable__label {background-color: #d4ebff;}#sk-container-id-33 input.sk-hidden--visually {border: 0;clip: rect(1px 1px 1px 1px);clip: rect(1px, 1px, 1px, 1px);height: 1px;margin: -1px;overflow: hidden;padding: 0;position: absolute;width: 1px;}#sk-container-id-33 div.sk-estimator {font-family: monospace;background-color: #f0f8ff;border: 1px dotted black;border-radius: 0.25em;box-sizing: border-box;margin-bottom: 0.5em;}#sk-container-id-33 div.sk-estimator:hover {background-color: #d4ebff;}#sk-container-id-33 div.sk-parallel-item::after {content: \"\";width: 100%;border-bottom: 1px solid gray;flex-grow: 1;}#sk-container-id-33 div.sk-label:hover label.sk-toggleable__label {background-color: #d4ebff;}#sk-container-id-33 div.sk-serial::before {content: \"\";position: absolute;border-left: 1px solid gray;box-sizing: border-box;top: 0;bottom: 0;left: 50%;z-index: 0;}#sk-container-id-33 div.sk-serial {display: flex;flex-direction: column;align-items: center;background-color: white;padding-right: 0.2em;padding-left: 0.2em;position: relative;}#sk-container-id-33 div.sk-item {position: relative;z-index: 1;}#sk-container-id-33 div.sk-parallel {display: flex;align-items: stretch;justify-content: center;background-color: white;position: relative;}#sk-container-id-33 div.sk-item::before, #sk-container-id-33 div.sk-parallel-item::before {content: \"\";position: absolute;border-left: 1px solid gray;box-sizing: border-box;top: 0;bottom: 0;left: 50%;z-index: -1;}#sk-container-id-33 div.sk-parallel-item {display: flex;flex-direction: column;z-index: 1;position: relative;background-color: white;}#sk-container-id-33 div.sk-parallel-item:first-child::after {align-self: flex-end;width: 50%;}#sk-container-id-33 div.sk-parallel-item:last-child::after {align-self: flex-start;width: 50%;}#sk-container-id-33 div.sk-parallel-item:only-child::after {width: 0;}#sk-container-id-33 div.sk-dashed-wrapped {border: 1px dashed gray;margin: 0 0.4em 0.5em 0.4em;box-sizing: border-box;padding-bottom: 0.4em;background-color: white;}#sk-container-id-33 div.sk-label label {font-family: monospace;font-weight: bold;display: inline-block;line-height: 1.2em;}#sk-container-id-33 div.sk-label-container {text-align: center;}#sk-container-id-33 div.sk-container {/* jupyter's `normalize.less` sets `[hidden] { display: none; }` but bootstrap.min.css set `[hidden] { display: none !important; }` so we also need the `!important` here to be able to override the default hidden behavior on the sphinx rendered scikit-learn.org. See: https://github.com/scikit-learn/scikit-learn/issues/21755 */display: inline-block !important;position: relative;}#sk-container-id-33 div.sk-text-repr-fallback {display: none;}</style><div id=\"sk-container-id-33\" class=\"sk-top-container\"><div class=\"sk-text-repr-fallback\"><pre>GradientBoostingClassifier()</pre><b>In a Jupyter environment, please rerun this cell to show the HTML representation or trust the notebook. <br />On GitHub, the HTML representation is unable to render, please try loading this page with nbviewer.org.</b></div><div class=\"sk-container\" hidden><div class=\"sk-item\"><div class=\"sk-estimator sk-toggleable\"><input class=\"sk-toggleable__control sk-hidden--visually\" id=\"sk-estimator-id-33\" type=\"checkbox\" checked><label for=\"sk-estimator-id-33\" class=\"sk-toggleable__label sk-toggleable__label-arrow\">GradientBoostingClassifier</label><div class=\"sk-toggleable__content\"><pre>GradientBoostingClassifier()</pre></div></div></div></div></div>"
      ],
      "text/plain": [
       "GradientBoostingClassifier()"
      ]
     },
     "execution_count": 445,
     "metadata": {},
     "output_type": "execute_result"
    }
   ],
   "source": [
    "from sklearn.ensemble import GradientBoostingClassifier\n",
    "model_gb = GradientBoostingClassifier()\n",
    "model_gb.fit(x_train, y_train)"
   ]
  },
  {
   "cell_type": "code",
   "execution_count": 446,
   "metadata": {},
   "outputs": [
    {
     "name": "stdout",
     "output_type": "stream",
     "text": [
      "Gradient Boosting\n",
      "              precision    recall  f1-score   support\n",
      "\n",
      "           0       0.90      0.96      0.93        54\n",
      "           1       0.96      0.89      0.93        56\n",
      "\n",
      "    accuracy                           0.93       110\n",
      "   macro avg       0.93      0.93      0.93       110\n",
      "weighted avg       0.93      0.93      0.93       110\n",
      "\n",
      "Test ROC AUC: 0.9279100529100529\n"
     ]
    }
   ],
   "source": [
    "from sklearn.metrics import classification_report\n",
    "y_pred = model_gb.predict(x_test)\n",
    "print(\"Gradient Boosting\")\n",
    "print(classification_report(y_test, y_pred))\n",
    "print(f\"Test ROC AUC: {roc_auc_score(y_test, y_pred)}\")"
   ]
  },
  {
   "attachments": {},
   "cell_type": "markdown",
   "metadata": {},
   "source": [
    "Потестируем наш подход на тестовых предложениях"
   ]
  },
  {
   "attachments": {},
   "cell_type": "markdown",
   "metadata": {},
   "source": [
    "Уже более сложные зависимости не ухватывает"
   ]
  },
  {
   "cell_type": "code",
   "execution_count": 447,
   "metadata": {},
   "outputs": [
    {
     "data": {
      "text/plain": [
       "array([1], dtype=int64)"
      ]
     },
     "execution_count": 447,
     "metadata": {},
     "output_type": "execute_result"
    }
   ],
   "source": [
    "model_gb.predict(model_bow.transform([\"Мы на выходных вечером летим в Бали на 2 ночи\"]))"
   ]
  },
  {
   "attachments": {},
   "cell_type": "markdown",
   "metadata": {},
   "source": [
    "### Word2Vec\n",
    "We will use Navec library from natasha project"
   ]
  },
  {
   "cell_type": "code",
   "execution_count": 448,
   "metadata": {},
   "outputs": [],
   "source": [
    "x_train, x_test, y_train, y_test = train_test_split(df_manual[\"lemmas\"], df_manual[\"label\"])"
   ]
  },
  {
   "cell_type": "code",
   "execution_count": 449,
   "metadata": {},
   "outputs": [],
   "source": [
    "from keras.preprocessing.text import Tokenizer\n",
    "from keras.utils import pad_sequences\n",
    "import tensorflow as tf\n",
    "\n",
    "SENTENCE_LENGTH = 20\n",
    "NUM = 200\n",
    "\n",
    "def get_sequences(tokenizer, x):\n",
    "    sequences = tokenizer.texts_to_sequences(x)\n",
    "    return pad_sequences(sequences, maxlen=SENTENCE_LENGTH)\n",
    "\n",
    "tokenizer = Tokenizer(num_words=NUM)\n",
    "tokenizer.fit_on_texts(x_train)\n",
    "\n",
    "# Отображаем каждый текст в массив идентификаторов токенов\n",
    "x_train_seq = get_sequences(tokenizer, x_train)\n",
    "x_test_seq = get_sequences(tokenizer, x_test)"
   ]
  },
  {
   "cell_type": "code",
   "execution_count": 450,
   "metadata": {},
   "outputs": [
    {
     "name": "stdout",
     "output_type": "stream",
     "text": [
      "Model: \"model_23\"\n",
      "__________________________________________________________________________________________________\n",
      " Layer (type)                   Output Shape         Param #     Connected to                     \n",
      "==================================================================================================\n",
      " input_29 (InputLayer)          [(None, 20)]         0           []                               \n",
      "                                                                                                  \n",
      " embedding_28 (Embedding)       (None, 20, 50)       10000       ['input_29[0][0]']               \n",
      "                                                                                                  \n",
      " conv1d_675 (Conv1D)            (None, 19, 1)        101         ['embedding_28[0][0]']           \n",
      "                                                                                                  \n",
      " conv1d_676 (Conv1D)            (None, 19, 1)        101         ['embedding_28[0][0]']           \n",
      "                                                                                                  \n",
      " conv1d_677 (Conv1D)            (None, 19, 1)        101         ['embedding_28[0][0]']           \n",
      "                                                                                                  \n",
      " conv1d_678 (Conv1D)            (None, 19, 1)        101         ['embedding_28[0][0]']           \n",
      "                                                                                                  \n",
      " conv1d_679 (Conv1D)            (None, 19, 1)        101         ['embedding_28[0][0]']           \n",
      "                                                                                                  \n",
      " conv1d_680 (Conv1D)            (None, 18, 1)        151         ['embedding_28[0][0]']           \n",
      "                                                                                                  \n",
      " conv1d_681 (Conv1D)            (None, 18, 1)        151         ['embedding_28[0][0]']           \n",
      "                                                                                                  \n",
      " conv1d_682 (Conv1D)            (None, 18, 1)        151         ['embedding_28[0][0]']           \n",
      "                                                                                                  \n",
      " conv1d_683 (Conv1D)            (None, 18, 1)        151         ['embedding_28[0][0]']           \n",
      "                                                                                                  \n",
      " conv1d_684 (Conv1D)            (None, 18, 1)        151         ['embedding_28[0][0]']           \n",
      "                                                                                                  \n",
      " conv1d_685 (Conv1D)            (None, 17, 1)        201         ['embedding_28[0][0]']           \n",
      "                                                                                                  \n",
      " conv1d_686 (Conv1D)            (None, 17, 1)        201         ['embedding_28[0][0]']           \n",
      "                                                                                                  \n",
      " conv1d_687 (Conv1D)            (None, 17, 1)        201         ['embedding_28[0][0]']           \n",
      "                                                                                                  \n",
      " conv1d_688 (Conv1D)            (None, 17, 1)        201         ['embedding_28[0][0]']           \n",
      "                                                                                                  \n",
      " conv1d_689 (Conv1D)            (None, 17, 1)        201         ['embedding_28[0][0]']           \n",
      "                                                                                                  \n",
      " global_max_pooling1d_672 (Glob  (None, 1)           0           ['conv1d_675[0][0]']             \n",
      " alMaxPooling1D)                                                                                  \n",
      "                                                                                                  \n",
      " global_max_pooling1d_673 (Glob  (None, 1)           0           ['conv1d_676[0][0]']             \n",
      " alMaxPooling1D)                                                                                  \n",
      "                                                                                                  \n",
      " global_max_pooling1d_674 (Glob  (None, 1)           0           ['conv1d_677[0][0]']             \n",
      " alMaxPooling1D)                                                                                  \n",
      "                                                                                                  \n",
      " global_max_pooling1d_675 (Glob  (None, 1)           0           ['conv1d_678[0][0]']             \n",
      " alMaxPooling1D)                                                                                  \n",
      "                                                                                                  \n",
      " global_max_pooling1d_676 (Glob  (None, 1)           0           ['conv1d_679[0][0]']             \n",
      " alMaxPooling1D)                                                                                  \n",
      "                                                                                                  \n",
      " global_max_pooling1d_677 (Glob  (None, 1)           0           ['conv1d_680[0][0]']             \n",
      " alMaxPooling1D)                                                                                  \n",
      "                                                                                                  \n",
      " global_max_pooling1d_678 (Glob  (None, 1)           0           ['conv1d_681[0][0]']             \n",
      " alMaxPooling1D)                                                                                  \n",
      "                                                                                                  \n",
      " global_max_pooling1d_679 (Glob  (None, 1)           0           ['conv1d_682[0][0]']             \n",
      " alMaxPooling1D)                                                                                  \n",
      "                                                                                                  \n",
      " global_max_pooling1d_680 (Glob  (None, 1)           0           ['conv1d_683[0][0]']             \n",
      " alMaxPooling1D)                                                                                  \n",
      "                                                                                                  \n",
      " global_max_pooling1d_681 (Glob  (None, 1)           0           ['conv1d_684[0][0]']             \n",
      " alMaxPooling1D)                                                                                  \n",
      "                                                                                                  \n",
      " global_max_pooling1d_682 (Glob  (None, 1)           0           ['conv1d_685[0][0]']             \n",
      " alMaxPooling1D)                                                                                  \n",
      "                                                                                                  \n",
      " global_max_pooling1d_683 (Glob  (None, 1)           0           ['conv1d_686[0][0]']             \n",
      " alMaxPooling1D)                                                                                  \n",
      "                                                                                                  \n",
      " global_max_pooling1d_684 (Glob  (None, 1)           0           ['conv1d_687[0][0]']             \n",
      " alMaxPooling1D)                                                                                  \n",
      "                                                                                                  \n",
      " global_max_pooling1d_685 (Glob  (None, 1)           0           ['conv1d_688[0][0]']             \n",
      " alMaxPooling1D)                                                                                  \n",
      "                                                                                                  \n",
      " global_max_pooling1d_686 (Glob  (None, 1)           0           ['conv1d_689[0][0]']             \n",
      " alMaxPooling1D)                                                                                  \n",
      "                                                                                                  \n",
      " concatenate_25 (Concatenate)   (None, 15)           0           ['global_max_pooling1d_672[0][0]'\n",
      "                                                                 , 'global_max_pooling1d_673[0][0]\n",
      "                                                                 ',                               \n",
      "                                                                  'global_max_pooling1d_674[0][0]'\n",
      "                                                                 , 'global_max_pooling1d_675[0][0]\n",
      "                                                                 ',                               \n",
      "                                                                  'global_max_pooling1d_676[0][0]'\n",
      "                                                                 , 'global_max_pooling1d_677[0][0]\n",
      "                                                                 ',                               \n",
      "                                                                  'global_max_pooling1d_678[0][0]'\n",
      "                                                                 , 'global_max_pooling1d_679[0][0]\n",
      "                                                                 ',                               \n",
      "                                                                  'global_max_pooling1d_680[0][0]'\n",
      "                                                                 , 'global_max_pooling1d_681[0][0]\n",
      "                                                                 ',                               \n",
      "                                                                  'global_max_pooling1d_682[0][0]'\n",
      "                                                                 , 'global_max_pooling1d_683[0][0]\n",
      "                                                                 ',                               \n",
      "                                                                  'global_max_pooling1d_684[0][0]'\n",
      "                                                                 , 'global_max_pooling1d_685[0][0]\n",
      "                                                                 ',                               \n",
      "                                                                  'global_max_pooling1d_686[0][0]'\n",
      "                                                                 ]                                \n",
      "                                                                                                  \n",
      " dropout_31 (Dropout)           (None, 15)           0           ['concatenate_25[0][0]']         \n",
      "                                                                                                  \n",
      " dense_50 (Dense)               (None, 16)           256         ['dropout_31[0][0]']             \n",
      "                                                                                                  \n",
      " dense_51 (Dense)               (None, 1)            17          ['dense_50[0][0]']               \n",
      "                                                                                                  \n",
      "==================================================================================================\n",
      "Total params: 12,538\n",
      "Trainable params: 12,538\n",
      "Non-trainable params: 0\n",
      "__________________________________________________________________________________________________\n"
     ]
    }
   ],
   "source": [
    "from keras.layers import Input, Embedding, Dropout, Conv1D, Activation, Dense, GlobalMaxPooling1D, concatenate\n",
    "from keras.models import Model\n",
    "from keras.optimizers import Adam\n",
    "from keras.losses import BinaryCrossentropy\n",
    "\n",
    "input_layer = Input(shape=(SENTENCE_LENGTH,), dtype='int32')\n",
    "x = Embedding(NUM, 50, input_length=SENTENCE_LENGTH,trainable=True)(input_layer)\n",
    "branches =  []\n",
    "\n",
    "for size in range(2, 5):\n",
    "    for i in range(5):\n",
    "        branch = Conv1D(filters=1, kernel_size=size, padding='valid', activation='relu')(x)\n",
    "        branch = GlobalMaxPooling1D()(branch)\n",
    "        branches.append(branch)\n",
    "\n",
    "x = concatenate(branches, axis=1)\n",
    "x = Dropout(0.25)(x)\n",
    "x = Dense(16, activation='relu')(x)\n",
    "output = Dense(1, activation='sigmoid')(x)\n",
    "\n",
    "model_w2v = Model(inputs=[input_layer], outputs=[output])\n",
    "\n",
    "model_w2v.compile(loss=BinaryCrossentropy(), optimizer=Adam(), metrics=['accuracy'])\n",
    "model_w2v.summary()      "
   ]
  },
  {
   "cell_type": "code",
   "execution_count": 451,
   "metadata": {},
   "outputs": [
    {
     "name": "stdout",
     "output_type": "stream",
     "text": [
      "Epoch 1/60\n",
      "9/9 [==============================] - 2s 71ms/step - loss: 0.6952 - accuracy: 0.4791 - val_loss: 0.6875 - val_accuracy: 0.7879\n",
      "Epoch 2/60\n",
      "9/9 [==============================] - 0s 17ms/step - loss: 0.6815 - accuracy: 0.7148 - val_loss: 0.6785 - val_accuracy: 0.8788\n",
      "Epoch 3/60\n",
      "9/9 [==============================] - 0s 14ms/step - loss: 0.6697 - accuracy: 0.8213 - val_loss: 0.6666 - val_accuracy: 0.8788\n",
      "Epoch 4/60\n",
      "9/9 [==============================] - 0s 13ms/step - loss: 0.6554 - accuracy: 0.8175 - val_loss: 0.6493 - val_accuracy: 0.9545\n",
      "Epoch 5/60\n",
      "9/9 [==============================] - 0s 14ms/step - loss: 0.6334 - accuracy: 0.8707 - val_loss: 0.6256 - val_accuracy: 0.9091\n",
      "Epoch 6/60\n",
      "9/9 [==============================] - 0s 14ms/step - loss: 0.5995 - accuracy: 0.9125 - val_loss: 0.5915 - val_accuracy: 0.8788\n",
      "Epoch 7/60\n",
      "9/9 [==============================] - 0s 14ms/step - loss: 0.5627 - accuracy: 0.8897 - val_loss: 0.5479 - val_accuracy: 0.9091\n",
      "Epoch 8/60\n",
      "9/9 [==============================] - 0s 17ms/step - loss: 0.5209 - accuracy: 0.9202 - val_loss: 0.4969 - val_accuracy: 0.9091\n",
      "Epoch 9/60\n",
      "9/9 [==============================] - 0s 14ms/step - loss: 0.4716 - accuracy: 0.9087 - val_loss: 0.4411 - val_accuracy: 0.9242\n",
      "Epoch 10/60\n",
      "9/9 [==============================] - 0s 13ms/step - loss: 0.4009 - accuracy: 0.9392 - val_loss: 0.3829 - val_accuracy: 0.9394\n",
      "Epoch 11/60\n",
      "9/9 [==============================] - 0s 16ms/step - loss: 0.3472 - accuracy: 0.9392 - val_loss: 0.3261 - val_accuracy: 0.9545\n",
      "Epoch 12/60\n",
      "9/9 [==============================] - 0s 15ms/step - loss: 0.2941 - accuracy: 0.9354 - val_loss: 0.2744 - val_accuracy: 0.9545\n",
      "Epoch 13/60\n",
      "9/9 [==============================] - 0s 19ms/step - loss: 0.2348 - accuracy: 0.9582 - val_loss: 0.2282 - val_accuracy: 0.9545\n",
      "Epoch 14/60\n",
      "9/9 [==============================] - 0s 15ms/step - loss: 0.2081 - accuracy: 0.9506 - val_loss: 0.1999 - val_accuracy: 0.9545\n",
      "Epoch 15/60\n",
      "9/9 [==============================] - 0s 14ms/step - loss: 0.1614 - accuracy: 0.9544 - val_loss: 0.1848 - val_accuracy: 0.9545\n",
      "Epoch 16/60\n",
      "9/9 [==============================] - 0s 14ms/step - loss: 0.1402 - accuracy: 0.9544 - val_loss: 0.1754 - val_accuracy: 0.9545\n",
      "Epoch 17/60\n",
      "9/9 [==============================] - 0s 13ms/step - loss: 0.1231 - accuracy: 0.9658 - val_loss: 0.1764 - val_accuracy: 0.9545\n",
      "Epoch 18/60\n",
      "9/9 [==============================] - 0s 14ms/step - loss: 0.1030 - accuracy: 0.9772 - val_loss: 0.1769 - val_accuracy: 0.9545\n",
      "Epoch 19/60\n",
      "9/9 [==============================] - 0s 14ms/step - loss: 0.0988 - accuracy: 0.9696 - val_loss: 0.1722 - val_accuracy: 0.9545\n",
      "Epoch 20/60\n",
      "9/9 [==============================] - 0s 14ms/step - loss: 0.0756 - accuracy: 0.9848 - val_loss: 0.1703 - val_accuracy: 0.9545\n",
      "Epoch 21/60\n",
      "9/9 [==============================] - 0s 15ms/step - loss: 0.0774 - accuracy: 0.9848 - val_loss: 0.1710 - val_accuracy: 0.9545\n",
      "Epoch 22/60\n",
      "9/9 [==============================] - 0s 15ms/step - loss: 0.0672 - accuracy: 0.9886 - val_loss: 0.1741 - val_accuracy: 0.9545\n",
      "Epoch 23/60\n",
      "9/9 [==============================] - 0s 14ms/step - loss: 0.0590 - accuracy: 0.9886 - val_loss: 0.1801 - val_accuracy: 0.9394\n",
      "Epoch 24/60\n",
      "9/9 [==============================] - 0s 14ms/step - loss: 0.0550 - accuracy: 0.9848 - val_loss: 0.1839 - val_accuracy: 0.9091\n",
      "Epoch 25/60\n",
      "9/9 [==============================] - 0s 14ms/step - loss: 0.0452 - accuracy: 0.9924 - val_loss: 0.1804 - val_accuracy: 0.9545\n",
      "Epoch 26/60\n",
      "9/9 [==============================] - 0s 14ms/step - loss: 0.0511 - accuracy: 0.9886 - val_loss: 0.1767 - val_accuracy: 0.9545\n",
      "Epoch 27/60\n",
      "9/9 [==============================] - 0s 14ms/step - loss: 0.0403 - accuracy: 0.9962 - val_loss: 0.1789 - val_accuracy: 0.9545\n"
     ]
    }
   ],
   "source": [
    "early_stop = tf.keras.callbacks.EarlyStopping(monitor='val_loss', patience=7, verbose=0, mode='auto')\n",
    "\n",
    "history_w2v = model_w2v.fit(x_train_seq, y_train, validation_split=0.2, epochs=60,callbacks=early_stop)"
   ]
  },
  {
   "cell_type": "code",
   "execution_count": 452,
   "metadata": {},
   "outputs": [
    {
     "name": "stdout",
     "output_type": "stream",
     "text": [
      "4/4 [==============================] - 0s 2ms/step\n",
      "CNN - 15 conv layers\n",
      "              precision    recall  f1-score   support\n",
      "\n",
      "           0       0.94      0.81      0.87        57\n",
      "           1       0.82      0.94      0.88        53\n",
      "\n",
      "    accuracy                           0.87       110\n",
      "   macro avg       0.88      0.88      0.87       110\n",
      "weighted avg       0.88      0.87      0.87       110\n",
      "\n",
      "Test ROC AUC: 0.8752068851373718\n"
     ]
    }
   ],
   "source": [
    "y_pred = np.array(model_w2v.predict(x_test_seq) > 0.5)\n",
    "print(\"CNN - 15 conv layers\")\n",
    "print(classification_report(y_test, y_pred))\n",
    "print(f\"Test ROC AUC: {roc_auc_score(y_test, y_pred)}\")"
   ]
  },
  {
   "cell_type": "code",
   "execution_count": 453,
   "metadata": {},
   "outputs": [
    {
     "name": "stdout",
     "output_type": "stream",
     "text": [
      "Model: \"model_24\"\n",
      "__________________________________________________________________________________________________\n",
      " Layer (type)                   Output Shape         Param #     Connected to                     \n",
      "==================================================================================================\n",
      " input_30 (InputLayer)          [(None, 20)]         0           []                               \n",
      "                                                                                                  \n",
      " embedding_29 (Embedding)       (None, 20, 50)       10000       ['input_30[0][0]']               \n",
      "                                                                                                  \n",
      " conv1d_690 (Conv1D)            (None, 19, 5)        505         ['embedding_29[0][0]']           \n",
      "                                                                                                  \n",
      " conv1d_691 (Conv1D)            (None, 19, 5)        505         ['embedding_29[0][0]']           \n",
      "                                                                                                  \n",
      " conv1d_692 (Conv1D)            (None, 19, 5)        505         ['embedding_29[0][0]']           \n",
      "                                                                                                  \n",
      " conv1d_693 (Conv1D)            (None, 19, 5)        505         ['embedding_29[0][0]']           \n",
      "                                                                                                  \n",
      " conv1d_694 (Conv1D)            (None, 19, 5)        505         ['embedding_29[0][0]']           \n",
      "                                                                                                  \n",
      " conv1d_695 (Conv1D)            (None, 19, 5)        505         ['embedding_29[0][0]']           \n",
      "                                                                                                  \n",
      " conv1d_696 (Conv1D)            (None, 19, 5)        505         ['embedding_29[0][0]']           \n",
      "                                                                                                  \n",
      " conv1d_697 (Conv1D)            (None, 19, 5)        505         ['embedding_29[0][0]']           \n",
      "                                                                                                  \n",
      " conv1d_698 (Conv1D)            (None, 19, 5)        505         ['embedding_29[0][0]']           \n",
      "                                                                                                  \n",
      " conv1d_699 (Conv1D)            (None, 19, 5)        505         ['embedding_29[0][0]']           \n",
      "                                                                                                  \n",
      " conv1d_700 (Conv1D)            (None, 19, 5)        505         ['embedding_29[0][0]']           \n",
      "                                                                                                  \n",
      " conv1d_701 (Conv1D)            (None, 19, 5)        505         ['embedding_29[0][0]']           \n",
      "                                                                                                  \n",
      " conv1d_702 (Conv1D)            (None, 19, 5)        505         ['embedding_29[0][0]']           \n",
      "                                                                                                  \n",
      " conv1d_703 (Conv1D)            (None, 19, 5)        505         ['embedding_29[0][0]']           \n",
      "                                                                                                  \n",
      " conv1d_704 (Conv1D)            (None, 19, 5)        505         ['embedding_29[0][0]']           \n",
      "                                                                                                  \n",
      " conv1d_705 (Conv1D)            (None, 19, 5)        505         ['embedding_29[0][0]']           \n",
      "                                                                                                  \n",
      " conv1d_706 (Conv1D)            (None, 18, 5)        755         ['embedding_29[0][0]']           \n",
      "                                                                                                  \n",
      " conv1d_707 (Conv1D)            (None, 18, 5)        755         ['embedding_29[0][0]']           \n",
      "                                                                                                  \n",
      " conv1d_708 (Conv1D)            (None, 18, 5)        755         ['embedding_29[0][0]']           \n",
      "                                                                                                  \n",
      " conv1d_709 (Conv1D)            (None, 18, 5)        755         ['embedding_29[0][0]']           \n",
      "                                                                                                  \n",
      " conv1d_710 (Conv1D)            (None, 18, 5)        755         ['embedding_29[0][0]']           \n",
      "                                                                                                  \n",
      " conv1d_711 (Conv1D)            (None, 18, 5)        755         ['embedding_29[0][0]']           \n",
      "                                                                                                  \n",
      " conv1d_712 (Conv1D)            (None, 18, 5)        755         ['embedding_29[0][0]']           \n",
      "                                                                                                  \n",
      " conv1d_713 (Conv1D)            (None, 18, 5)        755         ['embedding_29[0][0]']           \n",
      "                                                                                                  \n",
      " conv1d_714 (Conv1D)            (None, 18, 5)        755         ['embedding_29[0][0]']           \n",
      "                                                                                                  \n",
      " conv1d_715 (Conv1D)            (None, 18, 5)        755         ['embedding_29[0][0]']           \n",
      "                                                                                                  \n",
      " conv1d_716 (Conv1D)            (None, 18, 5)        755         ['embedding_29[0][0]']           \n",
      "                                                                                                  \n",
      " conv1d_717 (Conv1D)            (None, 18, 5)        755         ['embedding_29[0][0]']           \n",
      "                                                                                                  \n",
      " conv1d_718 (Conv1D)            (None, 18, 5)        755         ['embedding_29[0][0]']           \n",
      "                                                                                                  \n",
      " conv1d_719 (Conv1D)            (None, 18, 5)        755         ['embedding_29[0][0]']           \n",
      "                                                                                                  \n",
      " conv1d_720 (Conv1D)            (None, 18, 5)        755         ['embedding_29[0][0]']           \n",
      "                                                                                                  \n",
      " conv1d_721 (Conv1D)            (None, 18, 5)        755         ['embedding_29[0][0]']           \n",
      "                                                                                                  \n",
      " conv1d_722 (Conv1D)            (None, 17, 5)        1005        ['embedding_29[0][0]']           \n",
      "                                                                                                  \n",
      " conv1d_723 (Conv1D)            (None, 17, 5)        1005        ['embedding_29[0][0]']           \n",
      "                                                                                                  \n",
      " conv1d_724 (Conv1D)            (None, 17, 5)        1005        ['embedding_29[0][0]']           \n",
      "                                                                                                  \n",
      " conv1d_725 (Conv1D)            (None, 17, 5)        1005        ['embedding_29[0][0]']           \n",
      "                                                                                                  \n",
      " conv1d_726 (Conv1D)            (None, 17, 5)        1005        ['embedding_29[0][0]']           \n",
      "                                                                                                  \n",
      " conv1d_727 (Conv1D)            (None, 17, 5)        1005        ['embedding_29[0][0]']           \n",
      "                                                                                                  \n",
      " conv1d_728 (Conv1D)            (None, 17, 5)        1005        ['embedding_29[0][0]']           \n",
      "                                                                                                  \n",
      " conv1d_729 (Conv1D)            (None, 17, 5)        1005        ['embedding_29[0][0]']           \n",
      "                                                                                                  \n",
      " conv1d_730 (Conv1D)            (None, 17, 5)        1005        ['embedding_29[0][0]']           \n",
      "                                                                                                  \n",
      " conv1d_731 (Conv1D)            (None, 17, 5)        1005        ['embedding_29[0][0]']           \n",
      "                                                                                                  \n",
      " conv1d_732 (Conv1D)            (None, 17, 5)        1005        ['embedding_29[0][0]']           \n",
      "                                                                                                  \n",
      " conv1d_733 (Conv1D)            (None, 17, 5)        1005        ['embedding_29[0][0]']           \n",
      "                                                                                                  \n",
      " conv1d_734 (Conv1D)            (None, 17, 5)        1005        ['embedding_29[0][0]']           \n",
      "                                                                                                  \n",
      " conv1d_735 (Conv1D)            (None, 17, 5)        1005        ['embedding_29[0][0]']           \n",
      "                                                                                                  \n",
      " conv1d_736 (Conv1D)            (None, 17, 5)        1005        ['embedding_29[0][0]']           \n",
      "                                                                                                  \n",
      " conv1d_737 (Conv1D)            (None, 17, 5)        1005        ['embedding_29[0][0]']           \n",
      "                                                                                                  \n",
      " global_max_pooling1d_687 (Glob  (None, 5)           0           ['conv1d_690[0][0]']             \n",
      " alMaxPooling1D)                                                                                  \n",
      "                                                                                                  \n",
      " global_max_pooling1d_688 (Glob  (None, 5)           0           ['conv1d_691[0][0]']             \n",
      " alMaxPooling1D)                                                                                  \n",
      "                                                                                                  \n",
      " global_max_pooling1d_689 (Glob  (None, 5)           0           ['conv1d_692[0][0]']             \n",
      " alMaxPooling1D)                                                                                  \n",
      "                                                                                                  \n",
      " global_max_pooling1d_690 (Glob  (None, 5)           0           ['conv1d_693[0][0]']             \n",
      " alMaxPooling1D)                                                                                  \n",
      "                                                                                                  \n",
      " global_max_pooling1d_691 (Glob  (None, 5)           0           ['conv1d_694[0][0]']             \n",
      " alMaxPooling1D)                                                                                  \n",
      "                                                                                                  \n",
      " global_max_pooling1d_692 (Glob  (None, 5)           0           ['conv1d_695[0][0]']             \n",
      " alMaxPooling1D)                                                                                  \n",
      "                                                                                                  \n",
      " global_max_pooling1d_693 (Glob  (None, 5)           0           ['conv1d_696[0][0]']             \n",
      " alMaxPooling1D)                                                                                  \n",
      "                                                                                                  \n",
      " global_max_pooling1d_694 (Glob  (None, 5)           0           ['conv1d_697[0][0]']             \n",
      " alMaxPooling1D)                                                                                  \n",
      "                                                                                                  \n",
      " global_max_pooling1d_695 (Glob  (None, 5)           0           ['conv1d_698[0][0]']             \n",
      " alMaxPooling1D)                                                                                  \n",
      "                                                                                                  \n",
      " global_max_pooling1d_696 (Glob  (None, 5)           0           ['conv1d_699[0][0]']             \n",
      " alMaxPooling1D)                                                                                  \n",
      "                                                                                                  \n",
      " global_max_pooling1d_697 (Glob  (None, 5)           0           ['conv1d_700[0][0]']             \n",
      " alMaxPooling1D)                                                                                  \n",
      "                                                                                                  \n",
      " global_max_pooling1d_698 (Glob  (None, 5)           0           ['conv1d_701[0][0]']             \n",
      " alMaxPooling1D)                                                                                  \n",
      "                                                                                                  \n",
      " global_max_pooling1d_699 (Glob  (None, 5)           0           ['conv1d_702[0][0]']             \n",
      " alMaxPooling1D)                                                                                  \n",
      "                                                                                                  \n",
      " global_max_pooling1d_700 (Glob  (None, 5)           0           ['conv1d_703[0][0]']             \n",
      " alMaxPooling1D)                                                                                  \n",
      "                                                                                                  \n",
      " global_max_pooling1d_701 (Glob  (None, 5)           0           ['conv1d_704[0][0]']             \n",
      " alMaxPooling1D)                                                                                  \n",
      "                                                                                                  \n",
      " global_max_pooling1d_702 (Glob  (None, 5)           0           ['conv1d_705[0][0]']             \n",
      " alMaxPooling1D)                                                                                  \n",
      "                                                                                                  \n",
      " global_max_pooling1d_703 (Glob  (None, 5)           0           ['conv1d_706[0][0]']             \n",
      " alMaxPooling1D)                                                                                  \n",
      "                                                                                                  \n",
      " global_max_pooling1d_704 (Glob  (None, 5)           0           ['conv1d_707[0][0]']             \n",
      " alMaxPooling1D)                                                                                  \n",
      "                                                                                                  \n",
      " global_max_pooling1d_705 (Glob  (None, 5)           0           ['conv1d_708[0][0]']             \n",
      " alMaxPooling1D)                                                                                  \n",
      "                                                                                                  \n",
      " global_max_pooling1d_706 (Glob  (None, 5)           0           ['conv1d_709[0][0]']             \n",
      " alMaxPooling1D)                                                                                  \n",
      "                                                                                                  \n",
      " global_max_pooling1d_707 (Glob  (None, 5)           0           ['conv1d_710[0][0]']             \n",
      " alMaxPooling1D)                                                                                  \n",
      "                                                                                                  \n",
      " global_max_pooling1d_708 (Glob  (None, 5)           0           ['conv1d_711[0][0]']             \n",
      " alMaxPooling1D)                                                                                  \n",
      "                                                                                                  \n",
      " global_max_pooling1d_709 (Glob  (None, 5)           0           ['conv1d_712[0][0]']             \n",
      " alMaxPooling1D)                                                                                  \n",
      "                                                                                                  \n",
      " global_max_pooling1d_710 (Glob  (None, 5)           0           ['conv1d_713[0][0]']             \n",
      " alMaxPooling1D)                                                                                  \n",
      "                                                                                                  \n",
      " global_max_pooling1d_711 (Glob  (None, 5)           0           ['conv1d_714[0][0]']             \n",
      " alMaxPooling1D)                                                                                  \n",
      "                                                                                                  \n",
      " global_max_pooling1d_712 (Glob  (None, 5)           0           ['conv1d_715[0][0]']             \n",
      " alMaxPooling1D)                                                                                  \n",
      "                                                                                                  \n",
      " global_max_pooling1d_713 (Glob  (None, 5)           0           ['conv1d_716[0][0]']             \n",
      " alMaxPooling1D)                                                                                  \n",
      "                                                                                                  \n",
      " global_max_pooling1d_714 (Glob  (None, 5)           0           ['conv1d_717[0][0]']             \n",
      " alMaxPooling1D)                                                                                  \n",
      "                                                                                                  \n",
      " global_max_pooling1d_715 (Glob  (None, 5)           0           ['conv1d_718[0][0]']             \n",
      " alMaxPooling1D)                                                                                  \n",
      "                                                                                                  \n",
      " global_max_pooling1d_716 (Glob  (None, 5)           0           ['conv1d_719[0][0]']             \n",
      " alMaxPooling1D)                                                                                  \n",
      "                                                                                                  \n",
      " global_max_pooling1d_717 (Glob  (None, 5)           0           ['conv1d_720[0][0]']             \n",
      " alMaxPooling1D)                                                                                  \n",
      "                                                                                                  \n",
      " global_max_pooling1d_718 (Glob  (None, 5)           0           ['conv1d_721[0][0]']             \n",
      " alMaxPooling1D)                                                                                  \n",
      "                                                                                                  \n",
      " global_max_pooling1d_719 (Glob  (None, 5)           0           ['conv1d_722[0][0]']             \n",
      " alMaxPooling1D)                                                                                  \n",
      "                                                                                                  \n",
      " global_max_pooling1d_720 (Glob  (None, 5)           0           ['conv1d_723[0][0]']             \n",
      " alMaxPooling1D)                                                                                  \n",
      "                                                                                                  \n",
      " global_max_pooling1d_721 (Glob  (None, 5)           0           ['conv1d_724[0][0]']             \n",
      " alMaxPooling1D)                                                                                  \n",
      "                                                                                                  \n",
      " global_max_pooling1d_722 (Glob  (None, 5)           0           ['conv1d_725[0][0]']             \n",
      " alMaxPooling1D)                                                                                  \n",
      "                                                                                                  \n",
      " global_max_pooling1d_723 (Glob  (None, 5)           0           ['conv1d_726[0][0]']             \n",
      " alMaxPooling1D)                                                                                  \n",
      "                                                                                                  \n",
      " global_max_pooling1d_724 (Glob  (None, 5)           0           ['conv1d_727[0][0]']             \n",
      " alMaxPooling1D)                                                                                  \n",
      "                                                                                                  \n",
      " global_max_pooling1d_725 (Glob  (None, 5)           0           ['conv1d_728[0][0]']             \n",
      " alMaxPooling1D)                                                                                  \n",
      "                                                                                                  \n",
      " global_max_pooling1d_726 (Glob  (None, 5)           0           ['conv1d_729[0][0]']             \n",
      " alMaxPooling1D)                                                                                  \n",
      "                                                                                                  \n",
      " global_max_pooling1d_727 (Glob  (None, 5)           0           ['conv1d_730[0][0]']             \n",
      " alMaxPooling1D)                                                                                  \n",
      "                                                                                                  \n",
      " global_max_pooling1d_728 (Glob  (None, 5)           0           ['conv1d_731[0][0]']             \n",
      " alMaxPooling1D)                                                                                  \n",
      "                                                                                                  \n",
      " global_max_pooling1d_729 (Glob  (None, 5)           0           ['conv1d_732[0][0]']             \n",
      " alMaxPooling1D)                                                                                  \n",
      "                                                                                                  \n",
      " global_max_pooling1d_730 (Glob  (None, 5)           0           ['conv1d_733[0][0]']             \n",
      " alMaxPooling1D)                                                                                  \n",
      "                                                                                                  \n",
      " global_max_pooling1d_731 (Glob  (None, 5)           0           ['conv1d_734[0][0]']             \n",
      " alMaxPooling1D)                                                                                  \n",
      "                                                                                                  \n",
      " global_max_pooling1d_732 (Glob  (None, 5)           0           ['conv1d_735[0][0]']             \n",
      " alMaxPooling1D)                                                                                  \n",
      "                                                                                                  \n",
      " global_max_pooling1d_733 (Glob  (None, 5)           0           ['conv1d_736[0][0]']             \n",
      " alMaxPooling1D)                                                                                  \n",
      "                                                                                                  \n",
      " global_max_pooling1d_734 (Glob  (None, 5)           0           ['conv1d_737[0][0]']             \n",
      " alMaxPooling1D)                                                                                  \n",
      "                                                                                                  \n",
      " concatenate_26 (Concatenate)   (None, 240)          0           ['global_max_pooling1d_687[0][0]'\n",
      "                                                                 , 'global_max_pooling1d_688[0][0]\n",
      "                                                                 ',                               \n",
      "                                                                  'global_max_pooling1d_689[0][0]'\n",
      "                                                                 , 'global_max_pooling1d_690[0][0]\n",
      "                                                                 ',                               \n",
      "                                                                  'global_max_pooling1d_691[0][0]'\n",
      "                                                                 , 'global_max_pooling1d_692[0][0]\n",
      "                                                                 ',                               \n",
      "                                                                  'global_max_pooling1d_693[0][0]'\n",
      "                                                                 , 'global_max_pooling1d_694[0][0]\n",
      "                                                                 ',                               \n",
      "                                                                  'global_max_pooling1d_695[0][0]'\n",
      "                                                                 , 'global_max_pooling1d_696[0][0]\n",
      "                                                                 ',                               \n",
      "                                                                  'global_max_pooling1d_697[0][0]'\n",
      "                                                                 , 'global_max_pooling1d_698[0][0]\n",
      "                                                                 ',                               \n",
      "                                                                  'global_max_pooling1d_699[0][0]'\n",
      "                                                                 , 'global_max_pooling1d_700[0][0]\n",
      "                                                                 ',                               \n",
      "                                                                  'global_max_pooling1d_701[0][0]'\n",
      "                                                                 , 'global_max_pooling1d_702[0][0]\n",
      "                                                                 ',                               \n",
      "                                                                  'global_max_pooling1d_703[0][0]'\n",
      "                                                                 , 'global_max_pooling1d_704[0][0]\n",
      "                                                                 ',                               \n",
      "                                                                  'global_max_pooling1d_705[0][0]'\n",
      "                                                                 , 'global_max_pooling1d_706[0][0]\n",
      "                                                                 ',                               \n",
      "                                                                  'global_max_pooling1d_707[0][0]'\n",
      "                                                                 , 'global_max_pooling1d_708[0][0]\n",
      "                                                                 ',                               \n",
      "                                                                  'global_max_pooling1d_709[0][0]'\n",
      "                                                                 , 'global_max_pooling1d_710[0][0]\n",
      "                                                                 ',                               \n",
      "                                                                  'global_max_pooling1d_711[0][0]'\n",
      "                                                                 , 'global_max_pooling1d_712[0][0]\n",
      "                                                                 ',                               \n",
      "                                                                  'global_max_pooling1d_713[0][0]'\n",
      "                                                                 , 'global_max_pooling1d_714[0][0]\n",
      "                                                                 ',                               \n",
      "                                                                  'global_max_pooling1d_715[0][0]'\n",
      "                                                                 , 'global_max_pooling1d_716[0][0]\n",
      "                                                                 ',                               \n",
      "                                                                  'global_max_pooling1d_717[0][0]'\n",
      "                                                                 , 'global_max_pooling1d_718[0][0]\n",
      "                                                                 ',                               \n",
      "                                                                  'global_max_pooling1d_719[0][0]'\n",
      "                                                                 , 'global_max_pooling1d_720[0][0]\n",
      "                                                                 ',                               \n",
      "                                                                  'global_max_pooling1d_721[0][0]'\n",
      "                                                                 , 'global_max_pooling1d_722[0][0]\n",
      "                                                                 ',                               \n",
      "                                                                  'global_max_pooling1d_723[0][0]'\n",
      "                                                                 , 'global_max_pooling1d_724[0][0]\n",
      "                                                                 ',                               \n",
      "                                                                  'global_max_pooling1d_725[0][0]'\n",
      "                                                                 , 'global_max_pooling1d_726[0][0]\n",
      "                                                                 ',                               \n",
      "                                                                  'global_max_pooling1d_727[0][0]'\n",
      "                                                                 , 'global_max_pooling1d_728[0][0]\n",
      "                                                                 ',                               \n",
      "                                                                  'global_max_pooling1d_729[0][0]'\n",
      "                                                                 , 'global_max_pooling1d_730[0][0]\n",
      "                                                                 ',                               \n",
      "                                                                  'global_max_pooling1d_731[0][0]'\n",
      "                                                                 , 'global_max_pooling1d_732[0][0]\n",
      "                                                                 ',                               \n",
      "                                                                  'global_max_pooling1d_733[0][0]'\n",
      "                                                                 , 'global_max_pooling1d_734[0][0]\n",
      "                                                                 ']                               \n",
      "                                                                                                  \n",
      " dropout_32 (Dropout)           (None, 240)          0           ['concatenate_26[0][0]']         \n",
      "                                                                                                  \n",
      " dense_52 (Dense)               (None, 64)           15424       ['dropout_32[0][0]']             \n",
      "                                                                                                  \n",
      " dense_53 (Dense)               (None, 10)           650         ['dense_52[0][0]']               \n",
      "                                                                                                  \n",
      " dense_54 (Dense)               (None, 1)            11          ['dense_53[0][0]']               \n",
      "                                                                                                  \n",
      "==================================================================================================\n",
      "Total params: 62,325\n",
      "Trainable params: 62,325\n",
      "Non-trainable params: 0\n",
      "__________________________________________________________________________________________________\n"
     ]
    }
   ],
   "source": [
    "from keras.layers import Input, Embedding, Dropout, Conv1D, Activation, Dense, GlobalMaxPooling1D, concatenate\n",
    "from keras.models import Model\n",
    "from keras.optimizers import Adam\n",
    "from keras.losses import BinaryCrossentropy\n",
    "\n",
    "input_layer = Input(shape=(SENTENCE_LENGTH,), dtype='int32')\n",
    "x = Embedding(NUM, 50, input_length=SENTENCE_LENGTH,trainable=True)(input_layer)\n",
    "branches =  []\n",
    "\n",
    "for size in range(2, 5):\n",
    "    for i in range(16):\n",
    "        branch = Conv1D(filters=5, kernel_size=size, padding='valid', activation='relu')(x)\n",
    "        branch = GlobalMaxPooling1D()(branch)\n",
    "        branches.append(branch)\n",
    "\n",
    "x = concatenate(branches, axis=1)\n",
    "x = Dropout(0.25)(x)\n",
    "x = Dense(64, activation='relu')(x)\n",
    "x = Dense(10, activation='relu')(x)\n",
    "output = Dense(1, activation='sigmoid')(x)\n",
    "\n",
    "model_w2v = Model(inputs=[input_layer], outputs=[output])\n",
    "\n",
    "model_w2v.compile(loss=BinaryCrossentropy(), optimizer=Adam(), metrics=['accuracy'])\n",
    "model_w2v.summary()      "
   ]
  },
  {
   "cell_type": "code",
   "execution_count": 454,
   "metadata": {},
   "outputs": [
    {
     "name": "stdout",
     "output_type": "stream",
     "text": [
      "Epoch 1/60\n",
      "9/9 [==============================] - 6s 186ms/step - loss: 0.6864 - accuracy: 0.5399 - val_loss: 0.6784 - val_accuracy: 0.5606\n",
      "Epoch 2/60\n",
      "9/9 [==============================] - 1s 89ms/step - loss: 0.6593 - accuracy: 0.5817 - val_loss: 0.6466 - val_accuracy: 0.5606\n",
      "Epoch 3/60\n",
      "9/9 [==============================] - 1s 81ms/step - loss: 0.6052 - accuracy: 0.7529 - val_loss: 0.5732 - val_accuracy: 0.8030\n",
      "Epoch 4/60\n",
      "9/9 [==============================] - 1s 82ms/step - loss: 0.5076 - accuracy: 0.9049 - val_loss: 0.4790 - val_accuracy: 0.8333\n",
      "Epoch 5/60\n",
      "9/9 [==============================] - 1s 84ms/step - loss: 0.3798 - accuracy: 0.9582 - val_loss: 0.3494 - val_accuracy: 0.8636\n",
      "Epoch 6/60\n",
      "9/9 [==============================] - 1s 78ms/step - loss: 0.2478 - accuracy: 0.9658 - val_loss: 0.2553 - val_accuracy: 0.8939\n",
      "Epoch 7/60\n",
      "9/9 [==============================] - 1s 79ms/step - loss: 0.1532 - accuracy: 0.9582 - val_loss: 0.2124 - val_accuracy: 0.9242\n",
      "Epoch 8/60\n",
      "9/9 [==============================] - 1s 83ms/step - loss: 0.0923 - accuracy: 0.9772 - val_loss: 0.2079 - val_accuracy: 0.9091\n",
      "Epoch 9/60\n",
      "9/9 [==============================] - 1s 77ms/step - loss: 0.0732 - accuracy: 0.9772 - val_loss: 0.2049 - val_accuracy: 0.9394\n",
      "Epoch 10/60\n",
      "9/9 [==============================] - 1s 77ms/step - loss: 0.0393 - accuracy: 0.9924 - val_loss: 0.2223 - val_accuracy: 0.9091\n",
      "Epoch 11/60\n",
      "9/9 [==============================] - 1s 83ms/step - loss: 0.0321 - accuracy: 0.9962 - val_loss: 0.2196 - val_accuracy: 0.9394\n",
      "Epoch 12/60\n",
      "9/9 [==============================] - 1s 78ms/step - loss: 0.0279 - accuracy: 0.9962 - val_loss: 0.2340 - val_accuracy: 0.9091\n",
      "Epoch 13/60\n",
      "9/9 [==============================] - 1s 79ms/step - loss: 0.0198 - accuracy: 0.9924 - val_loss: 0.2424 - val_accuracy: 0.8939\n",
      "Epoch 14/60\n",
      "9/9 [==============================] - 1s 82ms/step - loss: 0.0165 - accuracy: 1.0000 - val_loss: 0.2476 - val_accuracy: 0.9091\n",
      "Epoch 15/60\n",
      "9/9 [==============================] - 1s 78ms/step - loss: 0.0162 - accuracy: 0.9924 - val_loss: 0.2603 - val_accuracy: 0.8939\n",
      "Epoch 16/60\n",
      "9/9 [==============================] - 1s 78ms/step - loss: 0.0133 - accuracy: 0.9924 - val_loss: 0.2719 - val_accuracy: 0.8939\n"
     ]
    }
   ],
   "source": [
    "early_stop = tf.keras.callbacks.EarlyStopping(monitor='val_loss', patience=7, verbose=0, mode='auto')\n",
    "\n",
    "history_w2v = model_w2v.fit(x_train_seq, y_train, validation_split=0.2, epochs=60,callbacks=early_stop)"
   ]
  },
  {
   "cell_type": "code",
   "execution_count": 455,
   "metadata": {},
   "outputs": [
    {
     "name": "stdout",
     "output_type": "stream",
     "text": [
      "4/4 [==============================] - 1s 11ms/step\n",
      "CNN - 48 conv layers\n",
      "              precision    recall  f1-score   support\n",
      "\n",
      "           0       0.92      0.81      0.86        57\n",
      "           1       0.82      0.92      0.87        53\n",
      "\n",
      "    accuracy                           0.86       110\n",
      "   macro avg       0.87      0.87      0.86       110\n",
      "weighted avg       0.87      0.86      0.86       110\n",
      "\n",
      "Test ROC AUC: 0.8657729228732208\n"
     ]
    }
   ],
   "source": [
    "y_pred = np.array(model_w2v.predict(x_test_seq) > 0.5)\n",
    "print(\"CNN - 48 conv layers\")\n",
    "print(classification_report(y_test, y_pred))\n",
    "print(f\"Test ROC AUC: {roc_auc_score(y_test, y_pred)}\")"
   ]
  },
  {
   "attachments": {},
   "cell_type": "markdown",
   "metadata": {},
   "source": [
    "### Тестируем модель с лучшим AUC ROC - Random Forest"
   ]
  },
  {
   "attachments": {},
   "cell_type": "markdown",
   "metadata": {},
   "source": [
    "Мы с друзьями собираемся завтра в поход вечером"
   ]
  },
  {
   "cell_type": "code",
   "execution_count": 457,
   "metadata": {},
   "outputs": [
    {
     "data": {
      "text/plain": [
       "array([1], dtype=int64)"
      ]
     },
     "execution_count": 457,
     "metadata": {},
     "output_type": "execute_result"
    }
   ],
   "source": [
    "model_rfr.predict(model_bow.transform([\"Мы с друзьями собираемся завтра в поход вечером\"]))"
   ]
  },
  {
   "attachments": {},
   "cell_type": "markdown",
   "metadata": {},
   "source": [
    "Я пойду на Васильевский остров на пробежку утром"
   ]
  },
  {
   "cell_type": "code",
   "execution_count": 458,
   "metadata": {},
   "outputs": [
    {
     "data": {
      "text/plain": [
       "array([1], dtype=int64)"
      ]
     },
     "execution_count": 458,
     "metadata": {},
     "output_type": "execute_result"
    }
   ],
   "source": [
    "model_rfr.predict(model_bow.transform([\"Я пойду на Васильевский остров на пробежку утром\"]))"
   ]
  },
  {
   "attachments": {},
   "cell_type": "markdown",
   "metadata": {},
   "source": [
    "Мне нравится каша с изюмом"
   ]
  },
  {
   "cell_type": "code",
   "execution_count": 459,
   "metadata": {},
   "outputs": [
    {
     "data": {
      "text/plain": [
       "array([0], dtype=int64)"
      ]
     },
     "execution_count": 459,
     "metadata": {},
     "output_type": "execute_result"
    }
   ],
   "source": [
    "model_rfr.predict(model_bow.transform([\"Мне нравится каша с изюмом\"]))"
   ]
  }
 ],
 "metadata": {
  "kernelspec": {
   "display_name": "Python 3",
   "language": "python",
   "name": "python3"
  },
  "language_info": {
   "codemirror_mode": {
    "name": "ipython",
    "version": 3
   },
   "file_extension": ".py",
   "mimetype": "text/x-python",
   "name": "python",
   "nbconvert_exporter": "python",
   "pygments_lexer": "ipython3",
   "version": "3.10.5"
  },
  "orig_nbformat": 4
 },
 "nbformat": 4,
 "nbformat_minor": 2
}

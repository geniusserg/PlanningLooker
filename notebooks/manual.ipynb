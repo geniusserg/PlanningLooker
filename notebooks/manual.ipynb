{
 "cells": [
  {
   "cell_type": "code",
   "execution_count": 493,
   "metadata": {},
   "outputs": [],
   "source": [
    "import pandas as pd\n",
    "import pymystem3 \n",
    "import spacy\n",
    "nlp = spacy.load(\"ru_core_news_lg\")"
   ]
  },
  {
   "attachments": {},
   "cell_type": "markdown",
   "metadata": {},
   "source": [
    "### Data Load"
   ]
  },
  {
   "cell_type": "code",
   "execution_count": 494,
   "metadata": {},
   "outputs": [],
   "source": [
    "df_manual = []\n",
    "with open(\"../edz_dataset.txt\", \"r\", encoding=\"utf-8\") as f:\n",
    "    for line in f:\n",
    "        line = line.replace(\"\\ufeff\" ,\"\")\n",
    "        line = line.replace(\"\\n\" ,\"\")\n",
    "        df_manual.append([line, 1])\n",
    "        \n",
    "with open(\"../edz_neg_dataset.txt\", \"r\", encoding=\"utf-8\") as f:\n",
    "    for line in f:\n",
    "        line = line.replace(\"\\ufeff\" ,\"\")\n",
    "        line = line.replace(\"\\n\" ,\"\")\n",
    "        df_manual.append([line, 0])\n",
    "df_manual = pd.DataFrame(df_manual, columns=[\"text\", \"label\"])\n"
   ]
  },
  {
   "cell_type": "code",
   "execution_count": 495,
   "metadata": {},
   "outputs": [
    {
     "data": {
      "text/html": [
       "<div>\n",
       "<style scoped>\n",
       "    .dataframe tbody tr th:only-of-type {\n",
       "        vertical-align: middle;\n",
       "    }\n",
       "\n",
       "    .dataframe tbody tr th {\n",
       "        vertical-align: top;\n",
       "    }\n",
       "\n",
       "    .dataframe thead th {\n",
       "        text-align: right;\n",
       "    }\n",
       "</style>\n",
       "<table border=\"1\" class=\"dataframe\">\n",
       "  <thead>\n",
       "    <tr style=\"text-align: right;\">\n",
       "      <th></th>\n",
       "      <th>text</th>\n",
       "      <th>label</th>\n",
       "    </tr>\n",
       "  </thead>\n",
       "  <tbody>\n",
       "    <tr>\n",
       "      <th>0</th>\n",
       "      <td>завтра буду учить английский весь день</td>\n",
       "      <td>1</td>\n",
       "    </tr>\n",
       "    <tr>\n",
       "      <th>1</th>\n",
       "      <td>Завтра я пойду на работу</td>\n",
       "      <td>1</td>\n",
       "    </tr>\n",
       "    <tr>\n",
       "      <th>2</th>\n",
       "      <td>послезавтра мы планируем ехать на дачу</td>\n",
       "      <td>1</td>\n",
       "    </tr>\n",
       "    <tr>\n",
       "      <th>3</th>\n",
       "      <td>к вечеру я планирую закончить отчет</td>\n",
       "      <td>1</td>\n",
       "    </tr>\n",
       "    <tr>\n",
       "      <th>4</th>\n",
       "      <td>в воскресенье после обеда мы пойдем в ресторан</td>\n",
       "      <td>1</td>\n",
       "    </tr>\n",
       "    <tr>\n",
       "      <th>...</th>\n",
       "      <td>...</td>\n",
       "      <td>...</td>\n",
       "    </tr>\n",
       "    <tr>\n",
       "      <th>496</th>\n",
       "      <td>Мой отец увлекается историей автомобилей и кол...</td>\n",
       "      <td>0</td>\n",
       "    </tr>\n",
       "    <tr>\n",
       "      <th>497</th>\n",
       "      <td>Знакомый одноклассник работает в издательстве ...</td>\n",
       "      <td>0</td>\n",
       "    </tr>\n",
       "    <tr>\n",
       "      <th>498</th>\n",
       "      <td>Моя сестра изучает психологию и помогает людям...</td>\n",
       "      <td>0</td>\n",
       "    </tr>\n",
       "    <tr>\n",
       "      <th>499</th>\n",
       "      <td>Твой отец увлекается историей автомобилей и ко...</td>\n",
       "      <td>0</td>\n",
       "    </tr>\n",
       "    <tr>\n",
       "      <th>500</th>\n",
       "      <td>Мой друг работает в издательстве и помогает из...</td>\n",
       "      <td>0</td>\n",
       "    </tr>\n",
       "  </tbody>\n",
       "</table>\n",
       "<p>501 rows × 2 columns</p>\n",
       "</div>"
      ],
      "text/plain": [
       "                                                  text  label\n",
       "0               завтра буду учить английский весь день      1\n",
       "1                             Завтра я пойду на работу      1\n",
       "2               послезавтра мы планируем ехать на дачу      1\n",
       "3                  к вечеру я планирую закончить отчет      1\n",
       "4       в воскресенье после обеда мы пойдем в ресторан      1\n",
       "..                                                 ...    ...\n",
       "496  Мой отец увлекается историей автомобилей и кол...      0\n",
       "497  Знакомый одноклассник работает в издательстве ...      0\n",
       "498  Моя сестра изучает психологию и помогает людям...      0\n",
       "499  Твой отец увлекается историей автомобилей и ко...      0\n",
       "500  Мой друг работает в издательстве и помогает из...      0\n",
       "\n",
       "[501 rows x 2 columns]"
      ]
     },
     "execution_count": 495,
     "metadata": {},
     "output_type": "execute_result"
    }
   ],
   "source": [
    "df_manual"
   ]
  },
  {
   "attachments": {},
   "cell_type": "markdown",
   "metadata": {},
   "source": [
    "Разберем предложения с планами и выделим особенности, которые возможно понадобятся при обучении моделей"
   ]
  },
  {
   "attachments": {},
   "cell_type": "markdown",
   "metadata": {},
   "source": [
    "#### SpaCy"
   ]
  },
  {
   "cell_type": "code",
   "execution_count": 496,
   "metadata": {},
   "outputs": [
    {
     "data": {
      "text/html": [
       "<div>\n",
       "<style scoped>\n",
       "    .dataframe tbody tr th:only-of-type {\n",
       "        vertical-align: middle;\n",
       "    }\n",
       "\n",
       "    .dataframe tbody tr th {\n",
       "        vertical-align: top;\n",
       "    }\n",
       "\n",
       "    .dataframe thead th {\n",
       "        text-align: right;\n",
       "    }\n",
       "</style>\n",
       "<table border=\"1\" class=\"dataframe\">\n",
       "  <thead>\n",
       "    <tr style=\"text-align: right;\">\n",
       "      <th></th>\n",
       "      <th>Token</th>\n",
       "      <th>lemma</th>\n",
       "      <th>entity</th>\n",
       "      <th>full</th>\n",
       "      <th>entity</th>\n",
       "      <th>dep type</th>\n",
       "      <th>head</th>\n",
       "    </tr>\n",
       "  </thead>\n",
       "  <tbody>\n",
       "    <tr>\n",
       "      <th>0</th>\n",
       "      <td>завтра</td>\n",
       "      <td>завтра</td>\n",
       "      <td></td>\n",
       "      <td>ADV</td>\n",
       "      <td>ADV</td>\n",
       "      <td>advmod</td>\n",
       "      <td>учить</td>\n",
       "    </tr>\n",
       "    <tr>\n",
       "      <th>1</th>\n",
       "      <td>буду</td>\n",
       "      <td>буду</td>\n",
       "      <td></td>\n",
       "      <td>AUX</td>\n",
       "      <td>AUX</td>\n",
       "      <td>aux</td>\n",
       "      <td>учить</td>\n",
       "    </tr>\n",
       "    <tr>\n",
       "      <th>2</th>\n",
       "      <td>учить</td>\n",
       "      <td>учить</td>\n",
       "      <td></td>\n",
       "      <td>VERB</td>\n",
       "      <td>VERB</td>\n",
       "      <td>ROOT</td>\n",
       "      <td>учить</td>\n",
       "    </tr>\n",
       "    <tr>\n",
       "      <th>3</th>\n",
       "      <td>английский</td>\n",
       "      <td>английский</td>\n",
       "      <td></td>\n",
       "      <td>ADJ</td>\n",
       "      <td>ADJ</td>\n",
       "      <td>obj</td>\n",
       "      <td>учить</td>\n",
       "    </tr>\n",
       "    <tr>\n",
       "      <th>4</th>\n",
       "      <td>весь</td>\n",
       "      <td>весь</td>\n",
       "      <td></td>\n",
       "      <td>DET</td>\n",
       "      <td>DET</td>\n",
       "      <td>det</td>\n",
       "      <td>день</td>\n",
       "    </tr>\n",
       "    <tr>\n",
       "      <th>5</th>\n",
       "      <td>день</td>\n",
       "      <td>день</td>\n",
       "      <td></td>\n",
       "      <td>NOUN</td>\n",
       "      <td>NOUN</td>\n",
       "      <td>obl</td>\n",
       "      <td>учить</td>\n",
       "    </tr>\n",
       "  </tbody>\n",
       "</table>\n",
       "</div>"
      ],
      "text/plain": [
       "        Token       lemma entity  full entity dep type   head\n",
       "0      завтра      завтра          ADV    ADV   advmod  учить\n",
       "1        буду        буду          AUX    AUX      aux  учить\n",
       "2       учить       учить         VERB   VERB     ROOT  учить\n",
       "3  английский  английский          ADJ    ADJ      obj  учить\n",
       "4        весь        весь          DET    DET      det   день\n",
       "5        день        день         NOUN   NOUN      obl  учить"
      ]
     },
     "execution_count": 496,
     "metadata": {},
     "output_type": "execute_result"
    }
   ],
   "source": [
    "tags = []\n",
    "doc = nlp(df_manual.loc[0, \"text\"])\n",
    "for token in doc:\n",
    "    tags.append([token.text, token.lemma_, token.ent_type_, token.pos_, token.tag_, token.dep_, token.head])\n",
    "postok = {str(i): list(doc).index(i) for i in doc}\n",
    "pd.DataFrame(tags, columns = [\"Token\", \"lemma\", \"entity\", \"full\", \"entity\", \"dep type\", \"head\"])"
   ]
  },
  {
   "attachments": {},
   "cell_type": "markdown",
   "metadata": {},
   "source": [
    "#### MyStem"
   ]
  },
  {
   "cell_type": "code",
   "execution_count": 497,
   "metadata": {},
   "outputs": [
    {
     "data": {
      "text/plain": [
       "[{'analysis': [{'lex': 'завтра', 'wt': 0.9964678515, 'gr': 'ADV='}],\n",
       "  'text': 'завтра'},\n",
       " {'text': ' '},\n",
       " {'analysis': [{'lex': 'быть',\n",
       "    'wt': 0.8530947255,\n",
       "    'gr': 'V,нп=непрош,ед,изъяв,1-л'}],\n",
       "  'text': 'буду'},\n",
       " {'text': ' '},\n",
       " {'analysis': [{'lex': 'учить', 'wt': 1, 'gr': 'V,несов,пе=инф'}],\n",
       "  'text': 'учить'},\n",
       " {'text': ' '},\n",
       " {'analysis': [{'lex': 'английский',\n",
       "    'wt': 1,\n",
       "    'gr': 'A=(вин,ед,полн,муж,неод|им,ед,полн,муж)'}],\n",
       "  'text': 'английский'},\n",
       " {'text': ' '},\n",
       " {'analysis': [{'lex': 'весь',\n",
       "    'wt': 0.9978909737,\n",
       "    'gr': 'APRO=(вин,ед,муж,неод|им,ед,муж)'}],\n",
       "  'text': 'весь'},\n",
       " {'text': ' '},\n",
       " {'analysis': [{'lex': 'день',\n",
       "    'wt': 0.999920149,\n",
       "    'gr': 'S,муж,неод=(вин,ед|им,ед)'}],\n",
       "  'text': 'день'},\n",
       " {'text': '\\n'}]"
      ]
     },
     "execution_count": 497,
     "metadata": {},
     "output_type": "execute_result"
    }
   ],
   "source": [
    "stem = pymystem3.Mystem()\n",
    "stem.analyze(df_manual.loc[0, \"text\"])"
   ]
  },
  {
   "attachments": {},
   "cell_type": "markdown",
   "metadata": {},
   "source": [
    "#### Natasha"
   ]
  },
  {
   "cell_type": "code",
   "execution_count": 499,
   "metadata": {},
   "outputs": [],
   "source": [
    "from natasha import (\n",
    "    Segmenter,\n",
    "    MorphVocab,\n",
    "    NewsEmbedding,\n",
    "    NewsMorphTagger,\n",
    "    NewsSyntaxParser,\n",
    "    NewsNERTagger,\n",
    "    PER,\n",
    "    NamesExtractor,\n",
    "    Doc\n",
    ")\n",
    "\n",
    "\n",
    "segmenter = Segmenter()\n",
    "morph_vocab = MorphVocab()\n",
    "emb = NewsEmbedding()\n",
    "morph_tagger = NewsMorphTagger(emb)\n",
    "syntax_parser = NewsSyntaxParser(emb)\n",
    "ner_tagger = NewsNERTagger(emb)\n",
    "names_extractor = NamesExtractor(morph_vocab)\n",
    "text = df_manual.loc[23, \"text\"]\n",
    "doc = Doc(text)"
   ]
  },
  {
   "cell_type": "code",
   "execution_count": 500,
   "metadata": {},
   "outputs": [],
   "source": [
    "doc.segment(segmenter=segmenter)\n",
    "doc.tag_morph(tagger=morph_tagger)\n",
    "for token in doc.tokens:\n",
    "    token.lemmatize(morph_vocab)"
   ]
  },
  {
   "cell_type": "code",
   "execution_count": 501,
   "metadata": {},
   "outputs": [
    {
     "name": "stdout",
     "output_type": "stream",
     "text": [
      "                   Я PRON|Case=Nom|Number=Sing|Person=1\n",
      "               поеду VERB|Aspect=Perf|Mood=Ind|Number=Sing|Person=1|Tense=Fut|VerbForm=Fin|Voice=Act\n",
      "                   в ADP\n",
      "              отпуск NOUN|Animacy=Inan|Case=Acc|Gender=Masc|Number=Sing\n",
      "                этим DET|Case=Ins|Gender=Neut|Number=Sing\n",
      "               летом NOUN|Animacy=Inan|Case=Ins|Gender=Neut|Number=Sing\n",
      "                  На ADP\n",
      "                Бали PROPN|Animacy=Inan|Case=Loc|Gender=Masc|Number=Sing\n"
     ]
    }
   ],
   "source": [
    "doc.sents[0].morph.print()"
   ]
  },
  {
   "cell_type": "code",
   "execution_count": 502,
   "metadata": {},
   "outputs": [],
   "source": [
    "doc.tag_ner(ner_tagger)"
   ]
  },
  {
   "cell_type": "code",
   "execution_count": 503,
   "metadata": {},
   "outputs": [
    {
     "data": {
      "text/plain": [
       "NERMarkup(\n",
       "    text='Я поеду в отпуск этим летом На Бали',\n",
       "    spans=[Span(\n",
       "         start=31,\n",
       "         stop=35,\n",
       "         type='LOC'\n",
       "     )]\n",
       ")"
      ]
     },
     "execution_count": 503,
     "metadata": {},
     "output_type": "execute_result"
    }
   ],
   "source": [
    "doc.ner"
   ]
  },
  {
   "attachments": {},
   "cell_type": "markdown",
   "metadata": {},
   "source": [
    "У рута-глагола будет полезным выделить признак стоит ли глагол в Perfect времени"
   ]
  },
  {
   "cell_type": "code",
   "execution_count": 504,
   "metadata": {},
   "outputs": [
    {
     "data": {
      "text/plain": [
       "['Perf', 'Fut', 'Fin']"
      ]
     },
     "execution_count": 504,
     "metadata": {},
     "output_type": "execute_result"
    }
   ],
   "source": [
    "[doc.sents[0].morph.tokens[1].feats[\"Aspect\"],\n",
    "doc.sents[0].morph.tokens[1].feats[\"Tense\"], \n",
    "doc.sents[0].morph.tokens[1].feats[\"VerbForm\"]]"
   ]
  },
  {
   "attachments": {},
   "cell_type": "markdown",
   "metadata": {},
   "source": [
    "## ML модели"
   ]
  },
  {
   "attachments": {},
   "cell_type": "markdown",
   "metadata": {},
   "source": [
    "### BoW"
   ]
  },
  {
   "cell_type": "code",
   "execution_count": 505,
   "metadata": {},
   "outputs": [],
   "source": [
    "from sklearn.feature_extraction.text import CountVectorizer\n",
    "from sklearn.model_selection import train_test_split\n",
    "from sklearn.metrics import roc_auc_score"
   ]
  },
  {
   "attachments": {},
   "cell_type": "markdown",
   "metadata": {},
   "source": [
    "Выделяем леммы слов"
   ]
  },
  {
   "cell_type": "code",
   "execution_count": 506,
   "metadata": {},
   "outputs": [],
   "source": [
    "def preprocess(text):\n",
    "    lemmas = []\n",
    "    doc = nlp(text)\n",
    "    for tok in doc:\n",
    "        lemmas.append(tok.lemma_)\n",
    "    return \" \".join(lemmas)"
   ]
  },
  {
   "cell_type": "code",
   "execution_count": 507,
   "metadata": {},
   "outputs": [],
   "source": [
    "df_manual[\"lemmas\"] = df_manual[\"text\"].apply(lambda x: preprocess(x))\n",
    "model_bow = CountVectorizer()\n",
    "X = model_bow.fit_transform(df_manual.lemmas).toarray()\n",
    "y = df_manual.label\n",
    "x_train, x_test, y_train, y_test = train_test_split(X, y, shuffle=True)"
   ]
  },
  {
   "attachments": {},
   "cell_type": "markdown",
   "metadata": {},
   "source": [
    "Используем RandomForest для классификации"
   ]
  },
  {
   "cell_type": "code",
   "execution_count": 508,
   "metadata": {},
   "outputs": [
    {
     "data": {
      "text/html": [
       "<style>#sk-container-id-36 {color: black;background-color: white;}#sk-container-id-36 pre{padding: 0;}#sk-container-id-36 div.sk-toggleable {background-color: white;}#sk-container-id-36 label.sk-toggleable__label {cursor: pointer;display: block;width: 100%;margin-bottom: 0;padding: 0.3em;box-sizing: border-box;text-align: center;}#sk-container-id-36 label.sk-toggleable__label-arrow:before {content: \"▸\";float: left;margin-right: 0.25em;color: #696969;}#sk-container-id-36 label.sk-toggleable__label-arrow:hover:before {color: black;}#sk-container-id-36 div.sk-estimator:hover label.sk-toggleable__label-arrow:before {color: black;}#sk-container-id-36 div.sk-toggleable__content {max-height: 0;max-width: 0;overflow: hidden;text-align: left;background-color: #f0f8ff;}#sk-container-id-36 div.sk-toggleable__content pre {margin: 0.2em;color: black;border-radius: 0.25em;background-color: #f0f8ff;}#sk-container-id-36 input.sk-toggleable__control:checked~div.sk-toggleable__content {max-height: 200px;max-width: 100%;overflow: auto;}#sk-container-id-36 input.sk-toggleable__control:checked~label.sk-toggleable__label-arrow:before {content: \"▾\";}#sk-container-id-36 div.sk-estimator input.sk-toggleable__control:checked~label.sk-toggleable__label {background-color: #d4ebff;}#sk-container-id-36 div.sk-label input.sk-toggleable__control:checked~label.sk-toggleable__label {background-color: #d4ebff;}#sk-container-id-36 input.sk-hidden--visually {border: 0;clip: rect(1px 1px 1px 1px);clip: rect(1px, 1px, 1px, 1px);height: 1px;margin: -1px;overflow: hidden;padding: 0;position: absolute;width: 1px;}#sk-container-id-36 div.sk-estimator {font-family: monospace;background-color: #f0f8ff;border: 1px dotted black;border-radius: 0.25em;box-sizing: border-box;margin-bottom: 0.5em;}#sk-container-id-36 div.sk-estimator:hover {background-color: #d4ebff;}#sk-container-id-36 div.sk-parallel-item::after {content: \"\";width: 100%;border-bottom: 1px solid gray;flex-grow: 1;}#sk-container-id-36 div.sk-label:hover label.sk-toggleable__label {background-color: #d4ebff;}#sk-container-id-36 div.sk-serial::before {content: \"\";position: absolute;border-left: 1px solid gray;box-sizing: border-box;top: 0;bottom: 0;left: 50%;z-index: 0;}#sk-container-id-36 div.sk-serial {display: flex;flex-direction: column;align-items: center;background-color: white;padding-right: 0.2em;padding-left: 0.2em;position: relative;}#sk-container-id-36 div.sk-item {position: relative;z-index: 1;}#sk-container-id-36 div.sk-parallel {display: flex;align-items: stretch;justify-content: center;background-color: white;position: relative;}#sk-container-id-36 div.sk-item::before, #sk-container-id-36 div.sk-parallel-item::before {content: \"\";position: absolute;border-left: 1px solid gray;box-sizing: border-box;top: 0;bottom: 0;left: 50%;z-index: -1;}#sk-container-id-36 div.sk-parallel-item {display: flex;flex-direction: column;z-index: 1;position: relative;background-color: white;}#sk-container-id-36 div.sk-parallel-item:first-child::after {align-self: flex-end;width: 50%;}#sk-container-id-36 div.sk-parallel-item:last-child::after {align-self: flex-start;width: 50%;}#sk-container-id-36 div.sk-parallel-item:only-child::after {width: 0;}#sk-container-id-36 div.sk-dashed-wrapped {border: 1px dashed gray;margin: 0 0.4em 0.5em 0.4em;box-sizing: border-box;padding-bottom: 0.4em;background-color: white;}#sk-container-id-36 div.sk-label label {font-family: monospace;font-weight: bold;display: inline-block;line-height: 1.2em;}#sk-container-id-36 div.sk-label-container {text-align: center;}#sk-container-id-36 div.sk-container {/* jupyter's `normalize.less` sets `[hidden] { display: none; }` but bootstrap.min.css set `[hidden] { display: none !important; }` so we also need the `!important` here to be able to override the default hidden behavior on the sphinx rendered scikit-learn.org. See: https://github.com/scikit-learn/scikit-learn/issues/21755 */display: inline-block !important;position: relative;}#sk-container-id-36 div.sk-text-repr-fallback {display: none;}</style><div id=\"sk-container-id-36\" class=\"sk-top-container\"><div class=\"sk-text-repr-fallback\"><pre>RandomForestClassifier()</pre><b>In a Jupyter environment, please rerun this cell to show the HTML representation or trust the notebook. <br />On GitHub, the HTML representation is unable to render, please try loading this page with nbviewer.org.</b></div><div class=\"sk-container\" hidden><div class=\"sk-item\"><div class=\"sk-estimator sk-toggleable\"><input class=\"sk-toggleable__control sk-hidden--visually\" id=\"sk-estimator-id-36\" type=\"checkbox\" checked><label for=\"sk-estimator-id-36\" class=\"sk-toggleable__label sk-toggleable__label-arrow\">RandomForestClassifier</label><div class=\"sk-toggleable__content\"><pre>RandomForestClassifier()</pre></div></div></div></div></div>"
      ],
      "text/plain": [
       "RandomForestClassifier()"
      ]
     },
     "execution_count": 508,
     "metadata": {},
     "output_type": "execute_result"
    }
   ],
   "source": [
    "model_rfr = RandomForestClassifier()\n",
    "model_rfr.fit(x_train, y_train)"
   ]
  },
  {
   "attachments": {},
   "cell_type": "markdown",
   "metadata": {},
   "source": [
    "Оценивать модели будем путем деления выборки на обучающую и тестирующую часть. Будем использовать Accuracy, F1, площадь под ROC кривой"
   ]
  },
  {
   "cell_type": "code",
   "execution_count": 509,
   "metadata": {},
   "outputs": [
    {
     "name": "stdout",
     "output_type": "stream",
     "text": [
      "Random Forest Classifier\n",
      "              precision    recall  f1-score   support\n",
      "\n",
      "           0       0.97      0.69      0.80        48\n",
      "           1       0.84      0.99      0.91        78\n",
      "\n",
      "    accuracy                           0.87       126\n",
      "   macro avg       0.90      0.84      0.86       126\n",
      "weighted avg       0.89      0.87      0.87       126\n",
      "\n",
      "Test ROC AUC: 0.8373397435897436\n"
     ]
    }
   ],
   "source": [
    "from sklearn.metrics import classification_report\n",
    "y_pred = model_rfr.predict(x_test)\n",
    "print(\"Random Forest Classifier\")\n",
    "print(classification_report(y_test, y_pred))\n",
    "print(f\"Test ROC AUC: {roc_auc_score(y_test, y_pred)}\")"
   ]
  },
  {
   "attachments": {},
   "cell_type": "markdown",
   "metadata": {},
   "source": [
    "И протестируем более сложную модель - градиентный бустинг (sklearn)"
   ]
  },
  {
   "cell_type": "code",
   "execution_count": 510,
   "metadata": {},
   "outputs": [
    {
     "data": {
      "text/html": [
       "<style>#sk-container-id-37 {color: black;background-color: white;}#sk-container-id-37 pre{padding: 0;}#sk-container-id-37 div.sk-toggleable {background-color: white;}#sk-container-id-37 label.sk-toggleable__label {cursor: pointer;display: block;width: 100%;margin-bottom: 0;padding: 0.3em;box-sizing: border-box;text-align: center;}#sk-container-id-37 label.sk-toggleable__label-arrow:before {content: \"▸\";float: left;margin-right: 0.25em;color: #696969;}#sk-container-id-37 label.sk-toggleable__label-arrow:hover:before {color: black;}#sk-container-id-37 div.sk-estimator:hover label.sk-toggleable__label-arrow:before {color: black;}#sk-container-id-37 div.sk-toggleable__content {max-height: 0;max-width: 0;overflow: hidden;text-align: left;background-color: #f0f8ff;}#sk-container-id-37 div.sk-toggleable__content pre {margin: 0.2em;color: black;border-radius: 0.25em;background-color: #f0f8ff;}#sk-container-id-37 input.sk-toggleable__control:checked~div.sk-toggleable__content {max-height: 200px;max-width: 100%;overflow: auto;}#sk-container-id-37 input.sk-toggleable__control:checked~label.sk-toggleable__label-arrow:before {content: \"▾\";}#sk-container-id-37 div.sk-estimator input.sk-toggleable__control:checked~label.sk-toggleable__label {background-color: #d4ebff;}#sk-container-id-37 div.sk-label input.sk-toggleable__control:checked~label.sk-toggleable__label {background-color: #d4ebff;}#sk-container-id-37 input.sk-hidden--visually {border: 0;clip: rect(1px 1px 1px 1px);clip: rect(1px, 1px, 1px, 1px);height: 1px;margin: -1px;overflow: hidden;padding: 0;position: absolute;width: 1px;}#sk-container-id-37 div.sk-estimator {font-family: monospace;background-color: #f0f8ff;border: 1px dotted black;border-radius: 0.25em;box-sizing: border-box;margin-bottom: 0.5em;}#sk-container-id-37 div.sk-estimator:hover {background-color: #d4ebff;}#sk-container-id-37 div.sk-parallel-item::after {content: \"\";width: 100%;border-bottom: 1px solid gray;flex-grow: 1;}#sk-container-id-37 div.sk-label:hover label.sk-toggleable__label {background-color: #d4ebff;}#sk-container-id-37 div.sk-serial::before {content: \"\";position: absolute;border-left: 1px solid gray;box-sizing: border-box;top: 0;bottom: 0;left: 50%;z-index: 0;}#sk-container-id-37 div.sk-serial {display: flex;flex-direction: column;align-items: center;background-color: white;padding-right: 0.2em;padding-left: 0.2em;position: relative;}#sk-container-id-37 div.sk-item {position: relative;z-index: 1;}#sk-container-id-37 div.sk-parallel {display: flex;align-items: stretch;justify-content: center;background-color: white;position: relative;}#sk-container-id-37 div.sk-item::before, #sk-container-id-37 div.sk-parallel-item::before {content: \"\";position: absolute;border-left: 1px solid gray;box-sizing: border-box;top: 0;bottom: 0;left: 50%;z-index: -1;}#sk-container-id-37 div.sk-parallel-item {display: flex;flex-direction: column;z-index: 1;position: relative;background-color: white;}#sk-container-id-37 div.sk-parallel-item:first-child::after {align-self: flex-end;width: 50%;}#sk-container-id-37 div.sk-parallel-item:last-child::after {align-self: flex-start;width: 50%;}#sk-container-id-37 div.sk-parallel-item:only-child::after {width: 0;}#sk-container-id-37 div.sk-dashed-wrapped {border: 1px dashed gray;margin: 0 0.4em 0.5em 0.4em;box-sizing: border-box;padding-bottom: 0.4em;background-color: white;}#sk-container-id-37 div.sk-label label {font-family: monospace;font-weight: bold;display: inline-block;line-height: 1.2em;}#sk-container-id-37 div.sk-label-container {text-align: center;}#sk-container-id-37 div.sk-container {/* jupyter's `normalize.less` sets `[hidden] { display: none; }` but bootstrap.min.css set `[hidden] { display: none !important; }` so we also need the `!important` here to be able to override the default hidden behavior on the sphinx rendered scikit-learn.org. See: https://github.com/scikit-learn/scikit-learn/issues/21755 */display: inline-block !important;position: relative;}#sk-container-id-37 div.sk-text-repr-fallback {display: none;}</style><div id=\"sk-container-id-37\" class=\"sk-top-container\"><div class=\"sk-text-repr-fallback\"><pre>GradientBoostingClassifier()</pre><b>In a Jupyter environment, please rerun this cell to show the HTML representation or trust the notebook. <br />On GitHub, the HTML representation is unable to render, please try loading this page with nbviewer.org.</b></div><div class=\"sk-container\" hidden><div class=\"sk-item\"><div class=\"sk-estimator sk-toggleable\"><input class=\"sk-toggleable__control sk-hidden--visually\" id=\"sk-estimator-id-37\" type=\"checkbox\" checked><label for=\"sk-estimator-id-37\" class=\"sk-toggleable__label sk-toggleable__label-arrow\">GradientBoostingClassifier</label><div class=\"sk-toggleable__content\"><pre>GradientBoostingClassifier()</pre></div></div></div></div></div>"
      ],
      "text/plain": [
       "GradientBoostingClassifier()"
      ]
     },
     "execution_count": 510,
     "metadata": {},
     "output_type": "execute_result"
    }
   ],
   "source": [
    "from sklearn.ensemble import GradientBoostingClassifier\n",
    "model_gb = GradientBoostingClassifier()\n",
    "model_gb.fit(x_train, y_train)"
   ]
  },
  {
   "cell_type": "code",
   "execution_count": 511,
   "metadata": {},
   "outputs": [
    {
     "name": "stdout",
     "output_type": "stream",
     "text": [
      "Gradient Boosting\n",
      "              precision    recall  f1-score   support\n",
      "\n",
      "           0       0.85      0.83      0.84        48\n",
      "           1       0.90      0.91      0.90        78\n",
      "\n",
      "    accuracy                           0.88       126\n",
      "   macro avg       0.87      0.87      0.87       126\n",
      "weighted avg       0.88      0.88      0.88       126\n",
      "\n",
      "Test ROC AUC: 0.8717948717948717\n"
     ]
    }
   ],
   "source": [
    "from sklearn.metrics import classification_report\n",
    "y_pred = model_gb.predict(x_test)\n",
    "print(\"Gradient Boosting\")\n",
    "print(classification_report(y_test, y_pred))\n",
    "print(f\"Test ROC AUC: {roc_auc_score(y_test, y_pred)}\")"
   ]
  },
  {
   "attachments": {},
   "cell_type": "markdown",
   "metadata": {},
   "source": [
    "### Word2Vec"
   ]
  },
  {
   "cell_type": "code",
   "execution_count": 513,
   "metadata": {},
   "outputs": [],
   "source": [
    "x_train, x_test, y_train, y_test = train_test_split(df_manual[\"lemmas\"], df_manual[\"label\"])"
   ]
  },
  {
   "attachments": {},
   "cell_type": "markdown",
   "metadata": {},
   "source": [
    "Будем использовать токенизатор keras"
   ]
  },
  {
   "cell_type": "code",
   "execution_count": 514,
   "metadata": {},
   "outputs": [],
   "source": [
    "from keras.preprocessing.text import Tokenizer\n",
    "from keras.utils import pad_sequences\n",
    "import tensorflow as tf\n",
    "\n",
    "SENTENCE_LENGTH = 20\n",
    "NUM = 200\n",
    "\n",
    "def get_sequences(tokenizer, x):\n",
    "    sequences = tokenizer.texts_to_sequences(x)\n",
    "    return pad_sequences(sequences, maxlen=SENTENCE_LENGTH)\n",
    "\n",
    "tokenizer = Tokenizer(num_words=NUM)\n",
    "tokenizer.fit_on_texts(x_train)\n",
    "\n",
    "# Отображаем каждый текст в массив идентификаторов токенов\n",
    "x_train_seq = get_sequences(tokenizer, x_train)\n",
    "x_test_seq = get_sequences(tokenizer, x_test)"
   ]
  },
  {
   "attachments": {},
   "cell_type": "markdown",
   "metadata": {},
   "source": [
    "Сделаем нейросеть из 15 ядер свертки с различными конфигурациями с GlobalMaxPooling, а из выводы подадим полносвязному слою.\n",
    "Ембеддинг возьмем стандартный из библиотеки keras"
   ]
  },
  {
   "cell_type": "code",
   "execution_count": 515,
   "metadata": {},
   "outputs": [
    {
     "name": "stdout",
     "output_type": "stream",
     "text": [
      "Model: \"model_27\"\n",
      "__________________________________________________________________________________________________\n",
      " Layer (type)                   Output Shape         Param #     Connected to                     \n",
      "==================================================================================================\n",
      " input_33 (InputLayer)          [(None, 20)]         0           []                               \n",
      "                                                                                                  \n",
      " embedding_32 (Embedding)       (None, 20, 50)       10000       ['input_33[0][0]']               \n",
      "                                                                                                  \n",
      " conv1d_801 (Conv1D)            (None, 19, 1)        101         ['embedding_32[0][0]']           \n",
      "                                                                                                  \n",
      " conv1d_802 (Conv1D)            (None, 19, 1)        101         ['embedding_32[0][0]']           \n",
      "                                                                                                  \n",
      " conv1d_803 (Conv1D)            (None, 19, 1)        101         ['embedding_32[0][0]']           \n",
      "                                                                                                  \n",
      " conv1d_804 (Conv1D)            (None, 19, 1)        101         ['embedding_32[0][0]']           \n",
      "                                                                                                  \n",
      " conv1d_805 (Conv1D)            (None, 19, 1)        101         ['embedding_32[0][0]']           \n",
      "                                                                                                  \n",
      " conv1d_806 (Conv1D)            (None, 18, 1)        151         ['embedding_32[0][0]']           \n",
      "                                                                                                  \n",
      " conv1d_807 (Conv1D)            (None, 18, 1)        151         ['embedding_32[0][0]']           \n",
      "                                                                                                  \n",
      " conv1d_808 (Conv1D)            (None, 18, 1)        151         ['embedding_32[0][0]']           \n",
      "                                                                                                  \n",
      " conv1d_809 (Conv1D)            (None, 18, 1)        151         ['embedding_32[0][0]']           \n",
      "                                                                                                  \n",
      " conv1d_810 (Conv1D)            (None, 18, 1)        151         ['embedding_32[0][0]']           \n",
      "                                                                                                  \n",
      " conv1d_811 (Conv1D)            (None, 17, 1)        201         ['embedding_32[0][0]']           \n",
      "                                                                                                  \n",
      " conv1d_812 (Conv1D)            (None, 17, 1)        201         ['embedding_32[0][0]']           \n",
      "                                                                                                  \n",
      " conv1d_813 (Conv1D)            (None, 17, 1)        201         ['embedding_32[0][0]']           \n",
      "                                                                                                  \n",
      " conv1d_814 (Conv1D)            (None, 17, 1)        201         ['embedding_32[0][0]']           \n",
      "                                                                                                  \n",
      " conv1d_815 (Conv1D)            (None, 17, 1)        201         ['embedding_32[0][0]']           \n",
      "                                                                                                  \n",
      " global_max_pooling1d_798 (Glob  (None, 1)           0           ['conv1d_801[0][0]']             \n",
      " alMaxPooling1D)                                                                                  \n",
      "                                                                                                  \n",
      " global_max_pooling1d_799 (Glob  (None, 1)           0           ['conv1d_802[0][0]']             \n",
      " alMaxPooling1D)                                                                                  \n",
      "                                                                                                  \n",
      " global_max_pooling1d_800 (Glob  (None, 1)           0           ['conv1d_803[0][0]']             \n",
      " alMaxPooling1D)                                                                                  \n",
      "                                                                                                  \n",
      " global_max_pooling1d_801 (Glob  (None, 1)           0           ['conv1d_804[0][0]']             \n",
      " alMaxPooling1D)                                                                                  \n",
      "                                                                                                  \n",
      " global_max_pooling1d_802 (Glob  (None, 1)           0           ['conv1d_805[0][0]']             \n",
      " alMaxPooling1D)                                                                                  \n",
      "                                                                                                  \n",
      " global_max_pooling1d_803 (Glob  (None, 1)           0           ['conv1d_806[0][0]']             \n",
      " alMaxPooling1D)                                                                                  \n",
      "                                                                                                  \n",
      " global_max_pooling1d_804 (Glob  (None, 1)           0           ['conv1d_807[0][0]']             \n",
      " alMaxPooling1D)                                                                                  \n",
      "                                                                                                  \n",
      " global_max_pooling1d_805 (Glob  (None, 1)           0           ['conv1d_808[0][0]']             \n",
      " alMaxPooling1D)                                                                                  \n",
      "                                                                                                  \n",
      " global_max_pooling1d_806 (Glob  (None, 1)           0           ['conv1d_809[0][0]']             \n",
      " alMaxPooling1D)                                                                                  \n",
      "                                                                                                  \n",
      " global_max_pooling1d_807 (Glob  (None, 1)           0           ['conv1d_810[0][0]']             \n",
      " alMaxPooling1D)                                                                                  \n",
      "                                                                                                  \n",
      " global_max_pooling1d_808 (Glob  (None, 1)           0           ['conv1d_811[0][0]']             \n",
      " alMaxPooling1D)                                                                                  \n",
      "                                                                                                  \n",
      " global_max_pooling1d_809 (Glob  (None, 1)           0           ['conv1d_812[0][0]']             \n",
      " alMaxPooling1D)                                                                                  \n",
      "                                                                                                  \n",
      " global_max_pooling1d_810 (Glob  (None, 1)           0           ['conv1d_813[0][0]']             \n",
      " alMaxPooling1D)                                                                                  \n",
      "                                                                                                  \n",
      " global_max_pooling1d_811 (Glob  (None, 1)           0           ['conv1d_814[0][0]']             \n",
      " alMaxPooling1D)                                                                                  \n",
      "                                                                                                  \n",
      " global_max_pooling1d_812 (Glob  (None, 1)           0           ['conv1d_815[0][0]']             \n",
      " alMaxPooling1D)                                                                                  \n",
      "                                                                                                  \n",
      " concatenate_29 (Concatenate)   (None, 15)           0           ['global_max_pooling1d_798[0][0]'\n",
      "                                                                 , 'global_max_pooling1d_799[0][0]\n",
      "                                                                 ',                               \n",
      "                                                                  'global_max_pooling1d_800[0][0]'\n",
      "                                                                 , 'global_max_pooling1d_801[0][0]\n",
      "                                                                 ',                               \n",
      "                                                                  'global_max_pooling1d_802[0][0]'\n",
      "                                                                 , 'global_max_pooling1d_803[0][0]\n",
      "                                                                 ',                               \n",
      "                                                                  'global_max_pooling1d_804[0][0]'\n",
      "                                                                 , 'global_max_pooling1d_805[0][0]\n",
      "                                                                 ',                               \n",
      "                                                                  'global_max_pooling1d_806[0][0]'\n",
      "                                                                 , 'global_max_pooling1d_807[0][0]\n",
      "                                                                 ',                               \n",
      "                                                                  'global_max_pooling1d_808[0][0]'\n",
      "                                                                 , 'global_max_pooling1d_809[0][0]\n",
      "                                                                 ',                               \n",
      "                                                                  'global_max_pooling1d_810[0][0]'\n",
      "                                                                 , 'global_max_pooling1d_811[0][0]\n",
      "                                                                 ',                               \n",
      "                                                                  'global_max_pooling1d_812[0][0]'\n",
      "                                                                 ]                                \n",
      "                                                                                                  \n",
      " dropout_35 (Dropout)           (None, 15)           0           ['concatenate_29[0][0]']         \n",
      "                                                                                                  \n",
      " dense_60 (Dense)               (None, 16)           256         ['dropout_35[0][0]']             \n",
      "                                                                                                  \n",
      " dense_61 (Dense)               (None, 1)            17          ['dense_60[0][0]']               \n",
      "                                                                                                  \n",
      "==================================================================================================\n",
      "Total params: 12,538\n",
      "Trainable params: 12,538\n",
      "Non-trainable params: 0\n",
      "__________________________________________________________________________________________________\n"
     ]
    }
   ],
   "source": [
    "from keras.layers import Input, Embedding, Dropout, Conv1D, Activation, Dense, GlobalMaxPooling1D, concatenate\n",
    "from keras.models import Model\n",
    "from keras.optimizers import Adam\n",
    "from keras.losses import BinaryCrossentropy\n",
    "\n",
    "input_layer = Input(shape=(SENTENCE_LENGTH,), dtype='int32')\n",
    "x = Embedding(NUM, 50, input_length=SENTENCE_LENGTH,trainable=True)(input_layer)\n",
    "branches =  []\n",
    "\n",
    "for size in range(2, 5):\n",
    "    for i in range(5):\n",
    "        branch = Conv1D(filters=1, kernel_size=size, padding='valid', activation='relu')(x)\n",
    "        branch = GlobalMaxPooling1D()(branch)\n",
    "        branches.append(branch)\n",
    "\n",
    "x = concatenate(branches, axis=1)\n",
    "x = Dropout(0.25)(x)\n",
    "x = Dense(16, activation='relu')(x)\n",
    "output = Dense(1, activation='sigmoid')(x)\n",
    "\n",
    "model_w2v = Model(inputs=[input_layer], outputs=[output])\n",
    "\n",
    "model_w2v.compile(loss=BinaryCrossentropy(), optimizer=Adam(), metrics=['accuracy'])\n",
    "model_w2v.summary()      "
   ]
  },
  {
   "cell_type": "code",
   "execution_count": 516,
   "metadata": {},
   "outputs": [
    {
     "name": "stdout",
     "output_type": "stream",
     "text": [
      "Epoch 1/60\n",
      "10/10 [==============================] - 8s 171ms/step - loss: 0.6881 - accuracy: 0.5367 - val_loss: 0.6731 - val_accuracy: 0.6400\n",
      "Epoch 2/60\n",
      "10/10 [==============================] - 1s 60ms/step - loss: 0.6674 - accuracy: 0.6267 - val_loss: 0.6534 - val_accuracy: 0.6400\n",
      "Epoch 3/60\n",
      "10/10 [==============================] - 1s 58ms/step - loss: 0.6479 - accuracy: 0.6267 - val_loss: 0.6310 - val_accuracy: 0.6400\n",
      "Epoch 4/60\n",
      "10/10 [==============================] - 1s 61ms/step - loss: 0.6158 - accuracy: 0.6400 - val_loss: 0.6033 - val_accuracy: 0.6400\n",
      "Epoch 5/60\n",
      "10/10 [==============================] - 1s 62ms/step - loss: 0.5863 - accuracy: 0.6700 - val_loss: 0.5680 - val_accuracy: 0.6800\n",
      "Epoch 6/60\n",
      "10/10 [==============================] - 1s 57ms/step - loss: 0.5406 - accuracy: 0.7400 - val_loss: 0.5241 - val_accuracy: 0.7600\n",
      "Epoch 7/60\n",
      "10/10 [==============================] - 1s 61ms/step - loss: 0.4904 - accuracy: 0.8067 - val_loss: 0.4769 - val_accuracy: 0.8667\n",
      "Epoch 8/60\n",
      "10/10 [==============================] - 1s 59ms/step - loss: 0.4369 - accuracy: 0.8400 - val_loss: 0.4272 - val_accuracy: 0.8800\n",
      "Epoch 9/60\n",
      "10/10 [==============================] - 1s 60ms/step - loss: 0.3898 - accuracy: 0.8700 - val_loss: 0.3819 - val_accuracy: 0.8933\n",
      "Epoch 10/60\n",
      "10/10 [==============================] - 1s 61ms/step - loss: 0.3237 - accuracy: 0.9133 - val_loss: 0.3411 - val_accuracy: 0.9067\n",
      "Epoch 11/60\n",
      "10/10 [==============================] - 1s 66ms/step - loss: 0.2630 - accuracy: 0.9333 - val_loss: 0.3056 - val_accuracy: 0.9200\n",
      "Epoch 12/60\n",
      "10/10 [==============================] - 1s 59ms/step - loss: 0.2444 - accuracy: 0.9467 - val_loss: 0.2847 - val_accuracy: 0.9200\n",
      "Epoch 13/60\n",
      "10/10 [==============================] - 1s 60ms/step - loss: 0.2011 - accuracy: 0.9567 - val_loss: 0.2655 - val_accuracy: 0.9200\n",
      "Epoch 14/60\n",
      "10/10 [==============================] - 1s 61ms/step - loss: 0.1767 - accuracy: 0.9700 - val_loss: 0.2492 - val_accuracy: 0.9067\n",
      "Epoch 15/60\n",
      "10/10 [==============================] - 1s 60ms/step - loss: 0.1389 - accuracy: 0.9767 - val_loss: 0.2518 - val_accuracy: 0.9067\n",
      "Epoch 16/60\n",
      "10/10 [==============================] - 1s 61ms/step - loss: 0.1160 - accuracy: 0.9867 - val_loss: 0.2578 - val_accuracy: 0.9067\n",
      "Epoch 17/60\n",
      "10/10 [==============================] - 1s 66ms/step - loss: 0.1120 - accuracy: 0.9833 - val_loss: 0.2568 - val_accuracy: 0.9067\n",
      "Epoch 18/60\n",
      "10/10 [==============================] - 1s 61ms/step - loss: 0.1098 - accuracy: 0.9733 - val_loss: 0.2442 - val_accuracy: 0.9067\n",
      "Epoch 19/60\n",
      "10/10 [==============================] - 1s 58ms/step - loss: 0.0840 - accuracy: 0.9867 - val_loss: 0.2480 - val_accuracy: 0.9067\n",
      "Epoch 20/60\n",
      "10/10 [==============================] - 1s 56ms/step - loss: 0.0820 - accuracy: 0.9800 - val_loss: 0.2556 - val_accuracy: 0.9067\n",
      "Epoch 21/60\n",
      "10/10 [==============================] - 1s 59ms/step - loss: 0.0607 - accuracy: 0.9900 - val_loss: 0.2777 - val_accuracy: 0.9067\n",
      "Epoch 22/60\n",
      "10/10 [==============================] - 1s 60ms/step - loss: 0.0590 - accuracy: 0.9900 - val_loss: 0.2931 - val_accuracy: 0.8933\n",
      "Epoch 23/60\n",
      "10/10 [==============================] - 1s 64ms/step - loss: 0.0704 - accuracy: 0.9867 - val_loss: 0.2898 - val_accuracy: 0.8933\n",
      "Epoch 24/60\n",
      "10/10 [==============================] - 1s 61ms/step - loss: 0.0540 - accuracy: 0.9933 - val_loss: 0.2871 - val_accuracy: 0.9067\n",
      "Epoch 25/60\n",
      "10/10 [==============================] - 1s 58ms/step - loss: 0.0601 - accuracy: 0.9900 - val_loss: 0.2825 - val_accuracy: 0.9067\n"
     ]
    }
   ],
   "source": [
    "early_stop = tf.keras.callbacks.EarlyStopping(monitor='val_loss', patience=7, verbose=0, mode='auto')\n",
    "\n",
    "history_w2v = model_w2v.fit(x_train_seq, y_train, validation_split=0.2, epochs=60,callbacks=early_stop)"
   ]
  },
  {
   "cell_type": "code",
   "execution_count": 517,
   "metadata": {},
   "outputs": [
    {
     "name": "stdout",
     "output_type": "stream",
     "text": [
      "4/4 [==============================] - 1s 7ms/step\n",
      "CNN - 15 conv layers\n",
      "              precision    recall  f1-score   support\n",
      "\n",
      "           0       0.91      0.86      0.89        59\n",
      "           1       0.89      0.93      0.91        67\n",
      "\n",
      "    accuracy                           0.90       126\n",
      "   macro avg       0.90      0.89      0.90       126\n",
      "weighted avg       0.90      0.90      0.90       126\n",
      "\n",
      "Test ROC AUC: 0.8948899569946877\n"
     ]
    }
   ],
   "source": [
    "y_pred = np.array(model_w2v.predict(x_test_seq) > 0.5)\n",
    "print(\"CNN - 15 conv layers\")\n",
    "print(classification_report(y_test, y_pred))\n",
    "print(f\"Test ROC AUC: {roc_auc_score(y_test, y_pred)}\")"
   ]
  },
  {
   "attachments": {},
   "cell_type": "markdown",
   "metadata": {},
   "source": [
    "Попробуем увеличить количество ядер свертки до 48"
   ]
  },
  {
   "cell_type": "code",
   "execution_count": 518,
   "metadata": {},
   "outputs": [
    {
     "name": "stdout",
     "output_type": "stream",
     "text": [
      "Model: \"model_28\"\n",
      "__________________________________________________________________________________________________\n",
      " Layer (type)                   Output Shape         Param #     Connected to                     \n",
      "==================================================================================================\n",
      " input_34 (InputLayer)          [(None, 20)]         0           []                               \n",
      "                                                                                                  \n",
      " embedding_33 (Embedding)       (None, 20, 50)       10000       ['input_34[0][0]']               \n",
      "                                                                                                  \n",
      " conv1d_816 (Conv1D)            (None, 19, 5)        505         ['embedding_33[0][0]']           \n",
      "                                                                                                  \n",
      " conv1d_817 (Conv1D)            (None, 19, 5)        505         ['embedding_33[0][0]']           \n",
      "                                                                                                  \n",
      " conv1d_818 (Conv1D)            (None, 19, 5)        505         ['embedding_33[0][0]']           \n",
      "                                                                                                  \n",
      " conv1d_819 (Conv1D)            (None, 19, 5)        505         ['embedding_33[0][0]']           \n",
      "                                                                                                  \n",
      " conv1d_820 (Conv1D)            (None, 19, 5)        505         ['embedding_33[0][0]']           \n",
      "                                                                                                  \n",
      " conv1d_821 (Conv1D)            (None, 19, 5)        505         ['embedding_33[0][0]']           \n",
      "                                                                                                  \n",
      " conv1d_822 (Conv1D)            (None, 19, 5)        505         ['embedding_33[0][0]']           \n",
      "                                                                                                  \n",
      " conv1d_823 (Conv1D)            (None, 19, 5)        505         ['embedding_33[0][0]']           \n",
      "                                                                                                  \n",
      " conv1d_824 (Conv1D)            (None, 19, 5)        505         ['embedding_33[0][0]']           \n",
      "                                                                                                  \n",
      " conv1d_825 (Conv1D)            (None, 19, 5)        505         ['embedding_33[0][0]']           \n",
      "                                                                                                  \n",
      " conv1d_826 (Conv1D)            (None, 19, 5)        505         ['embedding_33[0][0]']           \n",
      "                                                                                                  \n",
      " conv1d_827 (Conv1D)            (None, 19, 5)        505         ['embedding_33[0][0]']           \n",
      "                                                                                                  \n",
      " conv1d_828 (Conv1D)            (None, 19, 5)        505         ['embedding_33[0][0]']           \n",
      "                                                                                                  \n",
      " conv1d_829 (Conv1D)            (None, 19, 5)        505         ['embedding_33[0][0]']           \n",
      "                                                                                                  \n",
      " conv1d_830 (Conv1D)            (None, 19, 5)        505         ['embedding_33[0][0]']           \n",
      "                                                                                                  \n",
      " conv1d_831 (Conv1D)            (None, 19, 5)        505         ['embedding_33[0][0]']           \n",
      "                                                                                                  \n",
      " conv1d_832 (Conv1D)            (None, 18, 5)        755         ['embedding_33[0][0]']           \n",
      "                                                                                                  \n",
      " conv1d_833 (Conv1D)            (None, 18, 5)        755         ['embedding_33[0][0]']           \n",
      "                                                                                                  \n",
      " conv1d_834 (Conv1D)            (None, 18, 5)        755         ['embedding_33[0][0]']           \n",
      "                                                                                                  \n",
      " conv1d_835 (Conv1D)            (None, 18, 5)        755         ['embedding_33[0][0]']           \n",
      "                                                                                                  \n",
      " conv1d_836 (Conv1D)            (None, 18, 5)        755         ['embedding_33[0][0]']           \n",
      "                                                                                                  \n",
      " conv1d_837 (Conv1D)            (None, 18, 5)        755         ['embedding_33[0][0]']           \n",
      "                                                                                                  \n",
      " conv1d_838 (Conv1D)            (None, 18, 5)        755         ['embedding_33[0][0]']           \n",
      "                                                                                                  \n",
      " conv1d_839 (Conv1D)            (None, 18, 5)        755         ['embedding_33[0][0]']           \n",
      "                                                                                                  \n",
      " conv1d_840 (Conv1D)            (None, 18, 5)        755         ['embedding_33[0][0]']           \n",
      "                                                                                                  \n",
      " conv1d_841 (Conv1D)            (None, 18, 5)        755         ['embedding_33[0][0]']           \n",
      "                                                                                                  \n",
      " conv1d_842 (Conv1D)            (None, 18, 5)        755         ['embedding_33[0][0]']           \n",
      "                                                                                                  \n",
      " conv1d_843 (Conv1D)            (None, 18, 5)        755         ['embedding_33[0][0]']           \n",
      "                                                                                                  \n",
      " conv1d_844 (Conv1D)            (None, 18, 5)        755         ['embedding_33[0][0]']           \n",
      "                                                                                                  \n",
      " conv1d_845 (Conv1D)            (None, 18, 5)        755         ['embedding_33[0][0]']           \n",
      "                                                                                                  \n",
      " conv1d_846 (Conv1D)            (None, 18, 5)        755         ['embedding_33[0][0]']           \n",
      "                                                                                                  \n",
      " conv1d_847 (Conv1D)            (None, 18, 5)        755         ['embedding_33[0][0]']           \n",
      "                                                                                                  \n",
      " conv1d_848 (Conv1D)            (None, 17, 5)        1005        ['embedding_33[0][0]']           \n",
      "                                                                                                  \n",
      " conv1d_849 (Conv1D)            (None, 17, 5)        1005        ['embedding_33[0][0]']           \n",
      "                                                                                                  \n",
      " conv1d_850 (Conv1D)            (None, 17, 5)        1005        ['embedding_33[0][0]']           \n",
      "                                                                                                  \n",
      " conv1d_851 (Conv1D)            (None, 17, 5)        1005        ['embedding_33[0][0]']           \n",
      "                                                                                                  \n",
      " conv1d_852 (Conv1D)            (None, 17, 5)        1005        ['embedding_33[0][0]']           \n",
      "                                                                                                  \n",
      " conv1d_853 (Conv1D)            (None, 17, 5)        1005        ['embedding_33[0][0]']           \n",
      "                                                                                                  \n",
      " conv1d_854 (Conv1D)            (None, 17, 5)        1005        ['embedding_33[0][0]']           \n",
      "                                                                                                  \n",
      " conv1d_855 (Conv1D)            (None, 17, 5)        1005        ['embedding_33[0][0]']           \n",
      "                                                                                                  \n",
      " conv1d_856 (Conv1D)            (None, 17, 5)        1005        ['embedding_33[0][0]']           \n",
      "                                                                                                  \n",
      " conv1d_857 (Conv1D)            (None, 17, 5)        1005        ['embedding_33[0][0]']           \n",
      "                                                                                                  \n",
      " conv1d_858 (Conv1D)            (None, 17, 5)        1005        ['embedding_33[0][0]']           \n",
      "                                                                                                  \n",
      " conv1d_859 (Conv1D)            (None, 17, 5)        1005        ['embedding_33[0][0]']           \n",
      "                                                                                                  \n",
      " conv1d_860 (Conv1D)            (None, 17, 5)        1005        ['embedding_33[0][0]']           \n",
      "                                                                                                  \n",
      " conv1d_861 (Conv1D)            (None, 17, 5)        1005        ['embedding_33[0][0]']           \n",
      "                                                                                                  \n",
      " conv1d_862 (Conv1D)            (None, 17, 5)        1005        ['embedding_33[0][0]']           \n",
      "                                                                                                  \n",
      " conv1d_863 (Conv1D)            (None, 17, 5)        1005        ['embedding_33[0][0]']           \n",
      "                                                                                                  \n",
      " global_max_pooling1d_813 (Glob  (None, 5)           0           ['conv1d_816[0][0]']             \n",
      " alMaxPooling1D)                                                                                  \n",
      "                                                                                                  \n",
      " global_max_pooling1d_814 (Glob  (None, 5)           0           ['conv1d_817[0][0]']             \n",
      " alMaxPooling1D)                                                                                  \n",
      "                                                                                                  \n",
      " global_max_pooling1d_815 (Glob  (None, 5)           0           ['conv1d_818[0][0]']             \n",
      " alMaxPooling1D)                                                                                  \n",
      "                                                                                                  \n",
      " global_max_pooling1d_816 (Glob  (None, 5)           0           ['conv1d_819[0][0]']             \n",
      " alMaxPooling1D)                                                                                  \n",
      "                                                                                                  \n",
      " global_max_pooling1d_817 (Glob  (None, 5)           0           ['conv1d_820[0][0]']             \n",
      " alMaxPooling1D)                                                                                  \n",
      "                                                                                                  \n",
      " global_max_pooling1d_818 (Glob  (None, 5)           0           ['conv1d_821[0][0]']             \n",
      " alMaxPooling1D)                                                                                  \n",
      "                                                                                                  \n",
      " global_max_pooling1d_819 (Glob  (None, 5)           0           ['conv1d_822[0][0]']             \n",
      " alMaxPooling1D)                                                                                  \n",
      "                                                                                                  \n",
      " global_max_pooling1d_820 (Glob  (None, 5)           0           ['conv1d_823[0][0]']             \n",
      " alMaxPooling1D)                                                                                  \n",
      "                                                                                                  \n",
      " global_max_pooling1d_821 (Glob  (None, 5)           0           ['conv1d_824[0][0]']             \n",
      " alMaxPooling1D)                                                                                  \n",
      "                                                                                                  \n",
      " global_max_pooling1d_822 (Glob  (None, 5)           0           ['conv1d_825[0][0]']             \n",
      " alMaxPooling1D)                                                                                  \n",
      "                                                                                                  \n",
      " global_max_pooling1d_823 (Glob  (None, 5)           0           ['conv1d_826[0][0]']             \n",
      " alMaxPooling1D)                                                                                  \n",
      "                                                                                                  \n",
      " global_max_pooling1d_824 (Glob  (None, 5)           0           ['conv1d_827[0][0]']             \n",
      " alMaxPooling1D)                                                                                  \n",
      "                                                                                                  \n",
      " global_max_pooling1d_825 (Glob  (None, 5)           0           ['conv1d_828[0][0]']             \n",
      " alMaxPooling1D)                                                                                  \n",
      "                                                                                                  \n",
      " global_max_pooling1d_826 (Glob  (None, 5)           0           ['conv1d_829[0][0]']             \n",
      " alMaxPooling1D)                                                                                  \n",
      "                                                                                                  \n",
      " global_max_pooling1d_827 (Glob  (None, 5)           0           ['conv1d_830[0][0]']             \n",
      " alMaxPooling1D)                                                                                  \n",
      "                                                                                                  \n",
      " global_max_pooling1d_828 (Glob  (None, 5)           0           ['conv1d_831[0][0]']             \n",
      " alMaxPooling1D)                                                                                  \n",
      "                                                                                                  \n",
      " global_max_pooling1d_829 (Glob  (None, 5)           0           ['conv1d_832[0][0]']             \n",
      " alMaxPooling1D)                                                                                  \n",
      "                                                                                                  \n",
      " global_max_pooling1d_830 (Glob  (None, 5)           0           ['conv1d_833[0][0]']             \n",
      " alMaxPooling1D)                                                                                  \n",
      "                                                                                                  \n",
      " global_max_pooling1d_831 (Glob  (None, 5)           0           ['conv1d_834[0][0]']             \n",
      " alMaxPooling1D)                                                                                  \n",
      "                                                                                                  \n",
      " global_max_pooling1d_832 (Glob  (None, 5)           0           ['conv1d_835[0][0]']             \n",
      " alMaxPooling1D)                                                                                  \n",
      "                                                                                                  \n",
      " global_max_pooling1d_833 (Glob  (None, 5)           0           ['conv1d_836[0][0]']             \n",
      " alMaxPooling1D)                                                                                  \n",
      "                                                                                                  \n",
      " global_max_pooling1d_834 (Glob  (None, 5)           0           ['conv1d_837[0][0]']             \n",
      " alMaxPooling1D)                                                                                  \n",
      "                                                                                                  \n",
      " global_max_pooling1d_835 (Glob  (None, 5)           0           ['conv1d_838[0][0]']             \n",
      " alMaxPooling1D)                                                                                  \n",
      "                                                                                                  \n",
      " global_max_pooling1d_836 (Glob  (None, 5)           0           ['conv1d_839[0][0]']             \n",
      " alMaxPooling1D)                                                                                  \n",
      "                                                                                                  \n",
      " global_max_pooling1d_837 (Glob  (None, 5)           0           ['conv1d_840[0][0]']             \n",
      " alMaxPooling1D)                                                                                  \n",
      "                                                                                                  \n",
      " global_max_pooling1d_838 (Glob  (None, 5)           0           ['conv1d_841[0][0]']             \n",
      " alMaxPooling1D)                                                                                  \n",
      "                                                                                                  \n",
      " global_max_pooling1d_839 (Glob  (None, 5)           0           ['conv1d_842[0][0]']             \n",
      " alMaxPooling1D)                                                                                  \n",
      "                                                                                                  \n",
      " global_max_pooling1d_840 (Glob  (None, 5)           0           ['conv1d_843[0][0]']             \n",
      " alMaxPooling1D)                                                                                  \n",
      "                                                                                                  \n",
      " global_max_pooling1d_841 (Glob  (None, 5)           0           ['conv1d_844[0][0]']             \n",
      " alMaxPooling1D)                                                                                  \n",
      "                                                                                                  \n",
      " global_max_pooling1d_842 (Glob  (None, 5)           0           ['conv1d_845[0][0]']             \n",
      " alMaxPooling1D)                                                                                  \n",
      "                                                                                                  \n",
      " global_max_pooling1d_843 (Glob  (None, 5)           0           ['conv1d_846[0][0]']             \n",
      " alMaxPooling1D)                                                                                  \n",
      "                                                                                                  \n",
      " global_max_pooling1d_844 (Glob  (None, 5)           0           ['conv1d_847[0][0]']             \n",
      " alMaxPooling1D)                                                                                  \n",
      "                                                                                                  \n",
      " global_max_pooling1d_845 (Glob  (None, 5)           0           ['conv1d_848[0][0]']             \n",
      " alMaxPooling1D)                                                                                  \n",
      "                                                                                                  \n",
      " global_max_pooling1d_846 (Glob  (None, 5)           0           ['conv1d_849[0][0]']             \n",
      " alMaxPooling1D)                                                                                  \n",
      "                                                                                                  \n",
      " global_max_pooling1d_847 (Glob  (None, 5)           0           ['conv1d_850[0][0]']             \n",
      " alMaxPooling1D)                                                                                  \n",
      "                                                                                                  \n",
      " global_max_pooling1d_848 (Glob  (None, 5)           0           ['conv1d_851[0][0]']             \n",
      " alMaxPooling1D)                                                                                  \n",
      "                                                                                                  \n",
      " global_max_pooling1d_849 (Glob  (None, 5)           0           ['conv1d_852[0][0]']             \n",
      " alMaxPooling1D)                                                                                  \n",
      "                                                                                                  \n",
      " global_max_pooling1d_850 (Glob  (None, 5)           0           ['conv1d_853[0][0]']             \n",
      " alMaxPooling1D)                                                                                  \n",
      "                                                                                                  \n",
      " global_max_pooling1d_851 (Glob  (None, 5)           0           ['conv1d_854[0][0]']             \n",
      " alMaxPooling1D)                                                                                  \n",
      "                                                                                                  \n",
      " global_max_pooling1d_852 (Glob  (None, 5)           0           ['conv1d_855[0][0]']             \n",
      " alMaxPooling1D)                                                                                  \n",
      "                                                                                                  \n",
      " global_max_pooling1d_853 (Glob  (None, 5)           0           ['conv1d_856[0][0]']             \n",
      " alMaxPooling1D)                                                                                  \n",
      "                                                                                                  \n",
      " global_max_pooling1d_854 (Glob  (None, 5)           0           ['conv1d_857[0][0]']             \n",
      " alMaxPooling1D)                                                                                  \n",
      "                                                                                                  \n",
      " global_max_pooling1d_855 (Glob  (None, 5)           0           ['conv1d_858[0][0]']             \n",
      " alMaxPooling1D)                                                                                  \n",
      "                                                                                                  \n",
      " global_max_pooling1d_856 (Glob  (None, 5)           0           ['conv1d_859[0][0]']             \n",
      " alMaxPooling1D)                                                                                  \n",
      "                                                                                                  \n",
      " global_max_pooling1d_857 (Glob  (None, 5)           0           ['conv1d_860[0][0]']             \n",
      " alMaxPooling1D)                                                                                  \n",
      "                                                                                                  \n",
      " global_max_pooling1d_858 (Glob  (None, 5)           0           ['conv1d_861[0][0]']             \n",
      " alMaxPooling1D)                                                                                  \n",
      "                                                                                                  \n",
      " global_max_pooling1d_859 (Glob  (None, 5)           0           ['conv1d_862[0][0]']             \n",
      " alMaxPooling1D)                                                                                  \n",
      "                                                                                                  \n",
      " global_max_pooling1d_860 (Glob  (None, 5)           0           ['conv1d_863[0][0]']             \n",
      " alMaxPooling1D)                                                                                  \n",
      "                                                                                                  \n",
      " concatenate_30 (Concatenate)   (None, 240)          0           ['global_max_pooling1d_813[0][0]'\n",
      "                                                                 , 'global_max_pooling1d_814[0][0]\n",
      "                                                                 ',                               \n",
      "                                                                  'global_max_pooling1d_815[0][0]'\n",
      "                                                                 , 'global_max_pooling1d_816[0][0]\n",
      "                                                                 ',                               \n",
      "                                                                  'global_max_pooling1d_817[0][0]'\n",
      "                                                                 , 'global_max_pooling1d_818[0][0]\n",
      "                                                                 ',                               \n",
      "                                                                  'global_max_pooling1d_819[0][0]'\n",
      "                                                                 , 'global_max_pooling1d_820[0][0]\n",
      "                                                                 ',                               \n",
      "                                                                  'global_max_pooling1d_821[0][0]'\n",
      "                                                                 , 'global_max_pooling1d_822[0][0]\n",
      "                                                                 ',                               \n",
      "                                                                  'global_max_pooling1d_823[0][0]'\n",
      "                                                                 , 'global_max_pooling1d_824[0][0]\n",
      "                                                                 ',                               \n",
      "                                                                  'global_max_pooling1d_825[0][0]'\n",
      "                                                                 , 'global_max_pooling1d_826[0][0]\n",
      "                                                                 ',                               \n",
      "                                                                  'global_max_pooling1d_827[0][0]'\n",
      "                                                                 , 'global_max_pooling1d_828[0][0]\n",
      "                                                                 ',                               \n",
      "                                                                  'global_max_pooling1d_829[0][0]'\n",
      "                                                                 , 'global_max_pooling1d_830[0][0]\n",
      "                                                                 ',                               \n",
      "                                                                  'global_max_pooling1d_831[0][0]'\n",
      "                                                                 , 'global_max_pooling1d_832[0][0]\n",
      "                                                                 ',                               \n",
      "                                                                  'global_max_pooling1d_833[0][0]'\n",
      "                                                                 , 'global_max_pooling1d_834[0][0]\n",
      "                                                                 ',                               \n",
      "                                                                  'global_max_pooling1d_835[0][0]'\n",
      "                                                                 , 'global_max_pooling1d_836[0][0]\n",
      "                                                                 ',                               \n",
      "                                                                  'global_max_pooling1d_837[0][0]'\n",
      "                                                                 , 'global_max_pooling1d_838[0][0]\n",
      "                                                                 ',                               \n",
      "                                                                  'global_max_pooling1d_839[0][0]'\n",
      "                                                                 , 'global_max_pooling1d_840[0][0]\n",
      "                                                                 ',                               \n",
      "                                                                  'global_max_pooling1d_841[0][0]'\n",
      "                                                                 , 'global_max_pooling1d_842[0][0]\n",
      "                                                                 ',                               \n",
      "                                                                  'global_max_pooling1d_843[0][0]'\n",
      "                                                                 , 'global_max_pooling1d_844[0][0]\n",
      "                                                                 ',                               \n",
      "                                                                  'global_max_pooling1d_845[0][0]'\n",
      "                                                                 , 'global_max_pooling1d_846[0][0]\n",
      "                                                                 ',                               \n",
      "                                                                  'global_max_pooling1d_847[0][0]'\n",
      "                                                                 , 'global_max_pooling1d_848[0][0]\n",
      "                                                                 ',                               \n",
      "                                                                  'global_max_pooling1d_849[0][0]'\n",
      "                                                                 , 'global_max_pooling1d_850[0][0]\n",
      "                                                                 ',                               \n",
      "                                                                  'global_max_pooling1d_851[0][0]'\n",
      "                                                                 , 'global_max_pooling1d_852[0][0]\n",
      "                                                                 ',                               \n",
      "                                                                  'global_max_pooling1d_853[0][0]'\n",
      "                                                                 , 'global_max_pooling1d_854[0][0]\n",
      "                                                                 ',                               \n",
      "                                                                  'global_max_pooling1d_855[0][0]'\n",
      "                                                                 , 'global_max_pooling1d_856[0][0]\n",
      "                                                                 ',                               \n",
      "                                                                  'global_max_pooling1d_857[0][0]'\n",
      "                                                                 , 'global_max_pooling1d_858[0][0]\n",
      "                                                                 ',                               \n",
      "                                                                  'global_max_pooling1d_859[0][0]'\n",
      "                                                                 , 'global_max_pooling1d_860[0][0]\n",
      "                                                                 ']                               \n",
      "                                                                                                  \n",
      " dropout_36 (Dropout)           (None, 240)          0           ['concatenate_30[0][0]']         \n",
      "                                                                                                  \n",
      " dense_62 (Dense)               (None, 64)           15424       ['dropout_36[0][0]']             \n",
      "                                                                                                  \n",
      " dense_63 (Dense)               (None, 10)           650         ['dense_62[0][0]']               \n",
      "                                                                                                  \n",
      " dense_64 (Dense)               (None, 1)            11          ['dense_63[0][0]']               \n",
      "                                                                                                  \n",
      "==================================================================================================\n",
      "Total params: 62,325\n",
      "Trainable params: 62,325\n",
      "Non-trainable params: 0\n",
      "__________________________________________________________________________________________________\n"
     ]
    }
   ],
   "source": [
    "from keras.layers import Input, Embedding, Dropout, Conv1D, Activation, Dense, GlobalMaxPooling1D, concatenate\n",
    "from keras.models import Model\n",
    "from keras.optimizers import Adam\n",
    "from keras.losses import BinaryCrossentropy\n",
    "\n",
    "input_layer = Input(shape=(SENTENCE_LENGTH,), dtype='int32')\n",
    "x = Embedding(NUM, 50, input_length=SENTENCE_LENGTH,trainable=True)(input_layer)\n",
    "branches =  []\n",
    "\n",
    "for size in range(2, 5):\n",
    "    for i in range(16):\n",
    "        branch = Conv1D(filters=5, kernel_size=size, padding='valid', activation='relu')(x)\n",
    "        branch = GlobalMaxPooling1D()(branch)\n",
    "        branches.append(branch)\n",
    "\n",
    "x = concatenate(branches, axis=1)\n",
    "x = Dropout(0.25)(x)\n",
    "x = Dense(64, activation='relu')(x)\n",
    "x = Dense(10, activation='relu')(x)\n",
    "output = Dense(1, activation='sigmoid')(x)\n",
    "\n",
    "model_w2v = Model(inputs=[input_layer], outputs=[output])\n",
    "\n",
    "model_w2v.compile(loss=BinaryCrossentropy(), optimizer=Adam(), metrics=['accuracy'])\n",
    "model_w2v.summary()      "
   ]
  },
  {
   "cell_type": "code",
   "execution_count": 519,
   "metadata": {},
   "outputs": [
    {
     "name": "stdout",
     "output_type": "stream",
     "text": [
      "Epoch 1/60\n",
      "10/10 [==============================] - 24s 727ms/step - loss: 0.6784 - accuracy: 0.6200 - val_loss: 0.6530 - val_accuracy: 0.6400\n",
      "Epoch 2/60\n",
      "10/10 [==============================] - 4s 425ms/step - loss: 0.6225 - accuracy: 0.6700 - val_loss: 0.5925 - val_accuracy: 0.7333\n",
      "Epoch 3/60\n",
      "10/10 [==============================] - 4s 434ms/step - loss: 0.5272 - accuracy: 0.8500 - val_loss: 0.4998 - val_accuracy: 0.8400\n",
      "Epoch 4/60\n",
      "10/10 [==============================] - 4s 437ms/step - loss: 0.3869 - accuracy: 0.9267 - val_loss: 0.3700 - val_accuracy: 0.8667\n",
      "Epoch 5/60\n",
      "10/10 [==============================] - 4s 431ms/step - loss: 0.2263 - accuracy: 0.9533 - val_loss: 0.2956 - val_accuracy: 0.8667\n",
      "Epoch 6/60\n",
      "10/10 [==============================] - 4s 434ms/step - loss: 0.1373 - accuracy: 0.9633 - val_loss: 0.2923 - val_accuracy: 0.8933\n",
      "Epoch 7/60\n",
      "10/10 [==============================] - 4s 442ms/step - loss: 0.0732 - accuracy: 0.9833 - val_loss: 0.3073 - val_accuracy: 0.9067\n",
      "Epoch 8/60\n",
      "10/10 [==============================] - 5s 449ms/step - loss: 0.0589 - accuracy: 0.9833 - val_loss: 0.3260 - val_accuracy: 0.9067\n",
      "Epoch 9/60\n",
      "10/10 [==============================] - 4s 446ms/step - loss: 0.0334 - accuracy: 0.9967 - val_loss: 0.3391 - val_accuracy: 0.8800\n",
      "Epoch 10/60\n",
      "10/10 [==============================] - 5s 455ms/step - loss: 0.0180 - accuracy: 1.0000 - val_loss: 0.3671 - val_accuracy: 0.9067\n",
      "Epoch 11/60\n",
      "10/10 [==============================] - 4s 444ms/step - loss: 0.0110 - accuracy: 1.0000 - val_loss: 0.3874 - val_accuracy: 0.8933\n",
      "Epoch 12/60\n",
      "10/10 [==============================] - 1s 123ms/step - loss: 0.0074 - accuracy: 1.0000 - val_loss: 0.4066 - val_accuracy: 0.8800\n",
      "Epoch 13/60\n",
      "10/10 [==============================] - 1s 137ms/step - loss: 0.0052 - accuracy: 1.0000 - val_loss: 0.4225 - val_accuracy: 0.8933\n"
     ]
    }
   ],
   "source": [
    "early_stop = tf.keras.callbacks.EarlyStopping(monitor='val_loss', patience=7, verbose=0, mode='auto')\n",
    "\n",
    "history_w2v = model_w2v.fit(x_train_seq, y_train, validation_split=0.2, epochs=60,callbacks=early_stop)"
   ]
  },
  {
   "cell_type": "code",
   "execution_count": 520,
   "metadata": {},
   "outputs": [
    {
     "name": "stdout",
     "output_type": "stream",
     "text": [
      "4/4 [==============================] - 1s 39ms/step\n",
      "CNN - 48 conv layers\n",
      "              precision    recall  f1-score   support\n",
      "\n",
      "           0       0.88      0.86      0.87        59\n",
      "           1       0.88      0.90      0.89        67\n",
      "\n",
      "    accuracy                           0.88       126\n",
      "   macro avg       0.88      0.88      0.88       126\n",
      "weighted avg       0.88      0.88      0.88       126\n",
      "\n",
      "Test ROC AUC: 0.8799645838603593\n"
     ]
    }
   ],
   "source": [
    "y_pred = np.array(model_w2v.predict(x_test_seq) > 0.5)\n",
    "print(\"CNN - 48 conv layers\")\n",
    "print(classification_report(y_test, y_pred))\n",
    "print(f\"Test ROC AUC: {roc_auc_score(y_test, y_pred)}\")"
   ]
  },
  {
   "attachments": {},
   "cell_type": "markdown",
   "metadata": {},
   "source": [
    "На наших данных увеличение глубины модели не дало улучшение результата"
   ]
  },
  {
   "attachments": {},
   "cell_type": "markdown",
   "metadata": {},
   "source": [
    "### Тестируем модель  CNN"
   ]
  },
  {
   "cell_type": "code",
   "execution_count": 547,
   "metadata": {},
   "outputs": [
    {
     "name": "stdout",
     "output_type": "stream",
     "text": [
      "1/1 [==============================] - 0s 23ms/step\n"
     ]
    },
    {
     "data": {
      "text/plain": [
       "array([[0.9967316]], dtype=float32)"
      ]
     },
     "execution_count": 547,
     "metadata": {},
     "output_type": "execute_result"
    }
   ],
   "source": [
    "res = model_w2v.predict(get_sequences(tokenizer, [preprocess(\"Мы в следующем месяце хотим поступить на бюджет\")]))\n",
    "res"
   ]
  },
  {
   "cell_type": "code",
   "execution_count": 552,
   "metadata": {},
   "outputs": [
    {
     "name": "stdout",
     "output_type": "stream",
     "text": [
      "1/1 [==============================] - 0s 29ms/step\n"
     ]
    },
    {
     "data": {
      "text/plain": [
       "array([[0.38332325]], dtype=float32)"
      ]
     },
     "execution_count": 552,
     "metadata": {},
     "output_type": "execute_result"
    }
   ],
   "source": [
    "res = model_w2v.predict(get_sequences(tokenizer, [preprocess(\"Я не собираюсь есть кашу с изюмом завтра\")]))\n",
    "res"
   ]
  },
  {
   "cell_type": "code",
   "execution_count": 553,
   "metadata": {},
   "outputs": [
    {
     "name": "stdout",
     "output_type": "stream",
     "text": [
      "1/1 [==============================] - 0s 32ms/step\n"
     ]
    },
    {
     "data": {
      "text/plain": [
       "array([[0.990744]], dtype=float32)"
      ]
     },
     "execution_count": 553,
     "metadata": {},
     "output_type": "execute_result"
    }
   ],
   "source": [
    "res = model_w2v.predict(get_sequences(tokenizer, [preprocess(\"Я собираюсь есть кашу с изюмом завтра\")]))\n",
    "res"
   ]
  },
  {
   "cell_type": "code",
   "execution_count": 554,
   "metadata": {},
   "outputs": [
    {
     "name": "stdout",
     "output_type": "stream",
     "text": [
      "1/1 [==============================] - 0s 21ms/step\n"
     ]
    },
    {
     "data": {
      "text/plain": [
       "array([[0.00186641]], dtype=float32)"
      ]
     },
     "execution_count": 554,
     "metadata": {},
     "output_type": "execute_result"
    }
   ],
   "source": [
    "res = model_w2v.predict(get_sequences(tokenizer, [preprocess(\"Мне не нравится каша с изюмом\")]))\n",
    "res"
   ]
  }
 ],
 "metadata": {
  "kernelspec": {
   "display_name": "Python 3",
   "language": "python",
   "name": "python3"
  },
  "language_info": {
   "codemirror_mode": {
    "name": "ipython",
    "version": 3
   },
   "file_extension": ".py",
   "mimetype": "text/x-python",
   "name": "python",
   "nbconvert_exporter": "python",
   "pygments_lexer": "ipython3",
   "version": "3.10.5"
  },
  "orig_nbformat": 4
 },
 "nbformat": 4,
 "nbformat_minor": 2
}

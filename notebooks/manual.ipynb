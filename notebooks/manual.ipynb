{
 "cells": [
  {
   "cell_type": "code",
   "execution_count": 15,
   "metadata": {},
   "outputs": [],
   "source": [
    "import pandas as pd\n",
    "from pymystem3 import Mystem\n",
    "import spacy\n",
    "nlp = spacy.load(\"ru_core_news_lg\")"
   ]
  },
  {
   "attachments": {},
   "cell_type": "markdown",
   "metadata": {},
   "source": [
    "### Data Load"
   ]
  },
  {
   "cell_type": "code",
   "execution_count": 82,
   "metadata": {},
   "outputs": [],
   "source": [
    "df_manual = []\n",
    "with open(\"../edz_dataset.txt\", \"r\", encoding=\"utf-8\") as f:\n",
    "    for line in f:\n",
    "        line = line.replace(\"\\ufeff\" ,\"\")\n",
    "        line = line.replace(\"\\n\" ,\"\")\n",
    "        df_manual.append([line[:-1], 1])\n",
    "        \n",
    "with open(\"../edz_neg_dataset.txt\", \"r\", encoding=\"utf-8\") as f:\n",
    "    for line in f:\n",
    "        line = line.replace(\"\\ufeff\" ,\"\")\n",
    "        line = line.replace(\"\\n\" ,\"\")\n",
    "        df_manual.append([line[:-1], 0])\n",
    "df_manual = pd.DataFrame(df_manual, columns=[\"text\", \"label\"])\n"
   ]
  },
  {
   "cell_type": "code",
   "execution_count": 6,
   "metadata": {},
   "outputs": [
    {
     "data": {
      "text/html": [
       "<div>\n",
       "<style scoped>\n",
       "    .dataframe tbody tr th:only-of-type {\n",
       "        vertical-align: middle;\n",
       "    }\n",
       "\n",
       "    .dataframe tbody tr th {\n",
       "        vertical-align: top;\n",
       "    }\n",
       "\n",
       "    .dataframe thead th {\n",
       "        text-align: right;\n",
       "    }\n",
       "</style>\n",
       "<table border=\"1\" class=\"dataframe\">\n",
       "  <thead>\n",
       "    <tr style=\"text-align: right;\">\n",
       "      <th></th>\n",
       "      <th>text</th>\n",
       "      <th>label</th>\n",
       "    </tr>\n",
       "  </thead>\n",
       "  <tbody>\n",
       "    <tr>\n",
       "      <th>0</th>\n",
       "      <td>завтра буду учить английский весь ден</td>\n",
       "      <td>1</td>\n",
       "    </tr>\n",
       "    <tr>\n",
       "      <th>1</th>\n",
       "      <td>Завтра я пойду на работ</td>\n",
       "      <td>1</td>\n",
       "    </tr>\n",
       "    <tr>\n",
       "      <th>2</th>\n",
       "      <td>послезавтра мы планируем ехать на дач</td>\n",
       "      <td>1</td>\n",
       "    </tr>\n",
       "    <tr>\n",
       "      <th>3</th>\n",
       "      <td>к вечеру я планирую закончить отче</td>\n",
       "      <td>1</td>\n",
       "    </tr>\n",
       "    <tr>\n",
       "      <th>4</th>\n",
       "      <td>в воскресенье после обеда мы пойдем в рестора</td>\n",
       "      <td>1</td>\n",
       "    </tr>\n",
       "    <tr>\n",
       "      <th>...</th>\n",
       "      <td>...</td>\n",
       "      <td>...</td>\n",
       "    </tr>\n",
       "    <tr>\n",
       "      <th>216</th>\n",
       "      <td>Где ты будешь в 15:30 завтра</td>\n",
       "      <td>0</td>\n",
       "    </tr>\n",
       "    <tr>\n",
       "      <th>217</th>\n",
       "      <td>Король Генрих по утрам делает зарядку с королево</td>\n",
       "      <td>0</td>\n",
       "    </tr>\n",
       "    <tr>\n",
       "      <th>218</th>\n",
       "      <td>Хочешь утром посмотреть как пасут коров на наб...</td>\n",
       "      <td>0</td>\n",
       "    </tr>\n",
       "    <tr>\n",
       "      <th>219</th>\n",
       "      <td>Когда в следующем году проведут конференцию по...</td>\n",
       "      <td>0</td>\n",
       "    </tr>\n",
       "    <tr>\n",
       "      <th>220</th>\n",
       "      <td>Когда ты приедешь в Санкт Петербург, в субботу</td>\n",
       "      <td>0</td>\n",
       "    </tr>\n",
       "  </tbody>\n",
       "</table>\n",
       "<p>221 rows × 2 columns</p>\n",
       "</div>"
      ],
      "text/plain": [
       "                                                  text  label\n",
       "0                завтра буду учить английский весь ден      1\n",
       "1                              Завтра я пойду на работ      1\n",
       "2                послезавтра мы планируем ехать на дач      1\n",
       "3                   к вечеру я планирую закончить отче      1\n",
       "4        в воскресенье после обеда мы пойдем в рестора      1\n",
       "..                                                 ...    ...\n",
       "216                       Где ты будешь в 15:30 завтра      0\n",
       "217   Король Генрих по утрам делает зарядку с королево      0\n",
       "218  Хочешь утром посмотреть как пасут коров на наб...      0\n",
       "219  Когда в следующем году проведут конференцию по...      0\n",
       "220     Когда ты приедешь в Санкт Петербург, в субботу      0\n",
       "\n",
       "[221 rows x 2 columns]"
      ]
     },
     "execution_count": 6,
     "metadata": {},
     "output_type": "execute_result"
    }
   ],
   "source": [
    "df_manual"
   ]
  },
  {
   "attachments": {},
   "cell_type": "markdown",
   "metadata": {},
   "source": [
    "### Tags review"
   ]
  },
  {
   "attachments": {},
   "cell_type": "markdown",
   "metadata": {},
   "source": [
    "#### SpaCy"
   ]
  },
  {
   "cell_type": "code",
   "execution_count": 8,
   "metadata": {},
   "outputs": [
    {
     "data": {
      "text/html": [
       "<div>\n",
       "<style scoped>\n",
       "    .dataframe tbody tr th:only-of-type {\n",
       "        vertical-align: middle;\n",
       "    }\n",
       "\n",
       "    .dataframe tbody tr th {\n",
       "        vertical-align: top;\n",
       "    }\n",
       "\n",
       "    .dataframe thead th {\n",
       "        text-align: right;\n",
       "    }\n",
       "</style>\n",
       "<table border=\"1\" class=\"dataframe\">\n",
       "  <thead>\n",
       "    <tr style=\"text-align: right;\">\n",
       "      <th></th>\n",
       "      <th>Token</th>\n",
       "      <th>lemma</th>\n",
       "      <th>entity</th>\n",
       "      <th>full</th>\n",
       "      <th>entity</th>\n",
       "      <th>dep type</th>\n",
       "      <th>head</th>\n",
       "    </tr>\n",
       "  </thead>\n",
       "  <tbody>\n",
       "    <tr>\n",
       "      <th>0</th>\n",
       "      <td>к</td>\n",
       "      <td>к</td>\n",
       "      <td></td>\n",
       "      <td>ADP</td>\n",
       "      <td>ADP</td>\n",
       "      <td>case</td>\n",
       "      <td>пяти</td>\n",
       "    </tr>\n",
       "    <tr>\n",
       "      <th>1</th>\n",
       "      <td>пяти</td>\n",
       "      <td>пять</td>\n",
       "      <td></td>\n",
       "      <td>NUM</td>\n",
       "      <td>NUM</td>\n",
       "      <td>nummod</td>\n",
       "      <td>утра</td>\n",
       "    </tr>\n",
       "    <tr>\n",
       "      <th>2</th>\n",
       "      <td>утра</td>\n",
       "      <td>утро</td>\n",
       "      <td></td>\n",
       "      <td>NOUN</td>\n",
       "      <td>NOUN</td>\n",
       "      <td>obl</td>\n",
       "      <td>завершится</td>\n",
       "    </tr>\n",
       "    <tr>\n",
       "      <th>3</th>\n",
       "      <td>хакатон</td>\n",
       "      <td>хакатон</td>\n",
       "      <td></td>\n",
       "      <td>PROPN</td>\n",
       "      <td>PROPN</td>\n",
       "      <td>nsubj</td>\n",
       "      <td>завершится</td>\n",
       "    </tr>\n",
       "    <tr>\n",
       "      <th>4</th>\n",
       "      <td>завершится</td>\n",
       "      <td>завершиться</td>\n",
       "      <td></td>\n",
       "      <td>VERB</td>\n",
       "      <td>VERB</td>\n",
       "      <td>ROOT</td>\n",
       "      <td>завершится</td>\n",
       "    </tr>\n",
       "    <tr>\n",
       "      <th>5</th>\n",
       "      <td>и</td>\n",
       "      <td>и</td>\n",
       "      <td></td>\n",
       "      <td>CCONJ</td>\n",
       "      <td>CCONJ</td>\n",
       "      <td>cc</td>\n",
       "      <td>сдадим</td>\n",
       "    </tr>\n",
       "    <tr>\n",
       "      <th>6</th>\n",
       "      <td>мы</td>\n",
       "      <td>мы</td>\n",
       "      <td></td>\n",
       "      <td>PRON</td>\n",
       "      <td>PRON</td>\n",
       "      <td>nsubj</td>\n",
       "      <td>сдадим</td>\n",
       "    </tr>\n",
       "    <tr>\n",
       "      <th>7</th>\n",
       "      <td>сдадим</td>\n",
       "      <td>сдать</td>\n",
       "      <td></td>\n",
       "      <td>VERB</td>\n",
       "      <td>VERB</td>\n",
       "      <td>conj</td>\n",
       "      <td>завершится</td>\n",
       "    </tr>\n",
       "    <tr>\n",
       "      <th>8</th>\n",
       "      <td>результат</td>\n",
       "      <td>результат</td>\n",
       "      <td></td>\n",
       "      <td>NOUN</td>\n",
       "      <td>NOUN</td>\n",
       "      <td>obj</td>\n",
       "      <td>сдадим</td>\n",
       "    </tr>\n",
       "  </tbody>\n",
       "</table>\n",
       "</div>"
      ],
      "text/plain": [
       "        Token        lemma entity   full entity dep type        head\n",
       "0           к            к           ADP    ADP     case        пяти\n",
       "1        пяти         пять           NUM    NUM   nummod        утра\n",
       "2        утра         утро          NOUN   NOUN      obl  завершится\n",
       "3     хакатон      хакатон         PROPN  PROPN    nsubj  завершится\n",
       "4  завершится  завершиться          VERB   VERB     ROOT  завершится\n",
       "5           и            и         CCONJ  CCONJ       cc      сдадим\n",
       "6          мы           мы          PRON   PRON    nsubj      сдадим\n",
       "7      сдадим        сдать          VERB   VERB     conj  завершится\n",
       "8   результат    результат          NOUN   NOUN      obj      сдадим"
      ]
     },
     "execution_count": 8,
     "metadata": {},
     "output_type": "execute_result"
    }
   ],
   "source": [
    "tags = []\n",
    "doc = nlp(df_manual.loc[22, \"text\"])\n",
    "for token in doc:\n",
    "    tags.append([token.text, token.lemma_, token.ent_type_, token.pos_, token.tag_, token.dep_, token.head])\n",
    "postok = {str(i): list(doc).index(i) for i in doc}\n",
    "pd.DataFrame(tags, columns = [\"Token\", \"lemma\", \"entity\", \"full\", \"entity\", \"dep type\", \"head\"])"
   ]
  },
  {
   "attachments": {},
   "cell_type": "markdown",
   "metadata": {},
   "source": [
    "#### MyStem"
   ]
  },
  {
   "cell_type": "code",
   "execution_count": 16,
   "metadata": {},
   "outputs": [
    {
     "name": "stderr",
     "output_type": "stream",
     "text": [
      "Installing mystem to /Users/R1303-M-4-Stud/.local/bin/mystem from http://download.cdn.yandex.net/mystem/mystem-3.1-macosx.tar.gz\n"
     ]
    },
    {
     "data": {
      "text/plain": [
       "[{'analysis': [{'lex': 'к', 'wt': 0.9999551798, 'gr': 'PR='}], 'text': 'к'},\n",
       " {'text': ' '},\n",
       " {'analysis': [{'lex': 'пять', 'wt': 1, 'gr': 'NUM=(пр|дат|род)'}],\n",
       "  'text': 'пяти'},\n",
       " {'text': ' '},\n",
       " {'analysis': [{'lex': 'утро',\n",
       "    'wt': 1,\n",
       "    'gr': 'S,сред,неод=(вин,мн|род,ед|им,мн)'}],\n",
       "  'text': 'утра'},\n",
       " {'text': ' '},\n",
       " {'analysis': [{'lex': 'хакатон',\n",
       "    'wt': 0.2835818696,\n",
       "    'qual': 'bastard',\n",
       "    'gr': 'S,муж,неод=(вин,ед|им,ед)'}],\n",
       "  'text': 'хакатон'},\n",
       " {'text': ' '},\n",
       " {'analysis': [{'lex': 'завершаться',\n",
       "    'wt': 1,\n",
       "    'gr': 'V,нп=непрош,ед,изъяв,3-л,сов'}],\n",
       "  'text': 'завершится'},\n",
       " {'text': ' '},\n",
       " {'analysis': [{'lex': 'и', 'wt': 0.9999770357, 'gr': 'CONJ='}], 'text': 'и'},\n",
       " {'text': ' '},\n",
       " {'analysis': [{'lex': 'мы', 'wt': 1, 'gr': 'SPRO,мн,1-л=им'}], 'text': 'мы'},\n",
       " {'text': ' '},\n",
       " {'analysis': [{'lex': 'сдавать',\n",
       "    'wt': 1,\n",
       "    'gr': 'V,пе=(мн,пов,1-л,сов|непрош,мн,изъяв,1-л,сов)'}],\n",
       "  'text': 'сдадим'},\n",
       " {'text': ' '},\n",
       " {'analysis': [{'lex': 'результат',\n",
       "    'wt': 1,\n",
       "    'gr': 'S,муж,неод=(вин,ед|им,ед)'}],\n",
       "  'text': 'результат'},\n",
       " {'text': '\\n'}]"
      ]
     },
     "execution_count": 16,
     "metadata": {},
     "output_type": "execute_result"
    }
   ],
   "source": [
    "stem = Mystem()\n",
    "stem.analyze(df_manual.loc[22, \"text\"])"
   ]
  },
  {
   "attachments": {},
   "cell_type": "markdown",
   "metadata": {},
   "source": [
    "#### Natasha"
   ]
  },
  {
   "cell_type": "code",
   "execution_count": 17,
   "metadata": {},
   "outputs": [],
   "source": [
    "import natasha"
   ]
  },
  {
   "cell_type": "code",
   "execution_count": 20,
   "metadata": {},
   "outputs": [
    {
     "name": "stderr",
     "output_type": "stream",
     "text": [
      "UsageError: Line magic function `%script` not found (But cell magic `%%script` exists, did you mean that instead?).\n"
     ]
    }
   ],
   "source": [
    "%script false\n",
    "from natasha import (\n",
    "    Segmenter,\n",
    "    MorphVocab,\n",
    "    NewsEmbedding,\n",
    "    NewsMorphTagger,\n",
    "    NewsSyntaxParser,\n",
    "    NewsNERTagger,\n",
    "    PER,\n",
    "    NamesExtractor,\n",
    "    Doc\n",
    ")\n",
    "\n",
    "\n",
    "segmenter = Segmenter()\n",
    "morph_vocab = MorphVocab()\n",
    "emb = NewsEmbedding()\n",
    "morph_tagger = NewsMorphTagger(emb)\n",
    "syntax_parser = NewsSyntaxParser(emb)\n",
    "ner_tagger = NewsNERTagger(emb)\n",
    "names_extractor = NamesExtractor(morph_vocab)\n",
    "text = df.loc[23, \"text\"]\n",
    "doc = Doc(text)"
   ]
  },
  {
   "cell_type": "code",
   "execution_count": null,
   "metadata": {},
   "outputs": [],
   "source": []
  },
  {
   "attachments": {},
   "cell_type": "markdown",
   "metadata": {},
   "source": [
    "### BoW"
   ]
  },
  {
   "cell_type": "code",
   "execution_count": 27,
   "metadata": {},
   "outputs": [],
   "source": [
    "from sklearn.feature_extraction.text import CountVectorizer\n",
    "from sklearn.model_selection import train_test_split"
   ]
  },
  {
   "cell_type": "code",
   "execution_count": 83,
   "metadata": {},
   "outputs": [],
   "source": [
    "model_bow = CountVectorizer()\n",
    "X = model_bow.fit_transform(df_manual.text).toarray()\n",
    "y = df_manual.label\n",
    "x_train, x_test, y_train, y_test = train_test_split(X, y, shuffle=True)"
   ]
  },
  {
   "cell_type": "code",
   "execution_count": 104,
   "metadata": {},
   "outputs": [
    {
     "data": {
      "text/html": [
       "<style>#sk-container-id-10 {color: black;background-color: white;}#sk-container-id-10 pre{padding: 0;}#sk-container-id-10 div.sk-toggleable {background-color: white;}#sk-container-id-10 label.sk-toggleable__label {cursor: pointer;display: block;width: 100%;margin-bottom: 0;padding: 0.3em;box-sizing: border-box;text-align: center;}#sk-container-id-10 label.sk-toggleable__label-arrow:before {content: \"▸\";float: left;margin-right: 0.25em;color: #696969;}#sk-container-id-10 label.sk-toggleable__label-arrow:hover:before {color: black;}#sk-container-id-10 div.sk-estimator:hover label.sk-toggleable__label-arrow:before {color: black;}#sk-container-id-10 div.sk-toggleable__content {max-height: 0;max-width: 0;overflow: hidden;text-align: left;background-color: #f0f8ff;}#sk-container-id-10 div.sk-toggleable__content pre {margin: 0.2em;color: black;border-radius: 0.25em;background-color: #f0f8ff;}#sk-container-id-10 input.sk-toggleable__control:checked~div.sk-toggleable__content {max-height: 200px;max-width: 100%;overflow: auto;}#sk-container-id-10 input.sk-toggleable__control:checked~label.sk-toggleable__label-arrow:before {content: \"▾\";}#sk-container-id-10 div.sk-estimator input.sk-toggleable__control:checked~label.sk-toggleable__label {background-color: #d4ebff;}#sk-container-id-10 div.sk-label input.sk-toggleable__control:checked~label.sk-toggleable__label {background-color: #d4ebff;}#sk-container-id-10 input.sk-hidden--visually {border: 0;clip: rect(1px 1px 1px 1px);clip: rect(1px, 1px, 1px, 1px);height: 1px;margin: -1px;overflow: hidden;padding: 0;position: absolute;width: 1px;}#sk-container-id-10 div.sk-estimator {font-family: monospace;background-color: #f0f8ff;border: 1px dotted black;border-radius: 0.25em;box-sizing: border-box;margin-bottom: 0.5em;}#sk-container-id-10 div.sk-estimator:hover {background-color: #d4ebff;}#sk-container-id-10 div.sk-parallel-item::after {content: \"\";width: 100%;border-bottom: 1px solid gray;flex-grow: 1;}#sk-container-id-10 div.sk-label:hover label.sk-toggleable__label {background-color: #d4ebff;}#sk-container-id-10 div.sk-serial::before {content: \"\";position: absolute;border-left: 1px solid gray;box-sizing: border-box;top: 0;bottom: 0;left: 50%;z-index: 0;}#sk-container-id-10 div.sk-serial {display: flex;flex-direction: column;align-items: center;background-color: white;padding-right: 0.2em;padding-left: 0.2em;position: relative;}#sk-container-id-10 div.sk-item {position: relative;z-index: 1;}#sk-container-id-10 div.sk-parallel {display: flex;align-items: stretch;justify-content: center;background-color: white;position: relative;}#sk-container-id-10 div.sk-item::before, #sk-container-id-10 div.sk-parallel-item::before {content: \"\";position: absolute;border-left: 1px solid gray;box-sizing: border-box;top: 0;bottom: 0;left: 50%;z-index: -1;}#sk-container-id-10 div.sk-parallel-item {display: flex;flex-direction: column;z-index: 1;position: relative;background-color: white;}#sk-container-id-10 div.sk-parallel-item:first-child::after {align-self: flex-end;width: 50%;}#sk-container-id-10 div.sk-parallel-item:last-child::after {align-self: flex-start;width: 50%;}#sk-container-id-10 div.sk-parallel-item:only-child::after {width: 0;}#sk-container-id-10 div.sk-dashed-wrapped {border: 1px dashed gray;margin: 0 0.4em 0.5em 0.4em;box-sizing: border-box;padding-bottom: 0.4em;background-color: white;}#sk-container-id-10 div.sk-label label {font-family: monospace;font-weight: bold;display: inline-block;line-height: 1.2em;}#sk-container-id-10 div.sk-label-container {text-align: center;}#sk-container-id-10 div.sk-container {/* jupyter's `normalize.less` sets `[hidden] { display: none; }` but bootstrap.min.css set `[hidden] { display: none !important; }` so we also need the `!important` here to be able to override the default hidden behavior on the sphinx rendered scikit-learn.org. See: https://github.com/scikit-learn/scikit-learn/issues/21755 */display: inline-block !important;position: relative;}#sk-container-id-10 div.sk-text-repr-fallback {display: none;}</style><div id=\"sk-container-id-10\" class=\"sk-top-container\"><div class=\"sk-text-repr-fallback\"><pre>RandomForestClassifier()</pre><b>In a Jupyter environment, please rerun this cell to show the HTML representation or trust the notebook. <br />On GitHub, the HTML representation is unable to render, please try loading this page with nbviewer.org.</b></div><div class=\"sk-container\" hidden><div class=\"sk-item\"><div class=\"sk-estimator sk-toggleable\"><input class=\"sk-toggleable__control sk-hidden--visually\" id=\"sk-estimator-id-10\" type=\"checkbox\" checked><label for=\"sk-estimator-id-10\" class=\"sk-toggleable__label sk-toggleable__label-arrow\">RandomForestClassifier</label><div class=\"sk-toggleable__content\"><pre>RandomForestClassifier()</pre></div></div></div></div></div>"
      ],
      "text/plain": [
       "RandomForestClassifier()"
      ]
     },
     "execution_count": 104,
     "metadata": {},
     "output_type": "execute_result"
    }
   ],
   "source": [
    "from sklearn.ensemble import RandomForestClassifier\n",
    "from sklearn.linear_model import LogisticRegression\n",
    "from sklearn.svm import SVC\n",
    "model = RandomForestClassifier()\n",
    "model.fit(x_train, y_train)"
   ]
  },
  {
   "cell_type": "code",
   "execution_count": 105,
   "metadata": {},
   "outputs": [
    {
     "name": "stdout",
     "output_type": "stream",
     "text": [
      "              precision    recall  f1-score   support\n",
      "\n",
      "           0       0.76      0.98      0.86        55\n",
      "           1       0.97      0.70      0.81        56\n",
      "\n",
      "    accuracy                           0.84       111\n",
      "   macro avg       0.87      0.84      0.83       111\n",
      "weighted avg       0.87      0.84      0.83       111\n",
      "\n"
     ]
    }
   ],
   "source": [
    "from sklearn.metrics import classification_report\n",
    "y_pred = model.predict(x_test)\n",
    "print(classification_report(y_test, y_pred))"
   ]
  },
  {
   "cell_type": "code",
   "execution_count": 101,
   "metadata": {},
   "outputs": [
    {
     "data": {
      "text/plain": [
       "array([0])"
      ]
     },
     "execution_count": 101,
     "metadata": {},
     "output_type": "execute_result"
    }
   ],
   "source": [
    "model.predict(model_bow.transform([\"Я покушал колбаску с сыром\"]))"
   ]
  },
  {
   "cell_type": "code",
   "execution_count": 102,
   "metadata": {},
   "outputs": [
    {
     "data": {
      "text/plain": [
       "array([1])"
      ]
     },
     "execution_count": 102,
     "metadata": {},
     "output_type": "execute_result"
    }
   ],
   "source": [
    "model.predict(model_bow.transform([\"В эту пятницу у меня занятия танцами \"]))"
   ]
  },
  {
   "cell_type": "code",
   "execution_count": 76,
   "metadata": {},
   "outputs": [
    {
     "data": {
      "text/html": [
       "<div>\n",
       "<style scoped>\n",
       "    .dataframe tbody tr th:only-of-type {\n",
       "        vertical-align: middle;\n",
       "    }\n",
       "\n",
       "    .dataframe tbody tr th {\n",
       "        vertical-align: top;\n",
       "    }\n",
       "\n",
       "    .dataframe thead th {\n",
       "        text-align: right;\n",
       "    }\n",
       "</style>\n",
       "<table border=\"1\" class=\"dataframe\">\n",
       "  <thead>\n",
       "    <tr style=\"text-align: right;\">\n",
       "      <th></th>\n",
       "      <th>url</th>\n",
       "      <th>title</th>\n",
       "      <th>text</th>\n",
       "      <th>topic</th>\n",
       "      <th>tags</th>\n",
       "    </tr>\n",
       "  </thead>\n",
       "  <tbody>\n",
       "    <tr>\n",
       "      <th>0</th>\n",
       "      <td>https://lenta.ru/news/2018/12/14/cancer/</td>\n",
       "      <td>Названы регионы России с самой высокой смертно...</td>\n",
       "      <td>Вице-премьер по социальным вопросам Татьяна Го...</td>\n",
       "      <td>Россия</td>\n",
       "      <td>Общество</td>\n",
       "    </tr>\n",
       "    <tr>\n",
       "      <th>1</th>\n",
       "      <td>https://lenta.ru/news/2018/12/15/doping/</td>\n",
       "      <td>Австрия не представила доказательств вины росс...</td>\n",
       "      <td>Австрийские правоохранительные органы не предс...</td>\n",
       "      <td>Спорт</td>\n",
       "      <td>Зимние виды</td>\n",
       "    </tr>\n",
       "    <tr>\n",
       "      <th>2</th>\n",
       "      <td>https://lenta.ru/news/2018/12/15/disneyland/</td>\n",
       "      <td>Обнаружено самое счастливое место на планете</td>\n",
       "      <td>Сотрудники социальной сети Instagram проанализ...</td>\n",
       "      <td>Путешествия</td>\n",
       "      <td>Мир</td>\n",
       "    </tr>\n",
       "    <tr>\n",
       "      <th>3</th>\n",
       "      <td>https://lenta.ru/news/2018/12/15/usa25/</td>\n",
       "      <td>В США раскрыли сумму расходов на расследование...</td>\n",
       "      <td>С начала расследования российского вмешательст...</td>\n",
       "      <td>Мир</td>\n",
       "      <td>Политика</td>\n",
       "    </tr>\n",
       "    <tr>\n",
       "      <th>4</th>\n",
       "      <td>https://lenta.ru/news/2018/12/15/integrity/</td>\n",
       "      <td>Хакеры рассказали о планах Великобритании зами...</td>\n",
       "      <td>Хакерская группировка Anonymous опубликовала н...</td>\n",
       "      <td>Мир</td>\n",
       "      <td>Общество</td>\n",
       "    </tr>\n",
       "    <tr>\n",
       "      <th>...</th>\n",
       "      <td>...</td>\n",
       "      <td>...</td>\n",
       "      <td>...</td>\n",
       "      <td>...</td>\n",
       "      <td>...</td>\n",
       "    </tr>\n",
       "    <tr>\n",
       "      <th>995</th>\n",
       "      <td>https://lenta.ru/news/2018/12/08/skater/</td>\n",
       "      <td>Американский фигурист «воткнул» партнершу в ле...</td>\n",
       "      <td>Американский фигурист Тимоти Ледук уронил парт...</td>\n",
       "      <td>Спорт</td>\n",
       "      <td>Зимние виды</td>\n",
       "    </tr>\n",
       "    <tr>\n",
       "      <th>996</th>\n",
       "      <td>https://lenta.ru/news/2018/12/08/vred/</td>\n",
       "      <td>В новой нефтяной сделке нашли вред для России</td>\n",
       "      <td>Новое соглашение членов Организации стран-эксп...</td>\n",
       "      <td>Экономика</td>\n",
       "      <td>Госэкономика</td>\n",
       "    </tr>\n",
       "    <tr>\n",
       "      <th>997</th>\n",
       "      <td>https://lenta.ru/news/2018/12/08/9m729/</td>\n",
       "      <td>Предсказано будущее ракеты 9М729 после ультима...</td>\n",
       "      <td>Ответом России на ультиматум США по Договору о...</td>\n",
       "      <td>Наука и техника</td>\n",
       "      <td>Оружие</td>\n",
       "    </tr>\n",
       "    <tr>\n",
       "      <th>998</th>\n",
       "      <td>https://lenta.ru/news/2018/12/08/paris/</td>\n",
       "      <td>В охваченный протестами Париж вошла бронетехника</td>\n",
       "      <td>В Париж, где продолжаются антиправительственны...</td>\n",
       "      <td>Мир</td>\n",
       "      <td>Общество</td>\n",
       "    </tr>\n",
       "    <tr>\n",
       "      <th>999</th>\n",
       "      <td>https://lenta.ru/news/2018/12/08/pribavka/</td>\n",
       "      <td>Униженный доплатой ветеран пообещал отправить ...</td>\n",
       "      <td>Пенсионер Владимир Попов сообщил, что обращалс...</td>\n",
       "      <td>Россия</td>\n",
       "      <td>Общество</td>\n",
       "    </tr>\n",
       "  </tbody>\n",
       "</table>\n",
       "<p>1000 rows × 5 columns</p>\n",
       "</div>"
      ],
      "text/plain": [
       "                                              url  \\\n",
       "0        https://lenta.ru/news/2018/12/14/cancer/   \n",
       "1        https://lenta.ru/news/2018/12/15/doping/   \n",
       "2    https://lenta.ru/news/2018/12/15/disneyland/   \n",
       "3         https://lenta.ru/news/2018/12/15/usa25/   \n",
       "4     https://lenta.ru/news/2018/12/15/integrity/   \n",
       "..                                            ...   \n",
       "995      https://lenta.ru/news/2018/12/08/skater/   \n",
       "996        https://lenta.ru/news/2018/12/08/vred/   \n",
       "997       https://lenta.ru/news/2018/12/08/9m729/   \n",
       "998       https://lenta.ru/news/2018/12/08/paris/   \n",
       "999    https://lenta.ru/news/2018/12/08/pribavka/   \n",
       "\n",
       "                                                 title  \\\n",
       "0    Названы регионы России с самой высокой смертно...   \n",
       "1    Австрия не представила доказательств вины росс...   \n",
       "2         Обнаружено самое счастливое место на планете   \n",
       "3    В США раскрыли сумму расходов на расследование...   \n",
       "4    Хакеры рассказали о планах Великобритании зами...   \n",
       "..                                                 ...   \n",
       "995  Американский фигурист «воткнул» партнершу в ле...   \n",
       "996      В новой нефтяной сделке нашли вред для России   \n",
       "997  Предсказано будущее ракеты 9М729 после ультима...   \n",
       "998   В охваченный протестами Париж вошла бронетехника   \n",
       "999  Униженный доплатой ветеран пообещал отправить ...   \n",
       "\n",
       "                                                  text            topic  \\\n",
       "0    Вице-премьер по социальным вопросам Татьяна Го...           Россия   \n",
       "1    Австрийские правоохранительные органы не предс...            Спорт   \n",
       "2    Сотрудники социальной сети Instagram проанализ...      Путешествия   \n",
       "3    С начала расследования российского вмешательст...              Мир   \n",
       "4    Хакерская группировка Anonymous опубликовала н...              Мир   \n",
       "..                                                 ...              ...   \n",
       "995  Американский фигурист Тимоти Ледук уронил парт...            Спорт   \n",
       "996  Новое соглашение членов Организации стран-эксп...        Экономика   \n",
       "997  Ответом России на ультиматум США по Договору о...  Наука и техника   \n",
       "998  В Париж, где продолжаются антиправительственны...              Мир   \n",
       "999  Пенсионер Владимир Попов сообщил, что обращалс...           Россия   \n",
       "\n",
       "             tags  \n",
       "0        Общество  \n",
       "1     Зимние виды  \n",
       "2             Мир  \n",
       "3        Политика  \n",
       "4        Общество  \n",
       "..            ...  \n",
       "995   Зимние виды  \n",
       "996  Госэкономика  \n",
       "997        Оружие  \n",
       "998      Общество  \n",
       "999      Общество  \n",
       "\n",
       "[1000 rows x 5 columns]"
      ]
     },
     "execution_count": 76,
     "metadata": {},
     "output_type": "execute_result"
    }
   ],
   "source": [
    "df\n"
   ]
  },
  {
   "cell_type": "code",
   "execution_count": 81,
   "metadata": {},
   "outputs": [],
   "source": [
    "df = pd.read_csv(\"/Users/R1303-M-4-Stud/PlanningLooker/lenta-ru-news_csv/lenta-ru-news.csv\", nrows=200)\n",
    "add_rows = []\n",
    "for i in df[\"title\"]:\n",
    "    add_rows.append(i)\n",
    "with open(\"/Users/R1303-M-4-Stud/PlanningLooker/edz_neg_dataset.txt\", \"a\") as f:\n",
    "    for i in add_rows:\n",
    "        f.write(i+\"\\n\")"
   ]
  }
 ],
 "metadata": {
  "kernelspec": {
   "display_name": "Python 3",
   "language": "python",
   "name": "python3"
  },
  "language_info": {
   "codemirror_mode": {
    "name": "ipython",
    "version": 3
   },
   "file_extension": ".py",
   "mimetype": "text/x-python",
   "name": "python",
   "nbconvert_exporter": "python",
   "pygments_lexer": "ipython3",
   "version": "3.11.1"
  },
  "orig_nbformat": 4
 },
 "nbformat": 4,
 "nbformat_minor": 2
}

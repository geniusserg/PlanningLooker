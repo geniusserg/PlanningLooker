{
 "cells": [
  {
   "attachments": {},
   "cell_type": "markdown",
   "metadata": {},
   "source": [
    "# DailyDialog"
   ]
  },
  {
   "attachments": {},
   "cell_type": "markdown",
   "metadata": {},
   "source": [
    "\n",
    "2) dialogues_topic.txt:  {1: Ordinary Life, 2: School Life, 3: Culture & Education,\n",
    "                        4: Attitude & Emotion, 5: Relationship, 6: Tourism , 7: Health, 8: Work, 9: Politics, 10: Finance}\n",
    "\n",
    "3) dialogues_act.txt: { 1: inform，2: question, 3: directive, 4: commissive }\n",
    "\n",
    "4) dialogues_emotion.txt: { 0: no emotion, 1: anger, 2: disgust, 3: fear, 4: happiness, 5: sadness, 6: surprise}"
   ]
  },
  {
   "attachments": {},
   "cell_type": "markdown",
   "metadata": {},
   "source": [
    "http://yanran.li/dailydialog"
   ]
  },
  {
   "cell_type": "code",
   "execution_count": 4,
   "metadata": {},
   "outputs": [
    {
     "data": {
      "text/plain": [
       "\"The kitchen stinks . __eou__ I'll throw out the garbage . __eou__\\nSo Dick , how about getting some coffee for tonight ? __eou__ Coffee ? I don ’ t honestly like that kind of stuff . __eou__ Come on , \""
      ]
     },
     "execution_count": 4,
     "metadata": {},
     "output_type": "execute_result"
    }
   ],
   "source": [
    "with open(\"/workspaces/codespaces-jupyter/data/ijcnlp_dailydialog/dialogues_text.txt\", \"r\") as f:\n",
    "    raw_data = f.read()\n",
    "raw_data[:200]"
   ]
  },
  {
   "cell_type": "code",
   "execution_count": 2,
   "metadata": {},
   "outputs": [
    {
     "data": {
      "text/plain": [
       "'3 4 \\n3 4 3 1 1 \\n2 1 3 4 \\n3 2 1 1 \\n3 4 1 \\n2 1 2 1 3 4 3 4 3 \\n2 2 3 4 \\n2 1 2 1 2 1 1 2 1 \\n3 4 \\n2 1 2 1'"
      ]
     },
     "execution_count": 2,
     "metadata": {},
     "output_type": "execute_result"
    }
   ],
   "source": [
    "with open(\"/workspaces/codespaces-jupyter/data/ijcnlp_dailydialog/dialogues_act.txt\", \"r\") as f:\n",
    "    raw_data_act = f.read()\n",
    "raw_data_act[:100]"
   ]
  }
 ],
 "metadata": {
  "kernelspec": {
   "display_name": "Python 3",
   "language": "python",
   "name": "python3"
  },
  "language_info": {
   "codemirror_mode": {
    "name": "ipython",
    "version": 3
   },
   "file_extension": ".py",
   "mimetype": "text/x-python",
   "name": "python",
   "nbconvert_exporter": "python",
   "pygments_lexer": "ipython3",
   "version": "3.10.4"
  },
  "orig_nbformat": 4
 },
 "nbformat": 4,
 "nbformat_minor": 2
}

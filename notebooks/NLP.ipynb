{
 "cells": [
  {
   "cell_type": "code",
   "execution_count": 29,
   "metadata": {},
   "outputs": [
    {
     "name": "stderr",
     "output_type": "stream",
     "text": [
      "[nltk_data] Downloading package universal_tagset to\n",
      "[nltk_data]     C:\\Users\\sirau\\AppData\\Roaming\\nltk_data...\n",
      "[nltk_data]   Package universal_tagset is already up-to-date!\n",
      "[nltk_data] Downloading package stopwords to\n",
      "[nltk_data]     C:\\Users\\sirau\\AppData\\Roaming\\nltk_data...\n",
      "[nltk_data]   Package stopwords is already up-to-date!\n"
     ]
    }
   ],
   "source": [
    "import pandas as pd\n",
    "import re\n",
    "import os\n",
    "import numpy as np\n",
    "import nltk\n",
    "import spacy\n",
    "import string\n",
    "import matplotlib.pyplot as plt\n",
    "from nltk import word_tokenize\n",
    "from spacy import displacy\n",
    "from sklearn.feature_extraction.text import CountVectorizer, TfidfTransformer\n",
    "\n",
    "nlp = spacy.load(\"en_core_web_sm\")\n",
    "nltk.download('universal_tagset')\n",
    "nltk.download(\"stopwords\")\n",
    "from nltk.corpus import stopwords"
   ]
  },
  {
   "attachments": {},
   "cell_type": "markdown",
   "metadata": {},
   "source": [
    "Я решил работать с датасетами диалогов в надежде, что они дадут информацию о структурах сообщений-планов. \n",
    "Нам надо из сообщений, где есть даты\\вермя выделить именно те, которые говорят о плане задаче или о событии. Вероятнее всего надо попробовать прокластеризировать сообщения, так как вручную разметить десятки тысяч сообщений не вариант. Когда будет размеченный датасет, можно попробовать построить классификатор)"
   ]
  },
  {
   "attachments": {},
   "cell_type": "markdown",
   "metadata": {},
   "source": [
    "Сначала сделаем алгоритм, который ищет токен времени и соотносящийся к нему ROOT токен с помощью spacy. Строка из датасета multiwoz.ipynb"
   ]
  },
  {
   "cell_type": "code",
   "execution_count": 30,
   "metadata": {},
   "outputs": [],
   "source": [
    "docs = [\"Boss is planning a vacation tomorrow night and really could use some help finding a good place to stay in town.\",\n",
    "        \"I`m going to stay here 2 for 5 nights starting Sunday\",\n",
    "        \"I need to arrive at 13:45\",\n",
    "        \"I need the travel day to be Sunday\",\n",
    "        \"I'll be going to Cambridge and arrive by 13:45\", \n",
    "        \"Train TR7468 will arrive at 13:23.\",\n",
    "        \"Bears wake up at spring\"]"
   ]
  },
  {
   "cell_type": "code",
   "execution_count": 31,
   "metadata": {},
   "outputs": [
    {
     "data": {
      "text/html": [
       "<div>\n",
       "<style scoped>\n",
       "    .dataframe tbody tr th:only-of-type {\n",
       "        vertical-align: middle;\n",
       "    }\n",
       "\n",
       "    .dataframe tbody tr th {\n",
       "        vertical-align: top;\n",
       "    }\n",
       "\n",
       "    .dataframe thead th {\n",
       "        text-align: right;\n",
       "    }\n",
       "</style>\n",
       "<table border=\"1\" class=\"dataframe\">\n",
       "  <thead>\n",
       "    <tr style=\"text-align: right;\">\n",
       "      <th></th>\n",
       "      <th>Token</th>\n",
       "      <th>lemma</th>\n",
       "      <th>entity</th>\n",
       "      <th>full</th>\n",
       "      <th>entity</th>\n",
       "      <th>dep type</th>\n",
       "      <th>head</th>\n",
       "    </tr>\n",
       "  </thead>\n",
       "  <tbody>\n",
       "    <tr>\n",
       "      <th>0</th>\n",
       "      <td>Boss</td>\n",
       "      <td>boss</td>\n",
       "      <td></td>\n",
       "      <td>NOUN</td>\n",
       "      <td>NN</td>\n",
       "      <td>nsubj</td>\n",
       "      <td>planning</td>\n",
       "    </tr>\n",
       "    <tr>\n",
       "      <th>1</th>\n",
       "      <td>is</td>\n",
       "      <td>be</td>\n",
       "      <td></td>\n",
       "      <td>AUX</td>\n",
       "      <td>VBZ</td>\n",
       "      <td>aux</td>\n",
       "      <td>planning</td>\n",
       "    </tr>\n",
       "    <tr>\n",
       "      <th>2</th>\n",
       "      <td>planning</td>\n",
       "      <td>plan</td>\n",
       "      <td></td>\n",
       "      <td>VERB</td>\n",
       "      <td>VBG</td>\n",
       "      <td>ROOT</td>\n",
       "      <td>planning</td>\n",
       "    </tr>\n",
       "    <tr>\n",
       "      <th>3</th>\n",
       "      <td>a</td>\n",
       "      <td>a</td>\n",
       "      <td></td>\n",
       "      <td>DET</td>\n",
       "      <td>DT</td>\n",
       "      <td>det</td>\n",
       "      <td>vacation</td>\n",
       "    </tr>\n",
       "    <tr>\n",
       "      <th>4</th>\n",
       "      <td>vacation</td>\n",
       "      <td>vacation</td>\n",
       "      <td></td>\n",
       "      <td>NOUN</td>\n",
       "      <td>NN</td>\n",
       "      <td>dobj</td>\n",
       "      <td>planning</td>\n",
       "    </tr>\n",
       "    <tr>\n",
       "      <th>5</th>\n",
       "      <td>tomorrow</td>\n",
       "      <td>tomorrow</td>\n",
       "      <td></td>\n",
       "      <td>NOUN</td>\n",
       "      <td>NN</td>\n",
       "      <td>compound</td>\n",
       "      <td>night</td>\n",
       "    </tr>\n",
       "    <tr>\n",
       "      <th>6</th>\n",
       "      <td>night</td>\n",
       "      <td>night</td>\n",
       "      <td></td>\n",
       "      <td>NOUN</td>\n",
       "      <td>NN</td>\n",
       "      <td>npadvmod</td>\n",
       "      <td>planning</td>\n",
       "    </tr>\n",
       "    <tr>\n",
       "      <th>7</th>\n",
       "      <td>and</td>\n",
       "      <td>and</td>\n",
       "      <td></td>\n",
       "      <td>CCONJ</td>\n",
       "      <td>CC</td>\n",
       "      <td>cc</td>\n",
       "      <td>planning</td>\n",
       "    </tr>\n",
       "    <tr>\n",
       "      <th>8</th>\n",
       "      <td>really</td>\n",
       "      <td>really</td>\n",
       "      <td></td>\n",
       "      <td>ADV</td>\n",
       "      <td>RB</td>\n",
       "      <td>advmod</td>\n",
       "      <td>use</td>\n",
       "    </tr>\n",
       "    <tr>\n",
       "      <th>9</th>\n",
       "      <td>could</td>\n",
       "      <td>could</td>\n",
       "      <td></td>\n",
       "      <td>AUX</td>\n",
       "      <td>MD</td>\n",
       "      <td>aux</td>\n",
       "      <td>use</td>\n",
       "    </tr>\n",
       "    <tr>\n",
       "      <th>10</th>\n",
       "      <td>use</td>\n",
       "      <td>use</td>\n",
       "      <td></td>\n",
       "      <td>VERB</td>\n",
       "      <td>VB</td>\n",
       "      <td>conj</td>\n",
       "      <td>planning</td>\n",
       "    </tr>\n",
       "    <tr>\n",
       "      <th>11</th>\n",
       "      <td>some</td>\n",
       "      <td>some</td>\n",
       "      <td></td>\n",
       "      <td>DET</td>\n",
       "      <td>DT</td>\n",
       "      <td>det</td>\n",
       "      <td>help</td>\n",
       "    </tr>\n",
       "    <tr>\n",
       "      <th>12</th>\n",
       "      <td>help</td>\n",
       "      <td>help</td>\n",
       "      <td></td>\n",
       "      <td>NOUN</td>\n",
       "      <td>NN</td>\n",
       "      <td>dobj</td>\n",
       "      <td>use</td>\n",
       "    </tr>\n",
       "    <tr>\n",
       "      <th>13</th>\n",
       "      <td>finding</td>\n",
       "      <td>find</td>\n",
       "      <td></td>\n",
       "      <td>VERB</td>\n",
       "      <td>VBG</td>\n",
       "      <td>acl</td>\n",
       "      <td>help</td>\n",
       "    </tr>\n",
       "    <tr>\n",
       "      <th>14</th>\n",
       "      <td>a</td>\n",
       "      <td>a</td>\n",
       "      <td></td>\n",
       "      <td>DET</td>\n",
       "      <td>DT</td>\n",
       "      <td>det</td>\n",
       "      <td>place</td>\n",
       "    </tr>\n",
       "    <tr>\n",
       "      <th>15</th>\n",
       "      <td>good</td>\n",
       "      <td>good</td>\n",
       "      <td></td>\n",
       "      <td>ADJ</td>\n",
       "      <td>JJ</td>\n",
       "      <td>amod</td>\n",
       "      <td>place</td>\n",
       "    </tr>\n",
       "    <tr>\n",
       "      <th>16</th>\n",
       "      <td>place</td>\n",
       "      <td>place</td>\n",
       "      <td></td>\n",
       "      <td>NOUN</td>\n",
       "      <td>NN</td>\n",
       "      <td>dobj</td>\n",
       "      <td>finding</td>\n",
       "    </tr>\n",
       "    <tr>\n",
       "      <th>17</th>\n",
       "      <td>to</td>\n",
       "      <td>to</td>\n",
       "      <td></td>\n",
       "      <td>PART</td>\n",
       "      <td>TO</td>\n",
       "      <td>aux</td>\n",
       "      <td>stay</td>\n",
       "    </tr>\n",
       "    <tr>\n",
       "      <th>18</th>\n",
       "      <td>stay</td>\n",
       "      <td>stay</td>\n",
       "      <td></td>\n",
       "      <td>VERB</td>\n",
       "      <td>VB</td>\n",
       "      <td>relcl</td>\n",
       "      <td>place</td>\n",
       "    </tr>\n",
       "    <tr>\n",
       "      <th>19</th>\n",
       "      <td>in</td>\n",
       "      <td>in</td>\n",
       "      <td></td>\n",
       "      <td>ADP</td>\n",
       "      <td>IN</td>\n",
       "      <td>prep</td>\n",
       "      <td>stay</td>\n",
       "    </tr>\n",
       "    <tr>\n",
       "      <th>20</th>\n",
       "      <td>town</td>\n",
       "      <td>town</td>\n",
       "      <td></td>\n",
       "      <td>NOUN</td>\n",
       "      <td>NN</td>\n",
       "      <td>pobj</td>\n",
       "      <td>in</td>\n",
       "    </tr>\n",
       "    <tr>\n",
       "      <th>21</th>\n",
       "      <td>.</td>\n",
       "      <td>.</td>\n",
       "      <td></td>\n",
       "      <td>PUNCT</td>\n",
       "      <td>.</td>\n",
       "      <td>punct</td>\n",
       "      <td>planning</td>\n",
       "    </tr>\n",
       "  </tbody>\n",
       "</table>\n",
       "</div>"
      ],
      "text/plain": [
       "       Token     lemma entity   full entity  dep type      head\n",
       "0       Boss      boss          NOUN     NN     nsubj  planning\n",
       "1         is        be           AUX    VBZ       aux  planning\n",
       "2   planning      plan          VERB    VBG      ROOT  planning\n",
       "3          a         a           DET     DT       det  vacation\n",
       "4   vacation  vacation          NOUN     NN      dobj  planning\n",
       "5   tomorrow  tomorrow          NOUN     NN  compound     night\n",
       "6      night     night          NOUN     NN  npadvmod  planning\n",
       "7        and       and         CCONJ     CC        cc  planning\n",
       "8     really    really           ADV     RB    advmod       use\n",
       "9      could     could           AUX     MD       aux       use\n",
       "10       use       use          VERB     VB      conj  planning\n",
       "11      some      some           DET     DT       det      help\n",
       "12      help      help          NOUN     NN      dobj       use\n",
       "13   finding      find          VERB    VBG       acl      help\n",
       "14         a         a           DET     DT       det     place\n",
       "15      good      good           ADJ     JJ      amod     place\n",
       "16     place     place          NOUN     NN      dobj   finding\n",
       "17        to        to          PART     TO       aux      stay\n",
       "18      stay      stay          VERB     VB     relcl     place\n",
       "19        in        in           ADP     IN      prep      stay\n",
       "20      town      town          NOUN     NN      pobj        in\n",
       "21         .         .         PUNCT      .     punct  planning"
      ]
     },
     "execution_count": 31,
     "metadata": {},
     "output_type": "execute_result"
    }
   ],
   "source": [
    "tags = []\n",
    "doc = nlp(docs[0])\n",
    "for token in doc:\n",
    "    tags.append([token.text, token.lemma_, token.ent_type_, token.pos_, token.tag_, token.dep_, token.head])\n",
    "postok = {str(i): list(doc).index(i) for i in doc}\n",
    "pd.DataFrame(tags, columns = [\"Token\", \"lemma\", \"entity\", \"full\", \"entity\", \"dep type\", \"head\"])"
   ]
  },
  {
   "cell_type": "code",
   "execution_count": 32,
   "metadata": {},
   "outputs": [
    {
     "data": {
      "text/html": [
       "<span class=\"tex2jax_ignore\"><svg xmlns=\"http://www.w3.org/2000/svg\" xmlns:xlink=\"http://www.w3.org/1999/xlink\" xml:lang=\"en\" id=\"1b3ea779a2a54f98b8f2b24209065a48-0\" class=\"displacy\" width=\"3725\" height=\"574.5\" direction=\"ltr\" style=\"max-width: none; height: 574.5px; color: #000000; background: #ffffff; font-family: Arial; direction: ltr\">\n",
       "<text class=\"displacy-token\" fill=\"currentColor\" text-anchor=\"middle\" y=\"484.5\">\n",
       "    <tspan class=\"displacy-word\" fill=\"currentColor\" x=\"50\">Boss</tspan>\n",
       "    <tspan class=\"displacy-tag\" dy=\"2em\" fill=\"currentColor\" x=\"50\">NOUN</tspan>\n",
       "</text>\n",
       "\n",
       "<text class=\"displacy-token\" fill=\"currentColor\" text-anchor=\"middle\" y=\"484.5\">\n",
       "    <tspan class=\"displacy-word\" fill=\"currentColor\" x=\"225\">is</tspan>\n",
       "    <tspan class=\"displacy-tag\" dy=\"2em\" fill=\"currentColor\" x=\"225\">AUX</tspan>\n",
       "</text>\n",
       "\n",
       "<text class=\"displacy-token\" fill=\"currentColor\" text-anchor=\"middle\" y=\"484.5\">\n",
       "    <tspan class=\"displacy-word\" fill=\"currentColor\" x=\"400\">planning</tspan>\n",
       "    <tspan class=\"displacy-tag\" dy=\"2em\" fill=\"currentColor\" x=\"400\">VERB</tspan>\n",
       "</text>\n",
       "\n",
       "<text class=\"displacy-token\" fill=\"currentColor\" text-anchor=\"middle\" y=\"484.5\">\n",
       "    <tspan class=\"displacy-word\" fill=\"currentColor\" x=\"575\">a</tspan>\n",
       "    <tspan class=\"displacy-tag\" dy=\"2em\" fill=\"currentColor\" x=\"575\">DET</tspan>\n",
       "</text>\n",
       "\n",
       "<text class=\"displacy-token\" fill=\"currentColor\" text-anchor=\"middle\" y=\"484.5\">\n",
       "    <tspan class=\"displacy-word\" fill=\"currentColor\" x=\"750\">vacation</tspan>\n",
       "    <tspan class=\"displacy-tag\" dy=\"2em\" fill=\"currentColor\" x=\"750\">NOUN</tspan>\n",
       "</text>\n",
       "\n",
       "<text class=\"displacy-token\" fill=\"currentColor\" text-anchor=\"middle\" y=\"484.5\">\n",
       "    <tspan class=\"displacy-word\" fill=\"currentColor\" x=\"925\">tomorrow</tspan>\n",
       "    <tspan class=\"displacy-tag\" dy=\"2em\" fill=\"currentColor\" x=\"925\">NOUN</tspan>\n",
       "</text>\n",
       "\n",
       "<text class=\"displacy-token\" fill=\"currentColor\" text-anchor=\"middle\" y=\"484.5\">\n",
       "    <tspan class=\"displacy-word\" fill=\"currentColor\" x=\"1100\">night</tspan>\n",
       "    <tspan class=\"displacy-tag\" dy=\"2em\" fill=\"currentColor\" x=\"1100\">NOUN</tspan>\n",
       "</text>\n",
       "\n",
       "<text class=\"displacy-token\" fill=\"currentColor\" text-anchor=\"middle\" y=\"484.5\">\n",
       "    <tspan class=\"displacy-word\" fill=\"currentColor\" x=\"1275\">and</tspan>\n",
       "    <tspan class=\"displacy-tag\" dy=\"2em\" fill=\"currentColor\" x=\"1275\">CCONJ</tspan>\n",
       "</text>\n",
       "\n",
       "<text class=\"displacy-token\" fill=\"currentColor\" text-anchor=\"middle\" y=\"484.5\">\n",
       "    <tspan class=\"displacy-word\" fill=\"currentColor\" x=\"1450\">really</tspan>\n",
       "    <tspan class=\"displacy-tag\" dy=\"2em\" fill=\"currentColor\" x=\"1450\">ADV</tspan>\n",
       "</text>\n",
       "\n",
       "<text class=\"displacy-token\" fill=\"currentColor\" text-anchor=\"middle\" y=\"484.5\">\n",
       "    <tspan class=\"displacy-word\" fill=\"currentColor\" x=\"1625\">could</tspan>\n",
       "    <tspan class=\"displacy-tag\" dy=\"2em\" fill=\"currentColor\" x=\"1625\">AUX</tspan>\n",
       "</text>\n",
       "\n",
       "<text class=\"displacy-token\" fill=\"currentColor\" text-anchor=\"middle\" y=\"484.5\">\n",
       "    <tspan class=\"displacy-word\" fill=\"currentColor\" x=\"1800\">use</tspan>\n",
       "    <tspan class=\"displacy-tag\" dy=\"2em\" fill=\"currentColor\" x=\"1800\">VERB</tspan>\n",
       "</text>\n",
       "\n",
       "<text class=\"displacy-token\" fill=\"currentColor\" text-anchor=\"middle\" y=\"484.5\">\n",
       "    <tspan class=\"displacy-word\" fill=\"currentColor\" x=\"1975\">some</tspan>\n",
       "    <tspan class=\"displacy-tag\" dy=\"2em\" fill=\"currentColor\" x=\"1975\">DET</tspan>\n",
       "</text>\n",
       "\n",
       "<text class=\"displacy-token\" fill=\"currentColor\" text-anchor=\"middle\" y=\"484.5\">\n",
       "    <tspan class=\"displacy-word\" fill=\"currentColor\" x=\"2150\">help</tspan>\n",
       "    <tspan class=\"displacy-tag\" dy=\"2em\" fill=\"currentColor\" x=\"2150\">NOUN</tspan>\n",
       "</text>\n",
       "\n",
       "<text class=\"displacy-token\" fill=\"currentColor\" text-anchor=\"middle\" y=\"484.5\">\n",
       "    <tspan class=\"displacy-word\" fill=\"currentColor\" x=\"2325\">finding</tspan>\n",
       "    <tspan class=\"displacy-tag\" dy=\"2em\" fill=\"currentColor\" x=\"2325\">VERB</tspan>\n",
       "</text>\n",
       "\n",
       "<text class=\"displacy-token\" fill=\"currentColor\" text-anchor=\"middle\" y=\"484.5\">\n",
       "    <tspan class=\"displacy-word\" fill=\"currentColor\" x=\"2500\">a</tspan>\n",
       "    <tspan class=\"displacy-tag\" dy=\"2em\" fill=\"currentColor\" x=\"2500\">DET</tspan>\n",
       "</text>\n",
       "\n",
       "<text class=\"displacy-token\" fill=\"currentColor\" text-anchor=\"middle\" y=\"484.5\">\n",
       "    <tspan class=\"displacy-word\" fill=\"currentColor\" x=\"2675\">good</tspan>\n",
       "    <tspan class=\"displacy-tag\" dy=\"2em\" fill=\"currentColor\" x=\"2675\">ADJ</tspan>\n",
       "</text>\n",
       "\n",
       "<text class=\"displacy-token\" fill=\"currentColor\" text-anchor=\"middle\" y=\"484.5\">\n",
       "    <tspan class=\"displacy-word\" fill=\"currentColor\" x=\"2850\">place</tspan>\n",
       "    <tspan class=\"displacy-tag\" dy=\"2em\" fill=\"currentColor\" x=\"2850\">NOUN</tspan>\n",
       "</text>\n",
       "\n",
       "<text class=\"displacy-token\" fill=\"currentColor\" text-anchor=\"middle\" y=\"484.5\">\n",
       "    <tspan class=\"displacy-word\" fill=\"currentColor\" x=\"3025\">to</tspan>\n",
       "    <tspan class=\"displacy-tag\" dy=\"2em\" fill=\"currentColor\" x=\"3025\">PART</tspan>\n",
       "</text>\n",
       "\n",
       "<text class=\"displacy-token\" fill=\"currentColor\" text-anchor=\"middle\" y=\"484.5\">\n",
       "    <tspan class=\"displacy-word\" fill=\"currentColor\" x=\"3200\">stay</tspan>\n",
       "    <tspan class=\"displacy-tag\" dy=\"2em\" fill=\"currentColor\" x=\"3200\">VERB</tspan>\n",
       "</text>\n",
       "\n",
       "<text class=\"displacy-token\" fill=\"currentColor\" text-anchor=\"middle\" y=\"484.5\">\n",
       "    <tspan class=\"displacy-word\" fill=\"currentColor\" x=\"3375\">in</tspan>\n",
       "    <tspan class=\"displacy-tag\" dy=\"2em\" fill=\"currentColor\" x=\"3375\">ADP</tspan>\n",
       "</text>\n",
       "\n",
       "<text class=\"displacy-token\" fill=\"currentColor\" text-anchor=\"middle\" y=\"484.5\">\n",
       "    <tspan class=\"displacy-word\" fill=\"currentColor\" x=\"3550\">town.</tspan>\n",
       "    <tspan class=\"displacy-tag\" dy=\"2em\" fill=\"currentColor\" x=\"3550\">NOUN</tspan>\n",
       "</text>\n",
       "\n",
       "<g class=\"displacy-arrow\">\n",
       "    <path class=\"displacy-arc\" id=\"arrow-1b3ea779a2a54f98b8f2b24209065a48-0-0\" stroke-width=\"2px\" d=\"M70,439.5 C70,264.5 385.0,264.5 385.0,439.5\" fill=\"none\" stroke=\"currentColor\"/>\n",
       "    <text dy=\"1.25em\" style=\"font-size: 0.8em; letter-spacing: 1px\">\n",
       "        <textPath xlink:href=\"#arrow-1b3ea779a2a54f98b8f2b24209065a48-0-0\" class=\"displacy-label\" startOffset=\"50%\" side=\"left\" fill=\"currentColor\" text-anchor=\"middle\">nsubj</textPath>\n",
       "    </text>\n",
       "    <path class=\"displacy-arrowhead\" d=\"M70,441.5 L62,429.5 78,429.5\" fill=\"currentColor\"/>\n",
       "</g>\n",
       "\n",
       "<g class=\"displacy-arrow\">\n",
       "    <path class=\"displacy-arc\" id=\"arrow-1b3ea779a2a54f98b8f2b24209065a48-0-1\" stroke-width=\"2px\" d=\"M245,439.5 C245,352.0 380.0,352.0 380.0,439.5\" fill=\"none\" stroke=\"currentColor\"/>\n",
       "    <text dy=\"1.25em\" style=\"font-size: 0.8em; letter-spacing: 1px\">\n",
       "        <textPath xlink:href=\"#arrow-1b3ea779a2a54f98b8f2b24209065a48-0-1\" class=\"displacy-label\" startOffset=\"50%\" side=\"left\" fill=\"currentColor\" text-anchor=\"middle\">aux</textPath>\n",
       "    </text>\n",
       "    <path class=\"displacy-arrowhead\" d=\"M245,441.5 L237,429.5 253,429.5\" fill=\"currentColor\"/>\n",
       "</g>\n",
       "\n",
       "<g class=\"displacy-arrow\">\n",
       "    <path class=\"displacy-arc\" id=\"arrow-1b3ea779a2a54f98b8f2b24209065a48-0-2\" stroke-width=\"2px\" d=\"M595,439.5 C595,352.0 730.0,352.0 730.0,439.5\" fill=\"none\" stroke=\"currentColor\"/>\n",
       "    <text dy=\"1.25em\" style=\"font-size: 0.8em; letter-spacing: 1px\">\n",
       "        <textPath xlink:href=\"#arrow-1b3ea779a2a54f98b8f2b24209065a48-0-2\" class=\"displacy-label\" startOffset=\"50%\" side=\"left\" fill=\"currentColor\" text-anchor=\"middle\">det</textPath>\n",
       "    </text>\n",
       "    <path class=\"displacy-arrowhead\" d=\"M595,441.5 L587,429.5 603,429.5\" fill=\"currentColor\"/>\n",
       "</g>\n",
       "\n",
       "<g class=\"displacy-arrow\">\n",
       "    <path class=\"displacy-arc\" id=\"arrow-1b3ea779a2a54f98b8f2b24209065a48-0-3\" stroke-width=\"2px\" d=\"M420,439.5 C420,264.5 735.0,264.5 735.0,439.5\" fill=\"none\" stroke=\"currentColor\"/>\n",
       "    <text dy=\"1.25em\" style=\"font-size: 0.8em; letter-spacing: 1px\">\n",
       "        <textPath xlink:href=\"#arrow-1b3ea779a2a54f98b8f2b24209065a48-0-3\" class=\"displacy-label\" startOffset=\"50%\" side=\"left\" fill=\"currentColor\" text-anchor=\"middle\">dobj</textPath>\n",
       "    </text>\n",
       "    <path class=\"displacy-arrowhead\" d=\"M735.0,441.5 L743.0,429.5 727.0,429.5\" fill=\"currentColor\"/>\n",
       "</g>\n",
       "\n",
       "<g class=\"displacy-arrow\">\n",
       "    <path class=\"displacy-arc\" id=\"arrow-1b3ea779a2a54f98b8f2b24209065a48-0-4\" stroke-width=\"2px\" d=\"M945,439.5 C945,352.0 1080.0,352.0 1080.0,439.5\" fill=\"none\" stroke=\"currentColor\"/>\n",
       "    <text dy=\"1.25em\" style=\"font-size: 0.8em; letter-spacing: 1px\">\n",
       "        <textPath xlink:href=\"#arrow-1b3ea779a2a54f98b8f2b24209065a48-0-4\" class=\"displacy-label\" startOffset=\"50%\" side=\"left\" fill=\"currentColor\" text-anchor=\"middle\">compound</textPath>\n",
       "    </text>\n",
       "    <path class=\"displacy-arrowhead\" d=\"M945,441.5 L937,429.5 953,429.5\" fill=\"currentColor\"/>\n",
       "</g>\n",
       "\n",
       "<g class=\"displacy-arrow\">\n",
       "    <path class=\"displacy-arc\" id=\"arrow-1b3ea779a2a54f98b8f2b24209065a48-0-5\" stroke-width=\"2px\" d=\"M420,439.5 C420,177.0 1090.0,177.0 1090.0,439.5\" fill=\"none\" stroke=\"currentColor\"/>\n",
       "    <text dy=\"1.25em\" style=\"font-size: 0.8em; letter-spacing: 1px\">\n",
       "        <textPath xlink:href=\"#arrow-1b3ea779a2a54f98b8f2b24209065a48-0-5\" class=\"displacy-label\" startOffset=\"50%\" side=\"left\" fill=\"currentColor\" text-anchor=\"middle\">npadvmod</textPath>\n",
       "    </text>\n",
       "    <path class=\"displacy-arrowhead\" d=\"M1090.0,441.5 L1098.0,429.5 1082.0,429.5\" fill=\"currentColor\"/>\n",
       "</g>\n",
       "\n",
       "<g class=\"displacy-arrow\">\n",
       "    <path class=\"displacy-arc\" id=\"arrow-1b3ea779a2a54f98b8f2b24209065a48-0-6\" stroke-width=\"2px\" d=\"M420,439.5 C420,89.5 1270.0,89.5 1270.0,439.5\" fill=\"none\" stroke=\"currentColor\"/>\n",
       "    <text dy=\"1.25em\" style=\"font-size: 0.8em; letter-spacing: 1px\">\n",
       "        <textPath xlink:href=\"#arrow-1b3ea779a2a54f98b8f2b24209065a48-0-6\" class=\"displacy-label\" startOffset=\"50%\" side=\"left\" fill=\"currentColor\" text-anchor=\"middle\">cc</textPath>\n",
       "    </text>\n",
       "    <path class=\"displacy-arrowhead\" d=\"M1270.0,441.5 L1278.0,429.5 1262.0,429.5\" fill=\"currentColor\"/>\n",
       "</g>\n",
       "\n",
       "<g class=\"displacy-arrow\">\n",
       "    <path class=\"displacy-arc\" id=\"arrow-1b3ea779a2a54f98b8f2b24209065a48-0-7\" stroke-width=\"2px\" d=\"M1470,439.5 C1470,264.5 1785.0,264.5 1785.0,439.5\" fill=\"none\" stroke=\"currentColor\"/>\n",
       "    <text dy=\"1.25em\" style=\"font-size: 0.8em; letter-spacing: 1px\">\n",
       "        <textPath xlink:href=\"#arrow-1b3ea779a2a54f98b8f2b24209065a48-0-7\" class=\"displacy-label\" startOffset=\"50%\" side=\"left\" fill=\"currentColor\" text-anchor=\"middle\">advmod</textPath>\n",
       "    </text>\n",
       "    <path class=\"displacy-arrowhead\" d=\"M1470,441.5 L1462,429.5 1478,429.5\" fill=\"currentColor\"/>\n",
       "</g>\n",
       "\n",
       "<g class=\"displacy-arrow\">\n",
       "    <path class=\"displacy-arc\" id=\"arrow-1b3ea779a2a54f98b8f2b24209065a48-0-8\" stroke-width=\"2px\" d=\"M1645,439.5 C1645,352.0 1780.0,352.0 1780.0,439.5\" fill=\"none\" stroke=\"currentColor\"/>\n",
       "    <text dy=\"1.25em\" style=\"font-size: 0.8em; letter-spacing: 1px\">\n",
       "        <textPath xlink:href=\"#arrow-1b3ea779a2a54f98b8f2b24209065a48-0-8\" class=\"displacy-label\" startOffset=\"50%\" side=\"left\" fill=\"currentColor\" text-anchor=\"middle\">aux</textPath>\n",
       "    </text>\n",
       "    <path class=\"displacy-arrowhead\" d=\"M1645,441.5 L1637,429.5 1653,429.5\" fill=\"currentColor\"/>\n",
       "</g>\n",
       "\n",
       "<g class=\"displacy-arrow\">\n",
       "    <path class=\"displacy-arc\" id=\"arrow-1b3ea779a2a54f98b8f2b24209065a48-0-9\" stroke-width=\"2px\" d=\"M420,439.5 C420,2.0 1800.0,2.0 1800.0,439.5\" fill=\"none\" stroke=\"currentColor\"/>\n",
       "    <text dy=\"1.25em\" style=\"font-size: 0.8em; letter-spacing: 1px\">\n",
       "        <textPath xlink:href=\"#arrow-1b3ea779a2a54f98b8f2b24209065a48-0-9\" class=\"displacy-label\" startOffset=\"50%\" side=\"left\" fill=\"currentColor\" text-anchor=\"middle\">conj</textPath>\n",
       "    </text>\n",
       "    <path class=\"displacy-arrowhead\" d=\"M1800.0,441.5 L1808.0,429.5 1792.0,429.5\" fill=\"currentColor\"/>\n",
       "</g>\n",
       "\n",
       "<g class=\"displacy-arrow\">\n",
       "    <path class=\"displacy-arc\" id=\"arrow-1b3ea779a2a54f98b8f2b24209065a48-0-10\" stroke-width=\"2px\" d=\"M1995,439.5 C1995,352.0 2130.0,352.0 2130.0,439.5\" fill=\"none\" stroke=\"currentColor\"/>\n",
       "    <text dy=\"1.25em\" style=\"font-size: 0.8em; letter-spacing: 1px\">\n",
       "        <textPath xlink:href=\"#arrow-1b3ea779a2a54f98b8f2b24209065a48-0-10\" class=\"displacy-label\" startOffset=\"50%\" side=\"left\" fill=\"currentColor\" text-anchor=\"middle\">det</textPath>\n",
       "    </text>\n",
       "    <path class=\"displacy-arrowhead\" d=\"M1995,441.5 L1987,429.5 2003,429.5\" fill=\"currentColor\"/>\n",
       "</g>\n",
       "\n",
       "<g class=\"displacy-arrow\">\n",
       "    <path class=\"displacy-arc\" id=\"arrow-1b3ea779a2a54f98b8f2b24209065a48-0-11\" stroke-width=\"2px\" d=\"M1820,439.5 C1820,264.5 2135.0,264.5 2135.0,439.5\" fill=\"none\" stroke=\"currentColor\"/>\n",
       "    <text dy=\"1.25em\" style=\"font-size: 0.8em; letter-spacing: 1px\">\n",
       "        <textPath xlink:href=\"#arrow-1b3ea779a2a54f98b8f2b24209065a48-0-11\" class=\"displacy-label\" startOffset=\"50%\" side=\"left\" fill=\"currentColor\" text-anchor=\"middle\">dobj</textPath>\n",
       "    </text>\n",
       "    <path class=\"displacy-arrowhead\" d=\"M2135.0,441.5 L2143.0,429.5 2127.0,429.5\" fill=\"currentColor\"/>\n",
       "</g>\n",
       "\n",
       "<g class=\"displacy-arrow\">\n",
       "    <path class=\"displacy-arc\" id=\"arrow-1b3ea779a2a54f98b8f2b24209065a48-0-12\" stroke-width=\"2px\" d=\"M2170,439.5 C2170,352.0 2305.0,352.0 2305.0,439.5\" fill=\"none\" stroke=\"currentColor\"/>\n",
       "    <text dy=\"1.25em\" style=\"font-size: 0.8em; letter-spacing: 1px\">\n",
       "        <textPath xlink:href=\"#arrow-1b3ea779a2a54f98b8f2b24209065a48-0-12\" class=\"displacy-label\" startOffset=\"50%\" side=\"left\" fill=\"currentColor\" text-anchor=\"middle\">acl</textPath>\n",
       "    </text>\n",
       "    <path class=\"displacy-arrowhead\" d=\"M2305.0,441.5 L2313.0,429.5 2297.0,429.5\" fill=\"currentColor\"/>\n",
       "</g>\n",
       "\n",
       "<g class=\"displacy-arrow\">\n",
       "    <path class=\"displacy-arc\" id=\"arrow-1b3ea779a2a54f98b8f2b24209065a48-0-13\" stroke-width=\"2px\" d=\"M2520,439.5 C2520,264.5 2835.0,264.5 2835.0,439.5\" fill=\"none\" stroke=\"currentColor\"/>\n",
       "    <text dy=\"1.25em\" style=\"font-size: 0.8em; letter-spacing: 1px\">\n",
       "        <textPath xlink:href=\"#arrow-1b3ea779a2a54f98b8f2b24209065a48-0-13\" class=\"displacy-label\" startOffset=\"50%\" side=\"left\" fill=\"currentColor\" text-anchor=\"middle\">det</textPath>\n",
       "    </text>\n",
       "    <path class=\"displacy-arrowhead\" d=\"M2520,441.5 L2512,429.5 2528,429.5\" fill=\"currentColor\"/>\n",
       "</g>\n",
       "\n",
       "<g class=\"displacy-arrow\">\n",
       "    <path class=\"displacy-arc\" id=\"arrow-1b3ea779a2a54f98b8f2b24209065a48-0-14\" stroke-width=\"2px\" d=\"M2695,439.5 C2695,352.0 2830.0,352.0 2830.0,439.5\" fill=\"none\" stroke=\"currentColor\"/>\n",
       "    <text dy=\"1.25em\" style=\"font-size: 0.8em; letter-spacing: 1px\">\n",
       "        <textPath xlink:href=\"#arrow-1b3ea779a2a54f98b8f2b24209065a48-0-14\" class=\"displacy-label\" startOffset=\"50%\" side=\"left\" fill=\"currentColor\" text-anchor=\"middle\">amod</textPath>\n",
       "    </text>\n",
       "    <path class=\"displacy-arrowhead\" d=\"M2695,441.5 L2687,429.5 2703,429.5\" fill=\"currentColor\"/>\n",
       "</g>\n",
       "\n",
       "<g class=\"displacy-arrow\">\n",
       "    <path class=\"displacy-arc\" id=\"arrow-1b3ea779a2a54f98b8f2b24209065a48-0-15\" stroke-width=\"2px\" d=\"M2345,439.5 C2345,177.0 2840.0,177.0 2840.0,439.5\" fill=\"none\" stroke=\"currentColor\"/>\n",
       "    <text dy=\"1.25em\" style=\"font-size: 0.8em; letter-spacing: 1px\">\n",
       "        <textPath xlink:href=\"#arrow-1b3ea779a2a54f98b8f2b24209065a48-0-15\" class=\"displacy-label\" startOffset=\"50%\" side=\"left\" fill=\"currentColor\" text-anchor=\"middle\">dobj</textPath>\n",
       "    </text>\n",
       "    <path class=\"displacy-arrowhead\" d=\"M2840.0,441.5 L2848.0,429.5 2832.0,429.5\" fill=\"currentColor\"/>\n",
       "</g>\n",
       "\n",
       "<g class=\"displacy-arrow\">\n",
       "    <path class=\"displacy-arc\" id=\"arrow-1b3ea779a2a54f98b8f2b24209065a48-0-16\" stroke-width=\"2px\" d=\"M3045,439.5 C3045,352.0 3180.0,352.0 3180.0,439.5\" fill=\"none\" stroke=\"currentColor\"/>\n",
       "    <text dy=\"1.25em\" style=\"font-size: 0.8em; letter-spacing: 1px\">\n",
       "        <textPath xlink:href=\"#arrow-1b3ea779a2a54f98b8f2b24209065a48-0-16\" class=\"displacy-label\" startOffset=\"50%\" side=\"left\" fill=\"currentColor\" text-anchor=\"middle\">aux</textPath>\n",
       "    </text>\n",
       "    <path class=\"displacy-arrowhead\" d=\"M3045,441.5 L3037,429.5 3053,429.5\" fill=\"currentColor\"/>\n",
       "</g>\n",
       "\n",
       "<g class=\"displacy-arrow\">\n",
       "    <path class=\"displacy-arc\" id=\"arrow-1b3ea779a2a54f98b8f2b24209065a48-0-17\" stroke-width=\"2px\" d=\"M2870,439.5 C2870,264.5 3185.0,264.5 3185.0,439.5\" fill=\"none\" stroke=\"currentColor\"/>\n",
       "    <text dy=\"1.25em\" style=\"font-size: 0.8em; letter-spacing: 1px\">\n",
       "        <textPath xlink:href=\"#arrow-1b3ea779a2a54f98b8f2b24209065a48-0-17\" class=\"displacy-label\" startOffset=\"50%\" side=\"left\" fill=\"currentColor\" text-anchor=\"middle\">relcl</textPath>\n",
       "    </text>\n",
       "    <path class=\"displacy-arrowhead\" d=\"M3185.0,441.5 L3193.0,429.5 3177.0,429.5\" fill=\"currentColor\"/>\n",
       "</g>\n",
       "\n",
       "<g class=\"displacy-arrow\">\n",
       "    <path class=\"displacy-arc\" id=\"arrow-1b3ea779a2a54f98b8f2b24209065a48-0-18\" stroke-width=\"2px\" d=\"M3220,439.5 C3220,352.0 3355.0,352.0 3355.0,439.5\" fill=\"none\" stroke=\"currentColor\"/>\n",
       "    <text dy=\"1.25em\" style=\"font-size: 0.8em; letter-spacing: 1px\">\n",
       "        <textPath xlink:href=\"#arrow-1b3ea779a2a54f98b8f2b24209065a48-0-18\" class=\"displacy-label\" startOffset=\"50%\" side=\"left\" fill=\"currentColor\" text-anchor=\"middle\">prep</textPath>\n",
       "    </text>\n",
       "    <path class=\"displacy-arrowhead\" d=\"M3355.0,441.5 L3363.0,429.5 3347.0,429.5\" fill=\"currentColor\"/>\n",
       "</g>\n",
       "\n",
       "<g class=\"displacy-arrow\">\n",
       "    <path class=\"displacy-arc\" id=\"arrow-1b3ea779a2a54f98b8f2b24209065a48-0-19\" stroke-width=\"2px\" d=\"M3395,439.5 C3395,352.0 3530.0,352.0 3530.0,439.5\" fill=\"none\" stroke=\"currentColor\"/>\n",
       "    <text dy=\"1.25em\" style=\"font-size: 0.8em; letter-spacing: 1px\">\n",
       "        <textPath xlink:href=\"#arrow-1b3ea779a2a54f98b8f2b24209065a48-0-19\" class=\"displacy-label\" startOffset=\"50%\" side=\"left\" fill=\"currentColor\" text-anchor=\"middle\">pobj</textPath>\n",
       "    </text>\n",
       "    <path class=\"displacy-arrowhead\" d=\"M3530.0,441.5 L3538.0,429.5 3522.0,429.5\" fill=\"currentColor\"/>\n",
       "</g>\n",
       "</svg></span>"
      ],
      "text/plain": [
       "<IPython.core.display.HTML object>"
      ]
     },
     "metadata": {},
     "output_type": "display_data"
    }
   ],
   "source": [
    "displacy.render(doc, jupyter=True)"
   ]
  },
  {
   "attachments": {},
   "cell_type": "markdown",
   "metadata": {},
   "source": [
    "Я хочу развернуть полное предложение - ивент, от времени до главного слова фразы"
   ]
  },
  {
   "cell_type": "code",
   "execution_count": 33,
   "metadata": {},
   "outputs": [
    {
     "data": {
      "text/plain": [
       "[tomorrow, night, Boss, planning, vacation]"
      ]
     },
     "execution_count": 33,
     "metadata": {},
     "output_type": "execute_result"
    }
   ],
   "source": [
    "tok = doc[postok[\"tomorrow\"]] #Time token\n",
    "tok_seq = []\n",
    "token_head = tok\n",
    "while True:\n",
    "    filtered_tok_seq = [] # filter extra dependencies of root word\n",
    "    head_tok_seq = [*[i for i in token_head.lefts if i not in tok_seq], token_head, *[i for i in token_head.rights if i not in tok_seq]]\n",
    "    for j in range(len(head_tok_seq)):\n",
    "        if (head_tok_seq[j].dep_ in [\"dobj\", \"nsubj\", \"ROOT\"]) or (head_tok_seq[j] is token_head):\n",
    "            filtered_tok_seq.append(head_tok_seq[j])\n",
    "    tok_seq.extend(filtered_tok_seq)\n",
    "    if (token_head.dep_ == \"ROOT\"):\n",
    "        break\n",
    "    token_head = token_head.head\n",
    "tok_seq"
   ]
  },
  {
   "attachments": {},
   "cell_type": "markdown",
   "metadata": {},
   "source": [
    "Получили из токена времени tomorrow полное предложение - Boss, planning, vacation, tomorrow, night"
   ]
  },
  {
   "attachments": {},
   "cell_type": "markdown",
   "metadata": {},
   "source": [
    "## Representatoins of messages\n",
    " В начале посмотрим на датасет с сообщениями, собранный из источников:"
   ]
  },
  {
   "cell_type": "code",
   "execution_count": 58,
   "metadata": {},
   "outputs": [
    {
     "data": {
      "text/html": [
       "<div>\n",
       "<style scoped>\n",
       "    .dataframe tbody tr th:only-of-type {\n",
       "        vertical-align: middle;\n",
       "    }\n",
       "\n",
       "    .dataframe tbody tr th {\n",
       "        vertical-align: top;\n",
       "    }\n",
       "\n",
       "    .dataframe thead th {\n",
       "        text-align: right;\n",
       "    }\n",
       "</style>\n",
       "<table border=\"1\" class=\"dataframe\">\n",
       "  <thead>\n",
       "    <tr style=\"text-align: right;\">\n",
       "      <th></th>\n",
       "      <th>text</th>\n",
       "      <th>root</th>\n",
       "      <th>event</th>\n",
       "    </tr>\n",
       "  </thead>\n",
       "  <tbody>\n",
       "    <tr>\n",
       "      <th>0</th>\n",
       "      <td>Are you a fan of Google or Microsoft ?</td>\n",
       "      <td>NaN</td>\n",
       "      <td>NaN</td>\n",
       "    </tr>\n",
       "    <tr>\n",
       "      <th>1</th>\n",
       "      <td>Both are excellent technology they are helpful...</td>\n",
       "      <td>NaN</td>\n",
       "      <td>NaN</td>\n",
       "    </tr>\n",
       "    <tr>\n",
       "      <th>2</th>\n",
       "      <td>I 'm not   a huge fan of Google , but I use it...</td>\n",
       "      <td>NaN</td>\n",
       "      <td>NaN</td>\n",
       "    </tr>\n",
       "    <tr>\n",
       "      <th>3</th>\n",
       "      <td>Google provides online related services and pr...</td>\n",
       "      <td>NaN</td>\n",
       "      <td>NaN</td>\n",
       "    </tr>\n",
       "    <tr>\n",
       "      <th>4</th>\n",
       "      <td>Yeah , their services are good . I 'm just not...</td>\n",
       "      <td>NaN</td>\n",
       "      <td>NaN</td>\n",
       "    </tr>\n",
       "  </tbody>\n",
       "</table>\n",
       "</div>"
      ],
      "text/plain": [
       "                                                text root event\n",
       "0             Are you a fan of Google or Microsoft ?  NaN   NaN\n",
       "1  Both are excellent technology they are helpful...  NaN   NaN\n",
       "2  I 'm not   a huge fan of Google , but I use it...  NaN   NaN\n",
       "3  Google provides online related services and pr...  NaN   NaN\n",
       "4  Yeah , their services are good . I 'm just not...  NaN   NaN"
      ]
     },
     "execution_count": 58,
     "metadata": {},
     "output_type": "execute_result"
    }
   ],
   "source": [
    "df = pd.DataFrame()\n",
    "for frame in os.listdir(\"../processed_data\"):\n",
    "    df_temp = pd.read_csv(f\"../processed_data/{frame}\", index_col=0)\n",
    "    df = pd.concat([df, df_temp])\n",
    "    del df_temp\n",
    "df = df.iloc[:, :-1]\n",
    "df.to_csv(\"../processed_data/data.csv\")\n",
    "df.head()"
   ]
  },
  {
   "cell_type": "code",
   "execution_count": 59,
   "metadata": {},
   "outputs": [
    {
     "name": "stdout",
     "output_type": "stream",
     "text": [
      "1300000 - количество записей в датасете\n"
     ]
    }
   ],
   "source": [
    "print(f\"{df.shape[0]} - количество записей в датасете\")"
   ]
  },
  {
   "cell_type": "code",
   "execution_count": 60,
   "metadata": {},
   "outputs": [
    {
     "name": "stdout",
     "output_type": "stream",
     "text": [
      "182051 - количество записей с указателями даты или времени\n"
     ]
    }
   ],
   "source": [
    "print(f'{df[~df[\"root\"].isna()].shape[0]} - количество записей с указателями даты или времени')"
   ]
  },
  {
   "attachments": {},
   "cell_type": "markdown",
   "metadata": {},
   "source": [
    "Получили из 4 источников 1798937 сообщений и 171740 собщений с датами. Можем продолжать с этим работать"
   ]
  },
  {
   "attachments": {},
   "cell_type": "markdown",
   "metadata": {},
   "source": [
    "### Preprocessing and TfIdf\n"
   ]
  },
  {
   "cell_type": "code",
   "execution_count": 40,
   "metadata": {},
   "outputs": [
    {
     "data": {
      "text/plain": [
       "['he',\n",
       " 'want',\n",
       " 'to',\n",
       " 'go',\n",
       " 'on',\n",
       " 'Nevsky',\n",
       " 'prospect',\n",
       " 'at',\n",
       " '7',\n",
       " 'o`clock',\n",
       " 'today']"
      ]
     },
     "execution_count": 40,
     "metadata": {},
     "output_type": "execute_result"
    }
   ],
   "source": [
    "def prepare_text(input: str) -> list:\n",
    "  output = re.sub(r\"\\S*@\\S*\\s?\", \"\", input) #emails\n",
    "  output = re.sub(r'\\w+:\\/{2}[\\d\\w-]+(\\.[\\d\\w-]+)*(?:(?:\\/[^\\s/]*))*', '', output) # any URL\n",
    "  output = re.sub(r'[.,!()?:<>#]{2,}', '', output) # repeated punctuations\n",
    "  output = re.sub(r'\\s{2,}', ' ', output) # repeated spaces\n",
    "  doc = nlp(output)\n",
    "  output = [tag.lemma_ for tag in doc]\n",
    "  return output\n",
    "\n",
    "prepare_text(\"He wants to go on Nevsky prospect at 7 o`clock today\")"
   ]
  },
  {
   "cell_type": "code",
   "execution_count": 41,
   "metadata": {},
   "outputs": [
    {
     "data": {
      "text/plain": [
       "['want', 'go', 'Nevsky', 'prospect', '7', 'o`clock', 'today']"
      ]
     },
     "execution_count": 41,
     "metadata": {},
     "output_type": "execute_result"
    }
   ],
   "source": [
    "eng_stopwords = stopwords.words('english')\n",
    "punct = string.punctuation\n",
    "def stopwords_delete(input: list) -> list:\n",
    "  output = [token for token in input if token not in eng_stopwords]\n",
    "  output = [token for token in output if token not in punct]\n",
    "  return output\n",
    "stopwords_delete(prepare_text(\"He wants to go on Nevsky prospect at 7 o`clock today\"))"
   ]
  },
  {
   "cell_type": "code",
   "execution_count": 62,
   "metadata": {},
   "outputs": [
    {
     "data": {
      "text/html": [
       "<div>\n",
       "<style scoped>\n",
       "    .dataframe tbody tr th:only-of-type {\n",
       "        vertical-align: middle;\n",
       "    }\n",
       "\n",
       "    .dataframe tbody tr th {\n",
       "        vertical-align: top;\n",
       "    }\n",
       "\n",
       "    .dataframe thead th {\n",
       "        text-align: right;\n",
       "    }\n",
       "</style>\n",
       "<table border=\"1\" class=\"dataframe\">\n",
       "  <thead>\n",
       "    <tr style=\"text-align: right;\">\n",
       "      <th></th>\n",
       "      <th>text</th>\n",
       "      <th>root</th>\n",
       "      <th>event</th>\n",
       "      <th>message_processed</th>\n",
       "    </tr>\n",
       "  </thead>\n",
       "  <tbody>\n",
       "    <tr>\n",
       "      <th>7</th>\n",
       "      <td>It is very interesting . Google provide \" Chro...</td>\n",
       "      <td>provided</td>\n",
       "      <td>2015 Google lot to 2010 provided in</td>\n",
       "      <td>[interesting, google, provide, chrome, os, lig...</td>\n",
       "    </tr>\n",
       "    <tr>\n",
       "      <th>23</th>\n",
       "      <td>Yes he even won a hardcore cha cha championshi...</td>\n",
       "      <td>won</td>\n",
       "      <td>won 1958 in championship he</td>\n",
       "      <td>[yes, even, hardcore, cha, cha, championship, ...</td>\n",
       "    </tr>\n",
       "    <tr>\n",
       "      <th>26</th>\n",
       "      <td>Yeah . Ballet dancer go through 4 pairs of sho...</td>\n",
       "      <td>go</td>\n",
       "      <td>through week pairs go a dancer 4</td>\n",
       "      <td>[yeah, ballet, dancer, go, 4, pairs, shoes, week]</td>\n",
       "    </tr>\n",
       "    <tr>\n",
       "      <th>42</th>\n",
       "      <td>Hey what 's up do use Google very often?I real...</td>\n",
       "      <td>use</td>\n",
       "      <td>Google surprised company founded use 1998 was ...</td>\n",
       "      <td>[hey, use, google, often?i, really, love, comp...</td>\n",
       "    </tr>\n",
       "    <tr>\n",
       "      <th>43</th>\n",
       "      <td>i think everyone must use it daily ! its becom...</td>\n",
       "      <td>become</td>\n",
       "      <td>day ingrained become every in life</td>\n",
       "      <td>[think, everyone, must, use, daily, become, in...</td>\n",
       "    </tr>\n",
       "  </tbody>\n",
       "</table>\n",
       "</div>"
      ],
      "text/plain": [
       "                                                 text      root  \\\n",
       "7   It is very interesting . Google provide \" Chro...  provided   \n",
       "23  Yes he even won a hardcore cha cha championshi...       won   \n",
       "26  Yeah . Ballet dancer go through 4 pairs of sho...        go   \n",
       "42  Hey what 's up do use Google very often?I real...       use   \n",
       "43  i think everyone must use it daily ! its becom...    become   \n",
       "\n",
       "                                                event  \\\n",
       "7                 2015 Google lot to 2010 provided in   \n",
       "23                        won 1958 in championship he   \n",
       "26                   through week pairs go a dancer 4   \n",
       "42  Google surprised company founded use 1998 was ...   \n",
       "43                 day ingrained become every in life   \n",
       "\n",
       "                                    message_processed  \n",
       "7   [interesting, google, provide, chrome, os, lig...  \n",
       "23  [yes, even, hardcore, cha, cha, championship, ...  \n",
       "26  [yeah, ballet, dancer, go, 4, pairs, shoes, week]  \n",
       "42  [hey, use, google, often?i, really, love, comp...  \n",
       "43  [think, everyone, must, use, daily, become, in...  "
      ]
     },
     "execution_count": 62,
     "metadata": {},
     "output_type": "execute_result"
    }
   ],
   "source": [
    "from collections import Counter\n",
    "counter_words = Counter()\n",
    "\n",
    "def pipeline(input):\n",
    "  output = prepare_text(input)\n",
    "  output = stopwords_delete(output)\n",
    "  for word in output:\n",
    "    counter_words[word] += 1         # collect frequencies\n",
    "  return output\n",
    "\n",
    "df_part = df[~df[\"root\"].isna()].iloc[:1000, :]\n",
    "df_part[\"message_processed\"] = df_part[\"text\"].apply(pipeline)\n",
    "df_part.head()"
   ]
  },
  {
   "attachments": {},
   "cell_type": "markdown",
   "metadata": {},
   "source": [
    "Посмотрим на распределения частот слов "
   ]
  },
  {
   "cell_type": "code",
   "execution_count": 63,
   "metadata": {},
   "outputs": [
    {
     "data": {
      "image/png": "[encoded data removed]",
      "text/plain": [
       "<Figure size 864x432 with 1 Axes>"
      ]
     },
     "metadata": {
      "needs_background": "light"
     },
     "output_type": "display_data"
    }
   ],
   "source": [
    "data = counter_words.most_common(50)\n",
    "x = [x[0] for x in data]\n",
    "y = [l[1] for l in data]\n",
    "plt.figure(figsize=(12, 6))\n",
    "plt.bar(x, y)\n",
    "plt.xticks(rotation=90)\n",
    "plt.title(\"10 Most common words in messages with date\")\n",
    "for i in range(len(x)):\n",
    "  plt.text(i-0.15,y[i]+5,y[i])"
   ]
  },
  {
   "attachments": {},
   "cell_type": "markdown",
   "metadata": {},
   "source": [
    "Намечается явная проблема - датасет на одну тему получился - о спорте. Но какие то указатели, типа minute year day would time last уже есть в топе слов, что довольно отрадно. Постараемся еще проанализировать датасет - отвекторизуем его и посмотрим отображение с помощью t-SNE. Используем Bag of Words"
   ]
  },
  {
   "cell_type": "code",
   "execution_count": 64,
   "metadata": {},
   "outputs": [],
   "source": [
    "model_bow = CountVectorizer()\n",
    "X = model_bow.fit_transform(df_part[\"message_processed\"].apply(lambda x: \" \".join(x))).toarray()"
   ]
  },
  {
   "cell_type": "code",
   "execution_count": 65,
   "metadata": {},
   "outputs": [
    {
     "data": {
      "text/plain": [
       "(1000, 2986)"
      ]
     },
     "execution_count": 65,
     "metadata": {},
     "output_type": "execute_result"
    }
   ],
   "source": [
    "X.shape"
   ]
  },
  {
   "cell_type": "code",
   "execution_count": 66,
   "metadata": {},
   "outputs": [
    {
     "name": "stderr",
     "output_type": "stream",
     "text": [
      "C:\\Users\\sirau\\AppData\\Roaming\\Python\\Python310\\site-packages\\sklearn\\manifold\\_t_sne.py:800: FutureWarning: The default initialization in TSNE will change from 'random' to 'pca' in 1.2.\n",
      "  warnings.warn(\n",
      "C:\\Users\\sirau\\AppData\\Roaming\\Python\\Python310\\site-packages\\sklearn\\manifold\\_t_sne.py:810: FutureWarning: The default learning rate in TSNE will change from 200.0 to 'auto' in 1.2.\n",
      "  warnings.warn(\n"
     ]
    },
    {
     "data": {
      "text/plain": [
       "Text(0.5, 1.0, 't-SNE representation of dataset')"
      ]
     },
     "execution_count": 66,
     "metadata": {},
     "output_type": "execute_result"
    },
    {
     "data": {
      "image/png": "[encoded data removed]",
      "text/plain": [
       "<Figure size 432x288 with 1 Axes>"
      ]
     },
     "metadata": {
      "needs_background": "light"
     },
     "output_type": "display_data"
    }
   ],
   "source": [
    "from sklearn.manifold import TSNE\n",
    "tsne = TSNE()\n",
    "data = tsne.fit_transform(X)\n",
    "plt.scatter(x=data[:, 0], y=data[:, 1])\n",
    "plt.title(\"t-SNE representation of dataset\")"
   ]
  },
  {
   "attachments": {},
   "cell_type": "markdown",
   "metadata": {},
   "source": [
    "## Word2vec"
   ]
  },
  {
   "cell_type": "code",
   "execution_count": 48,
   "metadata": {},
   "outputs": [],
   "source": [
    "from gensim.models import Word2Vec\n",
    "from gensim.test.utils import common_texts\n",
    "import gensim.downloader\n",
    "model = Word2Vec(common_texts, vector_size=100, window=5, min_count=1, workers=4)\n",
    "model.save(\"word2vec.model\")"
   ]
  },
  {
   "cell_type": "code",
   "execution_count": 57,
   "metadata": {},
   "outputs": [],
   "source": [
    "glove_vectors = gensim.downloader.load('glove-twitter-25')"
   ]
  },
  {
   "cell_type": "code",
   "execution_count": 50,
   "metadata": {},
   "outputs": [
    {
     "data": {
      "text/plain": [
       "array([ 0.47415 ,  0.93673 , -0.62139 , -0.013054,  0.98956 ,  0.45873 ,\n",
       "       -0.02254 ,  0.6956  ,  0.44207 , -0.44703 ,  0.33811 , -0.92783 ,\n",
       "       -3.6716  ,  0.84413 ,  1.1669  ,  0.50926 ,  0.73615 ,  0.10636 ,\n",
       "       -0.24516 , -1.0525  ,  0.44059 , -0.86163 , -0.39066 , -0.075361,\n",
       "        0.029276], dtype=float32)"
      ]
     },
     "execution_count": 50,
     "metadata": {},
     "output_type": "execute_result"
    }
   ],
   "source": [
    "glove_vectors.get_vector(\"plan\")"
   ]
  },
  {
   "cell_type": "code",
   "execution_count": 51,
   "metadata": {},
   "outputs": [
    {
     "data": {
      "text/plain": [
       "[('media', 0.8908759951591492),\n",
       " ('personal', 0.8748670816421509),\n",
       " ('control', 0.8535847663879395),\n",
       " ('idea', 0.8530606031417847),\n",
       " ('general', 0.852401614189148),\n",
       " ('debate', 0.8438900709152222),\n",
       " ('social', 0.842548131942749),\n",
       " ('sales', 0.8322349190711975),\n",
       " ('service', 0.8312507271766663),\n",
       " ('resume', 0.8249419927597046)]"
      ]
     },
     "execution_count": 51,
     "metadata": {},
     "output_type": "execute_result"
    }
   ],
   "source": [
    "glove_vectors.most_similar(\"plan\", )"
   ]
  },
  {
   "attachments": {},
   "cell_type": "markdown",
   "metadata": {},
   "source": [
    "### Russian hand made dataset"
   ]
  },
  {
   "cell_type": "code",
   "execution_count": 148,
   "metadata": {},
   "outputs": [],
   "source": [
    "df_manual = []\n",
    "with open(\"../edz_dataset_eng.txt\", \"r\", encoding=\"utf-8\") as f:\n",
    "    for line in f:\n",
    "        df_manual.append(line[:-1])\n"
   ]
  },
  {
   "cell_type": "code",
   "execution_count": 138,
   "metadata": {},
   "outputs": [
    {
     "data": {
      "text/plain": [
       "array([[0, 0, 0, ..., 0, 0, 0],\n",
       "       [0, 0, 0, ..., 0, 0, 0],\n",
       "       [0, 0, 0, ..., 0, 0, 0],\n",
       "       ...,\n",
       "       [1, 1, 0, ..., 0, 0, 0],\n",
       "       [0, 0, 0, ..., 0, 0, 0],\n",
       "       [0, 0, 0, ..., 0, 0, 0]], dtype=int64)"
      ]
     },
     "execution_count": 138,
     "metadata": {},
     "output_type": "execute_result"
    }
   ],
   "source": [
    "model_bow = CountVectorizer()\n",
    "X = model_bow.fit_transform(df_manual).toarray()\n",
    "X"
   ]
  },
  {
   "cell_type": "code",
   "execution_count": 139,
   "metadata": {},
   "outputs": [
    {
     "data": {
      "text/plain": [
       "(1000,)"
      ]
     },
     "execution_count": 139,
     "metadata": {},
     "output_type": "execute_result"
    }
   ],
   "source": [
    "df_part[\"message_processed\"].apply(lambda x: \" \".join(x)).shape"
   ]
  },
  {
   "cell_type": "code",
   "execution_count": 152,
   "metadata": {},
   "outputs": [
    {
     "name": "stderr",
     "output_type": "stream",
     "text": [
      "C:\\Users\\sirau\\AppData\\Local\\Temp\\ipykernel_20280\\2721477672.py:1: VisibleDeprecationWarning: Creating an ndarray from ragged nested sequences (which is a list-or-tuple of lists-or-tuples-or ndarrays with different lengths or shapes) is deprecated. If you meant to do this, you must specify 'dtype=object' when creating the ndarray.\n",
      "  np.array(df_manual)[:10]\n"
     ]
    },
    {
     "data": {
      "text/plain": [
       "array([list(['tomorrow', \"i'll\", 'go', 'work', 'morning']),\n",
       "       list(['day', 'tomorrow', 'plan', 'go', 'country']),\n",
       "       list(['evening', \"i'm\", 'planning', 'finish', 'report']),\n",
       "       list(['sunday', 'afternoon', 'go', 'restaurant']),\n",
       "       list(['20', 'p.m', 'finish', 'project']),\n",
       "       list(['06:30', 'get', 'warm']),\n",
       "       list(['april', '28', 'race', 'take', 'place', 'square']),\n",
       "       list(['thursday', 'go', 'camping', 'friends']),\n",
       "       list(['9', '8', 'pm', 'write', 'diploma']),\n",
       "       list(['drive', 'evening', 'tomorrow', 'car', 'along', 'highway'])],\n",
       "      dtype=object)"
      ]
     },
     "execution_count": 152,
     "metadata": {},
     "output_type": "execute_result"
    }
   ],
   "source": [
    "np.array(df_manual)[:10]"
   ]
  },
  {
   "cell_type": "code",
   "execution_count": 142,
   "metadata": {},
   "outputs": [
    {
     "name": "stdout",
     "output_type": "stream",
     "text": [
      "37 записей напсианы вручную\n"
     ]
    }
   ],
   "source": [
    "print(f\"{len(df_manual)} записей напсианы вручную\")"
   ]
  },
  {
   "cell_type": "code",
   "execution_count": 149,
   "metadata": {},
   "outputs": [],
   "source": [
    "counter_words_manual = Counter()\n",
    "def pipeline(input):\n",
    "  output = prepare_text(input)\n",
    "  output = stopwords_delete(output)\n",
    "  for word in output:\n",
    "    counter_words_manual[word] += 1         # collect frequencies\n",
    "  return output\n",
    "df_manual = [pipeline(i) for i in df_manual]\n",
    "\n"
   ]
  },
  {
   "cell_type": "code",
   "execution_count": 162,
   "metadata": {},
   "outputs": [
    {
     "data": {
      "image/png": "[encoded data removed]",
      "text/plain": [
       "<Figure size 864x432 with 1 Axes>"
      ]
     },
     "metadata": {
      "needs_background": "light"
     },
     "output_type": "display_data"
    }
   ],
   "source": [
    "data = counter_words_manual.most_common(30)\n",
    "x = [x[0] for x in data]\n",
    "y = [l[1] for l in data]\n",
    "plt.figure(figsize=(12, 6))\n",
    "plt.bar(x, y)\n",
    "plt.xticks(rotation=90)\n",
    "plt.title(\"10 Most common words in messages with date\")\n",
    "for i in range(len(x)):\n",
    "  plt.text(i-0.1,y[i]+0.1,y[i])"
   ]
  },
  {
   "cell_type": "code",
   "execution_count": 164,
   "metadata": {},
   "outputs": [],
   "source": [
    "df_manual = [\" \".join(i) for i in df_manual]"
   ]
  },
  {
   "cell_type": "code",
   "execution_count": 165,
   "metadata": {},
   "outputs": [],
   "source": [
    "model_bow = CountVectorizer()\n",
    "texts_corpus = df_part[\"message_processed\"].apply(lambda x: \" \".join(x))\n",
    "texts_corpus = np.concatenate([texts_corpus, np.array(df_manual)])\n",
    "X = model_bow.fit_transform(texts_corpus).toarray()"
   ]
  },
  {
   "cell_type": "code",
   "execution_count": 166,
   "metadata": {},
   "outputs": [
    {
     "name": "stderr",
     "output_type": "stream",
     "text": [
      "C:\\Users\\sirau\\AppData\\Roaming\\Python\\Python310\\site-packages\\sklearn\\manifold\\_t_sne.py:800: FutureWarning: The default initialization in TSNE will change from 'random' to 'pca' in 1.2.\n",
      "  warnings.warn(\n",
      "C:\\Users\\sirau\\AppData\\Roaming\\Python\\Python310\\site-packages\\sklearn\\manifold\\_t_sne.py:810: FutureWarning: The default learning rate in TSNE will change from 200.0 to 'auto' in 1.2.\n",
      "  warnings.warn(\n"
     ]
    },
    {
     "data": {
      "text/plain": [
       "Text(0.5, 1.0, 't-SNE representation of dataset')"
      ]
     },
     "execution_count": 166,
     "metadata": {},
     "output_type": "execute_result"
    },
    {
     "data": {
      "image/png": "[encoded data removed]",
      "text/plain": [
       "<Figure size 432x288 with 1 Axes>"
      ]
     },
     "metadata": {
      "needs_background": "light"
     },
     "output_type": "display_data"
    }
   ],
   "source": [
    "tsne = TSNE()\n",
    "data = tsne.fit_transform(X)\n",
    "plt.scatter(x=data[:, 0], y=data[:, 1])\n",
    "plt.scatter(x=data[-30:, 0], y=data[-30:, 1], color=\"red\")\n",
    "plt.title(\"t-SNE representation of dataset\")"
   ]
  },
  {
   "cell_type": "code",
   "execution_count": 167,
   "metadata": {},
   "outputs": [
    {
     "data": {
      "text/plain": [
       "array(['interesting google provide chrome os light weight os google provided lot hardware mainly 2010 2015',\n",
       "       'yeah ballet dancer go 4 pairs shoes week',\n",
       "       'heard professional ballet dancer go four pairs shoes week',\n",
       "       'yes go 4 pairs single week',\n",
       "       \"pets japan children 15 ca n't pets owner boulder guardian\",\n",
       "       'fascinating japan pets children 15',\n",
       "       'know also believe japan less people 15 years age pets',\n",
       "       'yes indeed interesting facts give pause weekend enjoyable conversation thanks lovely weekend',\n",
       "       \"ya n't like makes mad pets guess japan pets kids age fifteen\",\n",
       "       \"could n't said better lol odd meeting two couple months ago\",\n",
       "       'interesting heard 1908 law passed limiting length hatpins',\n",
       "       'haha yeah heard since 1968',\n",
       "       \"wow way cooler fact n't let women wear pants 1993\",\n",
       "       'yes senate big tradition used gavel 165 years got cracked',\n",
       "       'something thought lot well classic line end first movie delivered replicant actually improvise actor',\n",
       "       'think would bad richard nixon cracked 165 year old gavel senate used must somewhere display',\n",
       "       \"yeah ca n't make good choices sugar dropped ca n't believe took 1993 women wear pants senate floor\",\n",
       "       \"n't long time ago women allowed wear pants u.s senate floor 1993\",\n",
       "       \"oh wow pretty crazy 6'4 run president lol\",\n",
       "       'lost interest playing lost interest buy backlog games reminds buy next console popular 3 billon hours played video games week earth',\n",
       "       '2005 married couple scheduled 2430 major league baseball games played year 24 years bet could get confusing',\n",
       "       '12 12 used play lot child surprised video games make money abbually films hollywood',\n",
       "       \"yes played 1970s right maybe 1960s n't remember\",\n",
       "       \"yes play video games somewhat used play maurice kid n't play many days glad n't grow south korea apparently playing video game midnight 16 illegal\",\n",
       "       'yeah heard wild results nevada elections year',\n",
       "       'hear international electoral observers blocked polls nine states 2012',\n",
       "       'yeah use delivery service quite bit especially around christmas',\n",
       "       'yeah know us postal service contract amazon deliver sundays',\n",
       "       'oh wow poem forgot loved raven edgar allen poe long since heard mean like 20 years something raven rap tap tapping door floor haha heard got 9 publication poem go figure',\n",
       "       'really even sunday delivery rocks especially since amazon contracted usps',\n",
       "       'biden decided run 2020 would probably choose bernie always liked vp',\n",
       "       'sure anyone take trump point rumored election rigging ties russia personally think cheat win one anything like last 4 years',\n",
       "       'wow pretty dominant start using colors red blue 2000 thought earlier',\n",
       "       'yeah california governor timothy leary 1969',\n",
       "       'red blue colors seem like around forever recent thing year 2000',\n",
       "       'need find someone taller 2020 lets start searching lol',\n",
       "       'oh interesting especially given fact ran democrat red blue colors republicans democrats started 2000',\n",
       "       'need look slow blinker tall person 2020',\n",
       "       'funny consistent use red blue colors republicans democrats started 2000 could swore used colors',\n",
       "       'oh funny 2012 us elections international electoral observers blocked polls 9 states',\n",
       "       'certainly lot know beatles song come together actually written tim leary 1969 ca governor campaign',\n",
       "       'would great earth entire history viewed 24 hour period humans would represent 1 minute 17 seconds',\n",
       "       'mind blown love facts september 2010 united nations appointed official ambassador extraterrestrials case would ever make contact earth',\n",
       "       'yes quite sad another sad thing even though humans destroying earth earth history viewed 24 hour period humans would represent one minute 17 seconds',\n",
       "       \"show netflix actually first season n't bad\",\n",
       "       \"n't netflix days sure sounds weird\",\n",
       "       'heard started library 1895 32,000 books personal collection imagine',\n",
       "       'amazing thing carted books wheelbarrow 3/4 mile 85',\n",
       "       'hear go four pairs pointe shoes week lots wear',\n",
       "       'interesting beatles song\"come together written 1969 governor campaign',\n",
       "       \"larry hogan could probably used support group like beatles sure ok least n't bad north dakota 1934 actually seceded us short time\",\n",
       "       'mine well professional ballet dancers go 4 pairs pointe shoes week',\n",
       "       'sounds crazy might even urban legend ballet dancers go lot shoes one week think feet feel',\n",
       "       'agree going watch academy awards way give 24 awards think first broadcast back 1930 wild',\n",
       "       \"yes agree watch youtube almost everyday ca n't believe google bought youtube 1.65 billion dollars back 2006 seems like long ago\",\n",
       "       'yes absolutely crazy born 1963 remember young man',\n",
       "       \"dang need watch like 10 per night diet since n't anything else lol\",\n",
       "       'follow tennis fun black man us open 1968 black man since would award worthy',\n",
       "       'yes make movie interesting 1978 could use object tennis racket sounds dangerous',\n",
       "       'wow used helicopter dry grass tennis courts 1969 us open',\n",
       "       \"uk tour 2011 drake spent obscene amount money '' first editions children classic books charlotte web winnie pooh\",\n",
       "       'yes drake initially gained recognition actor teen drama television series degrassi next generation early 2000s',\n",
       "       'find fascinating used dry tennis couts 69 us open helicopters would loved see',\n",
       "       \"yes uk tour 2011 drake spent obscene amount money '' first editions children classic books charlotte web winnie pooh\",\n",
       "       'tried play times game pretty tough know could use object racket 1978 wonder anyone ever used anything strange',\n",
       "       'would liked play never fan guitar players 60s 70s',\n",
       "       'cool jazz developed near end 1940s modern',\n",
       "       'guitar totally rad man dig since debut 1949 les paul gibson es-175 guitar never gone production',\n",
       "       'would think would thought piano older instrument invented 1700 really old',\n",
       "       'would expected things may gone differently followed passion know new orleans style jazz started 1910',\n",
       "       'think would interested helicopter dried grass tennis courts 1969 us open',\n",
       "       'sure use helicopter dry grass courts 1969 us open bet dried fast',\n",
       "       'lol good point say 5000 year old shoes perform better modern shoes question lol',\n",
       "       'remember told teacher 1999 2000 like remember writing board another teacher telling us intentional misspelling number googol',\n",
       "       'yep black man first us open tennis title back 1968 black man since',\n",
       "       'wow 50 years still holding record think next year 1969 used helicopter dry grass tennis courts us open',\n",
       "       'agree used helicopter dry grass tennis courts 1969 us open',\n",
       "       'imagine use lot hard believe around since 1998',\n",
       "       \"sounds logical wish would gotten board 2004 initial public offering buy stock ca n't even imagine outcome\",\n",
       "       'love shoes know shoes made 5000 years ago perform better today shoes',\n",
       "       'pretty amazing perform better shoes today',\n",
       "       'used helicopter dry grass 1969 us open lol',\n",
       "       'thanks main component tennis racket 1978 tennis player allowed use absolutely object racket',\n",
       "       'love fish oldest goldfish lived 43 years old',\n",
       "       'koi fish lived 226 years',\n",
       "       \"ha weird n't know tennis interesting history know 1978 tennis player could use object racket\",\n",
       "       'nice wonder anyone ever tried use something wacky black man 1st us open tennis title 1968 black man since',\n",
       "       'wow since 1968 know serena williams increasingly found voice spoken gender racial inequality',\n",
       "       'pretty incredible used helicopter dry grass tennis courts 1969 us open',\n",
       "       'sure two girls compton came conquered total serena number 1 319 weeks',\n",
       "       'yeah lasted 29 minutes bet pretty exhilarating also probably pretty exhausting would certainly breath 29 minutes',\n",
       "       'interesting know tennis years ago allowed use object racket haha',\n",
       "       'disney land world released officlal mickey mouse ears rainbow colors pride month recently disney wake upd get tolerant',\n",
       "       'pride month something else',\n",
       "       'alaska cat named stubbs mayor since 1997',\n",
       "       'cat cafes japan taiwan people pay hourly play cats drinks',\n",
       "       'would liked seen matches permitted use anything racket think ended 70',\n",
       "       'sound familiar yeah older games movies better speaking older heard james earl jones spent little two hours recording darth vadar lines paid 7500 imagine make lot today',\n",
       "       'yeah horrible interesting term robotic created science fiction author think would actual science term happened back 1941 haha',\n",
       "       'haha isaac asimov coined term robots 1941 thought much older',\n",
       "       'say ten times fast haha know illegal kids 16 play video games past midnight',\n",
       "       'yes people let run network together sort like 1760 ps3 used department defense make super computer never tried madden',\n",
       "       'kickball playground fun david price mlb player 217 million dollar seven year contract ca nt play ball games perhaps video games might try kick ball',\n",
       "       \"oh n't dvds either streaming service bad n't game thrones though show gotten 37 emmy awards\",\n",
       "       'hit parents naming kids arya couple months last season starts',\n",
       "       \"feel like n't even big desribe huge netflix still netflix accounts third bandwith north america 9 pm 12\",\n",
       "       'true think might need start paying attention spending racked 21.9 billion debt sept 2017 trying get content',\n",
       "       'daughter named arya definitely fell trend sad going end year last season starting april',\n",
       "       'wow think back 2000 proposed blockbuster use netflix online service laughed offer',\n",
       "       'yes netflix netflix founded 1997',\n",
       "       'yep crazy going spend 2 billion dollars year make new content like shows though',\n",
       "       \"haha hawaii passed single payer healthcare 2009 governor would n't sign law rest country would follow suit pass law\",\n",
       "       \"wow n't know extent nixons bushs influential also recently found colors red blue associated republicans democrats recent change starting 2000 wonder used colors\",\n",
       "       \"like politics used mostly democratic interestingly blue red colors tow denote two parties n't legitimately used 2000\",\n",
       "       'definitely know red blue colors started used 2000',\n",
       "       'native americans suffered lot years story involves lot blood tears easy story tell',\n",
       "       'believe lot photos thought sundays',\n",
       "       'ha agree japan pets kids 15 lot pets',\n",
       "       'believe 26th know japan pets children 15',\n",
       "       'wow interesting fact check japan pets children 15',\n",
       "       \"n't know term robotics accidentally coined science fiction author isaac asimov 1941\",\n",
       "       \"yes picture face ca n't remember name either show golden globe best comedy series 1997\",\n",
       "       'hey going ever cook turkey thanksgiving',\n",
       "       \"bet least n't worry 4 pairs pointe shoes week go like professional ballet dancers\",\n",
       "       'neat speaking ballet dancers go four pairs pointe shoes week sounds painful expensive',\n",
       "       \"n't know professional ballet dancers go 4 pairs pointe shoes week could get expensive\",\n",
       "       'lol great night',\n",
       "       'yes agree thanksgiving chsitmas favorite holidays right especially one oven work like susan westmoreland says bit like acrobatic dance lol',\n",
       "       'oh yeah too!dancing bake pies thanksgiving exacta guilty pleasure dancing ballet musicals read ballerinas go four pairs pointe shoes per week',\n",
       "       'yes created russia man almost never made money eventually 1996 must admit tetris effect played would see everything blocks way fit',\n",
       "       'sure days much primadonnas team think tough job',\n",
       "       'pretty crazy know 2005 mlb schedules done married couple',\n",
       "       'would make schedule 2430 mlb games',\n",
       "       'yep big one section bay bridge collapsed marina district caught fire game suspended days think 4 4 7 games possible',\n",
       "       'lot 2005 married couple 24 years scheduled 2430 major league baseball games played year',\n",
       "       'could imagine exciting cards late 1980s 1990s lot sets made bet lot less made 1900s',\n",
       "       'least ymca created basketball therefore one major sports leagues around today bad recreational game thought',\n",
       "       'agree music would listen daily basis',\n",
       "       'yes pretty recent 2012 25',\n",
       "       'say age 25 guessing may received ged show business first tv series called degrassi next generation ever since drake 14 year old maybe dropped school 9th grade',\n",
       "       'mentioned tv watcher although reality tv much one show miss recently concluded 5 seasons hgtv fixer upper ever see',\n",
       "       'lot shows cancel know watching daniel tosh show would reference show canceled quickly week',\n",
       "       'yeah like remember reading actor plays dr house gets paid 700 k per episode thinking doctor make year something',\n",
       "       'huge comic book fan lou ferrifno played hulk original 1670 tv show voiced dor everything avengers age ultron',\n",
       "       'speaking ballet know ballet dancers go 4 pairs pointe shoes week',\n",
       "       'wear specially winter rains like wear sport shoes better boots comfy',\n",
       "       'yes definitely fit image surprised ballet dancers go 4 pairs pointe shoes week lot',\n",
       "       'yes doping scandal hard come back amazing amount doping sports today',\n",
       "       \"right ca n't stuff like happen lol 2005 married couple responsible scheduling 2430 major league games\",\n",
       "       'think really cool 1908 law passed limiting length hatpins fear suffragettes would use weapons',\n",
       "       'yea remember back 1970s pete rose manager would sometimes play games',\n",
       "       'understand business model people use never got impressive nonetheless account 33 bandwith north america peak hours',\n",
       "       'yeah sure mickey minerva mouse sure laid groundwork many decades great entertainment',\n",
       "       'netflix really popular hear accounts third bandwidth north america late night',\n",
       "       'since james wong howe back 1940s chinese finally becoming citizen used techniques low lighting wide angle lenses popular',\n",
       "       'know professional ballet dancers go 4 pairs pointe shoes week hope expensive',\n",
       "       'yes love shoes know ballet dancers go 4 pairs shoes week',\n",
       "       'one songs like come together know actually written timothy leary 1969 california governor campaign',\n",
       "       'really would trust store professional ballet dancers go 4 pairs pointe shoes week',\n",
       "       'impressive often wear shoes way want try shoes 5000 years old actually perform better current shoes',\n",
       "       \"like kinds shoes prefer shoes fashionable n't able afford recent years\",\n",
       "       'hello yes sometimes use hour long fireplace video home like netflix',\n",
       "       'agree many wonders think represent 1 minute 17 seconds 24 hour calendar earth history',\n",
       "       'mean 4.5 billion years histoy equals 24 hours humans exist 1 minute 17 seconds 24 hour period',\n",
       "       'yeah sounds suspect 2006 us passed legislation would protect government employees prosecuted violating geneva conventions',\n",
       "       'bet 2008 norwegian government donated 1 billion help save amazon rainforest',\n",
       "       'would awesome rib could grow 2 3 months must something regrow hair discover',\n",
       "       'know earth entire history viewed 24 hour period humans would represent 1 minute 17 seconds',\n",
       "       'fish pretty amazing koi fish named hanako lived 226 years thanks chat',\n",
       "       'everywhere deal us postal service deliver sundays',\n",
       "       'crazy wonder cards players 1908 world series winning cubs',\n",
       "       'nt think couple would schedule 2430 games throughout 24 years soccer baseball like one couple baseball',\n",
       "       'sure started book store usps contract deliver amazon packages sunday think amazon getting big',\n",
       "       'bet one best baseball celebrations ever heard ronald regan broadcaster cubs thirties interesting life',\n",
       "       \"probably wo n't like red sox fan heard eric hosmer signed san diego padres 144 million eight year contract\",\n",
       "       'correct also heard hosmer making 20 million first 5 seasons padres',\n",
       "       'like amazon amazon prime video netflix really use tv days',\n",
       "       \"right n't throw anything away also house mess lol one thing n't understand mlb used married couple 24 years schedule games would n't use computer\",\n",
       "       'something thought interesting othe game scheduling done married couple 2005 wonder handles',\n",
       "       'yes sure nationals pent past month hovering either side mediocrity trading key players contending teams watching playoff hopes come go summer nationals shown lot life past five days week two late impressed',\n",
       "       'exactly scheduling 2430 games every year easy feat',\n",
       "       \"n't know must complicated since sometimes concerts uses stadiums also cold ballparks early season form baseball played kickball canada\",\n",
       "       'super huge late 80s early 90s died popularity since know kickball also called soccer baseball canada',\n",
       "       'amazing 2430 games every year many numbers',\n",
       "       'guess mens category popular 1969 team best record would advanced ws changed',\n",
       "       \"idea us teams n't play aganst japanese lol could world cup like soccer footaball every january 4 teams different continents play\",\n",
       "       'north america played fall season',\n",
       "       'see thank information married couple used schedule 2430 major league baseball games played year 24 years',\n",
       "       'must pretty cool together baseball season many games know',\n",
       "       'people care even fixed still wanna watch 2005 couple scheduled 2430 games',\n",
       "       'yeah since 1903',\n",
       "       'yes pretty funny always unique pitchers 4 5 6 fingers',\n",
       "       'yeah sweet gig sure scheduled 2430 games year',\n",
       "       'um final season think starts next month ca nt wait',\n",
       "       'yeah sure heard room days ago speaking disney like movie aladdin',\n",
       "       'wonder started 45 55 million evolution species',\n",
       "       'right use red blue dems repu started 2000 would thought longer',\n",
       "       'right thought would 19 years',\n",
       "       'couple schedule 2430 games yeah yeah know cubs',\n",
       "       'understand know professional ballet dancers go four pairs pointe shoes week',\n",
       "       'would dozen pairs forty lol would probably bust floor',\n",
       "       \"n't realize siri intended android apple bought inn 2010\",\n",
       "       \"younger years n't badly afflicted wonder whether one scientists theorize universes evolve natural selection\",\n",
       "       'next season well think yankees better season',\n",
       "       'wow read 1973 two yankees pitchers swapped families permanently crazy',\n",
       "       'definitely bigger fan mets like underdog stories never knew 1974 shared shea stadium mets',\n",
       "       'bet around time 1973 two yankee pitchers swapped families permanently unusual',\n",
       "       'baseball tradition probably married couple scheduled 2430 major league games 2005',\n",
       "       'guess never tempted get season tickets would probably stray chicanery bill committed sin sin would commit shoes anyway great chat',\n",
       "       'speaking 1973 two yankees pitchers swapped families permanently',\n",
       "       \"guess idea would bill o'reilly made fake press organization get yankee season tickets college\",\n",
       "       'think 1900 classics rare collectors probably pretty excited',\n",
       "       'found surprising married couple scheduling 2430 major league baseball games 2005 figured computer',\n",
       "       'yes interesting team way back 73 2 yankees pitchers swapped families permanently pretty odd',\n",
       "       'favorite sport kid even knew married couple scheduled 2000 games every year',\n",
       "       'huh look believe 2005 husband wife team scheduled mlb games',\n",
       "       'ya agree like 2500 games schedule year would get tedius',\n",
       "       'much money general much superstition baseball ben affleck caused production gone girl shut 4 days refused wear yankees cap screen',\n",
       "       'yea amazing many home runs hit last season yankess setting record 267 season',\n",
       "       'yep 7 playoffs teams division round top 10 home runs last season',\n",
       "       'yes apparently yankees trade reds chapman 2016 season chapman set serve suspension domestic abuse incident similar',\n",
       "       'yes wish found interestingly speaking baseball says 1973 two yankee pitchers switched families permanently wonder means',\n",
       "       'end week explosion switch', 'next week fashion show switzerland'],\n",
       "      dtype=object)"
      ]
     },
     "execution_count": 167,
     "metadata": {},
     "output_type": "execute_result"
    }
   ],
   "source": [
    "texts_corpus[np.argwhere(np.logical_and(data[:, 0]>0, data[:, 1]>0)).squeeze()]"
   ]
  },
  {
   "cell_type": "code",
   "execution_count": 175,
   "metadata": {},
   "outputs": [
    {
     "data": {
      "text/plain": [
       "'next week fashion show switzerland'"
      ]
     },
     "execution_count": 175,
     "metadata": {},
     "output_type": "execute_result"
    }
   ],
   "source": [
    "test_sent = X[-4]\n",
    "texts_corpus[-4]"
   ]
  },
  {
   "cell_type": "code",
   "execution_count": 176,
   "metadata": {},
   "outputs": [
    {
     "data": {
      "text/plain": [
       "<matplotlib.collections.PathCollection at 0x226e0b83880>"
      ]
     },
     "execution_count": 176,
     "metadata": {},
     "output_type": "execute_result"
    },
    {
     "data": {
      "image/png": "[encoded data removed]",
      "text/plain": [
       "<Figure size 432x288 with 1 Axes>"
      ]
     },
     "metadata": {
      "needs_background": "light"
     },
     "output_type": "display_data"
    }
   ],
   "source": [
    "from scipy.spatial import distance\n",
    "ds = []\n",
    "for i in range(100):\n",
    "    ds.append(distance.cosine(test_sent, X[-i]))\n",
    "plt.scatter(x=list(range(100)), y=ds)"
   ]
  }
 ],
 "metadata": {
  "kernelspec": {
   "display_name": "Python 3",
   "language": "python",
   "name": "python3"
  },
  "language_info": {
   "codemirror_mode": {
    "name": "ipython",
    "version": 3
   },
   "file_extension": ".py",
   "mimetype": "text/x-python",
   "name": "python",
   "nbconvert_exporter": "python",
   "pygments_lexer": "ipython3",
   "version": "3.10.5"
  },
  "orig_nbformat": 4
 },
 "nbformat": 4,
 "nbformat_minor": 2
}

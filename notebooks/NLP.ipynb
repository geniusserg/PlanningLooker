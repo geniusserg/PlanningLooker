{
 "cells": [
  {
   "cell_type": "code",
   "execution_count": null,
   "metadata": {},
   "outputs": [
    {
     "name": "stderr",
     "output_type": "stream",
     "text": [
      "[nltk_data] Downloading package universal_tagset to\n",
      "[nltk_data]     C:\\Users\\sirau\\AppData\\Roaming\\nltk_data...\n",
      "[nltk_data]   Package universal_tagset is already up-to-date!\n",
      "[nltk_data] Downloading package stopwords to\n",
      "[nltk_data]     C:\\Users\\sirau\\AppData\\Roaming\\nltk_data...\n",
      "[nltk_data]   Package stopwords is already up-to-date!\n"
     ]
    }
   ],
   "source": [
    "import pandas as pd\n",
    "import re\n",
    "import os\n",
    "import numpy as np\n",
    "import nltk\n",
    "import spacy\n",
    "import string\n",
    "import matplotlib.pyplot as plt\n",
    "from nltk import word_tokenize\n",
    "from spacy import displacy\n",
    "from sklearn.feature_extraction.text import CountVectorizer, TfidfTransformer\n",
    "\n",
    "nlp = spacy.load(\"en_core_web_sm\")\n",
    "nltk.download('universal_tagset')\n",
    "nltk.download(\"stopwords\")\n",
    "from nltk.corpus import stopwords"
   ]
  },
  {
   "attachments": {},
   "cell_type": "markdown",
   "metadata": {},
   "source": [
    "Я решил работать с датасетами диалогов в надежде, что они дадут информацию о структурах сообщений-планов. \n",
    "Нам надо из сообщений, где есть даты\\вермя выделить именно те, которые говорят о плане задаче или о событии. Вероятнее всего надо попробовать прокластеризировать сообщения, так как вручную разметить десятки тысяч сообщений не вариант. Когда будет размеченный датасет, можно попробовать построить классификатор)"
   ]
  },
  {
   "attachments": {},
   "cell_type": "markdown",
   "metadata": {},
   "source": [
    "Сначала сделаем алгоритм, который ищет токен времени и соотносящийся к нему ROOT токен с помощью spacy. Строка из датасета multiwoz.ipynb"
   ]
  },
  {
   "cell_type": "code",
   "execution_count": null,
   "metadata": {},
   "outputs": [],
   "source": [
    "docs = [\"Boss is planning a vacation tomorrow night and really could use some help finding a good place to stay in town.\",\n",
    "        \"I`m going to stay here 2 for 5 nights starting Sunday\",\n",
    "        \"I need to arrive at 13:45\",\n",
    "        \"I need the travel day to be Sunday\",\n",
    "        \"I'll be going to Cambridge and arrive by 13:45\", \n",
    "        \"Train TR7468 will arrive at 13:23.\",\n",
    "        \"Bears wake up at spring\"]"
   ]
  },
  {
   "cell_type": "code",
   "execution_count": null,
   "metadata": {},
   "outputs": [
    {
     "data": {
      "text/html": [
       "<div>\n",
       "<style scoped>\n",
       "    .dataframe tbody tr th:only-of-type {\n",
       "        vertical-align: middle;\n",
       "    }\n",
       "\n",
       "    .dataframe tbody tr th {\n",
       "        vertical-align: top;\n",
       "    }\n",
       "\n",
       "    .dataframe thead th {\n",
       "        text-align: right;\n",
       "    }\n",
       "</style>\n",
       "<table border=\"1\" class=\"dataframe\">\n",
       "  <thead>\n",
       "    <tr style=\"text-align: right;\">\n",
       "      <th></th>\n",
       "      <th>Token</th>\n",
       "      <th>lemma</th>\n",
       "      <th>entity</th>\n",
       "      <th>full</th>\n",
       "      <th>entity</th>\n",
       "      <th>dep type</th>\n",
       "      <th>head</th>\n",
       "    </tr>\n",
       "  </thead>\n",
       "  <tbody>\n",
       "    <tr>\n",
       "      <th>0</th>\n",
       "      <td>Boss</td>\n",
       "      <td>boss</td>\n",
       "      <td></td>\n",
       "      <td>NOUN</td>\n",
       "      <td>NN</td>\n",
       "      <td>nsubj</td>\n",
       "      <td>planning</td>\n",
       "    </tr>\n",
       "    <tr>\n",
       "      <th>1</th>\n",
       "      <td>is</td>\n",
       "      <td>be</td>\n",
       "      <td></td>\n",
       "      <td>AUX</td>\n",
       "      <td>VBZ</td>\n",
       "      <td>aux</td>\n",
       "      <td>planning</td>\n",
       "    </tr>\n",
       "    <tr>\n",
       "      <th>2</th>\n",
       "      <td>planning</td>\n",
       "      <td>plan</td>\n",
       "      <td></td>\n",
       "      <td>VERB</td>\n",
       "      <td>VBG</td>\n",
       "      <td>ROOT</td>\n",
       "      <td>planning</td>\n",
       "    </tr>\n",
       "    <tr>\n",
       "      <th>3</th>\n",
       "      <td>a</td>\n",
       "      <td>a</td>\n",
       "      <td></td>\n",
       "      <td>DET</td>\n",
       "      <td>DT</td>\n",
       "      <td>det</td>\n",
       "      <td>vacation</td>\n",
       "    </tr>\n",
       "    <tr>\n",
       "      <th>4</th>\n",
       "      <td>vacation</td>\n",
       "      <td>vacation</td>\n",
       "      <td></td>\n",
       "      <td>NOUN</td>\n",
       "      <td>NN</td>\n",
       "      <td>dobj</td>\n",
       "      <td>planning</td>\n",
       "    </tr>\n",
       "    <tr>\n",
       "      <th>5</th>\n",
       "      <td>tomorrow</td>\n",
       "      <td>tomorrow</td>\n",
       "      <td></td>\n",
       "      <td>NOUN</td>\n",
       "      <td>NN</td>\n",
       "      <td>compound</td>\n",
       "      <td>night</td>\n",
       "    </tr>\n",
       "    <tr>\n",
       "      <th>6</th>\n",
       "      <td>night</td>\n",
       "      <td>night</td>\n",
       "      <td></td>\n",
       "      <td>NOUN</td>\n",
       "      <td>NN</td>\n",
       "      <td>npadvmod</td>\n",
       "      <td>planning</td>\n",
       "    </tr>\n",
       "    <tr>\n",
       "      <th>7</th>\n",
       "      <td>and</td>\n",
       "      <td>and</td>\n",
       "      <td></td>\n",
       "      <td>CCONJ</td>\n",
       "      <td>CC</td>\n",
       "      <td>cc</td>\n",
       "      <td>planning</td>\n",
       "    </tr>\n",
       "    <tr>\n",
       "      <th>8</th>\n",
       "      <td>really</td>\n",
       "      <td>really</td>\n",
       "      <td></td>\n",
       "      <td>ADV</td>\n",
       "      <td>RB</td>\n",
       "      <td>advmod</td>\n",
       "      <td>use</td>\n",
       "    </tr>\n",
       "    <tr>\n",
       "      <th>9</th>\n",
       "      <td>could</td>\n",
       "      <td>could</td>\n",
       "      <td></td>\n",
       "      <td>AUX</td>\n",
       "      <td>MD</td>\n",
       "      <td>aux</td>\n",
       "      <td>use</td>\n",
       "    </tr>\n",
       "    <tr>\n",
       "      <th>10</th>\n",
       "      <td>use</td>\n",
       "      <td>use</td>\n",
       "      <td></td>\n",
       "      <td>VERB</td>\n",
       "      <td>VB</td>\n",
       "      <td>conj</td>\n",
       "      <td>planning</td>\n",
       "    </tr>\n",
       "    <tr>\n",
       "      <th>11</th>\n",
       "      <td>some</td>\n",
       "      <td>some</td>\n",
       "      <td></td>\n",
       "      <td>DET</td>\n",
       "      <td>DT</td>\n",
       "      <td>det</td>\n",
       "      <td>help</td>\n",
       "    </tr>\n",
       "    <tr>\n",
       "      <th>12</th>\n",
       "      <td>help</td>\n",
       "      <td>help</td>\n",
       "      <td></td>\n",
       "      <td>NOUN</td>\n",
       "      <td>NN</td>\n",
       "      <td>dobj</td>\n",
       "      <td>use</td>\n",
       "    </tr>\n",
       "    <tr>\n",
       "      <th>13</th>\n",
       "      <td>finding</td>\n",
       "      <td>find</td>\n",
       "      <td></td>\n",
       "      <td>VERB</td>\n",
       "      <td>VBG</td>\n",
       "      <td>acl</td>\n",
       "      <td>help</td>\n",
       "    </tr>\n",
       "    <tr>\n",
       "      <th>14</th>\n",
       "      <td>a</td>\n",
       "      <td>a</td>\n",
       "      <td></td>\n",
       "      <td>DET</td>\n",
       "      <td>DT</td>\n",
       "      <td>det</td>\n",
       "      <td>place</td>\n",
       "    </tr>\n",
       "    <tr>\n",
       "      <th>15</th>\n",
       "      <td>good</td>\n",
       "      <td>good</td>\n",
       "      <td></td>\n",
       "      <td>ADJ</td>\n",
       "      <td>JJ</td>\n",
       "      <td>amod</td>\n",
       "      <td>place</td>\n",
       "    </tr>\n",
       "    <tr>\n",
       "      <th>16</th>\n",
       "      <td>place</td>\n",
       "      <td>place</td>\n",
       "      <td></td>\n",
       "      <td>NOUN</td>\n",
       "      <td>NN</td>\n",
       "      <td>dobj</td>\n",
       "      <td>finding</td>\n",
       "    </tr>\n",
       "    <tr>\n",
       "      <th>17</th>\n",
       "      <td>to</td>\n",
       "      <td>to</td>\n",
       "      <td></td>\n",
       "      <td>PART</td>\n",
       "      <td>TO</td>\n",
       "      <td>aux</td>\n",
       "      <td>stay</td>\n",
       "    </tr>\n",
       "    <tr>\n",
       "      <th>18</th>\n",
       "      <td>stay</td>\n",
       "      <td>stay</td>\n",
       "      <td></td>\n",
       "      <td>VERB</td>\n",
       "      <td>VB</td>\n",
       "      <td>relcl</td>\n",
       "      <td>place</td>\n",
       "    </tr>\n",
       "    <tr>\n",
       "      <th>19</th>\n",
       "      <td>in</td>\n",
       "      <td>in</td>\n",
       "      <td></td>\n",
       "      <td>ADP</td>\n",
       "      <td>IN</td>\n",
       "      <td>prep</td>\n",
       "      <td>stay</td>\n",
       "    </tr>\n",
       "    <tr>\n",
       "      <th>20</th>\n",
       "      <td>town</td>\n",
       "      <td>town</td>\n",
       "      <td></td>\n",
       "      <td>NOUN</td>\n",
       "      <td>NN</td>\n",
       "      <td>pobj</td>\n",
       "      <td>in</td>\n",
       "    </tr>\n",
       "    <tr>\n",
       "      <th>21</th>\n",
       "      <td>.</td>\n",
       "      <td>.</td>\n",
       "      <td></td>\n",
       "      <td>PUNCT</td>\n",
       "      <td>.</td>\n",
       "      <td>punct</td>\n",
       "      <td>planning</td>\n",
       "    </tr>\n",
       "  </tbody>\n",
       "</table>\n",
       "</div>"
      ],
      "text/plain": [
       "       Token     lemma entity   full entity  dep type      head\n",
       "0       Boss      boss          NOUN     NN     nsubj  planning\n",
       "1         is        be           AUX    VBZ       aux  planning\n",
       "2   planning      plan          VERB    VBG      ROOT  planning\n",
       "3          a         a           DET     DT       det  vacation\n",
       "4   vacation  vacation          NOUN     NN      dobj  planning\n",
       "5   tomorrow  tomorrow          NOUN     NN  compound     night\n",
       "6      night     night          NOUN     NN  npadvmod  planning\n",
       "7        and       and         CCONJ     CC        cc  planning\n",
       "8     really    really           ADV     RB    advmod       use\n",
       "9      could     could           AUX     MD       aux       use\n",
       "10       use       use          VERB     VB      conj  planning\n",
       "11      some      some           DET     DT       det      help\n",
       "12      help      help          NOUN     NN      dobj       use\n",
       "13   finding      find          VERB    VBG       acl      help\n",
       "14         a         a           DET     DT       det     place\n",
       "15      good      good           ADJ     JJ      amod     place\n",
       "16     place     place          NOUN     NN      dobj   finding\n",
       "17        to        to          PART     TO       aux      stay\n",
       "18      stay      stay          VERB     VB     relcl     place\n",
       "19        in        in           ADP     IN      prep      stay\n",
       "20      town      town          NOUN     NN      pobj        in\n",
       "21         .         .         PUNCT      .     punct  planning"
      ]
     },
     "execution_count": 213,
     "metadata": {},
     "output_type": "execute_result"
    }
   ],
   "source": [
    "tags = []\n",
    "doc = nlp(docs[0])\n",
    "for token in doc:\n",
    "    tags.append([token.text, token.lemma_, token.ent_type_, token.pos_, token.tag_, token.dep_, token.head])\n",
    "postok = {str(i): list(doc).index(i) for i in doc}\n",
    "pd.DataFrame(tags, columns = [\"Token\", \"lemma\", \"entity\", \"full\", \"entity\", \"dep type\", \"head\"])"
   ]
  },
  {
   "cell_type": "code",
   "execution_count": null,
   "metadata": {},
   "outputs": [
    {
     "data": {
      "text/html": [
       "<span class=\"tex2jax_ignore\"><svg xmlns=\"http://www.w3.org/2000/svg\" xmlns:xlink=\"http://www.w3.org/1999/xlink\" xml:lang=\"en\" id=\"829850016cef46bfa6e1dfbd095360de-0\" class=\"displacy\" width=\"3725\" height=\"574.5\" direction=\"ltr\" style=\"max-width: none; height: 574.5px; color: #000000; background: #ffffff; font-family: Arial; direction: ltr\">\n",
       "<text class=\"displacy-token\" fill=\"currentColor\" text-anchor=\"middle\" y=\"484.5\">\n",
       "    <tspan class=\"displacy-word\" fill=\"currentColor\" x=\"50\">Boss</tspan>\n",
       "    <tspan class=\"displacy-tag\" dy=\"2em\" fill=\"currentColor\" x=\"50\">NOUN</tspan>\n",
       "</text>\n",
       "\n",
       "<text class=\"displacy-token\" fill=\"currentColor\" text-anchor=\"middle\" y=\"484.5\">\n",
       "    <tspan class=\"displacy-word\" fill=\"currentColor\" x=\"225\">is</tspan>\n",
       "    <tspan class=\"displacy-tag\" dy=\"2em\" fill=\"currentColor\" x=\"225\">AUX</tspan>\n",
       "</text>\n",
       "\n",
       "<text class=\"displacy-token\" fill=\"currentColor\" text-anchor=\"middle\" y=\"484.5\">\n",
       "    <tspan class=\"displacy-word\" fill=\"currentColor\" x=\"400\">planning</tspan>\n",
       "    <tspan class=\"displacy-tag\" dy=\"2em\" fill=\"currentColor\" x=\"400\">VERB</tspan>\n",
       "</text>\n",
       "\n",
       "<text class=\"displacy-token\" fill=\"currentColor\" text-anchor=\"middle\" y=\"484.5\">\n",
       "    <tspan class=\"displacy-word\" fill=\"currentColor\" x=\"575\">a</tspan>\n",
       "    <tspan class=\"displacy-tag\" dy=\"2em\" fill=\"currentColor\" x=\"575\">DET</tspan>\n",
       "</text>\n",
       "\n",
       "<text class=\"displacy-token\" fill=\"currentColor\" text-anchor=\"middle\" y=\"484.5\">\n",
       "    <tspan class=\"displacy-word\" fill=\"currentColor\" x=\"750\">vacation</tspan>\n",
       "    <tspan class=\"displacy-tag\" dy=\"2em\" fill=\"currentColor\" x=\"750\">NOUN</tspan>\n",
       "</text>\n",
       "\n",
       "<text class=\"displacy-token\" fill=\"currentColor\" text-anchor=\"middle\" y=\"484.5\">\n",
       "    <tspan class=\"displacy-word\" fill=\"currentColor\" x=\"925\">tomorrow</tspan>\n",
       "    <tspan class=\"displacy-tag\" dy=\"2em\" fill=\"currentColor\" x=\"925\">NOUN</tspan>\n",
       "</text>\n",
       "\n",
       "<text class=\"displacy-token\" fill=\"currentColor\" text-anchor=\"middle\" y=\"484.5\">\n",
       "    <tspan class=\"displacy-word\" fill=\"currentColor\" x=\"1100\">night</tspan>\n",
       "    <tspan class=\"displacy-tag\" dy=\"2em\" fill=\"currentColor\" x=\"1100\">NOUN</tspan>\n",
       "</text>\n",
       "\n",
       "<text class=\"displacy-token\" fill=\"currentColor\" text-anchor=\"middle\" y=\"484.5\">\n",
       "    <tspan class=\"displacy-word\" fill=\"currentColor\" x=\"1275\">and</tspan>\n",
       "    <tspan class=\"displacy-tag\" dy=\"2em\" fill=\"currentColor\" x=\"1275\">CCONJ</tspan>\n",
       "</text>\n",
       "\n",
       "<text class=\"displacy-token\" fill=\"currentColor\" text-anchor=\"middle\" y=\"484.5\">\n",
       "    <tspan class=\"displacy-word\" fill=\"currentColor\" x=\"1450\">really</tspan>\n",
       "    <tspan class=\"displacy-tag\" dy=\"2em\" fill=\"currentColor\" x=\"1450\">ADV</tspan>\n",
       "</text>\n",
       "\n",
       "<text class=\"displacy-token\" fill=\"currentColor\" text-anchor=\"middle\" y=\"484.5\">\n",
       "    <tspan class=\"displacy-word\" fill=\"currentColor\" x=\"1625\">could</tspan>\n",
       "    <tspan class=\"displacy-tag\" dy=\"2em\" fill=\"currentColor\" x=\"1625\">AUX</tspan>\n",
       "</text>\n",
       "\n",
       "<text class=\"displacy-token\" fill=\"currentColor\" text-anchor=\"middle\" y=\"484.5\">\n",
       "    <tspan class=\"displacy-word\" fill=\"currentColor\" x=\"1800\">use</tspan>\n",
       "    <tspan class=\"displacy-tag\" dy=\"2em\" fill=\"currentColor\" x=\"1800\">VERB</tspan>\n",
       "</text>\n",
       "\n",
       "<text class=\"displacy-token\" fill=\"currentColor\" text-anchor=\"middle\" y=\"484.5\">\n",
       "    <tspan class=\"displacy-word\" fill=\"currentColor\" x=\"1975\">some</tspan>\n",
       "    <tspan class=\"displacy-tag\" dy=\"2em\" fill=\"currentColor\" x=\"1975\">DET</tspan>\n",
       "</text>\n",
       "\n",
       "<text class=\"displacy-token\" fill=\"currentColor\" text-anchor=\"middle\" y=\"484.5\">\n",
       "    <tspan class=\"displacy-word\" fill=\"currentColor\" x=\"2150\">help</tspan>\n",
       "    <tspan class=\"displacy-tag\" dy=\"2em\" fill=\"currentColor\" x=\"2150\">NOUN</tspan>\n",
       "</text>\n",
       "\n",
       "<text class=\"displacy-token\" fill=\"currentColor\" text-anchor=\"middle\" y=\"484.5\">\n",
       "    <tspan class=\"displacy-word\" fill=\"currentColor\" x=\"2325\">finding</tspan>\n",
       "    <tspan class=\"displacy-tag\" dy=\"2em\" fill=\"currentColor\" x=\"2325\">VERB</tspan>\n",
       "</text>\n",
       "\n",
       "<text class=\"displacy-token\" fill=\"currentColor\" text-anchor=\"middle\" y=\"484.5\">\n",
       "    <tspan class=\"displacy-word\" fill=\"currentColor\" x=\"2500\">a</tspan>\n",
       "    <tspan class=\"displacy-tag\" dy=\"2em\" fill=\"currentColor\" x=\"2500\">DET</tspan>\n",
       "</text>\n",
       "\n",
       "<text class=\"displacy-token\" fill=\"currentColor\" text-anchor=\"middle\" y=\"484.5\">\n",
       "    <tspan class=\"displacy-word\" fill=\"currentColor\" x=\"2675\">good</tspan>\n",
       "    <tspan class=\"displacy-tag\" dy=\"2em\" fill=\"currentColor\" x=\"2675\">ADJ</tspan>\n",
       "</text>\n",
       "\n",
       "<text class=\"displacy-token\" fill=\"currentColor\" text-anchor=\"middle\" y=\"484.5\">\n",
       "    <tspan class=\"displacy-word\" fill=\"currentColor\" x=\"2850\">place</tspan>\n",
       "    <tspan class=\"displacy-tag\" dy=\"2em\" fill=\"currentColor\" x=\"2850\">NOUN</tspan>\n",
       "</text>\n",
       "\n",
       "<text class=\"displacy-token\" fill=\"currentColor\" text-anchor=\"middle\" y=\"484.5\">\n",
       "    <tspan class=\"displacy-word\" fill=\"currentColor\" x=\"3025\">to</tspan>\n",
       "    <tspan class=\"displacy-tag\" dy=\"2em\" fill=\"currentColor\" x=\"3025\">PART</tspan>\n",
       "</text>\n",
       "\n",
       "<text class=\"displacy-token\" fill=\"currentColor\" text-anchor=\"middle\" y=\"484.5\">\n",
       "    <tspan class=\"displacy-word\" fill=\"currentColor\" x=\"3200\">stay</tspan>\n",
       "    <tspan class=\"displacy-tag\" dy=\"2em\" fill=\"currentColor\" x=\"3200\">VERB</tspan>\n",
       "</text>\n",
       "\n",
       "<text class=\"displacy-token\" fill=\"currentColor\" text-anchor=\"middle\" y=\"484.5\">\n",
       "    <tspan class=\"displacy-word\" fill=\"currentColor\" x=\"3375\">in</tspan>\n",
       "    <tspan class=\"displacy-tag\" dy=\"2em\" fill=\"currentColor\" x=\"3375\">ADP</tspan>\n",
       "</text>\n",
       "\n",
       "<text class=\"displacy-token\" fill=\"currentColor\" text-anchor=\"middle\" y=\"484.5\">\n",
       "    <tspan class=\"displacy-word\" fill=\"currentColor\" x=\"3550\">town.</tspan>\n",
       "    <tspan class=\"displacy-tag\" dy=\"2em\" fill=\"currentColor\" x=\"3550\">NOUN</tspan>\n",
       "</text>\n",
       "\n",
       "<g class=\"displacy-arrow\">\n",
       "    <path class=\"displacy-arc\" id=\"arrow-829850016cef46bfa6e1dfbd095360de-0-0\" stroke-width=\"2px\" d=\"M70,439.5 C70,264.5 385.0,264.5 385.0,439.5\" fill=\"none\" stroke=\"currentColor\"/>\n",
       "    <text dy=\"1.25em\" style=\"font-size: 0.8em; letter-spacing: 1px\">\n",
       "        <textPath xlink:href=\"#arrow-829850016cef46bfa6e1dfbd095360de-0-0\" class=\"displacy-label\" startOffset=\"50%\" side=\"left\" fill=\"currentColor\" text-anchor=\"middle\">nsubj</textPath>\n",
       "    </text>\n",
       "    <path class=\"displacy-arrowhead\" d=\"M70,441.5 L62,429.5 78,429.5\" fill=\"currentColor\"/>\n",
       "</g>\n",
       "\n",
       "<g class=\"displacy-arrow\">\n",
       "    <path class=\"displacy-arc\" id=\"arrow-829850016cef46bfa6e1dfbd095360de-0-1\" stroke-width=\"2px\" d=\"M245,439.5 C245,352.0 380.0,352.0 380.0,439.5\" fill=\"none\" stroke=\"currentColor\"/>\n",
       "    <text dy=\"1.25em\" style=\"font-size: 0.8em; letter-spacing: 1px\">\n",
       "        <textPath xlink:href=\"#arrow-829850016cef46bfa6e1dfbd095360de-0-1\" class=\"displacy-label\" startOffset=\"50%\" side=\"left\" fill=\"currentColor\" text-anchor=\"middle\">aux</textPath>\n",
       "    </text>\n",
       "    <path class=\"displacy-arrowhead\" d=\"M245,441.5 L237,429.5 253,429.5\" fill=\"currentColor\"/>\n",
       "</g>\n",
       "\n",
       "<g class=\"displacy-arrow\">\n",
       "    <path class=\"displacy-arc\" id=\"arrow-829850016cef46bfa6e1dfbd095360de-0-2\" stroke-width=\"2px\" d=\"M595,439.5 C595,352.0 730.0,352.0 730.0,439.5\" fill=\"none\" stroke=\"currentColor\"/>\n",
       "    <text dy=\"1.25em\" style=\"font-size: 0.8em; letter-spacing: 1px\">\n",
       "        <textPath xlink:href=\"#arrow-829850016cef46bfa6e1dfbd095360de-0-2\" class=\"displacy-label\" startOffset=\"50%\" side=\"left\" fill=\"currentColor\" text-anchor=\"middle\">det</textPath>\n",
       "    </text>\n",
       "    <path class=\"displacy-arrowhead\" d=\"M595,441.5 L587,429.5 603,429.5\" fill=\"currentColor\"/>\n",
       "</g>\n",
       "\n",
       "<g class=\"displacy-arrow\">\n",
       "    <path class=\"displacy-arc\" id=\"arrow-829850016cef46bfa6e1dfbd095360de-0-3\" stroke-width=\"2px\" d=\"M420,439.5 C420,264.5 735.0,264.5 735.0,439.5\" fill=\"none\" stroke=\"currentColor\"/>\n",
       "    <text dy=\"1.25em\" style=\"font-size: 0.8em; letter-spacing: 1px\">\n",
       "        <textPath xlink:href=\"#arrow-829850016cef46bfa6e1dfbd095360de-0-3\" class=\"displacy-label\" startOffset=\"50%\" side=\"left\" fill=\"currentColor\" text-anchor=\"middle\">dobj</textPath>\n",
       "    </text>\n",
       "    <path class=\"displacy-arrowhead\" d=\"M735.0,441.5 L743.0,429.5 727.0,429.5\" fill=\"currentColor\"/>\n",
       "</g>\n",
       "\n",
       "<g class=\"displacy-arrow\">\n",
       "    <path class=\"displacy-arc\" id=\"arrow-829850016cef46bfa6e1dfbd095360de-0-4\" stroke-width=\"2px\" d=\"M945,439.5 C945,352.0 1080.0,352.0 1080.0,439.5\" fill=\"none\" stroke=\"currentColor\"/>\n",
       "    <text dy=\"1.25em\" style=\"font-size: 0.8em; letter-spacing: 1px\">\n",
       "        <textPath xlink:href=\"#arrow-829850016cef46bfa6e1dfbd095360de-0-4\" class=\"displacy-label\" startOffset=\"50%\" side=\"left\" fill=\"currentColor\" text-anchor=\"middle\">compound</textPath>\n",
       "    </text>\n",
       "    <path class=\"displacy-arrowhead\" d=\"M945,441.5 L937,429.5 953,429.5\" fill=\"currentColor\"/>\n",
       "</g>\n",
       "\n",
       "<g class=\"displacy-arrow\">\n",
       "    <path class=\"displacy-arc\" id=\"arrow-829850016cef46bfa6e1dfbd095360de-0-5\" stroke-width=\"2px\" d=\"M420,439.5 C420,177.0 1090.0,177.0 1090.0,439.5\" fill=\"none\" stroke=\"currentColor\"/>\n",
       "    <text dy=\"1.25em\" style=\"font-size: 0.8em; letter-spacing: 1px\">\n",
       "        <textPath xlink:href=\"#arrow-829850016cef46bfa6e1dfbd095360de-0-5\" class=\"displacy-label\" startOffset=\"50%\" side=\"left\" fill=\"currentColor\" text-anchor=\"middle\">npadvmod</textPath>\n",
       "    </text>\n",
       "    <path class=\"displacy-arrowhead\" d=\"M1090.0,441.5 L1098.0,429.5 1082.0,429.5\" fill=\"currentColor\"/>\n",
       "</g>\n",
       "\n",
       "<g class=\"displacy-arrow\">\n",
       "    <path class=\"displacy-arc\" id=\"arrow-829850016cef46bfa6e1dfbd095360de-0-6\" stroke-width=\"2px\" d=\"M420,439.5 C420,89.5 1270.0,89.5 1270.0,439.5\" fill=\"none\" stroke=\"currentColor\"/>\n",
       "    <text dy=\"1.25em\" style=\"font-size: 0.8em; letter-spacing: 1px\">\n",
       "        <textPath xlink:href=\"#arrow-829850016cef46bfa6e1dfbd095360de-0-6\" class=\"displacy-label\" startOffset=\"50%\" side=\"left\" fill=\"currentColor\" text-anchor=\"middle\">cc</textPath>\n",
       "    </text>\n",
       "    <path class=\"displacy-arrowhead\" d=\"M1270.0,441.5 L1278.0,429.5 1262.0,429.5\" fill=\"currentColor\"/>\n",
       "</g>\n",
       "\n",
       "<g class=\"displacy-arrow\">\n",
       "    <path class=\"displacy-arc\" id=\"arrow-829850016cef46bfa6e1dfbd095360de-0-7\" stroke-width=\"2px\" d=\"M1470,439.5 C1470,264.5 1785.0,264.5 1785.0,439.5\" fill=\"none\" stroke=\"currentColor\"/>\n",
       "    <text dy=\"1.25em\" style=\"font-size: 0.8em; letter-spacing: 1px\">\n",
       "        <textPath xlink:href=\"#arrow-829850016cef46bfa6e1dfbd095360de-0-7\" class=\"displacy-label\" startOffset=\"50%\" side=\"left\" fill=\"currentColor\" text-anchor=\"middle\">advmod</textPath>\n",
       "    </text>\n",
       "    <path class=\"displacy-arrowhead\" d=\"M1470,441.5 L1462,429.5 1478,429.5\" fill=\"currentColor\"/>\n",
       "</g>\n",
       "\n",
       "<g class=\"displacy-arrow\">\n",
       "    <path class=\"displacy-arc\" id=\"arrow-829850016cef46bfa6e1dfbd095360de-0-8\" stroke-width=\"2px\" d=\"M1645,439.5 C1645,352.0 1780.0,352.0 1780.0,439.5\" fill=\"none\" stroke=\"currentColor\"/>\n",
       "    <text dy=\"1.25em\" style=\"font-size: 0.8em; letter-spacing: 1px\">\n",
       "        <textPath xlink:href=\"#arrow-829850016cef46bfa6e1dfbd095360de-0-8\" class=\"displacy-label\" startOffset=\"50%\" side=\"left\" fill=\"currentColor\" text-anchor=\"middle\">aux</textPath>\n",
       "    </text>\n",
       "    <path class=\"displacy-arrowhead\" d=\"M1645,441.5 L1637,429.5 1653,429.5\" fill=\"currentColor\"/>\n",
       "</g>\n",
       "\n",
       "<g class=\"displacy-arrow\">\n",
       "    <path class=\"displacy-arc\" id=\"arrow-829850016cef46bfa6e1dfbd095360de-0-9\" stroke-width=\"2px\" d=\"M420,439.5 C420,2.0 1800.0,2.0 1800.0,439.5\" fill=\"none\" stroke=\"currentColor\"/>\n",
       "    <text dy=\"1.25em\" style=\"font-size: 0.8em; letter-spacing: 1px\">\n",
       "        <textPath xlink:href=\"#arrow-829850016cef46bfa6e1dfbd095360de-0-9\" class=\"displacy-label\" startOffset=\"50%\" side=\"left\" fill=\"currentColor\" text-anchor=\"middle\">conj</textPath>\n",
       "    </text>\n",
       "    <path class=\"displacy-arrowhead\" d=\"M1800.0,441.5 L1808.0,429.5 1792.0,429.5\" fill=\"currentColor\"/>\n",
       "</g>\n",
       "\n",
       "<g class=\"displacy-arrow\">\n",
       "    <path class=\"displacy-arc\" id=\"arrow-829850016cef46bfa6e1dfbd095360de-0-10\" stroke-width=\"2px\" d=\"M1995,439.5 C1995,352.0 2130.0,352.0 2130.0,439.5\" fill=\"none\" stroke=\"currentColor\"/>\n",
       "    <text dy=\"1.25em\" style=\"font-size: 0.8em; letter-spacing: 1px\">\n",
       "        <textPath xlink:href=\"#arrow-829850016cef46bfa6e1dfbd095360de-0-10\" class=\"displacy-label\" startOffset=\"50%\" side=\"left\" fill=\"currentColor\" text-anchor=\"middle\">det</textPath>\n",
       "    </text>\n",
       "    <path class=\"displacy-arrowhead\" d=\"M1995,441.5 L1987,429.5 2003,429.5\" fill=\"currentColor\"/>\n",
       "</g>\n",
       "\n",
       "<g class=\"displacy-arrow\">\n",
       "    <path class=\"displacy-arc\" id=\"arrow-829850016cef46bfa6e1dfbd095360de-0-11\" stroke-width=\"2px\" d=\"M1820,439.5 C1820,264.5 2135.0,264.5 2135.0,439.5\" fill=\"none\" stroke=\"currentColor\"/>\n",
       "    <text dy=\"1.25em\" style=\"font-size: 0.8em; letter-spacing: 1px\">\n",
       "        <textPath xlink:href=\"#arrow-829850016cef46bfa6e1dfbd095360de-0-11\" class=\"displacy-label\" startOffset=\"50%\" side=\"left\" fill=\"currentColor\" text-anchor=\"middle\">dobj</textPath>\n",
       "    </text>\n",
       "    <path class=\"displacy-arrowhead\" d=\"M2135.0,441.5 L2143.0,429.5 2127.0,429.5\" fill=\"currentColor\"/>\n",
       "</g>\n",
       "\n",
       "<g class=\"displacy-arrow\">\n",
       "    <path class=\"displacy-arc\" id=\"arrow-829850016cef46bfa6e1dfbd095360de-0-12\" stroke-width=\"2px\" d=\"M2170,439.5 C2170,352.0 2305.0,352.0 2305.0,439.5\" fill=\"none\" stroke=\"currentColor\"/>\n",
       "    <text dy=\"1.25em\" style=\"font-size: 0.8em; letter-spacing: 1px\">\n",
       "        <textPath xlink:href=\"#arrow-829850016cef46bfa6e1dfbd095360de-0-12\" class=\"displacy-label\" startOffset=\"50%\" side=\"left\" fill=\"currentColor\" text-anchor=\"middle\">acl</textPath>\n",
       "    </text>\n",
       "    <path class=\"displacy-arrowhead\" d=\"M2305.0,441.5 L2313.0,429.5 2297.0,429.5\" fill=\"currentColor\"/>\n",
       "</g>\n",
       "\n",
       "<g class=\"displacy-arrow\">\n",
       "    <path class=\"displacy-arc\" id=\"arrow-829850016cef46bfa6e1dfbd095360de-0-13\" stroke-width=\"2px\" d=\"M2520,439.5 C2520,264.5 2835.0,264.5 2835.0,439.5\" fill=\"none\" stroke=\"currentColor\"/>\n",
       "    <text dy=\"1.25em\" style=\"font-size: 0.8em; letter-spacing: 1px\">\n",
       "        <textPath xlink:href=\"#arrow-829850016cef46bfa6e1dfbd095360de-0-13\" class=\"displacy-label\" startOffset=\"50%\" side=\"left\" fill=\"currentColor\" text-anchor=\"middle\">det</textPath>\n",
       "    </text>\n",
       "    <path class=\"displacy-arrowhead\" d=\"M2520,441.5 L2512,429.5 2528,429.5\" fill=\"currentColor\"/>\n",
       "</g>\n",
       "\n",
       "<g class=\"displacy-arrow\">\n",
       "    <path class=\"displacy-arc\" id=\"arrow-829850016cef46bfa6e1dfbd095360de-0-14\" stroke-width=\"2px\" d=\"M2695,439.5 C2695,352.0 2830.0,352.0 2830.0,439.5\" fill=\"none\" stroke=\"currentColor\"/>\n",
       "    <text dy=\"1.25em\" style=\"font-size: 0.8em; letter-spacing: 1px\">\n",
       "        <textPath xlink:href=\"#arrow-829850016cef46bfa6e1dfbd095360de-0-14\" class=\"displacy-label\" startOffset=\"50%\" side=\"left\" fill=\"currentColor\" text-anchor=\"middle\">amod</textPath>\n",
       "    </text>\n",
       "    <path class=\"displacy-arrowhead\" d=\"M2695,441.5 L2687,429.5 2703,429.5\" fill=\"currentColor\"/>\n",
       "</g>\n",
       "\n",
       "<g class=\"displacy-arrow\">\n",
       "    <path class=\"displacy-arc\" id=\"arrow-829850016cef46bfa6e1dfbd095360de-0-15\" stroke-width=\"2px\" d=\"M2345,439.5 C2345,177.0 2840.0,177.0 2840.0,439.5\" fill=\"none\" stroke=\"currentColor\"/>\n",
       "    <text dy=\"1.25em\" style=\"font-size: 0.8em; letter-spacing: 1px\">\n",
       "        <textPath xlink:href=\"#arrow-829850016cef46bfa6e1dfbd095360de-0-15\" class=\"displacy-label\" startOffset=\"50%\" side=\"left\" fill=\"currentColor\" text-anchor=\"middle\">dobj</textPath>\n",
       "    </text>\n",
       "    <path class=\"displacy-arrowhead\" d=\"M2840.0,441.5 L2848.0,429.5 2832.0,429.5\" fill=\"currentColor\"/>\n",
       "</g>\n",
       "\n",
       "<g class=\"displacy-arrow\">\n",
       "    <path class=\"displacy-arc\" id=\"arrow-829850016cef46bfa6e1dfbd095360de-0-16\" stroke-width=\"2px\" d=\"M3045,439.5 C3045,352.0 3180.0,352.0 3180.0,439.5\" fill=\"none\" stroke=\"currentColor\"/>\n",
       "    <text dy=\"1.25em\" style=\"font-size: 0.8em; letter-spacing: 1px\">\n",
       "        <textPath xlink:href=\"#arrow-829850016cef46bfa6e1dfbd095360de-0-16\" class=\"displacy-label\" startOffset=\"50%\" side=\"left\" fill=\"currentColor\" text-anchor=\"middle\">aux</textPath>\n",
       "    </text>\n",
       "    <path class=\"displacy-arrowhead\" d=\"M3045,441.5 L3037,429.5 3053,429.5\" fill=\"currentColor\"/>\n",
       "</g>\n",
       "\n",
       "<g class=\"displacy-arrow\">\n",
       "    <path class=\"displacy-arc\" id=\"arrow-829850016cef46bfa6e1dfbd095360de-0-17\" stroke-width=\"2px\" d=\"M2870,439.5 C2870,264.5 3185.0,264.5 3185.0,439.5\" fill=\"none\" stroke=\"currentColor\"/>\n",
       "    <text dy=\"1.25em\" style=\"font-size: 0.8em; letter-spacing: 1px\">\n",
       "        <textPath xlink:href=\"#arrow-829850016cef46bfa6e1dfbd095360de-0-17\" class=\"displacy-label\" startOffset=\"50%\" side=\"left\" fill=\"currentColor\" text-anchor=\"middle\">relcl</textPath>\n",
       "    </text>\n",
       "    <path class=\"displacy-arrowhead\" d=\"M3185.0,441.5 L3193.0,429.5 3177.0,429.5\" fill=\"currentColor\"/>\n",
       "</g>\n",
       "\n",
       "<g class=\"displacy-arrow\">\n",
       "    <path class=\"displacy-arc\" id=\"arrow-829850016cef46bfa6e1dfbd095360de-0-18\" stroke-width=\"2px\" d=\"M3220,439.5 C3220,352.0 3355.0,352.0 3355.0,439.5\" fill=\"none\" stroke=\"currentColor\"/>\n",
       "    <text dy=\"1.25em\" style=\"font-size: 0.8em; letter-spacing: 1px\">\n",
       "        <textPath xlink:href=\"#arrow-829850016cef46bfa6e1dfbd095360de-0-18\" class=\"displacy-label\" startOffset=\"50%\" side=\"left\" fill=\"currentColor\" text-anchor=\"middle\">prep</textPath>\n",
       "    </text>\n",
       "    <path class=\"displacy-arrowhead\" d=\"M3355.0,441.5 L3363.0,429.5 3347.0,429.5\" fill=\"currentColor\"/>\n",
       "</g>\n",
       "\n",
       "<g class=\"displacy-arrow\">\n",
       "    <path class=\"displacy-arc\" id=\"arrow-829850016cef46bfa6e1dfbd095360de-0-19\" stroke-width=\"2px\" d=\"M3395,439.5 C3395,352.0 3530.0,352.0 3530.0,439.5\" fill=\"none\" stroke=\"currentColor\"/>\n",
       "    <text dy=\"1.25em\" style=\"font-size: 0.8em; letter-spacing: 1px\">\n",
       "        <textPath xlink:href=\"#arrow-829850016cef46bfa6e1dfbd095360de-0-19\" class=\"displacy-label\" startOffset=\"50%\" side=\"left\" fill=\"currentColor\" text-anchor=\"middle\">pobj</textPath>\n",
       "    </text>\n",
       "    <path class=\"displacy-arrowhead\" d=\"M3530.0,441.5 L3538.0,429.5 3522.0,429.5\" fill=\"currentColor\"/>\n",
       "</g>\n",
       "</svg></span>"
      ],
      "text/plain": [
       "<IPython.core.display.HTML object>"
      ]
     },
     "metadata": {},
     "output_type": "display_data"
    }
   ],
   "source": [
    "displacy.render(doc, jupyter=True)"
   ]
  },
  {
   "attachments": {},
   "cell_type": "markdown",
   "metadata": {},
   "source": [
    "Я хочу развернуть полное предложение - ивент, от времени до главного слова фразы"
   ]
  },
  {
   "cell_type": "code",
   "execution_count": null,
   "metadata": {},
   "outputs": [
    {
     "data": {
      "text/plain": [
       "[tomorrow, night, Boss, planning, vacation]"
      ]
     },
     "execution_count": 215,
     "metadata": {},
     "output_type": "execute_result"
    }
   ],
   "source": [
    "tok = doc[postok[\"tomorrow\"]] #Time token\n",
    "tok_seq = []\n",
    "token_head = tok\n",
    "while True:\n",
    "    filtered_tok_seq = [] # filter extra dependencies of root word\n",
    "    head_tok_seq = [*[i for i in token_head.lefts if i not in tok_seq], token_head, *[i for i in token_head.rights if i not in tok_seq]]\n",
    "    for j in range(len(head_tok_seq)):\n",
    "        if (head_tok_seq[j].dep_ in [\"dobj\", \"nsubj\", \"ROOT\"]) or (head_tok_seq[j] is token_head):\n",
    "            filtered_tok_seq.append(head_tok_seq[j])\n",
    "    tok_seq.extend(filtered_tok_seq)\n",
    "    if (token_head.dep_ == \"ROOT\"):\n",
    "        break\n",
    "    token_head = token_head.head\n",
    "tok_seq"
   ]
  },
  {
   "attachments": {},
   "cell_type": "markdown",
   "metadata": {},
   "source": [
    "Получили из токена времени tomorrow полное предложение - Boss, planning, vacation, tomorrow, night"
   ]
  },
  {
   "attachments": {},
   "cell_type": "markdown",
   "metadata": {},
   "source": [
    "## Representatoins of messages\n",
    " В начале посмотрим на датасет с сообщениями, собранный из источников:"
   ]
  },
  {
   "cell_type": "code",
   "execution_count": 216,
   "metadata": {},
   "outputs": [
    {
     "data": {
      "text/html": [
       "<div>\n",
       "<style scoped>\n",
       "    .dataframe tbody tr th:only-of-type {\n",
       "        vertical-align: middle;\n",
       "    }\n",
       "\n",
       "    .dataframe tbody tr th {\n",
       "        vertical-align: top;\n",
       "    }\n",
       "\n",
       "    .dataframe thead th {\n",
       "        text-align: right;\n",
       "    }\n",
       "</style>\n",
       "<table border=\"1\" class=\"dataframe\">\n",
       "  <thead>\n",
       "    <tr style=\"text-align: right;\">\n",
       "      <th></th>\n",
       "      <th>text</th>\n",
       "      <th>root</th>\n",
       "      <th>event</th>\n",
       "    </tr>\n",
       "  </thead>\n",
       "  <tbody>\n",
       "    <tr>\n",
       "      <th>0</th>\n",
       "      <td>Are you a fan of Google or Microsoft ?</td>\n",
       "      <td>NaN</td>\n",
       "      <td>NaN</td>\n",
       "    </tr>\n",
       "    <tr>\n",
       "      <th>1</th>\n",
       "      <td>Both are excellent technology they are helpful...</td>\n",
       "      <td>NaN</td>\n",
       "      <td>NaN</td>\n",
       "    </tr>\n",
       "    <tr>\n",
       "      <th>2</th>\n",
       "      <td>I 'm not   a huge fan of Google , but I use it...</td>\n",
       "      <td>NaN</td>\n",
       "      <td>NaN</td>\n",
       "    </tr>\n",
       "    <tr>\n",
       "      <th>3</th>\n",
       "      <td>Google provides online related services and pr...</td>\n",
       "      <td>NaN</td>\n",
       "      <td>NaN</td>\n",
       "    </tr>\n",
       "    <tr>\n",
       "      <th>4</th>\n",
       "      <td>Yeah , their services are good . I 'm just not...</td>\n",
       "      <td>NaN</td>\n",
       "      <td>NaN</td>\n",
       "    </tr>\n",
       "  </tbody>\n",
       "</table>\n",
       "</div>"
      ],
      "text/plain": [
       "                                                text root event\n",
       "0             Are you a fan of Google or Microsoft ?  NaN   NaN\n",
       "1  Both are excellent technology they are helpful...  NaN   NaN\n",
       "2  I 'm not   a huge fan of Google , but I use it...  NaN   NaN\n",
       "3  Google provides online related services and pr...  NaN   NaN\n",
       "4  Yeah , their services are good . I 'm just not...  NaN   NaN"
      ]
     },
     "execution_count": 216,
     "metadata": {},
     "output_type": "execute_result"
    }
   ],
   "source": [
    "df = pd.DataFrame()\n",
    "for frame in os.listdir(\"../processed_data\"):\n",
    "    df_temp = pd.read_csv(f\"../processed_data/{frame}\", index_col=0)\n",
    "    df = pd.concat([df, df_temp])\n",
    "    del df_temp\n",
    "df = df.iloc[:, :-1]\n",
    "df.to_csv(\"../processed_data/data.csv\")\n",
    "df.head()"
   ]
  },
  {
   "cell_type": "code",
   "execution_count": 217,
   "metadata": {},
   "outputs": [
    {
     "name": "stdout",
     "output_type": "stream",
     "text": [
      "2001000 - количество записей в датасете\n"
     ]
    }
   ],
   "source": [
    "print(f\"{df.shape[0]} - количество записей в датасете\")"
   ]
  },
  {
   "cell_type": "code",
   "execution_count": 218,
   "metadata": {},
   "outputs": [
    {
     "name": "stdout",
     "output_type": "stream",
     "text": [
      "278232 - количество записей с указателями даты или времени\n"
     ]
    }
   ],
   "source": [
    "print(f'{df[~df[\"root\"].isna()].shape[0]} - количество записей с указателями даты или времени')"
   ]
  },
  {
   "attachments": {},
   "cell_type": "markdown",
   "metadata": {},
   "source": [
    "Получили из 4 источников 1798937 сообщений и 171740 собщений с датами. Можем продолжать с этим работать"
   ]
  },
  {
   "attachments": {},
   "cell_type": "markdown",
   "metadata": {},
   "source": [
    "### Preprocessing and TfIdf\n"
   ]
  },
  {
   "cell_type": "code",
   "execution_count": 219,
   "metadata": {},
   "outputs": [
    {
     "data": {
      "text/plain": [
       "['he',\n",
       " 'want',\n",
       " 'to',\n",
       " 'go',\n",
       " 'on',\n",
       " 'Nevsky',\n",
       " 'prospect',\n",
       " 'at',\n",
       " '7',\n",
       " 'o`clock',\n",
       " 'today']"
      ]
     },
     "execution_count": 219,
     "metadata": {},
     "output_type": "execute_result"
    }
   ],
   "source": [
    "def prepare_text(input: str) -> list:\n",
    "  output = re.sub(r\"\\S*@\\S*\\s?\", \"\", input) #emails\n",
    "  output = re.sub(r'\\w+:\\/{2}[\\d\\w-]+(\\.[\\d\\w-]+)*(?:(?:\\/[^\\s/]*))*', '', output) # any URL\n",
    "  output = re.sub(r'[.,!()?:<>#]{2,}', '', output) # repeated punctuations\n",
    "  output = re.sub(r'\\s{2,}', ' ', output) # repeated spaces\n",
    "  doc = nlp(output)\n",
    "  output = [tag.lemma_ for tag in doc]\n",
    "  return output\n",
    "\n",
    "prepare_text(\"He wants to go on Nevsky prospect at 7 o`clock today\")"
   ]
  },
  {
   "cell_type": "code",
   "execution_count": 220,
   "metadata": {},
   "outputs": [
    {
     "data": {
      "text/plain": [
       "['want', 'go', 'Nevsky', 'prospect', '7', 'o`clock', 'today']"
      ]
     },
     "execution_count": 220,
     "metadata": {},
     "output_type": "execute_result"
    }
   ],
   "source": [
    "eng_stopwords = stopwords.words('english')\n",
    "punct = string.punctuation\n",
    "def stopwords_delete(input: list) -> list:\n",
    "  output = [token for token in input if token not in eng_stopwords]\n",
    "  output = [token for token in output if token not in punct]\n",
    "  return output\n",
    "stopwords_delete(prepare_text(\"He wants to go on Nevsky prospect at 7 o`clock today\"))"
   ]
  },
  {
   "attachments": {},
   "cell_type": "markdown",
   "metadata": {},
   "source": [
    "### Try mannualy extract sentences with words"
   ]
  },
  {
   "cell_type": "code",
   "execution_count": 221,
   "metadata": {},
   "outputs": [
    {
     "data": {
      "text/html": [
       "<div>\n",
       "<style scoped>\n",
       "    .dataframe tbody tr th:only-of-type {\n",
       "        vertical-align: middle;\n",
       "    }\n",
       "\n",
       "    .dataframe tbody tr th {\n",
       "        vertical-align: top;\n",
       "    }\n",
       "\n",
       "    .dataframe thead th {\n",
       "        text-align: right;\n",
       "    }\n",
       "</style>\n",
       "<table border=\"1\" class=\"dataframe\">\n",
       "  <thead>\n",
       "    <tr style=\"text-align: right;\">\n",
       "      <th></th>\n",
       "      <th>text</th>\n",
       "      <th>root</th>\n",
       "      <th>event</th>\n",
       "    </tr>\n",
       "  </thead>\n",
       "  <tbody>\n",
       "    <tr>\n",
       "      <th>296</th>\n",
       "      <td>Yes , that is sad in some ways too . Happy we ...</td>\n",
       "      <td>keeping</td>\n",
       "      <td>them today we is keeping</td>\n",
       "    </tr>\n",
       "    <tr>\n",
       "      <th>1288</th>\n",
       "      <td>There is a planet where shards of glass rain s...</td>\n",
       "      <td>is</td>\n",
       "      <td>at in planet sideways degree mph shards 4500 w...</td>\n",
       "    </tr>\n",
       "    <tr>\n",
       "      <th>1420</th>\n",
       "      <td>wow ! I love learning ! I think I saw once tha...</td>\n",
       "      <td>think</td>\n",
       "      <td>I saw planet astronomers years think found man...</td>\n",
       "    </tr>\n",
       "    <tr>\n",
       "      <th>1587</th>\n",
       "      <td>I prefer the original 3 from my childhood in t...</td>\n",
       "      <td>prefer</td>\n",
       "      <td>in 3 prefer 70 I</td>\n",
       "    </tr>\n",
       "    <tr>\n",
       "      <th>2412</th>\n",
       "      <td>The 50 's were a different time , unfortunatel...</td>\n",
       "      <td>thought</td>\n",
       "      <td>ago thought 1800 years</td>\n",
       "    </tr>\n",
       "    <tr>\n",
       "      <th>...</th>\n",
       "      <td>...</td>\n",
       "      <td>...</td>\n",
       "      <td>...</td>\n",
       "    </tr>\n",
       "    <tr>\n",
       "      <th>230063</th>\n",
       "      <td>I am the opposite .   I do not like Summer .  ...</td>\n",
       "      <td>is</td>\n",
       "      <td>meet is years needs 500,000 you fact for</td>\n",
       "    </tr>\n",
       "    <tr>\n",
       "      <th>230108</th>\n",
       "      <td>Yes , I do and think its a great idea ! The su...</td>\n",
       "      <td>produces</td>\n",
       "      <td>one meet years sun energy second for in produc...</td>\n",
       "    </tr>\n",
       "    <tr>\n",
       "      <th>230214</th>\n",
       "      <td>Are you planning to watch the next fifa world ...</td>\n",
       "      <td>planning</td>\n",
       "      <td>planning 2022 you watch in cup</td>\n",
       "    </tr>\n",
       "    <tr>\n",
       "      <th>230483</th>\n",
       "      <td>Yeah , that was premeditated and I 'm sure rac...</td>\n",
       "      <td>getting</td>\n",
       "      <td>getting lunch ready I today plan</td>\n",
       "    </tr>\n",
       "    <tr>\n",
       "      <th>232221</th>\n",
       "      <td>Mount Vernon is a place you can still tour tod...</td>\n",
       "      <td>is</td>\n",
       "      <td>today is tour you Vernon place</td>\n",
       "    </tr>\n",
       "  </tbody>\n",
       "</table>\n",
       "<p>2931 rows × 3 columns</p>\n",
       "</div>"
      ],
      "text/plain": [
       "                                                     text      root  \\\n",
       "296     Yes , that is sad in some ways too . Happy we ...   keeping   \n",
       "1288    There is a planet where shards of glass rain s...        is   \n",
       "1420    wow ! I love learning ! I think I saw once tha...     think   \n",
       "1587    I prefer the original 3 from my childhood in t...    prefer   \n",
       "2412    The 50 's were a different time , unfortunatel...   thought   \n",
       "...                                                   ...       ...   \n",
       "230063  I am the opposite .   I do not like Summer .  ...        is   \n",
       "230108  Yes , I do and think its a great idea ! The su...  produces   \n",
       "230214  Are you planning to watch the next fifa world ...  planning   \n",
       "230483  Yeah , that was premeditated and I 'm sure rac...   getting   \n",
       "232221  Mount Vernon is a place you can still tour tod...        is   \n",
       "\n",
       "                                                    event  \n",
       "296                              them today we is keeping  \n",
       "1288    at in planet sideways degree mph shards 4500 w...  \n",
       "1420    I saw planet astronomers years think found man...  \n",
       "1587                                     in 3 prefer 70 I  \n",
       "2412                               ago thought 1800 years  \n",
       "...                                                   ...  \n",
       "230063           meet is years needs 500,000 you fact for  \n",
       "230108  one meet years sun energy second for in produc...  \n",
       "230214                     planning 2022 you watch in cup  \n",
       "230483                   getting lunch ready I today plan  \n",
       "232221                     today is tour you Vernon place  \n",
       "\n",
       "[2931 rows x 3 columns]"
      ]
     },
     "execution_count": 221,
     "metadata": {},
     "output_type": "execute_result"
    }
   ],
   "source": [
    "ttt  = df[~df[\"root\"].isna()]\n",
    "ttt[ttt[\"text\"].str.contains(\"plan\")]"
   ]
  },
  {
   "cell_type": "code",
   "execution_count": 222,
   "metadata": {},
   "outputs": [
    {
     "data": {
      "text/plain": [
       "<AxesSubplot: >"
      ]
     },
     "execution_count": 222,
     "metadata": {},
     "output_type": "execute_result"
    },
    {
     "data": {
      "image/png": "[encoded data removed]",
      "text/plain": [
       "<Figure size 432x288 with 1 Axes>"
      ]
     },
     "metadata": {
      "needs_background": "light"
     },
     "output_type": "display_data"
    }
   ],
   "source": [
    "df[~df[\"root\"].isna()][\"root\"].value_counts()[:100].plot()"
   ]
  },
  {
   "cell_type": "code",
   "execution_count": 223,
   "metadata": {},
   "outputs": [
    {
     "data": {
      "text/plain": [
       "is             19648\n",
       "know           14751\n",
       "was            11770\n",
       "have           10570\n",
       "be              8666\n",
       "               ...  \n",
       "sharing            2\n",
       "8962105            2\n",
       "telephone          2\n",
       "appropriate        2\n",
       "8902365            2\n",
       "Name: root, Length: 3863, dtype: int64"
      ]
     },
     "execution_count": 223,
     "metadata": {},
     "output_type": "execute_result"
    }
   ],
   "source": [
    "df[~df[\"root\"].isna()][\"root\"].value_counts()"
   ]
  },
  {
   "cell_type": "code",
   "execution_count": null,
   "metadata": {},
   "outputs": [],
   "source": []
  },
  {
   "attachments": {},
   "cell_type": "markdown",
   "metadata": {},
   "source": [
    "### Preprocess and BoW"
   ]
  },
  {
   "cell_type": "code",
   "execution_count": 225,
   "metadata": {},
   "outputs": [
    {
     "data": {
      "text/html": [
       "<div>\n",
       "<style scoped>\n",
       "    .dataframe tbody tr th:only-of-type {\n",
       "        vertical-align: middle;\n",
       "    }\n",
       "\n",
       "    .dataframe tbody tr th {\n",
       "        vertical-align: top;\n",
       "    }\n",
       "\n",
       "    .dataframe thead th {\n",
       "        text-align: right;\n",
       "    }\n",
       "</style>\n",
       "<table border=\"1\" class=\"dataframe\">\n",
       "  <thead>\n",
       "    <tr style=\"text-align: right;\">\n",
       "      <th></th>\n",
       "      <th>text</th>\n",
       "      <th>root</th>\n",
       "      <th>event</th>\n",
       "      <th>message_processed</th>\n",
       "    </tr>\n",
       "  </thead>\n",
       "  <tbody>\n",
       "    <tr>\n",
       "      <th>7</th>\n",
       "      <td>It is very interesting . Google provide \" Chro...</td>\n",
       "      <td>provided</td>\n",
       "      <td>2015 Google lot to 2010 provided in</td>\n",
       "      <td>[interesting, Google, provide, Chrome, OS, lig...</td>\n",
       "    </tr>\n",
       "    <tr>\n",
       "      <th>23</th>\n",
       "      <td>Yes he even won a hardcore cha cha championshi...</td>\n",
       "      <td>won</td>\n",
       "      <td>won 1958 in championship he</td>\n",
       "      <td>[yes, even, win, hardcore, cha, cha, champions...</td>\n",
       "    </tr>\n",
       "    <tr>\n",
       "      <th>26</th>\n",
       "      <td>Yeah . Ballet dancer go through 4 pairs of sho...</td>\n",
       "      <td>go</td>\n",
       "      <td>through week pairs go a dancer 4</td>\n",
       "      <td>[yeah, ballet, dancer, go, 4, pair, shoe, week]</td>\n",
       "    </tr>\n",
       "    <tr>\n",
       "      <th>42</th>\n",
       "      <td>Hey what 's up do use Google very often?I real...</td>\n",
       "      <td>use</td>\n",
       "      <td>Google surprised company founded use 1998 was ...</td>\n",
       "      <td>[hey, use, Google, often?i, really, love, comp...</td>\n",
       "    </tr>\n",
       "    <tr>\n",
       "      <th>43</th>\n",
       "      <td>i think everyone must use it daily ! its becom...</td>\n",
       "      <td>become</td>\n",
       "      <td>day ingrained become every in life</td>\n",
       "      <td>[I, think, everyone, must, use, daily, become,...</td>\n",
       "    </tr>\n",
       "  </tbody>\n",
       "</table>\n",
       "</div>"
      ],
      "text/plain": [
       "                                                 text      root  \\\n",
       "7   It is very interesting . Google provide \" Chro...  provided   \n",
       "23  Yes he even won a hardcore cha cha championshi...       won   \n",
       "26  Yeah . Ballet dancer go through 4 pairs of sho...        go   \n",
       "42  Hey what 's up do use Google very often?I real...       use   \n",
       "43  i think everyone must use it daily ! its becom...    become   \n",
       "\n",
       "                                                event  \\\n",
       "7                 2015 Google lot to 2010 provided in   \n",
       "23                        won 1958 in championship he   \n",
       "26                   through week pairs go a dancer 4   \n",
       "42  Google surprised company founded use 1998 was ...   \n",
       "43                 day ingrained become every in life   \n",
       "\n",
       "                                    message_processed  \n",
       "7   [interesting, Google, provide, Chrome, OS, lig...  \n",
       "23  [yes, even, win, hardcore, cha, cha, champions...  \n",
       "26    [yeah, ballet, dancer, go, 4, pair, shoe, week]  \n",
       "42  [hey, use, Google, often?i, really, love, comp...  \n",
       "43  [I, think, everyone, must, use, daily, become,...  "
      ]
     },
     "execution_count": 225,
     "metadata": {},
     "output_type": "execute_result"
    }
   ],
   "source": [
    "from collections import Counter\n",
    "counter_words = Counter()\n",
    "\n",
    "def pipeline(input):\n",
    "  output = prepare_text(input)\n",
    "  output = stopwords_delete(output)\n",
    "  for word in output:\n",
    "    counter_words[word] += 1         # collect frequencies\n",
    "  return output\n",
    "\n",
    "df_part = df[~df[\"root\"].isna()].iloc[:1000, :]\n",
    "df_part[\"message_processed\"] = df_part[\"text\"].apply(pipeline)\n",
    "df_part.head()"
   ]
  },
  {
   "attachments": {},
   "cell_type": "markdown",
   "metadata": {},
   "source": [
    "Посмотрим на распределения частот слов "
   ]
  },
  {
   "cell_type": "code",
   "execution_count": 226,
   "metadata": {},
   "outputs": [
    {
     "data": {
      "image/png": "[encoded data removed]",
      "text/plain": [
       "<Figure size 864x432 with 1 Axes>"
      ]
     },
     "metadata": {
      "needs_background": "light"
     },
     "output_type": "display_data"
    }
   ],
   "source": [
    "data = counter_words.most_common(50)\n",
    "x = [x[0] for x in data]\n",
    "y = [l[1] for l in data]\n",
    "plt.figure(figsize=(12, 6))\n",
    "plt.bar(x, y)\n",
    "plt.xticks(rotation=90)\n",
    "plt.title(\"10 Most common words in messages with date\")\n",
    "for i in range(len(x)):\n",
    "  plt.text(i-0.15,y[i]+5,y[i])"
   ]
  },
  {
   "cell_type": "code",
   "execution_count": 230,
   "metadata": {},
   "outputs": [
    {
     "data": {
      "text/plain": [
       "<AxesSubplot: >"
      ]
     },
     "execution_count": 230,
     "metadata": {},
     "output_type": "execute_result"
    },
    {
     "data": {
      "image/png": "[encoded data removed]",
      "text/plain": [
       "<Figure size 432x288 with 1 Axes>"
      ]
     },
     "metadata": {
      "needs_background": "light"
     },
     "output_type": "display_data"
    }
   ],
   "source": [
    "df_part[\"root\"].value_counts().plot()"
   ]
  },
  {
   "attachments": {},
   "cell_type": "markdown",
   "metadata": {},
   "source": [
    "Намечается явная проблема - датасет на одну тему получился - о спорте. Но какие то указатели, типа minute year day would time last уже есть в топе слов, что довольно отрадно. Постараемся еще проанализировать датасет - отвекторизуем его и посмотрим отображение с помощью t-SNE. Используем Bag of Words"
   ]
  },
  {
   "cell_type": "code",
   "execution_count": null,
   "metadata": {},
   "outputs": [],
   "source": [
    "model_bow = CountVectorizer()\n",
    "X = model_bow.fit_transform(df_part[\"message_processed\"].apply(lambda x: \" \".join(x))).toarray()"
   ]
  },
  {
   "cell_type": "code",
   "execution_count": null,
   "metadata": {},
   "outputs": [
    {
     "data": {
      "text/plain": [
       "(1000, 2986)"
      ]
     },
     "execution_count": 65,
     "metadata": {},
     "output_type": "execute_result"
    }
   ],
   "source": [
    "X.shape"
   ]
  },
  {
   "cell_type": "code",
   "execution_count": null,
   "metadata": {},
   "outputs": [
    {
     "name": "stderr",
     "output_type": "stream",
     "text": [
      "C:\\Users\\sirau\\AppData\\Roaming\\Python\\Python310\\site-packages\\sklearn\\manifold\\_t_sne.py:800: FutureWarning: The default initialization in TSNE will change from 'random' to 'pca' in 1.2.\n",
      "  warnings.warn(\n",
      "C:\\Users\\sirau\\AppData\\Roaming\\Python\\Python310\\site-packages\\sklearn\\manifold\\_t_sne.py:810: FutureWarning: The default learning rate in TSNE will change from 200.0 to 'auto' in 1.2.\n",
      "  warnings.warn(\n"
     ]
    },
    {
     "data": {
      "text/plain": [
       "Text(0.5, 1.0, 't-SNE representation of dataset')"
      ]
     },
     "execution_count": 66,
     "metadata": {},
     "output_type": "execute_result"
    },
    {
     "data": {
      "image/png": "[encoded data removed]",
      "text/plain": [
       "<Figure size 432x288 with 1 Axes>"
      ]
     },
     "metadata": {
      "needs_background": "light"
     },
     "output_type": "display_data"
    }
   ],
   "source": [
    "from sklearn.manifold import TSNE\n",
    "tsne = TSNE()\n",
    "data = tsne.fit_transform(X)\n",
    "plt.scatter(x=data[:, 0], y=data[:, 1])\n",
    "plt.title(\"t-SNE representation of dataset\")"
   ]
  },
  {
   "attachments": {},
   "cell_type": "markdown",
   "metadata": {},
   "source": [
    "## Word2vec"
   ]
  },
  {
   "cell_type": "code",
   "execution_count": null,
   "metadata": {},
   "outputs": [],
   "source": [
    "from gensim.models import Word2Vec\n",
    "from gensim.test.utils import common_texts\n",
    "import gensim.downloader\n",
    "model = Word2Vec(common_texts, vector_size=100, window=5, min_count=1, workers=4)\n",
    "model.save(\"word2vec.model\")"
   ]
  },
  {
   "cell_type": "code",
   "execution_count": null,
   "metadata": {},
   "outputs": [],
   "source": [
    "glove_vectors = gensim.downloader.load('glove-twitter-25')"
   ]
  },
  {
   "cell_type": "code",
   "execution_count": null,
   "metadata": {},
   "outputs": [
    {
     "data": {
      "text/plain": [
       "array([ 0.47415 ,  0.93673 , -0.62139 , -0.013054,  0.98956 ,  0.45873 ,\n",
       "       -0.02254 ,  0.6956  ,  0.44207 , -0.44703 ,  0.33811 , -0.92783 ,\n",
       "       -3.6716  ,  0.84413 ,  1.1669  ,  0.50926 ,  0.73615 ,  0.10636 ,\n",
       "       -0.24516 , -1.0525  ,  0.44059 , -0.86163 , -0.39066 , -0.075361,\n",
       "        0.029276], dtype=float32)"
      ]
     },
     "execution_count": 50,
     "metadata": {},
     "output_type": "execute_result"
    }
   ],
   "source": [
    "glove_vectors.get_vector(\"plan\")"
   ]
  },
  {
   "cell_type": "code",
   "execution_count": null,
   "metadata": {},
   "outputs": [
    {
     "data": {
      "text/plain": [
       "[('media', 0.8908759951591492),\n",
       " ('personal', 0.8748670816421509),\n",
       " ('control', 0.8535847663879395),\n",
       " ('idea', 0.8530606031417847),\n",
       " ('general', 0.852401614189148),\n",
       " ('debate', 0.8438900709152222),\n",
       " ('social', 0.842548131942749),\n",
       " ('sales', 0.8322349190711975),\n",
       " ('service', 0.8312507271766663),\n",
       " ('resume', 0.8249419927597046)]"
      ]
     },
     "execution_count": 51,
     "metadata": {},
     "output_type": "execute_result"
    }
   ],
   "source": [
    "glove_vectors.most_similar(\"plan\", )"
   ]
  },
  {
   "attachments": {},
   "cell_type": "markdown",
   "metadata": {},
   "source": [
    "### Russian hand made dataset"
   ]
  },
  {
   "cell_type": "code",
   "execution_count": 232,
   "metadata": {},
   "outputs": [],
   "source": [
    "df_manual = []\n",
    "with open(\"../edz_dataset_eng.txt\", \"r\", encoding=\"utf-8\") as f:\n",
    "    for line in f:\n",
    "        df_manual.append(line[:-1])\n"
   ]
  },
  {
   "cell_type": "code",
   "execution_count": 233,
   "metadata": {},
   "outputs": [
    {
     "data": {
      "text/html": [
       "<div>\n",
       "<style scoped>\n",
       "    .dataframe tbody tr th:only-of-type {\n",
       "        vertical-align: middle;\n",
       "    }\n",
       "\n",
       "    .dataframe tbody tr th {\n",
       "        vertical-align: top;\n",
       "    }\n",
       "\n",
       "    .dataframe thead th {\n",
       "        text-align: right;\n",
       "    }\n",
       "</style>\n",
       "<table border=\"1\" class=\"dataframe\">\n",
       "  <thead>\n",
       "    <tr style=\"text-align: right;\">\n",
       "      <th></th>\n",
       "      <th>Token</th>\n",
       "      <th>lemma</th>\n",
       "      <th>entity</th>\n",
       "      <th>full</th>\n",
       "      <th>entity</th>\n",
       "      <th>dep type</th>\n",
       "      <th>head</th>\n",
       "    </tr>\n",
       "  </thead>\n",
       "  <tbody>\n",
       "    <tr>\n",
       "      <th>0</th>\n",
       "      <td>Tomorrow</td>\n",
       "      <td>tomorrow</td>\n",
       "      <td>DATE</td>\n",
       "      <td>NOUN</td>\n",
       "      <td>NN</td>\n",
       "      <td>npadvmod</td>\n",
       "      <td>go</td>\n",
       "    </tr>\n",
       "    <tr>\n",
       "      <th>1</th>\n",
       "      <td>I</td>\n",
       "      <td>I</td>\n",
       "      <td></td>\n",
       "      <td>PRON</td>\n",
       "      <td>PRP</td>\n",
       "      <td>nsubj</td>\n",
       "      <td>go</td>\n",
       "    </tr>\n",
       "    <tr>\n",
       "      <th>2</th>\n",
       "      <td>'ll</td>\n",
       "      <td>will</td>\n",
       "      <td></td>\n",
       "      <td>AUX</td>\n",
       "      <td>MD</td>\n",
       "      <td>aux</td>\n",
       "      <td>go</td>\n",
       "    </tr>\n",
       "    <tr>\n",
       "      <th>3</th>\n",
       "      <td>go</td>\n",
       "      <td>go</td>\n",
       "      <td></td>\n",
       "      <td>VERB</td>\n",
       "      <td>VB</td>\n",
       "      <td>ROOT</td>\n",
       "      <td>go</td>\n",
       "    </tr>\n",
       "    <tr>\n",
       "      <th>4</th>\n",
       "      <td>to</td>\n",
       "      <td>to</td>\n",
       "      <td></td>\n",
       "      <td>ADP</td>\n",
       "      <td>IN</td>\n",
       "      <td>prep</td>\n",
       "      <td>go</td>\n",
       "    </tr>\n",
       "    <tr>\n",
       "      <th>5</th>\n",
       "      <td>work</td>\n",
       "      <td>work</td>\n",
       "      <td></td>\n",
       "      <td>VERB</td>\n",
       "      <td>VB</td>\n",
       "      <td>pobj</td>\n",
       "      <td>to</td>\n",
       "    </tr>\n",
       "    <tr>\n",
       "      <th>6</th>\n",
       "      <td>at</td>\n",
       "      <td>at</td>\n",
       "      <td></td>\n",
       "      <td>ADP</td>\n",
       "      <td>IN</td>\n",
       "      <td>prep</td>\n",
       "      <td>work</td>\n",
       "    </tr>\n",
       "    <tr>\n",
       "      <th>7</th>\n",
       "      <td>morning</td>\n",
       "      <td>morning</td>\n",
       "      <td>TIME</td>\n",
       "      <td>NOUN</td>\n",
       "      <td>NN</td>\n",
       "      <td>pobj</td>\n",
       "      <td>at</td>\n",
       "    </tr>\n",
       "  </tbody>\n",
       "</table>\n",
       "</div>"
      ],
      "text/plain": [
       "      Token     lemma entity  full entity  dep type  head\n",
       "0  Tomorrow  tomorrow   DATE  NOUN     NN  npadvmod    go\n",
       "1         I         I         PRON    PRP     nsubj    go\n",
       "2       'll      will          AUX     MD       aux    go\n",
       "3        go        go         VERB     VB      ROOT    go\n",
       "4        to        to          ADP     IN      prep    go\n",
       "5      work      work         VERB     VB      pobj    to\n",
       "6        at        at          ADP     IN      prep  work\n",
       "7   morning   morning   TIME  NOUN     NN      pobj    at"
      ]
     },
     "execution_count": 233,
     "metadata": {},
     "output_type": "execute_result"
    }
   ],
   "source": [
    "tags = []\n",
    "doc = nlp(df_manual[0])\n",
    "for token in doc:\n",
    "    tags.append([token.text, token.lemma_, token.ent_type_, token.pos_, token.tag_, token.dep_, token.head])\n",
    "postok = {str(i): list(doc).index(i) for i in doc}\n",
    "pd.DataFrame(tags, columns = [\"Token\", \"lemma\", \"entity\", \"full\", \"entity\", \"dep type\", \"head\"])"
   ]
  },
  {
   "cell_type": "code",
   "execution_count": 234,
   "metadata": {},
   "outputs": [
    {
     "data": {
      "text/plain": [
       "array([[0, 0, 0, ..., 0, 0, 0],\n",
       "       [0, 0, 0, ..., 0, 0, 0],\n",
       "       [0, 0, 0, ..., 0, 0, 0],\n",
       "       ...,\n",
       "       [1, 1, 0, ..., 0, 0, 0],\n",
       "       [0, 0, 0, ..., 0, 0, 0],\n",
       "       [0, 0, 0, ..., 0, 0, 0]], dtype=int64)"
      ]
     },
     "execution_count": 234,
     "metadata": {},
     "output_type": "execute_result"
    }
   ],
   "source": [
    "model_bow = CountVectorizer()\n",
    "X = model_bow.fit_transform(df_manual).toarray()\n",
    "X"
   ]
  },
  {
   "cell_type": "code",
   "execution_count": 235,
   "metadata": {},
   "outputs": [
    {
     "data": {
      "text/plain": [
       "(1000,)"
      ]
     },
     "execution_count": 235,
     "metadata": {},
     "output_type": "execute_result"
    }
   ],
   "source": [
    "df_part[\"message_processed\"].apply(lambda x: \" \".join(x)).shape"
   ]
  },
  {
   "cell_type": "code",
   "execution_count": 236,
   "metadata": {},
   "outputs": [
    {
     "data": {
      "text/plain": [
       "array([\"Tomorrow I'll go to work at morning\",\n",
       "       'the day after tomorrow we plan to go to the country',\n",
       "       \"by the evening I'm planning to finish the report\",\n",
       "       'Sunday afternoon we will go to a restaurant',\n",
       "       'by 20 p.m. I will finish the project',\n",
       "       'at 06:30 we get up for a warm-up',\n",
       "       'On April 28, a race will take place on the square',\n",
       "       'on thursday we will go camping with friends',\n",
       "       'from 9 am to 8 pm I will write a diploma',\n",
       "       'we will drive all evening tomorrow by car along the highway'],\n",
       "      dtype='<U76')"
      ]
     },
     "execution_count": 236,
     "metadata": {},
     "output_type": "execute_result"
    }
   ],
   "source": [
    "np.array(df_manual)[:10]"
   ]
  },
  {
   "cell_type": "code",
   "execution_count": null,
   "metadata": {},
   "outputs": [
    {
     "name": "stdout",
     "output_type": "stream",
     "text": [
      "37 записей напсианы вручную\n"
     ]
    }
   ],
   "source": [
    "print(f\"{len(df_manual)} записей напсианы вручную\")"
   ]
  },
  {
   "cell_type": "code",
   "execution_count": 237,
   "metadata": {},
   "outputs": [],
   "source": [
    "counter_words_manual = Counter()\n",
    "def pipeline(input):\n",
    "  output = prepare_text(input)\n",
    "  output = stopwords_delete(output)\n",
    "  for word in output:\n",
    "    counter_words_manual[word] += 1         # collect frequencies\n",
    "  return output\n",
    "df_manual = [pipeline(i) for i in df_manual]"
   ]
  },
  {
   "cell_type": "code",
   "execution_count": 238,
   "metadata": {},
   "outputs": [
    {
     "data": {
      "image/png": "[encoded data removed]",
      "text/plain": [
       "<Figure size 864x432 with 1 Axes>"
      ]
     },
     "metadata": {
      "needs_background": "light"
     },
     "output_type": "display_data"
    }
   ],
   "source": [
    "data = counter_words_manual.most_common(30)\n",
    "x = [x[0] for x in data]\n",
    "y = [l[1] for l in data]\n",
    "plt.figure(figsize=(12, 6))\n",
    "plt.bar(x, y)\n",
    "plt.xticks(rotation=90)\n",
    "plt.title(\"10 Most common words in messages with date\")\n",
    "for i in range(len(x)):\n",
    "  plt.text(i-0.1,y[i]+0.1,y[i])"
   ]
  },
  {
   "cell_type": "code",
   "execution_count": 241,
   "metadata": {},
   "outputs": [],
   "source": [
    "df_manual = [\" \".join(i) for i in df_manual]"
   ]
  },
  {
   "cell_type": "code",
   "execution_count": 242,
   "metadata": {},
   "outputs": [],
   "source": [
    "model_bow = CountVectorizer()\n",
    "texts_corpus = df_part[\"message_processed\"].apply(lambda x: \" \".join(x))\n",
    "texts_corpus = np.concatenate([texts_corpus, np.array(df_manual)])\n",
    "X = model_bow.fit_transform(texts_corpus).toarray()"
   ]
  },
  {
   "cell_type": "code",
   "execution_count": 244,
   "metadata": {},
   "outputs": [
    {
     "name": "stderr",
     "output_type": "stream",
     "text": [
      "C:\\Users\\sirau\\AppData\\Roaming\\Python\\Python310\\site-packages\\sklearn\\manifold\\_t_sne.py:800: FutureWarning: The default initialization in TSNE will change from 'random' to 'pca' in 1.2.\n",
      "  warnings.warn(\n",
      "C:\\Users\\sirau\\AppData\\Roaming\\Python\\Python310\\site-packages\\sklearn\\manifold\\_t_sne.py:810: FutureWarning: The default learning rate in TSNE will change from 200.0 to 'auto' in 1.2.\n",
      "  warnings.warn(\n"
     ]
    },
    {
     "data": {
      "text/plain": [
       "Text(0.5, 1.0, 't-SNE representation of dataset')"
      ]
     },
     "execution_count": 244,
     "metadata": {},
     "output_type": "execute_result"
    },
    {
     "data": {
      "image/png": "[encoded data removed]",
      "text/plain": [
       "<Figure size 432x288 with 1 Axes>"
      ]
     },
     "metadata": {
      "needs_background": "light"
     },
     "output_type": "display_data"
    }
   ],
   "source": [
    "tsne = TSNE()\n",
    "data = tsne.fit_transform(X)\n",
    "plt.scatter(x=data[:, 0], y=data[:, 1])\n",
    "plt.scatter(x=data[-30:, 0], y=data[-30:, 1], color=\"red\")\n",
    "plt.title(\"t-SNE representation of dataset\")"
   ]
  },
  {
   "cell_type": "code",
   "execution_count": 245,
   "metadata": {},
   "outputs": [
    {
     "data": {
      "text/plain": [
       "array(['yes sure grow much year',\n",
       "       'cool cat pretty smart specie cat specie extinction 10,000 year',\n",
       "       'I could say well lol odd meeting two couple month ago',\n",
       "       'I think rap major significance last twenty year though huh',\n",
       "       'yeah snl skit mocking interrupting award show 2 year infamous Taylor Swift incident',\n",
       "       'yes Senate big tradition use gavel 165 year got crack',\n",
       "       'I think might nobody vote Voter turn go high 62 100 year',\n",
       "       'I think I would bad Richard Nixon crack 165 year old gavel senate use must somewhere display',\n",
       "       'voter turnout presidential election breach 62.8 last 100 year actually I would guess',\n",
       "       'well see voting twenty year make easy number probably rise',\n",
       "       'yes I even though go forest full lion voter turnout US presidential election reach 62.8 percent last 100 year',\n",
       "       '2005 married couple schedule 2430 major league baseball game play year 24 year I bet could get confusing',\n",
       "       'almost 100 year old Mouse House soon century behind',\n",
       "       '12 12 I use play lot I child I surprised video game make money abbually film Hollywood',\n",
       "       'hey see FanFest Miami last year chance',\n",
       "       'yeah I hear wild result Nevada election year',\n",
       "       'pretty sad I guess breach 63 barrier last 100 year',\n",
       "       'I probably 100 year ago know',\n",
       "       'yes cool know horse evolve past 45 55 million year small multi toed creature Eohippus large single toed animal today',\n",
       "       'haha I quite happy keep thought sound like scary sci fi movie I computer brain gets arrest imprison eternity 100 year crazy new law thank',\n",
       "       'I know year ago I realize IMDB well',\n",
       "       'yes take 6 year give great classical dressage performance',\n",
       "       'I follow local I live state 3 year time',\n",
       "       'sure I vote third party I part problem I want 3rd party win year',\n",
       "       'well Bernie Sanders announce 2020 run actually make onto ballot year I vote',\n",
       "       'I sure anyone take Trump point rumor election rigging tie Russia I personally think cheat win one anything like last 4 year',\n",
       "       'great point I want keep see voter turnout 62.8 percent 100 year',\n",
       "       'ha ha yeah I bet confused funny think ride around since 1957',\n",
       "       'huh I never notice hard believe voter turnout US presidential election breach 62.8 last 100 year',\n",
       "       'funny earth form 4.5 billion year ago',\n",
       "       'Oooo imagine animal unexplored water world see yet 4.5 million year old world animal ocean quite time like lizard',\n",
       "       'I certainly possible William Shakespeare write incredible amount material even though die 49 year old',\n",
       "       'Pocahontas Shakespeare alive time die year apart interesting fact',\n",
       "       'crazy think red blue connotation party even 20 year old',\n",
       "       'wow I love learn I think I see astronomer find planet many light year away could sustain life',\n",
       "       'haha well I glad agree think Rogue one come 2016 I think total disaster haha',\n",
       "       'amazing star war create long time ago 1977 movie make last year star war fever alive',\n",
       "       'one sucessful franchise ever 40 year still great following',\n",
       "       'dang I need watch like 10 per night diet since I anything else lol',\n",
       "       'well want lot Awards year I think go even well next year',\n",
       "       'yes make movie interesting 1978 could use object tennis racket sound dangerous',\n",
       "       'boring kind fun watch one week per 4 year lol I like Brazil',\n",
       "       'I sure I never watch even though seven year',\n",
       "       'I try play time game pretty tough know could use object racket 1978 wonder anyone ever use anything strange',\n",
       "       'cool Harlem woman hold free jazz concert apartment 20 year',\n",
       "       'wow I know portuguese broadcaster RTP strip Eurovision stage wall led screen become ubiquitous backdrop recent year',\n",
       "       'harlem woman hold free jazz concert apartment every sunday 20 year top performer occasionally stop',\n",
       "       'neat New Orleans jazz begin early 1910 combine early brass band marche french quadrille biguine ragtime blue collective polyphonic improvisation',\n",
       "       'hi I much experience I hope rememdy go New Orleans later year I hear originate',\n",
       "       \"yes I hear lifelong pianist cool Harlem woman 's apartment 20 year hold jazz concert sometimes top performer stop\",\n",
       "       \"I would think would I think piano old instrument invent 1700 's really old\",\n",
       "       \"100 year ago jazz see major form musical expression since 1920 's\",\n",
       "       'thank main component tennis racket 1978 tennis player allow use absolutely object racket',\n",
       "       'I know right human around long time apparently I mean lose body hair 240,000 year ago',\n",
       "       'haha seem like great idea get drink pet cat LOL know cat spend 10 year life sleep 15 year old LOL long time',\n",
       "       'I love fish old goldfish live 43 year old',\n",
       "       'koi fish live 226 year',\n",
       "       'ha weird I know Tennis interesting history know 1978 tennis player could use object racket',\n",
       "       'interesting know Tennis year ago allow use object racket Haha',\n",
       "       'wow I could never last long speak Serena Williams I know go pro age 13 amazing co owner Miami Dolphins wow',\n",
       "       'true I love snl skit mock interrupt award show ironically two year interrupt Taylor Swift award show ha',\n",
       "       'human may lose body hair recently 240,000 year ago know',\n",
       "       'I know lose body hair quarter million year ago',\n",
       "       'yeah odd thinking also skit interrupt award show 2 year prior really skit SNL mock',\n",
       "       'good point scary thing current trajectory Earth helium year 2100 I know love important manufacture thing I know',\n",
       "       'yeah I find year ago much ocean explore imagine',\n",
       "       'I find sad 2013 think early',\n",
       "       \"50 's different time unfortunately one first sci fi story think ancient Greece 1800 year ago plant base alien live moon\",\n",
       "       'I I play 20 year',\n",
       "       'I play 25 year I see video game originally call cathode ray tube amusement device',\n",
       "       'kickball playground fun David Price MLB player 217 million dollar seven year contract play ball game perhaps video game might try kick ball',\n",
       "       'I I subscriber year especially love original content',\n",
       "       'yep crazy go spend 2 billion dollar year make new content I like show though',\n",
       "       'I think actually ninety I think think wrong one haha Apollo 13 head Tom Hanks think Tom Cruise though',\n",
       "       'I watch 7 season good',\n",
       "       'I I could see possible approximate flying I know climb tree I see garter snake fig tree I guess want could coil spring fling one tree another Mardi Gras end last night ear still ring concert put local band know Fighter Concert loud pick New Zealand seismic earthquake monitor',\n",
       "       'I bull snake yard last year big one',\n",
       "       'good morning know anything snake I see huge one reddit day',\n",
       "       'well I know Kanye self mocking skit 2 year infamous Taylor swift incident among world contemporary artist',\n",
       "       'I would think listen Linkin park play 324 concert 2001',\n",
       "       'I believe tour 20 year anyway I think I check Linkin park thank chat',\n",
       "       'Simpsons right since simpson generate money year',\n",
       "       'viewership Fox skew pretty old 2015 median viewer age 68 year old old people tend conservative',\n",
       "       'I many year ago',\n",
       "       'I know poor monkey idea run 7 year old ask get snake I shut quickly',\n",
       "       'yeah come next month I think pretty sad end bring tissue time',\n",
       "       'yes I I agree Thanksgiving Chsitmas favorite Holidays right especially one oven work like susan westmoreland say bit like acrobatic dance lol',\n",
       "       'yes I 2 year old twin boy love shake shake shake shake booty haha crack everytime love dance watch bird bird',\n",
       "       'Tetris great game remind I youth around since I around lol well I guess tetris year old 1984 create',\n",
       "       'pretty good top division last year good Red Sox amazing start year win World Series',\n",
       "       'almost easy great pitcher good hitter new manager normally new manager help team win World Series year Houston Astros',\n",
       "       \"ah little scary I suppose without baseball bat simple weapon choice would something else I think fascinating I like soccer I Croat half really World Cup exciting year unfortunately woman 's world cup popular US baseball world series\",\n",
       "       'win world series year Boston another team',\n",
       "       'Sox play LA Dodgers I actually Royals fan bad year aside I idea Babe Ruth blow World Series getting catch steal 1926 say Babe',\n",
       "       'nice I enjoy watch world series favorite team Red Sox win year',\n",
       "       'possibly crazy Ruth end game 7 try steal home 1926 World Series',\n",
       "       'yankee since Ruth play 1926 world series',\n",
       "       'pretty crazy know 2005 MLB schedule married couple',\n",
       "       'would make schedule 2430 mlb game',\n",
       "       'really player I familiar Babe Ruth catch steal end game lose world series 1926',\n",
       "       'I love watch lot game every year wait spring training Babe ruth catch steal end game 7 lose 1926 world series team one run',\n",
       "       'lot 2005 married couple 24 year schedule 2430 major league baseball game play year',\n",
       "       'previous year player play dual role manager well I think manager would able last game',\n",
       "       'I play 10 year another thing I want mention golf course consist 18 hole play game fun usually 9 hole',\n",
       "       'would cool see know Linkin Park play 324 concert back 2001',\n",
       "       'would cool see Eminem Ramones play 2263 concert 20 year',\n",
       "       'must take toll 20 year non stop',\n",
       "       'I time time 2001 Linkin Park play 324 concert alone mind blow',\n",
       "       'rest wow pretty amazing Ramon tour 20 year',\n",
       "       'right play staggering 2263 concert time',\n",
       "       'I know Linkin Park play 324 concert 2001',\n",
       "       'exactly ramone also tour 20 year straight',\n",
       "       'say age 25 I guess may receive GED show business first tv series call Degrassi Next Generation ever since Drake 14 year old maybe drop school 9th grade',\n",
       "       'yes I hear Europeans discover North America squirrel could go coast coast without touch ground expect helium leave earth less 82 year',\n",
       "       'I grow DC comic_strip Marvel cut niche Denzel Washington help Chadwick Boseman financially study Oxford 20 year ago produce great result',\n",
       "       \"yeah like I remember read actor play Dr. House gets pay 700 k per episode I think doctor 's make year something\",\n",
       "       'yeah I neither sure open mind endless creativity like universe take place earth 199999 year ago multiverse',\n",
       "       'I know that- course I believe bird extinct year recently bunch hummingbird first I exciting TINY',\n",
       "       'right stuff like happen I lol 2005 married couple responsible schedule 2430 major league game',\n",
       "       'yeah true know use MLB schedule 24 year',\n",
       "       'I understand business model people use I never get impressive nonetheless account 33 bandwith north america peak hour',\n",
       "       'I mean I could pay 50million today 2 billion year wow investment',\n",
       "       'yes would hard bright side I bet many cinematographer put mention worthy work many year',\n",
       "       '7 year old ask could get one I try act cool like I completely afraid notion I cool cucumber',\n",
       "       'buy r7 year old snake lol',\n",
       "       \"I 12 year old yellow lab 10 year old yorkie/ poodle mix good truly man 's good friend\",\n",
       "       'ya sad think also sad run helium year 2100',\n",
       "       'earth amazing think much history 4.5 billion year creation',\n",
       "       'Earth never stop amaze I form 4.5 billion year ago still much learn planet',\n",
       "       'sad lot eligible voter show turnout presidential election reach 63 percent last 100 year',\n",
       "       \"I guess gov't need make sure everyone chance vote US different voter turnout presidential election exceed 62.8 last 100 year\",\n",
       "       'unfortunitly voter turnout breach 62.8 last 100 year may country bad shape',\n",
       "       'I know I catch faint smell something remind something 20 year ago',\n",
       "       'story still amazing though even without haha I wonder ever write human lose body hair 240,000 year ago',\n",
       "       'true give rise anatomically modern Homo sapiens Africa 315,000 year ago',\n",
       "       'fish pretty amazing koi fish name hanako live 226 year thank chat',\n",
       "       'yes suppose run 10 000 year AMazon IMDB pretty cool',\n",
       "       'yea I hugh Yankees fan I never know 17 year old female pitcher strike Babe Ruth Lou Gehrig got ban sound like sign',\n",
       "       'I surprised 108 year since Cubs last win world series',\n",
       "       'sure I know Chicago Cubs Atlanta Braves two old team major league baseball found year Battle Little Bighorn',\n",
       "       'yes die 87 year age',\n",
       "       'I think would fun see like cub win championship 108 year',\n",
       "       'I think couple would schedule 2430 game throughout 24 year soccer baseball like one couple baseball',\n",
       "       'I hear 1981 2005 married couple actually schedule 2,430 major league game play year',\n",
       "       'I know Cubs found year Battle Little Bighorn maybe something time',\n",
       "       'probably like I Red Sox fan I hear Eric Hosmer sign San Diego Padres 144 million eight year contract',\n",
       "       'haha right I like Red Sox yes I believe Hosmer contract last year I think go end bad contract',\n",
       "       'I I think much money player prove 28 year old play first base position well Royal',\n",
       "       'well I know hear Padres sign Manny Machado year I think contract like 300 million 10 year',\n",
       "       'play kickball I fun year ago',\n",
       "       'oh wow mean go way back yeah couple 24 year',\n",
       "       'right I throw anything away also house mess lol one thing I understand MLB use married couple 24 year schedule game would use computer',\n",
       "       'haha ya 2005 crazy',\n",
       "       'I say I haha I like I say I really watch sport much I know good seven game correct want win year',\n",
       "       'yep I like crazy Babe Ruth try steal base game seven make lose 1926 World Series Babe Ruth really fat',\n",
       "       'amazing I believe Nationals 19 year old rookie player well',\n",
       "       'something I think interesting othe game scheduling married couple 2005 I wonder handle',\n",
       "       'I like watch person much tv exciting I one pro game friend really game -- I think Nationals many year ago I recall play score fun afternoon',\n",
       "       'yeah amazing couple 24 year row',\n",
       "       'exactly schedule 2430 game every year easy feat',\n",
       "       'I know right probably year develop work system program',\n",
       "       'yes I assistant scout Phillies year ago know married couple schedule 2430 game 24 year 2005',\n",
       "       'I know must complicate since sometimes concert use stadium also cold ballpark early season form baseball play kickball Canada',\n",
       "       \"would well recently player sometimes 60 year old Japan 's baseball fan surprised big deal US\",\n",
       "       'yeah I know japanese people really baseball watch world series year',\n",
       "       'yeah team one game away represent NL series know Babe Ruth catch steal end game 7 series way back 1926',\n",
       "       'I live Phoenix Diamondbacks win 2001 I could imagine go 108 year without win like Cubs',\n",
       "       'give much Puig pain neck one good defensive leave fielder baseball pitcher wood young guy star 2 year ago',\n",
       "       'yes base baseball card throw many many year ago I wish I back',\n",
       "       'I know I would like schedule game 24 year married couple schedule MLB game play year',\n",
       "       'I would want part Babe Ruth throw steal end game 7 lose 1926 world series first time I ever see fact',\n",
       "       'hmm I idea I know couple schedule 24 year game',\n",
       "       'yes back 9013 100 year old', 'I hear couple 24 year row',\n",
       "       'amazing 2430 game every year many number I',\n",
       "       'I hear crowd super rowdy haha married weird married couple scheduling MLB baseball game 24 year',\n",
       "       'Braves seem good start season rest team',\n",
       "       'good team two point view well reseted team vs team come season lot practice one prefer',\n",
       "       'yes I would want people practice need prepare season know baseball manager wear uniform technically able play team need arise',\n",
       "       'wow must really like watch Wold Series last year',\n",
       "       'I watch either game lot tradition almost 120 year since first World Series 120 champion',\n",
       "       'north america play fall season',\n",
       "       'I see thank information married couple use schedule 2430 major league baseball game play year 24 year',\n",
       "       'must pretty cool together baseball season many game know',\n",
       "       'granddaughter know much baseball I think right thing steal base Babe Ruth catch end game 7 lose 1926 World Series',\n",
       "       'I Yankees fan I never know Babe Ruth catch steal home 1926 World serire',\n",
       "       'probably know Cubs Braves start play year battle little bighorn',\n",
       "       'yeah I really like either game haha crazy though World Series actually start back 1903 I respect long history',\n",
       "       'yes play well Little League World Series know Babe Ruth catch steal end game 7 lose 26 world series team one run',\n",
       "       'wow must suck manager ;) high expectation every year probably bum back square one',\n",
       "       'Braves playoff make year',\n",
       "       'favorite team Atlanta Braves around long Cubs found year Little Bighorn battle wow',\n",
       "       'good part baseball watch world series I remember red sox come back beat Yankees 0 3 crazy go since 1903 I wonder many people actually watch still',\n",
       "       'I say know great Babe Ruth catch steal end game 7 lose 1926 World Series team one run',\n",
       "       'People care even fix still wanna watch 2005 couple schedule 2430 game',\n",
       "       'yeah I hear 24 year must organized keep schedule straight',\n",
       "       'Thursday 8:07 eastern time Braves play first playoff game since 2013 many new player go playoff first time',\n",
       "       'haha really play World Series one year must',\n",
       "       'yes exciting especially 108 year drought',\n",
       "       'yes Cubs Atlanta two old team found year battle little bighourn',\n",
       "       'wow long time ago appear 11 world series total apparently lot well hundred year ago',\n",
       "       'I never realize couple schedule major league game every year way 2005',\n",
       "       'wow lot Nationals miss playoff last year',\n",
       "       'Babe Ruth large man fleet foot catch steal end game 7 1926 world series',\n",
       "       'couple 24 year straight',\n",
       "       'yeah sweet gig sure schedule 2430 game year',\n",
       "       'lot game maybe year year vary much get right follow year straightforward',\n",
       "       'interesting entire process get used human take 1000 year',\n",
       "       'I know I know country still engage voter suppression much change year GOP',\n",
       "       'right I think would 19 year',\n",
       "       'wow amazing know MLB scheduling 24 year',\n",
       "       'couple schedule 2430 game yeah yeah I know Cubs',\n",
       "       \"yea I work target year ago I remember would japanese baseball break room along tv 's American Sports\",\n",
       "       \"I know I guess Pixas spend 3 year study physics curly hair order get merida 's hair brave right\",\n",
       "       '15 year ago apparently hubble problem',\n",
       "       'I see guess really need make upgrade lot technology change year',\n",
       "       'young year badly afflict I wonder whether one scientist theorize universe evolve natural selection',\n",
       "       'Physics know Pixar study physics curly har 3 year',\n",
       "       'I believe I watch 10 month old right shake little behind music stand ha',\n",
       "       'yes follow past year',\n",
       "       'LOL must 17 year old female strike babe ruth lou gehrig wonder ever happen',\n",
       "       'yeah really work season enough world series',\n",
       "       'think next year favor slug hitter',\n",
       "       'I think I think even home run next year',\n",
       "       'watch much world series year',\n",
       "       'I respect Cubs fan stick team 100 year lose',\n",
       "       'baseball tradition probably married couple schedule 2430 major league game 2005',\n",
       "       'yeah true buy stock live dividend watch world series last year',\n",
       "       'I like bay area team well recently giant good year back',\n",
       "       'I find surprising married couple schedule 2430 major league baseball game 2005 I figure computer',\n",
       "       'well Babe Ruth catch steal end game 7 lose 1926 world series team one run everyone still love I sure okay flag year later',\n",
       "       'I love softball I play league couple year yep I appreciate baseball much tough play Cubs I really follow I love home team even great lol',\n",
       "       'I favorite sport kid I even know married couple schedule 2000 game every year',\n",
       "       'I Atlanta Braves fan I could help love Cubs finally win World Series year ago',\n",
       "       'Babe Ruth catch steal base team lose back year 1926',\n",
       "       'huh I look believe 2005 husband wife team schedule MLB game',\n",
       "       'ya I agree like 2500 game schedule year would get tedius',\n",
       "       'yea amazing many home run hit last season Yankess set record 267 season',\n",
       "       'know married couple schedule major league game 24 year 2005',\n",
       "       'cool I think year US woman win world cup'], dtype=object)"
      ]
     },
     "execution_count": 245,
     "metadata": {},
     "output_type": "execute_result"
    }
   ],
   "source": [
    "texts_corpus[np.argwhere(np.logical_and(data[:, 0]>0, data[:, 1]>0)).squeeze()]"
   ]
  },
  {
   "cell_type": "code",
   "execution_count": 252,
   "metadata": {},
   "outputs": [],
   "source": [
    "y_train =np.array([0 for i in range(63)]+[1 for i in range(37)])\n",
    "x_train = X[-100:]"
   ]
  },
  {
   "cell_type": "code",
   "execution_count": 253,
   "metadata": {},
   "outputs": [],
   "source": [
    "from sklearn.model_selection import train_test_split\n",
    "x_train, x_test, y_train, y_test = train_test_split(x_train, y_train)"
   ]
  },
  {
   "cell_type": "code",
   "execution_count": 255,
   "metadata": {},
   "outputs": [
    {
     "data": {
      "text/html": [
       "<style>#sk-container-id-1 {color: black;background-color: white;}#sk-container-id-1 pre{padding: 0;}#sk-container-id-1 div.sk-toggleable {background-color: white;}#sk-container-id-1 label.sk-toggleable__label {cursor: pointer;display: block;width: 100%;margin-bottom: 0;padding: 0.3em;box-sizing: border-box;text-align: center;}#sk-container-id-1 label.sk-toggleable__label-arrow:before {content: \"▸\";float: left;margin-right: 0.25em;color: #696969;}#sk-container-id-1 label.sk-toggleable__label-arrow:hover:before {color: black;}#sk-container-id-1 div.sk-estimator:hover label.sk-toggleable__label-arrow:before {color: black;}#sk-container-id-1 div.sk-toggleable__content {max-height: 0;max-width: 0;overflow: hidden;text-align: left;background-color: #f0f8ff;}#sk-container-id-1 div.sk-toggleable__content pre {margin: 0.2em;color: black;border-radius: 0.25em;background-color: #f0f8ff;}#sk-container-id-1 input.sk-toggleable__control:checked~div.sk-toggleable__content {max-height: 200px;max-width: 100%;overflow: auto;}#sk-container-id-1 input.sk-toggleable__control:checked~label.sk-toggleable__label-arrow:before {content: \"▾\";}#sk-container-id-1 div.sk-estimator input.sk-toggleable__control:checked~label.sk-toggleable__label {background-color: #d4ebff;}#sk-container-id-1 div.sk-label input.sk-toggleable__control:checked~label.sk-toggleable__label {background-color: #d4ebff;}#sk-container-id-1 input.sk-hidden--visually {border: 0;clip: rect(1px 1px 1px 1px);clip: rect(1px, 1px, 1px, 1px);height: 1px;margin: -1px;overflow: hidden;padding: 0;position: absolute;width: 1px;}#sk-container-id-1 div.sk-estimator {font-family: monospace;background-color: #f0f8ff;border: 1px dotted black;border-radius: 0.25em;box-sizing: border-box;margin-bottom: 0.5em;}#sk-container-id-1 div.sk-estimator:hover {background-color: #d4ebff;}#sk-container-id-1 div.sk-parallel-item::after {content: \"\";width: 100%;border-bottom: 1px solid gray;flex-grow: 1;}#sk-container-id-1 div.sk-label:hover label.sk-toggleable__label {background-color: #d4ebff;}#sk-container-id-1 div.sk-serial::before {content: \"\";position: absolute;border-left: 1px solid gray;box-sizing: border-box;top: 0;bottom: 0;left: 50%;z-index: 0;}#sk-container-id-1 div.sk-serial {display: flex;flex-direction: column;align-items: center;background-color: white;padding-right: 0.2em;padding-left: 0.2em;position: relative;}#sk-container-id-1 div.sk-item {position: relative;z-index: 1;}#sk-container-id-1 div.sk-parallel {display: flex;align-items: stretch;justify-content: center;background-color: white;position: relative;}#sk-container-id-1 div.sk-item::before, #sk-container-id-1 div.sk-parallel-item::before {content: \"\";position: absolute;border-left: 1px solid gray;box-sizing: border-box;top: 0;bottom: 0;left: 50%;z-index: -1;}#sk-container-id-1 div.sk-parallel-item {display: flex;flex-direction: column;z-index: 1;position: relative;background-color: white;}#sk-container-id-1 div.sk-parallel-item:first-child::after {align-self: flex-end;width: 50%;}#sk-container-id-1 div.sk-parallel-item:last-child::after {align-self: flex-start;width: 50%;}#sk-container-id-1 div.sk-parallel-item:only-child::after {width: 0;}#sk-container-id-1 div.sk-dashed-wrapped {border: 1px dashed gray;margin: 0 0.4em 0.5em 0.4em;box-sizing: border-box;padding-bottom: 0.4em;background-color: white;}#sk-container-id-1 div.sk-label label {font-family: monospace;font-weight: bold;display: inline-block;line-height: 1.2em;}#sk-container-id-1 div.sk-label-container {text-align: center;}#sk-container-id-1 div.sk-container {/* jupyter's `normalize.less` sets `[hidden] { display: none; }` but bootstrap.min.css set `[hidden] { display: none !important; }` so we also need the `!important` here to be able to override the default hidden behavior on the sphinx rendered scikit-learn.org. See: https://github.com/scikit-learn/scikit-learn/issues/21755 */display: inline-block !important;position: relative;}#sk-container-id-1 div.sk-text-repr-fallback {display: none;}</style><div id=\"sk-container-id-1\" class=\"sk-top-container\"><div class=\"sk-text-repr-fallback\"><pre>RandomForestClassifier()</pre><b>In a Jupyter environment, please rerun this cell to show the HTML representation or trust the notebook. <br />On GitHub, the HTML representation is unable to render, please try loading this page with nbviewer.org.</b></div><div class=\"sk-container\" hidden><div class=\"sk-item\"><div class=\"sk-estimator sk-toggleable\"><input class=\"sk-toggleable__control sk-hidden--visually\" id=\"sk-estimator-id-1\" type=\"checkbox\" checked><label for=\"sk-estimator-id-1\" class=\"sk-toggleable__label sk-toggleable__label-arrow\">RandomForestClassifier</label><div class=\"sk-toggleable__content\"><pre>RandomForestClassifier()</pre></div></div></div></div></div>"
      ],
      "text/plain": [
       "RandomForestClassifier()"
      ]
     },
     "execution_count": 255,
     "metadata": {},
     "output_type": "execute_result"
    }
   ],
   "source": [
    "from sklearn.ensemble import RandomForestClassifier\n",
    "model = RandomForestClassifier()\n",
    "model.fit(x_train, y_train)"
   ]
  },
  {
   "cell_type": "code",
   "execution_count": 269,
   "metadata": {},
   "outputs": [
    {
     "data": {
      "text/plain": [
       "0.92"
      ]
     },
     "execution_count": 269,
     "metadata": {},
     "output_type": "execute_result"
    }
   ],
   "source": [
    "model.score(x_test, y_test)"
   ]
  },
  {
   "cell_type": "code",
   "execution_count": 268,
   "metadata": {},
   "outputs": [
    {
     "data": {
      "text/plain": [
       "array([1])"
      ]
     },
     "execution_count": 268,
     "metadata": {},
     "output_type": "execute_result"
    }
   ],
   "source": [
    "xr = model_bow.transform([\"suck \"]).toarray()\n",
    "model.predict(xr)"
   ]
  }
 ],
 "metadata": {
  "kernelspec": {
   "display_name": "Python 3",
   "language": "python",
   "name": "python3"
  },
  "language_info": {
   "codemirror_mode": {
    "name": "ipython",
    "version": 3
   },
   "file_extension": ".py",
   "mimetype": "text/x-python",
   "name": "python",
   "nbconvert_exporter": "python",
   "pygments_lexer": "ipython3",
   "version": "3.10.5"
  },
  "orig_nbformat": 4
 },
 "nbformat": 4,
 "nbformat_minor": 2
}

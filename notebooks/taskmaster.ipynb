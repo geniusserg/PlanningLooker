{
 "cells": [
  {
   "attachments": {},
   "cell_type": "markdown",
   "metadata": {},
   "source": [
    "# Load data"
   ]
  },
  {
   "attachments": {},
   "cell_type": "markdown",
   "metadata": {},
   "source": [
    "# \n",
    "\n",
    "- various tasks\n",
    "\n",
    "[https://github.com/google-research-datasets/Taskmaster/tree/master/TM-1-2019](https://github.com/google-research-datasets/Taskmaster/tree/master/TM-1-2019) \n",
    "\n",
    "- Dialogs for booking restaurant\n",
    "\n",
    "[https://github.com/matthen/dstc](https://github.com/matthen/dstc)\n",
    "\n",
    "- DailyDialog\n",
    "\n",
    "[http://yanran.li/dailydialog](http://yanran.li/dailydialog)\n",
    "\n",
    "- Here dialogs where we can extract plans\n",
    "\n",
    "[https://github.com/budzianowski/multiwoz](https://github.com/budzianowski/multiwoz)\n",
    "\n",
    "- Also book restaurants, but here we can extract timeRange and intentions\n",
    "\n",
    "[https://github.com/sonos/nlu-benchmark/tree/master/2017-06-custom-intent-engines/BookRestaurant](https://github.com/sonos/nlu-benchmark/tree/master/2017-06-custom-intent-engines/BookRestaurant)\n",
    "\n",
    "- Structured information from texts\n",
    "\n",
    "[https://github.com/snipsco/snips-nlu](https://github.com/snipsco/snips-nlu)\n",
    "\n",
    "- Alexa dataset for chat topics\n",
    "\n",
    "[https://github.com/alexa/Topical-Chat](https://github.com/alexa/Topical-Chat)\n",
    "\n",
    "- Dialog acts\n",
    "\n",
    "**[https://web.stanford.edu/~jurafsky/swb1_dialogact_annot.tar.gz](https://web.stanford.edu/~jurafsky/swb1_dialogact_annot.tar.gz)**\n",
    "\n",
    "[https://aclanthology.org/I17-1099/](https://aclanthology.org/I17-1099/) \n",
    "\n",
    "[https://www.cs.cornell.edu/~cristian/Cornell_Movie-Dialogs_Corpus.html](https://www.cs.cornell.edu/~cristian/Cornell_Movie-Dialogs_Corpus.html) \n",
    "\n",
    "[https://github.com/facebookresearch/ParlAI/tree/main/projects/personachat](https://github.com/facebookresearch/ParlAI/tree/main/projects/personachat)"
   ]
  },
  {
   "cell_type": "code",
   "execution_count": 1,
   "metadata": {},
   "outputs": [
    {
     "name": "stderr",
     "output_type": "stream",
     "text": [
      "[nltk_data] Downloading package universal_tagset to\n",
      "[nltk_data]     /home/codespace/nltk_data...\n",
      "[nltk_data]   Package universal_tagset is already up-to-date!\n"
     ]
    }
   ],
   "source": [
    "import pandas as pd\n",
    "import json\n",
    "import nltk\n",
    "import spacy\n",
    "from nltk import word_tokenize\n",
    "from spacy import displacy\n",
    "nlp = spacy.load(\"en_core_web_sm\")\n",
    "nltk.download('universal_tagset')\n",
    "import tools"
   ]
  },
  {
   "attachments": {},
   "cell_type": "markdown",
   "metadata": {},
   "source": [
    "## Taskmaster"
   ]
  },
  {
   "cell_type": "code",
   "execution_count": 2,
   "metadata": {},
   "outputs": [],
   "source": [
    "with open(\"/workspaces/codespaces-jupyter/data/Taskmaster/TM-1-2019/self-dialogs.json\") as f:\n",
    "    raw_json = f.read()\n",
    "json_data = json.loads(raw_json)\n"
   ]
  },
  {
   "attachments": {},
   "cell_type": "markdown",
   "metadata": {},
   "source": [
    "Я сначала попробую соединять все в одно предложение, потом посомтрим"
   ]
  },
  {
   "cell_type": "code",
   "execution_count": 3,
   "metadata": {},
   "outputs": [
    {
     "data": {
      "text/plain": [
       "\"Hello, I need you to order me a car through Lyft. Ok, Where are you located?. I am at the Providence Place Mall in Providence, RI. Ok, and where are you going to?. To Persimmon restaurant on Hope Street. Ok, and is it just you or do you have people traveling with you?. Just me. Ok, is the standard Lyft ok, or would you like the XL?. Standard is fine. How soon would you like to be picked up?. How long will the ride take?. It will be about 8 minutes. Ok, please request the pick up now. Ok, I am requesting pick up for you at Providence Place Mall and stating Persimmon restaurant on Hope St. as your destination. The estimated cost is $7, is this ok?. Yes, please book it with the payment information on file. Ok, your car is booked and should arrive in 4 minutes, I have sent the receipt to your email. Great, what is my eta?. Your estimated time of arrival in 6:23pm. Great, thank you. You are welcome, is there anything else I can help you with?. No that's it for now\""
      ]
     },
     "execution_count": 3,
     "metadata": {},
     "output_type": "execute_result"
    }
   ],
   "source": [
    "\". \".join([utterance[\"text\"] for utterance in json_data[24][\"utterances\"]])"
   ]
  },
  {
   "attachments": {},
   "cell_type": "markdown",
   "metadata": {},
   "source": [
    "Выделим строчки из json"
   ]
  },
  {
   "cell_type": "code",
   "execution_count": 4,
   "metadata": {},
   "outputs": [],
   "source": [
    "dataset = []\n",
    "for idx, dialog in enumerate(json_data):\n",
    "    dataset.extend([utterance[\"text\"] for utterance in dialog[\"utterances\"]])"
   ]
  },
  {
   "cell_type": "code",
   "execution_count": 5,
   "metadata": {},
   "outputs": [
    {
     "name": "stdout",
     "output_type": "stream",
     "text": [
      "169469\n",
      "7708\n"
     ]
    }
   ],
   "source": [
    "print(len(dataset))\n",
    "print(len(json_data))"
   ]
  },
  {
   "attachments": {},
   "cell_type": "markdown",
   "metadata": {},
   "source": [
    "Получаем 7708 диалогов и 169469 сообщений. Теперь применим нашу функцию"
   ]
  },
  {
   "cell_type": "code",
   "execution_count": 9,
   "metadata": {},
   "outputs": [
    {
     "name": "stdout",
     "output_type": "stream",
     "text": [
      "chunk 0 completed\n",
      "chunk 1 completed\n",
      "chunk 2 completed\n",
      "chunk 3 completed\n",
      "chunk 4 completed\n",
      "chunk 5 completed\n",
      "chunk 6 completed\n",
      "chunk 7 completed\n",
      "chunk 8 completed\n",
      "chunk 9 completed\n",
      "chunk 10 completed\n",
      "chunk 11 completed\n",
      "chunk 12 completed\n"
     ]
    }
   ],
   "source": [
    "data = []\n",
    "for chank_num in range(0, len(dataset)//1000):\n",
    "    date_sentces = tools.extract_date_roots(dataset[chank_num*1000:(chank_num+1)*1000])\n",
    "    for i in date_sentces:\n",
    "        if (i[1] == None):\n",
    "            data.append([i[0], i[1], i[2], 0])\n",
    "        else:\n",
    "            data.append([i[0], i[1], i[2], 1])\n",
    "    print(f\"chunk {chank_num} completed\")\n",
    "data_df = pd.DataFrame(data, columns=[\"text\", \"root\", \"event\", \"label\"])"
   ]
  },
  {
   "cell_type": "code",
   "execution_count": 8,
   "metadata": {},
   "outputs": [
    {
     "data": {
      "text/html": [
       "<div>\n",
       "<style scoped>\n",
       "    .dataframe tbody tr th:only-of-type {\n",
       "        vertical-align: middle;\n",
       "    }\n",
       "\n",
       "    .dataframe tbody tr th {\n",
       "        vertical-align: top;\n",
       "    }\n",
       "\n",
       "    .dataframe thead th {\n",
       "        text-align: right;\n",
       "    }\n",
       "</style>\n",
       "<table border=\"1\" class=\"dataframe\">\n",
       "  <thead>\n",
       "    <tr style=\"text-align: right;\">\n",
       "      <th></th>\n",
       "      <th>text</th>\n",
       "      <th>root</th>\n",
       "      <th>event</th>\n",
       "      <th>label</th>\n",
       "    </tr>\n",
       "  </thead>\n",
       "  <tbody>\n",
       "    <tr>\n",
       "      <th>0</th>\n",
       "      <td>Hi , I 'm looking to book a table for Korean f...</td>\n",
       "      <td>None</td>\n",
       "      <td>None</td>\n",
       "      <td>0</td>\n",
       "    </tr>\n",
       "    <tr>\n",
       "      <th>1</th>\n",
       "      <td>Ok , what area are you thinking about ?</td>\n",
       "      <td>None</td>\n",
       "      <td>None</td>\n",
       "      <td>0</td>\n",
       "    </tr>\n",
       "    <tr>\n",
       "      <th>2</th>\n",
       "      <td>Somewhere in Southern NYC , maybe the East Vil...</td>\n",
       "      <td>None</td>\n",
       "      <td>None</td>\n",
       "      <td>0</td>\n",
       "    </tr>\n",
       "    <tr>\n",
       "      <th>3</th>\n",
       "      <td>Ok , great .   There 's Thursday Kitchen , it ...</td>\n",
       "      <td>has</td>\n",
       "      <td>has Kitchen Thursday reviews it 's</td>\n",
       "      <td>1</td>\n",
       "    </tr>\n",
       "    <tr>\n",
       "      <th>4</th>\n",
       "      <td>That 's great . So I need a table for tonight ...</td>\n",
       "      <td>need</td>\n",
       "      <td>need for 7 table I at pm tonight</td>\n",
       "      <td>1</td>\n",
       "    </tr>\n",
       "    <tr>\n",
       "      <th>5</th>\n",
       "      <td>They do n't have any availability for 7 pm .</td>\n",
       "      <td>have</td>\n",
       "      <td>n't pm availability 7 They for have</td>\n",
       "      <td>1</td>\n",
       "    </tr>\n",
       "    <tr>\n",
       "      <th>6</th>\n",
       "      <td>What times are available ?</td>\n",
       "      <td>None</td>\n",
       "      <td>None</td>\n",
       "      <td>0</td>\n",
       "    </tr>\n",
       "    <tr>\n",
       "      <th>7</th>\n",
       "      <td>5 or 8 .</td>\n",
       "      <td>None</td>\n",
       "      <td>None</td>\n",
       "      <td>0</td>\n",
       "    </tr>\n",
       "    <tr>\n",
       "      <th>8</th>\n",
       "      <td>Yikes , we ca n't do those times .</td>\n",
       "      <td>None</td>\n",
       "      <td>None</td>\n",
       "      <td>0</td>\n",
       "    </tr>\n",
       "    <tr>\n",
       "      <th>9</th>\n",
       "      <td>Ok , do you have a second choice ?</td>\n",
       "      <td>None</td>\n",
       "      <td>None</td>\n",
       "      <td>0</td>\n",
       "    </tr>\n",
       "  </tbody>\n",
       "</table>\n",
       "</div>"
      ],
      "text/plain": [
       "                                                text  root  \\\n",
       "0  Hi , I 'm looking to book a table for Korean f...  None   \n",
       "1            Ok , what area are you thinking about ?  None   \n",
       "2  Somewhere in Southern NYC , maybe the East Vil...  None   \n",
       "3  Ok , great .   There 's Thursday Kitchen , it ...   has   \n",
       "4  That 's great . So I need a table for tonight ...  need   \n",
       "5       They do n't have any availability for 7 pm .  have   \n",
       "6                         What times are available ?  None   \n",
       "7                                           5 or 8 .  None   \n",
       "8                 Yikes , we ca n't do those times .  None   \n",
       "9                 Ok , do you have a second choice ?  None   \n",
       "\n",
       "                                 event  label  \n",
       "0                                 None      0  \n",
       "1                                 None      0  \n",
       "2                                 None      0  \n",
       "3   has Kitchen Thursday reviews it 's      1  \n",
       "4     need for 7 table I at pm tonight      1  \n",
       "5  n't pm availability 7 They for have      1  \n",
       "6                                 None      0  \n",
       "7                                 None      0  \n",
       "8                                 None      0  \n",
       "9                                 None      0  "
      ]
     },
     "execution_count": 8,
     "metadata": {},
     "output_type": "execute_result"
    }
   ],
   "source": [
    "data = []\n",
    "for i in date_sentces:\n",
    "    if (i[1] == None):\n",
    "        data.append([i[0], i[1], i[2], 0])\n",
    "    else:\n",
    "        data.append([i[0], i[1], i[2], 1])\n",
    "data_df = pd.DataFrame(data, columns=[\"text\", \"root\", \"event\", \"label\"])"
   ]
  }
 ],
 "metadata": {
  "kernelspec": {
   "display_name": "Python 3",
   "language": "python",
   "name": "python3"
  },
  "language_info": {
   "codemirror_mode": {
    "name": "ipython",
    "version": 3
   },
   "file_extension": ".py",
   "mimetype": "text/x-python",
   "name": "python",
   "nbconvert_exporter": "python",
   "pygments_lexer": "ipython3",
   "version": "3.10.4"
  },
  "orig_nbformat": 4
 },
 "nbformat": 4,
 "nbformat_minor": 2
}
